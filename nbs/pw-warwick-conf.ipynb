{
 "cells": [
  {
   "cell_type": "markdown",
   "id": "345a1b27-1df4-40e8-a2f9-0ff817ad8241",
   "metadata": {
    "tags": []
   },
   "source": [
    "# Evaluation of a selection of models on 60km -> 2.2km-4x over Birmingham"
   ]
  },
  {
   "cell_type": "code",
   "execution_count": null,
   "id": "48718f5d-f1f8-4ccc-8089-a90b8e505b7c",
   "metadata": {
    "tags": []
   },
   "outputs": [],
   "source": [
    "%reload_ext autoreload\n",
    "\n",
    "%autoreload 2\n",
    "\n",
    "%reload_ext dotenv\n",
    "%dotenv\n",
    "    \n",
    "import math\n",
    "import os\n",
    "\n",
    "import cftime\n",
    "import iris\n",
    "import iris.analysis.cartography\n",
    "import IPython\n",
    "import matplotlib\n",
    "import matplotlib.pyplot as plt\n",
    "import numpy as np\n",
    "import pysteps\n",
    "import scipy\n",
    "import xarray as xr\n",
    "\n",
    "from mlde_analysis import plot_map, plot_examples, distribution_figure, plot_mean_bias, plot_std_bias, scatter_plots, seasonal_distribution_figure, compute_gridspec, freq_density_plot\n",
    "from mlde_analysis import plot_psd\n",
    "from mlde_utils import cp_model_rotated_pole\n",
    "from mlde_utils.utils import prep_eval_data\n",
    "from mlde_analysis import create_map_fig, qq_plot, STYLES"
   ]
  },
  {
   "cell_type": "code",
   "execution_count": null,
   "id": "33f41588-12d6-413c-9969-017d91027b3c",
   "metadata": {
    "tags": []
   },
   "outputs": [],
   "source": [
    "def reasonable_quantiles(da):\n",
    "    limit = int(np.log10(1/da.size))\n",
    "    print(limit)\n",
    "    return np.concatenate([np.linspace((1-10**(i+1))+(10**i), (1-10**i), 9) for i in range(-1, limit-1, -1)] + [[1.0]])"
   ]
  },
  {
   "cell_type": "code",
   "execution_count": null,
   "id": "15906278-e447-4e59-87dd-b6fdd000146d",
   "metadata": {
    "tags": []
   },
   "outputs": [],
   "source": [
    "time_slices = {\n",
    "    \"historic\": (cftime.Datetime360Day(1980, 12, 1, 12, 0, 0, 0, has_year_zero=True), cftime.Datetime360Day(2000, 11, 30, 12, 0, 0, 0, has_year_zero=True)),\n",
    "    \"present\": (cftime.Datetime360Day(2020, 12, 1, 12, 0, 0, 0, has_year_zero=True), cftime.Datetime360Day(2040, 11, 30, 12, 0, 0, 0, has_year_zero=True)),\n",
    "    \"future\": (cftime.Datetime360Day(2060, 12, 1, 12, 0, 0, 0, has_year_zero=True), cftime.Datetime360Day(2080, 11, 30, 12, 0, 0, 0, has_year_zero=True)),\n",
    "}"
   ]
  },
  {
   "cell_type": "code",
   "execution_count": null,
   "id": "f6282091",
   "metadata": {
    "tags": [
     "injected-parameters"
    ]
   },
   "outputs": [],
   "source": [
    "# Parameters\n",
    "split = \"val\"\n",
    "ensemble_members = [\n",
    "    \"01\",\n",
    "    \"04\",\n",
    "    \"05\",\n",
    "    \"06\",\n",
    "    \"07\",\n",
    "    \"08\",\n",
    "    \"09\",\n",
    "    \"10\",\n",
    "    \"11\",\n",
    "    \"12\",\n",
    "    \"13\",\n",
    "    \"15\",\n",
    "]\n",
    "samples_per_run = 3\n",
    "data_configs = {\n",
    "    \"CPM\": [\n",
    "        {\n",
    "            \"fq_model_id\": \"id-linpr\",\n",
    "            \"checkpoint\": \"epoch-0\",\n",
    "            \"input_xfm\": \"none\",\n",
    "            \"label\": \"Bilinear\",\n",
    "            \"deterministic\": True,\n",
    "            \"dataset\": \"bham_gcmx-4x_12em_linpr_eqvt_random-season\",\n",
    "        },\n",
    "        {\n",
    "            \"fq_model_id\": \"score-sde/subvpsde/xarray_cncsnpp_continuous/bham-4x_12em_PslT4V4_random-season-IstanTsqrturrecen\",\n",
    "            \"checkpoint\": \"epoch-20\",\n",
    "            \"input_xfm\": \"stan\",\n",
    "            \"label\": \"Diffusion\",\n",
    "            \"dataset\": \"bham_gcmx-4x_12em_psl-temp4th-vort4th_eqvt_random-season\",\n",
    "            \"deterministic\": False,\n",
    "        },\n",
    "    ],\n",
    "    \"GCM\": [\n",
    "        {\n",
    "            \"fq_model_id\": \"id-linpr\",\n",
    "            \"checkpoint\": \"epoch-0\",\n",
    "            \"input_xfm\": \"none\",\n",
    "            \"label\": \"Bilinear\",\n",
    "            \"deterministic\": True,\n",
    "            \"dataset\": \"bham_60km-4x_12em_linpr_eqvt_random-season\",\n",
    "        },\n",
    "        {\n",
    "            \"fq_model_id\": \"score-sde/subvpsde/xarray_cncsnpp_continuous/bham-4x_12em_PslT4V4_random-season-IstanTsqrturrecen\",\n",
    "            \"checkpoint\": \"epoch-20\",\n",
    "            \"input_xfm\": \"pixelmmsstan\",\n",
    "            \"label\": \"Diffusion\",\n",
    "            \"dataset\": \"bham_60km-4x_12em_psl-temp4th-vort4th_eqvt_random-season\",\n",
    "            \"deterministic\": False,\n",
    "        },\n",
    "    ],\n",
    "}\n",
    "highlighted_cpm_models = [\"Diffusion 12em\"]\n",
    "gcm_lr_lin_pr_dataset = \"bham_60km-4x_12em_linpr_eqvt_random-season\"\n",
    "cpm_hr_pr_dataset = \"bham_gcmx-4x_12em_linpr_eqvt_random-season\"\n",
    "desc = \"Multi-ensemble member models\\nSplits are based on random choice of seasons with equal number of seasons from each time slice\\n\\nCompare:\\n\\n### Diffusion models\\n* PslT4V4 IstanTsqrturrecen (without variables at 925 hPa)\\n\\n### Lo-res precip:\\n* id-linpr\\n\\n## Diff models and U-net models\\n\\n8-channels loc-spec params (diff models only)\\n\\nInputs from: pressure at sea level and 5 levels of temp and vorticity\\n\\nTarget domain and resolution: 64x64 2.2km-4x England and Wales\\n\\nInput resolution: 60km/gcmx\\n\\nInput transforms are fitted on dataset in use (ie separate GCM and CPM versions) while target transform is fitted only at training on the CPM dataset\\n\"\n"
   ]
  },
  {
   "cell_type": "code",
   "execution_count": null,
   "id": "778a28b3-8483-4b83-895c-0253b499f36b",
   "metadata": {
    "tags": []
   },
   "outputs": [],
   "source": [
    "IPython.display.Markdown(desc)"
   ]
  },
  {
   "cell_type": "code",
   "execution_count": null,
   "id": "4df16b68-4c4d-42fb-9134-72f81d23b70b",
   "metadata": {
    "tags": []
   },
   "outputs": [],
   "source": [
    "merged_ds = { source: prep_eval_data(data_config, split, ensemble_members=ensemble_members, samples_per_run=samples_per_run) for source, data_config in data_configs.items() }\n",
    "merged_ds"
   ]
  },
  {
   "cell_type": "markdown",
   "id": "1104e57b-f3c0-4a56-831a-ba99d91f05a4",
   "metadata": {
    "tags": []
   },
   "source": [
    "## Pixel distribution"
   ]
  },
  {
   "cell_type": "code",
   "execution_count": null,
   "id": "4c5b48a3-1412-4af2-b6ed-58bd6c836703",
   "metadata": {
    "tags": []
   },
   "outputs": [],
   "source": [
    "cpm_pr = merged_ds[\"CPM\"][\"target_pr\"]\n",
    "quantiles = reasonable_quantiles(cpm_pr)"
   ]
  },
  {
   "cell_type": "markdown",
   "id": "56c8ca19-c662-49b5-b519-2904e1167b95",
   "metadata": {
    "tags": []
   },
   "source": [
    "### GCM"
   ]
  },
  {
   "cell_type": "code",
   "execution_count": null,
   "id": "84ca804e-4c40-4853-a051-592439411232",
   "metadata": {
    "tags": []
   },
   "outputs": [],
   "source": [
    "distribution_figure(merged_ds[\"CPM\"], cpm_pr, quantiles, quantile_dims=[\"ensemble_member\", \"time\", \"grid_latitude\", \"grid_longitude\"])"
   ]
  },
  {
   "cell_type": "code",
   "execution_count": null,
   "id": "cfd20fe4-e06c-49f8-89d0-a790e7236d24",
   "metadata": {
    "tags": []
   },
   "outputs": [],
   "source": []
  }
 ],
 "metadata": {
  "kernelspec": {
   "display_name": "downscaling-nbs",
   "language": "python",
   "name": "downscaling-notebooks"
  }
 },
 "nbformat": 4,
 "nbformat_minor": 5
}
