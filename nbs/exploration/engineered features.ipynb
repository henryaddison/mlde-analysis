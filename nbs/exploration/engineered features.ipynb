{
 "cells": [
  {
   "cell_type": "markdown",
   "id": "72ac40ae-e1ad-4136-857f-9332a5f32eeb",
   "metadata": {},
   "source": [
    "# Processed data"
   ]
  },
  {
   "cell_type": "code",
   "execution_count": null,
   "id": "5450bb60-df55-48fd-a6e0-b7a4e9074ea4",
   "metadata": {},
   "outputs": [],
   "source": [
    "%reload_ext autoreload\n",
    "\n",
    "%autoreload 2\n",
    "\n",
    "import os\n",
    "\n",
    "import iris\n",
    "import matplotlib.pyplot as plt\n",
    "import metpy\n",
    "import numpy as np\n",
    "import xarray as xr\n",
    "\n",
    "from ml_downscaling_emulator import UKCPDatasetMetadata\n",
    "from ml_downscaling_emulator.utils import cp_model_rotated_pole, platecarree"
   ]
  },
  {
   "cell_type": "markdown",
   "id": "ad08abc3-1f03-40b5-bb83-2ffdc03b274a",
   "metadata": {},
   "source": [
    "## Vorticity"
   ]
  },
  {
   "cell_type": "code",
   "execution_count": null,
   "id": "b9dc62d5-4156-4399-9643-35ba4d1fb0a7",
   "metadata": {},
   "outputs": [],
   "source": [
    "moose_dir = os.path.join(os.getenv(\"DERIVED_DATA\"), \"moose\")\n",
    "vort_meta = UKCPDatasetMetadata(moose_dir, frequency=\"day\", domain=\"london\", resolution=\"2.2km-coarsened-4x\", variable=\"vorticity850\")\n",
    "\n",
    "vort_ds = xr.open_mfdataset(vort_meta.existing_filepaths())\n",
    "vort_ds"
   ]
  },
  {
   "cell_type": "code",
   "execution_count": null,
   "id": "5827f84b-ad7d-4e85-8a91-b55ee99dfd3e",
   "metadata": {},
   "outputs": [],
   "source": [
    "ax = plt.axes(projection=cp_model_rotated_pole)\n",
    "vort_ds.isel(time=0)['vorticity850'].plot(ax=ax)\n",
    "ax.coastlines()"
   ]
  },
  {
   "cell_type": "code",
   "execution_count": null,
   "id": "fab7978b-6042-431e-9138-93bf5e30409e",
   "metadata": {},
   "outputs": [],
   "source": [
    "hist = vort_ds['vorticity850'].plot.hist(bins=50, density=True)"
   ]
  },
  {
   "cell_type": "markdown",
   "id": "d6ef0d22-5170-460a-93b1-388d2f443bff",
   "metadata": {},
   "source": [
    "## Target Pr"
   ]
  },
  {
   "cell_type": "code",
   "execution_count": null,
   "id": "4e34fe40-f70a-4187-8958-0e9b6a429831",
   "metadata": {},
   "outputs": [],
   "source": [
    "pr_meta = UKCPDatasetMetadata(moose_dir, frequency=\"day\", domain=\"london\", resolution=\"2.2km\", variable=\"pr\")\n",
    "\n",
    "pr_ds = xr.open_mfdataset(pr_meta.existing_filepaths()).rename({pr_meta.variable: f'target_{pr_meta.variable}'})\n",
    "pr_ds"
   ]
  },
  {
   "cell_type": "code",
   "execution_count": null,
   "id": "4a9ef3b5-4f92-42c3-8907-3ced727dc381",
   "metadata": {},
   "outputs": [],
   "source": [
    "pr_ds['target_pr'].plot(bins=50)"
   ]
  },
  {
   "cell_type": "code",
   "execution_count": null,
   "id": "ec136685-2110-4ced-883d-927ca3bfc6d5",
   "metadata": {},
   "outputs": [],
   "source": [
    "ax = plt.axes(projection=cp_model_rotated_pole)\n",
    "pr_ds.isel(time=0)['target_pr'].plot(ax=ax)\n",
    "ax.coastlines()"
   ]
  },
  {
   "cell_type": "code",
   "execution_count": null,
   "id": "c99ac489-e753-4e43-8754-f3759371f9c9",
   "metadata": {},
   "outputs": [],
   "source": [
    "combined_ds = xr.combine_by_coords([vort_ds, pr_ds], compat='no_conflicts', combine_attrs=\"drop_conflicts\", coords=\"all\", join=\"inner\", data_vars=\"all\")\n",
    "combined_ds = combined_ds.assign_coords(season=(('time'), (combined_ds['time.month'].data % 12 // 3)))\n",
    "combined_ds"
   ]
  },
  {
   "cell_type": "markdown",
   "id": "84a0c86c-215a-4b6c-ba41-a88de8fbfb33",
   "metadata": {},
   "source": [
    "## Dataset (from sample)"
   ]
  },
  {
   "cell_type": "code",
   "execution_count": null,
   "id": "30a96c96-7ebb-4aad-af1f-84e05602acfe",
   "metadata": {},
   "outputs": [],
   "source": [
    "splits = [\"train\", \"val\", \"test\"] #, \"extreme_val\", \"extreme_test\"]\n",
    "\n",
    "data_splits = {split: xr.open_dataset(os.path.join(os.getenv(\"DERIVED_DATA\"), \"moose\", \"nc-datasets\", \"2.2km-coarsened-8x_london_random_london_8x_vorticity850_random\", f\"{split}.nc\")) for split in splits}"
   ]
  },
  {
   "cell_type": "code",
   "execution_count": null,
   "id": "8a99f162-8ad0-448e-a58f-c9c585ece415",
   "metadata": {},
   "outputs": [],
   "source": [
    "fig, axes = plt.subplots(nrows=3, ncols=2, figsize=(12, 15), subplot_kw=dict(projection=cp_model_rotated_pole))\n",
    "\n",
    "for i, split in enumerate(splits):\n",
    "    ts = np.random.choice(data_splits[split].time.values)\n",
    "    \n",
    "    ax=axes[i][0]\n",
    "    data_splits[split].sel(time=ts)['target_pr'].plot(ax=ax)\n",
    "    ax.coastlines()\n",
    "    \n",
    "    ax=axes[i][1]\n",
    "    data_splits[split].sel(time=ts)['vorticity850'].plot(ax=ax)\n",
    "    ax.coastlines()\n"
   ]
  },
  {
   "cell_type": "code",
   "execution_count": null,
   "id": "b4b0741b-5ea0-4ff8-b453-716489a670b3",
   "metadata": {},
   "outputs": [],
   "source": []
  },
  {
   "cell_type": "code",
   "execution_count": null,
   "id": "ce9995c8-4756-44cd-ae93-60203f554650",
   "metadata": {},
   "outputs": [],
   "source": [
    "fig, axes = plt.subplots(nrows=1, ncols=2, figsize=(24, 5))\n",
    "\n",
    "for split in splits:\n",
    "    data_splits[split]['target_pr'].plot(ax=axes[0], bins=50, density=True, alpha=0.3, label=split)\n",
    "    data_splits[split]['vorticity850'].plot(ax=axes[1], bins=50, density=True, alpha=0.3, label=split)\n",
    "\n",
    "axes[0].set_title(\"Target pr\")\n",
    "axes[1].set_title(\"Vorticity@850\")\n",
    "axes[0].legend()\n",
    "axes[1].legend()"
   ]
  },
  {
   "cell_type": "code",
   "execution_count": null,
   "id": "8f6e50a7-54b8-47c8-b993-e32cf7a47c62",
   "metadata": {},
   "outputs": [],
   "source": []
  }
 ],
 "metadata": {
  "kernelspec": {
   "display_name": "Python 3 (ipykernel)",
   "language": "python",
   "name": "python3"
  }
 },
 "nbformat": 4,
 "nbformat_minor": 5
}
