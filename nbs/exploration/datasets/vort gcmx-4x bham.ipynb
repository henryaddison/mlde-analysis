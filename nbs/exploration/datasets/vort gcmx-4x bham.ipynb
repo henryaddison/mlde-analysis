{
 "cells": [
  {
   "cell_type": "markdown",
   "id": "d269c268-fe98-4c71-b644-de5dcb3c266f",
   "metadata": {},
   "source": [
    "# Vorticity@850 GCM-scaled-4x and Target precip 4x Bham"
   ]
  },
  {
   "cell_type": "code",
   "execution_count": null,
   "id": "4fda938e-ee82-4b5a-8e44-39b52cfbb8da",
   "metadata": {},
   "outputs": [],
   "source": [
    "%reload_ext autoreload\n",
    "\n",
    "%autoreload 2\n",
    "\n",
    "import math\n",
    "import os\n",
    "\n",
    "import iris\n",
    "import iris.analysis.cartography\n",
    "import matplotlib\n",
    "import matplotlib.pyplot as plt\n",
    "import xarray as xr\n",
    "\n",
    "import ml_downscaling_emulator as mlde\n",
    "from ml_downscaling_emulator.utils import cp_model_rotated_pole, platecarree, plot_grid, precip_cmap, precip_norm"
   ]
  },
  {
   "cell_type": "code",
   "execution_count": null,
   "id": "c7c795cd-7c8f-4d52-96ed-a442a040f407",
   "metadata": {},
   "outputs": [],
   "source": [
    "def open_split(dataset_name, split):\n",
    "    return xr.open_dataset(os.path.join(os.getenv(\"MOOSE_DERIVED_DATA\"), \"nc-datasets\", dataset_name, f\"{split}.nc\"))"
   ]
  },
  {
   "cell_type": "code",
   "execution_count": null,
   "id": "6ed29b61-a263-4989-87e6-09a5de3eb691",
   "metadata": {},
   "outputs": [],
   "source": [
    "dataset_name = \"2.2km-coarsened-gcm-2.2km-coarsened-4x_birmingham_vorticity850_random\"\n",
    "ds_splits = {split: open_split(dataset_name, split) for split in [\"train\", \"val\", \"test\"]}"
   ]
  },
  {
   "cell_type": "code",
   "execution_count": null,
   "id": "b368f440-5661-42be-aea8-ee96769eced7",
   "metadata": {},
   "outputs": [],
   "source": [
    "ds_splits[\"train\"]"
   ]
  },
  {
   "cell_type": "markdown",
   "id": "c478f621-1018-4463-a76c-c1a909ce1c44",
   "metadata": {},
   "source": [
    "## Vorticity@850"
   ]
  },
  {
   "cell_type": "code",
   "execution_count": null,
   "id": "235491c0-4797-4851-8867-bb404b0e0dcb",
   "metadata": {},
   "outputs": [],
   "source": [
    "ax = plt.axes()\n",
    "for split in [\"train\", \"val\", \"test\"]: \n",
    "    ds_splits[split][\"vorticity850\"].plot.hist(ax=ax, bins=50, density=True, alpha=0.5, label=split)\n",
    "\n",
    "ax.legend()"
   ]
  },
  {
   "cell_type": "code",
   "execution_count": null,
   "id": "15d879f7-65fb-4d4e-9fac-7d24b364b19d",
   "metadata": {},
   "outputs": [],
   "source": [
    "fig, axd = plt.subplot_mosaic([[\"train\", \"val\", \"test\"]], figsize=(18, 6), constrained_layout=True, subplot_kw={'projection': cp_model_rotated_pole})\n",
    "for split in [\"train\", \"val\", \"test\"]: \n",
    "    ax = axd[split]\n",
    "    plot_grid(ds_splits[split][\"vorticity850\"].isel(time=0), ax=ax, center=0, add_colorbar=True, norm=None, cmap=None, title=split)"
   ]
  },
  {
   "cell_type": "markdown",
   "id": "d831d398-e320-4e5e-85b5-cb7b6dcbac5c",
   "metadata": {},
   "source": [
    "## Target pr"
   ]
  },
  {
   "cell_type": "code",
   "execution_count": null,
   "id": "b3344688-e403-4c61-ad21-d557b38d5cee",
   "metadata": {},
   "outputs": [],
   "source": [
    "for split in [\"train\", \"val\", \"test\"]: \n",
    "    ds_splits[split][\"target_pr\"] = ds_splits[split][\"target_pr\"]*3600*24"
   ]
  },
  {
   "cell_type": "code",
   "execution_count": null,
   "id": "404c169e-746d-4ac0-b06f-5b2e9c9fa5f4",
   "metadata": {},
   "outputs": [],
   "source": [
    "ax = plt.axes()\n",
    "for split in [\"train\", \"val\", \"test\"]: \n",
    "    ds_splits[split][\"target_pr\"].plot.hist(bins=50, density=True, alpha=0.5, label=split)\n",
    "ax.legend()"
   ]
  },
  {
   "cell_type": "code",
   "execution_count": null,
   "id": "cd0779bc-c454-4544-9f9a-b998eccfdc5c",
   "metadata": {},
   "outputs": [],
   "source": [
    "fig, axd = plt.subplot_mosaic([[\"train\", \"val\", \"test\"]], figsize=(36, 12), constrained_layout=True, subplot_kw={'projection': cp_model_rotated_pole})\n",
    "for split in [\"train\", \"val\", \"test\"]: \n",
    "    ax = axd[split]\n",
    "    plot_grid(ds_splits[split][\"target_pr\"].isel(time=0), ax=ax, add_colorbar=True, style=\"precip\", title=split)"
   ]
  },
  {
   "cell_type": "code",
   "execution_count": null,
   "id": "a43e4001-bcd2-402c-b4e1-d6083e6e04d5",
   "metadata": {},
   "outputs": [],
   "source": []
  }
 ],
 "metadata": {
  "kernelspec": {
   "display_name": "Python 3 (ipykernel)",
   "language": "python",
   "name": "python3"
  }
 },
 "nbformat": 4,
 "nbformat_minor": 5
}
