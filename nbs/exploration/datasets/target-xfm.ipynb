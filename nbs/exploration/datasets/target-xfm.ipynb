{
 "cells": [
  {
   "cell_type": "code",
   "execution_count": null,
   "id": "945f6b3e-a881-4b61-8238-e93a96e4491a",
   "metadata": {},
   "outputs": [],
   "source": [
    "%reload_ext autoreload\n",
    "\n",
    "%autoreload 2\n",
    "\n",
    "%reload_ext dotenv\n",
    "%dotenv\n",
    "\n",
    "import gc\n",
    "\n",
    "import matplotlib\n",
    "import matplotlib.pyplot as plt\n",
    "import numpy as np\n",
    "import xarray as xr\n",
    "\n",
    "from mlde_utils import dataset_split_path, workdir_path\n",
    "from mlde_utils.transforms import build_target_transform\n",
    "from mlde_utils.training.dataset import open_raw_dataset_split\n",
    "from mlde_notebooks.distribution import plot_freq_density"
   ]
  },
  {
   "cell_type": "code",
   "execution_count": null,
   "id": "40e8cbd6-e865-4210-89f2-590c9e4daa6c",
   "metadata": {
    "tags": [
     "parameters"
    ]
   },
   "outputs": [],
   "source": [
    "var = \"target_pr\"\n",
    "dataset = \"bham64_ccpm-4x_12em_mv\"\n",
    "split = \"val\"\n",
    "xfm_keys = [\"sqrturrecen\"]"
   ]
  },
  {
   "cell_type": "code",
   "execution_count": null,
   "id": "c6446b95-884f-4c4c-bb2f-17859fac01c7",
   "metadata": {},
   "outputs": [],
   "source": [
    "ds = open_raw_dataset_split(dataset, split)\n",
    "\n",
    "bins=50\n",
    "# bins = np.histogram_bin_edges([], bins=150, range=(-3, 3))\n",
    "\n",
    "ds[var].plot(label=var, density=True, bins=bins,)\n",
    "plt.legend()\n",
    "\n",
    "ds.close()\n",
    "del ds\n",
    "gc.collect()\n",
    "\n",
    "plt.show()"
   ]
  },
  {
   "cell_type": "code",
   "execution_count": null,
   "id": "ccb831b5-f2ca-4841-b8ae-38ef58acdb06",
   "metadata": {},
   "outputs": [],
   "source": [
    "bins = np.histogram_bin_edges([], bins=150, range=(-3, 3))\n",
    "\n",
    "for xfm_key in xfm_keys:\n",
    "    train_ds = open_raw_dataset_split(dataset, \"train\")#[[var]]\n",
    "    xfm = build_target_transform([var], xfm_key)\n",
    "    xfm.fit(train_ds, None)\n",
    "    train_ds.close()\n",
    "    del train_ds\n",
    "    gc.collect\n",
    "    \n",
    "    ds = open_raw_dataset_split(dataset, split)\n",
    "    xfmed_da = xfm.transform(ds)[var]\n",
    "    del ds\n",
    "    gc.collect()\n",
    "    xfmed_da.plot(label=xfm_key, alpha=0.5, density=True, bins=bins,)\n",
    "    del xfmed_da\n",
    "    gc.collect\n",
    "\n",
    "\n",
    "\n",
    "plt.legend()\n",
    "plt.show()"
   ]
  },
  {
   "cell_type": "code",
   "execution_count": null,
   "id": "15e04057-f49e-46ed-9711-06dea1169a9d",
   "metadata": {},
   "outputs": [],
   "source": []
  }
 ],
 "metadata": {
  "kernelspec": {
   "display_name": "Python 3 (ipykernel)",
   "language": "python",
   "name": "python3"
  }
 },
 "nbformat": 4,
 "nbformat_minor": 5
}
