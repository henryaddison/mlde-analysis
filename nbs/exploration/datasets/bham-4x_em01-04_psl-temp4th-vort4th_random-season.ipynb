{
 "cells": [
  {
   "cell_type": "markdown",
   "id": "b30d3c12-b92e-42ed-95e6-6ac00e64df13",
   "metadata": {
    "tags": []
   },
   "source": [
    "# PslTV Bham-64 8.8km 2 ensemble members datasets"
   ]
  },
  {
   "cell_type": "code",
   "execution_count": null,
   "id": "9035a956-2e94-4f10-ba6b-d3a3e0b9f934",
   "metadata": {
    "tags": []
   },
   "outputs": [],
   "source": [
    "%reload_ext autoreload\n",
    "\n",
    "%autoreload 2\n",
    "\n",
    "%reload_ext dotenv\n",
    "%dotenv\n",
    "\n",
    "from collections import defaultdict\n",
    "import os\n",
    "\n",
    "import IPython\n",
    "import matplotlib.pyplot as plt\n",
    "import numpy as np\n",
    "import pandas as pd\n",
    "import xarray as xr\n",
    "\n",
    "from mlde_analysis import plot_map, create_map_fig, qq_plot\n",
    "from mlde_utils import cp_model_rotated_pole, dataset_split_path"
   ]
  },
  {
   "cell_type": "code",
   "execution_count": null,
   "id": "d58439fe-c4bb-4bf9-80c6-4f1515462143",
   "metadata": {
    "tags": []
   },
   "outputs": [],
   "source": [
    "ENSEMBLE_MEMBERS=[\"01\", \"04\"]\n",
    "DATASET_NAMES = {\n",
    "    \"CPM\": \"bham_gcmx-4x_12em_psl-temp4th-vort4th_eqvt_random-season\",\n",
    "    # \"GCM\": \"bham_60km-4x_12em_psl-temp4th-vort4th_eqvt_random-season\"\n",
    "}\n",
    "\n",
    "SPLIT = \"train\"\n",
    "\n",
    "VAR_TYPES = [\"vorticity\", \"spechum\", \"temp\"]\n",
    "THETAS = [250, 500, 700, 850]\n",
    "\n",
    "VARIABLES = [ f\"{var_type}{theta}\" for var_type in [\"vorticity\", \"temp\"] for theta in THETAS ] + [\"psl\"]\n",
    "\n",
    "N_EXAMPLES = 5"
   ]
  },
  {
   "cell_type": "code",
   "execution_count": null,
   "id": "38a0185a-4712-406b-86d4-48ae00076a53",
   "metadata": {
    "tags": []
   },
   "outputs": [],
   "source": [
    "datasets = { source: xr.open_dataset(dataset_split_path(dataset_name, SPLIT)).sel(ensemble_member=ENSEMBLE_MEMBERS) for source, dataset_name in DATASET_NAMES.items() }\n",
    "datasets"
   ]
  },
  {
   "cell_type": "code",
   "execution_count": null,
   "id": "86ceab44-63b4-4ac9-b5d2-7d3800cc7b3b",
   "metadata": {
    "tags": []
   },
   "outputs": [],
   "source": [
    "example_timestamps = np.random.choice(datasets[\"CPM\"][\"time\"], size=N_EXAMPLES, replace=False)"
   ]
  },
  {
   "cell_type": "code",
   "execution_count": null,
   "id": "6fccc075-617c-40aa-afa4-edfb9d37b20d",
   "metadata": {
    "tags": []
   },
   "outputs": [],
   "source": [
    "def plot_examples(da, timestamps, **kwargs):\n",
    "    for em, em_da in da.groupby(\"ensemble_member\"):\n",
    "        fig, axes = create_map_fig([[f\"Example {i}\" for i in range(len(timestamps))]])\n",
    "        emax = np.amax(em_da.sel(time=timestamps))\n",
    "        for i, timestamp in enumerate(timestamps):\n",
    "            ax = axes[f\"Example {i}\"]\n",
    "            plot_map(em_da.sel(time=timestamp), ax=ax, add_colorbar=True, title=em, **kwargs)\n",
    "\n",
    "def plot_means(da):\n",
    "    p = da.mean(dim=[\"time\"]).plot(col=\"ensemble_member\", subplot_kws={\"projection\": cp_model_rotated_pole})\n",
    "    for ax in p.axs.flat:\n",
    "        ax.coastlines()\n",
    "\n",
    "def plot_std(da):\n",
    "    p = da.std(dim=[\"time\"]).plot(col=\"ensemble_member\", subplot_kws={\"projection\": cp_model_rotated_pole}, vmin=0)\n",
    "    for ax in p.axs.flat:\n",
    "        ax.coastlines()\n",
    "        \n",
    "def plot_histogram(da, **kwargs):\n",
    "    fig, axes = plt.subplot_mosaic([[\"Density\"]], figsize=(16.5, 5.5), constrained_layout=True)\n",
    "\n",
    "    xrange = (da.min().values, da.max().values)\n",
    "    \n",
    "    ax = axes[\"Density\"]\n",
    "    bins = kwargs.get(\"bins\", None)\n",
    "    for em, em_da in da.groupby(\"ensemble_member\"):\n",
    "        _, comp_bins, _ = em_da.plot.hist(label=em, density=True, alpha=0.25, bins=100, range=xrange, **kwargs)\n",
    "        if bins is None:\n",
    "            bins = comp_bins\n",
    "        ax.set_title(\"Frequency density\")\n",
    "        ax.legend()\n",
    "\n",
    "def plot_quantiles(da, quantiles, **kwargs):\n",
    "    da.quantile(quantiles, dim=[\"time\", \"grid_longitude\", \"grid_latitude\"]).plot(hue=\"ensemble_member\", **kwargs)"
   ]
  },
  {
   "cell_type": "markdown",
   "id": "8521e201-e425-42ce-a3e2-2714dc81f6de",
   "metadata": {
    "tags": []
   },
   "source": [
    "## Target PR"
   ]
  },
  {
   "cell_type": "code",
   "execution_count": null,
   "id": "7c36e10c-5f2e-425c-ad48-aba1fd3c5615",
   "metadata": {
    "tags": []
   },
   "outputs": [],
   "source": [
    "variable = f\"target_pr\"\n",
    "\n",
    "da = datasets[\"CPM\"][variable]*3600*24\n",
    "\n",
    "IPython.display.display_html(f\"<h3>{variable}</h3>\", raw=True)\n",
    "IPython.display.display_html(\"<h4>Upper quantiles</h4>\", raw=True)\n",
    "quantiles = np.concatenate([np.linspace((1-10**(i+1))+(10**i), (1-10**i), 9) for i in range(-5, -8, -1)])\n",
    "plot_quantiles(da, quantiles)\n",
    "plt.yscale('log')\n",
    "plt.xscale('log')\n",
    "plt.show()\n",
    "\n",
    "IPython.display.display_html(\"<h4>Histogram</h4>\", raw=True)\n",
    "plot_histogram(da, log=True)\n",
    "plt.show()\n",
    "\n",
    "\n",
    "IPython.display.display_html(\"<h4>Mean</h4>\", raw=True)\n",
    "plot_means(da)\n",
    "plt.show()\n",
    "\n",
    "IPython.display.display_html(\"<h4>Std Dev</h4>\", raw=True)\n",
    "plot_std(da)\n",
    "plt.show()\n",
    "\n",
    "IPython.display.display_html(\"<h4>Examples</h4>\", raw=True)\n",
    "plot_examples(da, example_timestamps, style=\"precip\")\n",
    "plt.show()"
   ]
  },
  {
   "cell_type": "markdown",
   "id": "18862d23-20ce-46d6-be05-97bf9acc5c23",
   "metadata": {
    "tags": []
   },
   "source": [
    "## Distribution"
   ]
  },
  {
   "cell_type": "code",
   "execution_count": null,
   "id": "cd864395-4e1d-42ec-8167-e633b1a57da1",
   "metadata": {
    "tags": []
   },
   "outputs": [],
   "source": [
    "for variable in VARIABLES:\n",
    "    IPython.display.display_html(f\"<h3>{variable}</h3>\", raw=True)\n",
    "    da = datasets[\"CPM\"][variable]    \n",
    "    plot_histogram(da)\n",
    "    plt.show()\n",
    "\n",
    "    IPython.display.display_html(\"<h4>Mean</h4>\", raw=True)\n",
    "    plot_means(da)\n",
    "    plt.show()\n",
    "\n",
    "    IPython.display.display_html(\"<h4>Std Dev</h4>\", raw=True)\n",
    "    plot_std(da)\n",
    "    plt.show()"
   ]
  },
  {
   "cell_type": "markdown",
   "id": "4f5536a3-8c76-47e0-8682-a5b400cd4ff7",
   "metadata": {
    "tags": []
   },
   "source": [
    "## Examples"
   ]
  },
  {
   "cell_type": "code",
   "execution_count": null,
   "id": "06fc168c-d25b-4f99-958a-9dddffbf45fe",
   "metadata": {
    "tags": []
   },
   "outputs": [],
   "source": [
    "for variable in VARIABLES:\n",
    "    IPython.display.display_html(f\"<h3>{variable}</h3>\", raw=True)\n",
    "\n",
    "    da = datasets[\"CPM\"][variable]\n",
    "\n",
    "    plot_examples(da, example_timestamps, style=None, center=0, vmax=np.amax(da))\n",
    "    plt.show()"
   ]
  },
  {
   "cell_type": "code",
   "execution_count": null,
   "id": "a24ecd92-c507-4726-a2d6-4acda7808727",
   "metadata": {
    "tags": []
   },
   "outputs": [],
   "source": []
  }
 ],
 "metadata": {
  "kernelspec": {
   "display_name": "Python 3 (ipykernel)",
   "language": "python",
   "name": "python3"
  }
 },
 "nbformat": 4,
 "nbformat_minor": 5
}
