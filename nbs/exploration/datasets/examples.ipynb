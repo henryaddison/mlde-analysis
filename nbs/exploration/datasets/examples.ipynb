{
 "cells": [
  {
   "cell_type": "markdown",
   "id": "a9ff091a-8b9a-4f68-9ac8-3b26f3755f7e",
   "metadata": {},
   "source": [
    "# Examples of inputs\n",
    "\n",
    "And target pr for some samples"
   ]
  },
  {
   "cell_type": "code",
   "execution_count": null,
   "id": "1f17c651-7424-4ed5-bfa0-cce417b3165a",
   "metadata": {
    "tags": []
   },
   "outputs": [],
   "source": [
    "%reload_ext autoreload\n",
    "\n",
    "%autoreload 2\n",
    "\n",
    "%reload_ext dotenv\n",
    "%dotenv\n",
    "\n",
    "import functools\n",
    "import math\n",
    "import string\n",
    "\n",
    "import IPython\n",
    "import matplotlib\n",
    "import matplotlib.pyplot as plt\n",
    "import numpy as np\n",
    "import xarray as xr\n",
    "\n",
    "from mlde_utils import cp_model_rotated_pole, dataset_split_path\n",
    "from mlde_analysis import plot_map\n",
    "from mlde_analysis.examples import em_timestamps\n",
    "from mlde_analysis.data import open_dataset_split"
   ]
  },
  {
   "cell_type": "code",
   "execution_count": null,
   "id": "318321b2-5fe8-458b-81d2-2c6893835fc8",
   "metadata": {
    "tags": []
   },
   "outputs": [],
   "source": [
    "matplotlib.rcParams['figure.dpi'] = 300"
   ]
  },
  {
   "cell_type": "code",
   "execution_count": null,
   "id": "a0f7b710-3014-4859-a222-b8eb77d74394",
   "metadata": {
    "tags": [
     "parameters"
    ]
   },
   "outputs": [],
   "source": [
    "dataset_name=\"bham64_ccpm-4x_12em_psl-sphum4th-temp4th-vort4th_pr\"\n",
    "split=\"train\"\n",
    "percentiles={\n",
    "    \"DJF wet\": {\"season\": \"DJF\", \"percentile\": 0.8, \"variable\": \"pr\"},\n",
    "    \"JJA wet\": {\"season\": \"JJA\", \"percentile\": 0.8, \"variable\": \"pr\"},\n",
    "}\n",
    "ensemble_members = [\"01\", \"04\"]"
   ]
  },
  {
   "cell_type": "code",
   "execution_count": null,
   "id": "5ca7f354-4eee-4cea-831b-e65a98baef93",
   "metadata": {
    "tags": []
   },
   "outputs": [],
   "source": [
    "DS = open_dataset_split(dataset_name, split, ensemble_members)\n",
    "DS"
   ]
  },
  {
   "cell_type": "code",
   "execution_count": null,
   "id": "2c65d8a5-2d2c-49ac-b55e-796022b0b0c4",
   "metadata": {
    "tags": []
   },
   "outputs": [],
   "source": [
    "variables = [\n",
    "    \"target_pr\",\n",
    "    \"psl\",\n",
    "    \"vorticity250\", \"vorticity850\",\n",
    "    \"temp250\", \"temp850\",\n",
    "    \"spechum250\", \"spechum850\",\n",
    "]\n",
    "\n",
    "grid_spec = [\n",
    "    [\"vorticity250\", \"temp250\", \"spechum250\", \"psl\"],\n",
    "    [\"vorticity850\", \"temp850\", \"spechum850\", \"target_pr\"],\n",
    "]\n",
    "\n",
    "em_ts = em_timestamps(DS, percentiles=percentiles, overrides={})\n",
    "\n",
    "em_ts"
   ]
  },
  {
   "cell_type": "code",
   "execution_count": null,
   "id": "5d93e594-1472-4d43-8a6d-1017fb0c6a6a",
   "metadata": {
    "tags": []
   },
   "outputs": [],
   "source": [
    "for example_label, example_defn in em_ts.items():\n",
    "    example_ds = DS.sel(ensemble_member=example_defn[0], time=example_defn[1])\n",
    "      \n",
    "    fig = plt.figure(layout='constrained', figsize=(5.5, 3))\n",
    "    axd = fig.subplot_mosaic(grid_spec, subplot_kw={\"projection\": cp_model_rotated_pole},)\n",
    "    \n",
    "    for var in variables:\n",
    "        ax = axd[var]\n",
    "\n",
    "        if var.startswith(\"temp\"):\n",
    "            style = \"temp\"\n",
    "            pressure = var[-3:]\n",
    "            if pressure == \"250\":\n",
    "                title = f\"Temp.\\n@ {pressure}hPa\"\n",
    "            else:\n",
    "                title = f\"@ {pressure}hPa\"\n",
    "        elif var.startswith(\"vorticity\"):\n",
    "            style = \"vorticity\"\n",
    "            pressure = var[-3:]\n",
    "            if pressure == \"250\":\n",
    "                title = f\"Vorticity\\n@ {pressure}hPa\"\n",
    "            else:\n",
    "                title = f\"@ {pressure}hPa\"\n",
    "        elif var.startswith(\"spechum\"):\n",
    "            style = None\n",
    "            pressure = var[-3:]\n",
    "            if pressure == \"250\":\n",
    "                title = f\"Humidity\\n@ {pressure}hPa\"\n",
    "            else:\n",
    "                title = f\"@ {pressure}hPa\"\n",
    "        elif var == \"target_pr\":\n",
    "            style = \"pr\"\n",
    "            title = \"Hi-res\\nprecip.\"\n",
    "        elif var == \"psl\":\n",
    "            style = None\n",
    "            title = \"Pressure\\n@ sea-level\"\n",
    "        else:\n",
    "            style = None\n",
    "            \n",
    "        example_da = example_ds[var]\n",
    "        plot_map(\n",
    "            example_da,\n",
    "            ax,\n",
    "            style=style,\n",
    "            title=title,\n",
    "            # add_colorbar=True,\n",
    "        )\n",
    "    print(f\"{example_defn[1]} em{example_defn[0]}\")\n",
    "    plt.show()"
   ]
  },
  {
   "cell_type": "code",
   "execution_count": null,
   "id": "8f7046b0-c0f1-4a46-8f9d-c1b49008eca4",
   "metadata": {
    "tags": []
   },
   "outputs": [],
   "source": []
  }
 ],
 "metadata": {
  "kernelspec": {
   "display_name": "Python 3 (ipykernel)",
   "language": "python",
   "name": "python3"
  }
 },
 "nbformat": 4,
 "nbformat_minor": 5
}
