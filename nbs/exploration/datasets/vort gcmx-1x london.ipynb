{
 "cells": [
  {
   "cell_type": "markdown",
   "id": "d269c268-fe98-4c71-b644-de5dcb3c266f",
   "metadata": {},
   "source": [
    "# Vorticity@850 Coarsened CPM to Target precip 1x"
   ]
  },
  {
   "cell_type": "code",
   "execution_count": null,
   "id": "4fda938e-ee82-4b5a-8e44-39b52cfbb8da",
   "metadata": {},
   "outputs": [],
   "source": [
    "%reload_ext autoreload\n",
    "\n",
    "%autoreload 2\n",
    "\n",
    "import math\n",
    "import os\n",
    "\n",
    "import iris\n",
    "import iris.analysis.cartography\n",
    "import matplotlib\n",
    "import matplotlib.pyplot as plt\n",
    "import xarray as xr\n",
    "\n",
    "import ml_downscaling_emulator as mlde\n",
    "from ml_downscaling_emulator.utils import cp_model_rotated_pole, platecarree, plot_grid"
   ]
  },
  {
   "cell_type": "code",
   "execution_count": null,
   "id": "c7c795cd-7c8f-4d52-96ed-a442a040f407",
   "metadata": {},
   "outputs": [],
   "source": [
    "def open_split(dataset_name, split):\n",
    "    return xr.open_dataset(os.path.join(os.getenv(\"MOOSE_DERIVED_DATA\"), \"nc-datasets\", dataset_name, f\"{split}.nc\"))"
   ]
  },
  {
   "cell_type": "code",
   "execution_count": null,
   "id": "6ed29b61-a263-4989-87e6-09a5de3eb691",
   "metadata": {},
   "outputs": [],
   "source": [
    "dataset_name = \"2.2km-coarsened-gcm-2.2km_london_vorticity850_random\"\n",
    "ds_splits = {split: open_split(dataset_name, split) for split in [\"train\", \"val\", \"test\"]}"
   ]
  },
  {
   "cell_type": "code",
   "execution_count": null,
   "id": "b368f440-5661-42be-aea8-ee96769eced7",
   "metadata": {},
   "outputs": [],
   "source": [
    "ds_splits[\"train\"]"
   ]
  },
  {
   "cell_type": "markdown",
   "id": "859ffc46-6ced-4e2d-a07d-7e6402862e0a",
   "metadata": {},
   "source": [
    "## Vorticity@850"
   ]
  },
  {
   "cell_type": "code",
   "execution_count": null,
   "id": "235491c0-4797-4851-8867-bb404b0e0dcb",
   "metadata": {},
   "outputs": [],
   "source": [
    "ax = plt.axes()\n",
    "for split in [\"train\", \"val\", \"test\"]: \n",
    "    ds_splits[split][\"vorticity850\"].plot.hist(ax=ax, bins=50, density=True, alpha=0.5, label=split)\n",
    "\n",
    "ax.legend()"
   ]
  },
  {
   "cell_type": "code",
   "execution_count": null,
   "id": "7ead933b-7963-46e4-9058-2863606f46e7",
   "metadata": {},
   "outputs": [],
   "source": [
    "fig, axd = plt.subplot_mosaic([[\"train\", \"val\", \"test\"]], figsize=(18, 6), constrained_layout=True, subplot_kw={'projection': cp_model_rotated_pole})\n",
    "for split in [\"train\", \"val\", \"test\"]: \n",
    "    ax = axd[split]\n",
    "    plot_grid(ds_splits[split][\"vorticity850\"].isel(time=0), ax=ax, center=0, add_colorbar=True, norm=None, cmap=None, title=split)"
   ]
  },
  {
   "cell_type": "markdown",
   "id": "0c02fd11-15d7-44a8-b65c-d70cdbc20acc",
   "metadata": {},
   "source": [
    "## Target pr"
   ]
  },
  {
   "cell_type": "code",
   "execution_count": null,
   "id": "230164f4-9d0e-4453-8fe8-b2e68dda6c84",
   "metadata": {},
   "outputs": [],
   "source": [
    "figure = plt.figure(figsize=(12, 12))\n",
    "ax = plt.axes()\n",
    "for split in [\"train\", \"val\", \"test\"]: \n",
    "    (ds_splits[split][\"target_pr\"]*3600*24).plot.hist(bins=50, density=True, alpha=0.5, label=split)\n",
    "ax.legend()"
   ]
  },
  {
   "cell_type": "code",
   "execution_count": null,
   "id": "404c169e-746d-4ac0-b06f-5b2e9c9fa5f4",
   "metadata": {},
   "outputs": [],
   "source": [
    "figure = plt.figure(figsize=(12, 12))\n",
    "ax = plt.axes()\n",
    "for split in [\"train\", \"val\", \"test\"]: \n",
    "    (ds_splits[split][\"target_pr\"]*3600*24).plot.hist(bins=50, density=True, alpha=0.5, label=split)\n",
    "ax.legend()\n",
    "ax.set_xlim(25, 225)\n",
    "ax.set_ylim(None, 2e-5)"
   ]
  },
  {
   "cell_type": "code",
   "execution_count": null,
   "id": "cd0779bc-c454-4544-9f9a-b998eccfdc5c",
   "metadata": {},
   "outputs": [],
   "source": [
    "fig, axd = plt.subplot_mosaic([[\"train\", \"val\", \"test\"]], figsize=(36, 12), constrained_layout=True, subplot_kw={'projection': cp_model_rotated_pole})\n",
    "for split in [\"train\", \"val\", \"test\"]: \n",
    "    ax = axd[split]\n",
    "    plot_grid((ds_splits[split][\"target_pr\"]*3600*24).isel(time=0), ax=ax, add_colorbar=True, style=\"precip\", title=split)"
   ]
  }
 ],
 "metadata": {
  "kernelspec": {
   "display_name": "Python 3 (ipykernel)",
   "language": "python",
   "name": "python3"
  }
 },
 "nbformat": 4,
 "nbformat_minor": 5
}
