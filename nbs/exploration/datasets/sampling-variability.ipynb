{
 "cells": [
  {
   "cell_type": "markdown",
   "id": "c9775a76-065f-4ae8-9fab-fbf9f7381029",
   "metadata": {},
   "source": [
    "# Sampling variability in dataset"
   ]
  },
  {
   "cell_type": "code",
   "execution_count": null,
   "id": "d102222c-59e4-4d0a-b349-db03e1577f9a",
   "metadata": {},
   "outputs": [],
   "source": [
    "%reload_ext autoreload\n",
    "\n",
    "%autoreload 2\n",
    "\n",
    "%reload_ext dotenv\n",
    "%dotenv\n",
    "\n",
    "import math\n",
    "import string\n",
    "\n",
    "import IPython\n",
    "import matplotlib\n",
    "import matplotlib.pyplot as plt\n",
    "import numpy as np\n",
    "import scipy\n",
    "import seaborn as sns\n",
    "import xarray as xr\n",
    "import xskillscore as xs\n",
    "\n",
    "from mlde_utils import cp_model_rotated_pole, dataset_split_path\n",
    "from mlde_analysis import plot_map\n",
    "from mlde_analysis.data import open_dataset_split, attach_eval_coords, attach_derived_variables\n",
    "from mlde_analysis.display import pretty_table\n",
    "from mlde_analysis.distribution import xr_hist, hist_dist\n",
    "from mlde_analysis.examples import em_timestamps"
   ]
  },
  {
   "cell_type": "code",
   "execution_count": null,
   "id": "f669ba53-2df8-4e23-8c85-2a93f8546b4e",
   "metadata": {},
   "outputs": [],
   "source": [
    "matplotlib.rcParams['figure.dpi'] = 300"
   ]
  },
  {
   "cell_type": "code",
   "execution_count": null,
   "id": "97b3273e-ca1e-4583-bec7-744ee3c8a9b7",
   "metadata": {
    "tags": [
     "parameters"
    ]
   },
   "outputs": [],
   "source": [
    "dataset=\"bham64_ccpm-4x_12em_mv\"\n",
    "split=\"val\"\n",
    "ensemble_members = [\"01\", \"04\"]\n",
    "var=\"target_swbgt\"\n",
    "derived_variables_config = {\n",
    "    \"swbgt\": [\n",
    "        \"mlde_analysis.derived_variables.swbgt\",\n",
    "        {\"temp\": \"tmean150cm\", \"rh\": \"relhum150cm\"},\n",
    "    ]\n",
    "}\n",
    "thresholds=[5, 25]\n",
    "plotted_thresholds = [5, 25]\n",
    "niterations = 10"
   ]
  },
  {
   "cell_type": "code",
   "execution_count": null,
   "id": "4883a81c-ef60-40c0-9b90-3d23aba88d94",
   "metadata": {},
   "outputs": [],
   "source": [
    "DS = attach_derived_variables(\n",
    "    attach_eval_coords(\n",
    "        open_dataset_split(dataset, split, ensemble_members)\n",
    "    ), \n",
    "    derived_variables_config, prefixes=[\"target\"]\n",
    ")\n",
    "DS"
   ]
  },
  {
   "cell_type": "code",
   "execution_count": null,
   "id": "358136b3-1539-4239-8de0-d90b89e44b25",
   "metadata": {},
   "outputs": [],
   "source": [
    "da = DS[var]\n",
    "da"
   ]
  },
  {
   "cell_type": "code",
   "execution_count": null,
   "id": "fc4b916f-ea6c-4346-914b-91d00f7f86dd",
   "metadata": {},
   "outputs": [],
   "source": [
    "def resample_examples(da):\n",
    "    return xs.resampling.resample_iterations_idx(da.stack(member=[\"ensemble_member\", \"time\"]), niterations, \"member\", replace=True).unstack(\"member\")\n",
    "\n",
    "bs_da = da.groupby(\"stratum\").map(resample_examples)\n",
    "\n",
    "bs_da"
   ]
  },
  {
   "cell_type": "markdown",
   "id": "92947d7c-8a9d-449b-8948-b27889dcc46b",
   "metadata": {},
   "source": [
    "## RMS bias"
   ]
  },
  {
   "cell_type": "code",
   "execution_count": null,
   "id": "df257b2c-f0c4-48b5-af88-08c87edc4ed7",
   "metadata": {},
   "outputs": [],
   "source": [
    "per_it_mean_grid = bs_da.mean(dim=[\"ensemble_member\", \"time\"])\n",
    "it_mean_mean_grid = per_it_mean_grid.mean(dim=\"iteration\")\n",
    "bs_mean_relative_bias_grid = per_it_mean_grid - it_mean_mean_grid\n",
    "if var == \"target_pr\":\n",
    "    bs_mean_relative_bias_grid = bs_mean_relative_bias_grid / it_mean_mean_grid\n",
    "bs_rmsb_mean = bs_mean_relative_bias_grid.groupby(\"iteration\").map(lambda group_da: np.sqrt((group_da ** 2).mean())).rename(\"bs_mean_rmsb\")\n",
    "\n",
    "per_it_std_grid = bs_da.std(dim=[\"ensemble_member\", \"time\"])\n",
    "it_mean_std_grid = per_it_std_grid.mean(dim=\"iteration\")\n",
    "bs_std_relative_bias_grid = per_it_std_grid - it_mean_std_grid\n",
    "if var == \"target_pr\":\n",
    "    bs_std_relative_bias_grid = 100 * bs_std_relative_bias_grid / it_mean_std_grid\n",
    "bs_rmsb_std = bs_std_relative_bias_grid.groupby(\"iteration\").map(lambda group_da: np.sqrt((group_da ** 2).mean())).rename(\"bs_std_rmsb\")\n",
    "\n",
    "bs_rmsb = xr.merge([bs_rmsb_mean, bs_rmsb_std])\n",
    "\n",
    "pretty_table(bs_rmsb, round=4)\n",
    "pretty_table(bs_rmsb.quantile([0.9], dim=\"iteration\"), round=4)"
   ]
  },
  {
   "cell_type": "code",
   "execution_count": null,
   "id": "eb5919e2-6dac-4367-856c-49e3e941f49c",
   "metadata": {},
   "outputs": [],
   "source": [
    "bs_mean_relative_bias_grid.plot(col=\"iteration\")\n",
    "bs_std_relative_bias_grid.plot(col=\"iteration\")"
   ]
  },
  {
   "cell_type": "markdown",
   "id": "e6e1cf14-7693-486c-a56b-b250eaa87292",
   "metadata": {},
   "source": [
    "## Freq density histograms"
   ]
  },
  {
   "cell_type": "code",
   "execution_count": null,
   "id": "f78daca1-3bb6-49ee-9aec-c3959de46604",
   "metadata": {},
   "outputs": [],
   "source": [
    "bins = np.histogram_bin_edges(da, bins=50)"
   ]
  },
  {
   "cell_type": "code",
   "execution_count": null,
   "id": "c8545b54-9cd7-44f7-a5d2-def9f4d4f83c",
   "metadata": {},
   "outputs": [],
   "source": [
    "split_hist_da = xr_hist(da, bins)\n",
    "\n",
    "bs_hists = bs_da.groupby(\"iteration\").map(xr_hist, bins=bins)\n",
    "\n",
    "bs_hists"
   ]
  },
  {
   "cell_type": "code",
   "execution_count": null,
   "id": "6b219545-bdf8-477b-9553-2dc4b69dc9e6",
   "metadata": {},
   "outputs": [],
   "source": [
    "for yscale in [\"log\", \"linear\"]:\n",
    "    fig = plt.figure(figsize=(5.5, 3.5), layout=\"compressed\")\n",
    "    \n",
    "    ax = fig.add_subplot()\n",
    "    \n",
    "    for itidx, group_da in bs_hists.groupby(\"iteration\"):\n",
    "        ax.stairs(\n",
    "            group_da,\n",
    "            bins,\n",
    "            fill=False,\n",
    "            linewidth=1,\n",
    "        )\n",
    "    for threshold in plotted_thresholds:\n",
    "        ax.axvline(threshold, color=\"k\", linestyle=\"--\", linewidth=1)\n",
    "    ax.set_yscale(yscale)\n",
    "    ax.set_xlabel(xr.plot.utils.label_from_attrs(da=da))\n",
    "    ax.set_ylabel(\"Freq. density\")\n",
    "    plt.show()"
   ]
  },
  {
   "cell_type": "code",
   "execution_count": null,
   "id": "e7fb4ed8-7962-43d9-8e58-2cb196752f74",
   "metadata": {},
   "outputs": [],
   "source": [
    "for log in [True, False]:\n",
    "    fig = plt.figure(figsize=(5.5, 3.5), layout=\"compressed\")\n",
    "    \n",
    "    ax = fig.add_subplot()\n",
    "    \n",
    "    for itidx, group_da in bs_da.groupby(\"iteration\"):\n",
    "        group_da.plot.hist(bins=bins, density=True, histtype=\"step\", log=log, ax=ax)\n",
    "    \n",
    "    plt.show()"
   ]
  },
  {
   "cell_type": "code",
   "execution_count": null,
   "id": "6aa810ad-fe4e-4ddd-bf58-8d326c9b4543",
   "metadata": {},
   "outputs": [],
   "source": [
    "data = bs_hists.assign_coords({\"bins\": bins[:-1]}).to_pandas().reset_index().melt(id_vars=\"iteration\")\n",
    "for yscale in [\"log\", \"linear\"]:\n",
    "    g_results = sns.lineplot(data=data, x=\"bins\", y=\"value\", errorbar=(\"pi\", 90))#, ax=ax)\n",
    "    g_results.set(yscale=yscale)\n",
    "    plt.show()"
   ]
  },
  {
   "cell_type": "markdown",
   "id": "0463194a-66e3-432e-9037-1e3f453ff3a2",
   "metadata": {},
   "source": [
    "### Freq density weight over threshold"
   ]
  },
  {
   "cell_type": "code",
   "execution_count": null,
   "id": "5c4bf425-60be-4b63-be49-5abf726aae90",
   "metadata": {},
   "outputs": [],
   "source": [
    "per_it_thshd_exceedence_prop_da = xr.concat(\n",
    "[ bs_da.groupby(\"iteration\").map(lambda group_da: (group_da.where(group_da > threshold).count()/group_da.count())).expand_dims(dict(threshold=[threshold])) \n",
    " for threshold in thresholds ],\n",
    "dim=\"threshold\").rename(\"threshold_exceedence\")\n",
    "\n",
    "per_it_thshd_exceedence_prop_diff_da = (per_it_thshd_exceedence_prop_da - per_it_thshd_exceedence_prop_da.mean(dim=\"iteration\")).rename(\"threshold_exceedence_diff\")\n",
    "\n",
    "pretty_table(per_it_thshd_exceedence_prop_da, round=4)\n",
    "pretty_table(per_it_thshd_exceedence_prop_da.quantile([0.05, 0.95], dim=\"iteration\"), round=5)\n",
    "\n",
    "pretty_table(per_it_thshd_exceedence_prop_diff_da, round=8)\n",
    "pretty_table(per_it_thshd_exceedence_prop_diff_da.quantile([0.05, 0.95], dim=\"iteration\"), round=8)"
   ]
  },
  {
   "cell_type": "markdown",
   "id": "b140cac7-8246-419d-9a4b-f156778ad86e",
   "metadata": {},
   "source": [
    "### JS distance variability of histograms"
   ]
  },
  {
   "cell_type": "code",
   "execution_count": null,
   "id": "efbc14aa-3eb1-4639-8f41-b78189b98532",
   "metadata": {},
   "outputs": [],
   "source": [
    "bs_distances = bs_hists.groupby(\"iteration\").map(hist_dist, target_hist_da=bs_hists.mean(dim=\"iteration\"))\n",
    "\n",
    "pretty_table(bs_distances, round=4)\n",
    "pretty_table(bs_distances.quantile([0.9], dim=\"iteration\"), round=4)\n",
    "bs_distances.plot.hist()"
   ]
  },
  {
   "cell_type": "code",
   "execution_count": null,
   "id": "ac7c77d2-aa6c-4a31-9345-9eb501622425",
   "metadata": {},
   "outputs": [],
   "source": [
    "bs_distances = bs_hists.groupby(\"iteration\").map(hist_dist, target_hist_da=split_hist_da)\n",
    "\n",
    "pretty_table(bs_distances, round=4)\n",
    "pretty_table(bs_distances.quantile([0.9], dim=\"iteration\"), round=4)\n",
    "\n",
    "bs_distances.plot.hist()"
   ]
  },
  {
   "cell_type": "code",
   "execution_count": null,
   "id": "422a176e-41d7-415a-8c9f-777ce2b24e37",
   "metadata": {},
   "outputs": [],
   "source": [
    "split_hist = np.histogram(da, bins=bins,density=True)[0]\n",
    "\n",
    "a = np.zeros(shape=niterations)\n",
    "for i, (_, group_da) in enumerate(bs_da.groupby(\"iteration\")):\n",
    "    group_hist = np.histogram(group_da, bins=bins, density=True)[0]\n",
    "    a[i] = scipy.spatial.distance.jensenshannon(split_hist, group_hist)\n",
    "\n",
    "a == bs_distances"
   ]
  },
  {
   "cell_type": "markdown",
   "id": "b297deef-96f4-42cf-b86f-81f70267357f",
   "metadata": {},
   "source": [
    "## Correlation coeff"
   ]
  },
  {
   "cell_type": "code",
   "execution_count": null,
   "id": "f455da0c-afad-4c21-9083-d9f390fbccb9",
   "metadata": {},
   "outputs": [],
   "source": [
    "per_it_domain_mean = bs_da.mean(dim=[\"grid_latitude\", \"grid_longitude\"])\n",
    "split_domain_mean = da.mean(dim=[\"grid_latitude\", \"grid_longitude\"])\n",
    "per_it_corr = xr.corr(per_it_domain_mean, split_domain_mean, dim=[\"ensemble_member\", \"time\"]).rename(\"corr\")\n",
    "\n",
    "pretty_table(per_it_corr, round=2)\n",
    "per_it_corr.mean()"
   ]
  },
  {
   "cell_type": "code",
   "execution_count": null,
   "id": "3fa2c5a9-ab7d-460d-969f-77116c533e55",
   "metadata": {},
   "outputs": [],
   "source": []
  }
 ],
 "metadata": {
  "kernelspec": {
   "display_name": "Python 3 (ipykernel)",
   "language": "python",
   "name": "python3"
  }
 },
 "nbformat": 4,
 "nbformat_minor": 5
}
