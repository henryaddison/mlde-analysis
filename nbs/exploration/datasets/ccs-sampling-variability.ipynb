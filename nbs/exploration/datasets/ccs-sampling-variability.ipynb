{
 "cells": [
  {
   "cell_type": "markdown",
   "id": "c9775a76-065f-4ae8-9fab-fbf9f7381029",
   "metadata": {},
   "source": [
    "# Sampling variability in dataset"
   ]
  },
  {
   "cell_type": "code",
   "execution_count": null,
   "id": "d102222c-59e4-4d0a-b349-db03e1577f9a",
   "metadata": {},
   "outputs": [],
   "source": [
    "%reload_ext autoreload\n",
    "\n",
    "%autoreload 2\n",
    "\n",
    "%reload_ext dotenv\n",
    "%dotenv\n",
    "\n",
    "import math\n",
    "import string\n",
    "\n",
    "import IPython\n",
    "import matplotlib\n",
    "import matplotlib.pyplot as plt\n",
    "import numpy as np\n",
    "import scipy\n",
    "import seaborn as sns\n",
    "import xarray as xr\n",
    "import xskillscore as xs\n",
    "\n",
    "from mlde_utils import cp_model_rotated_pole, dataset_split_path\n",
    "from mlde_analysis import plot_map\n",
    "from mlde_analysis.data import open_dataset_split, attach_eval_coords, attach_derived_variables\n",
    "from mlde_analysis.display import pretty_table\n",
    "from mlde_analysis.distribution import xr_hist, hist_dist\n",
    "from mlde_analysis.bootstrap import resample_examples\n",
    "from mlde_analysis.fractional_contribution import fc_bins, fc_binval, compute_fractional_contribution, plot_fractional_contribution, frac_contrib_change, plot_fractional_contribution_change"
   ]
  },
  {
   "cell_type": "code",
   "execution_count": null,
   "id": "f669ba53-2df8-4e23-8c85-2a93f8546b4e",
   "metadata": {},
   "outputs": [],
   "source": [
    "matplotlib.rcParams['figure.dpi'] = 300"
   ]
  },
  {
   "cell_type": "code",
   "execution_count": null,
   "id": "97b3273e-ca1e-4583-bec7-744ee3c8a9b7",
   "metadata": {
    "tags": [
     "parameters"
    ]
   },
   "outputs": [],
   "source": [
    "dataset=\"demo-ccpm_mv\"\n",
    "split=\"val\"\n",
    "ensemble_members = [\"01\", \"04\"]\n",
    "var=\"target_pr\"\n",
    "derived_variables_config = {\n",
    "    \"swbgt\": [\n",
    "        \"mlde_analysis.derived_variables.swbgt\",\n",
    "        {\"temp\": \"tmean150cm\", \"rh\": \"relhum150cm\"},\n",
    "    ]\n",
    "}\n",
    "thresholds=[5, 25]\n",
    "plotted_thresholds = [5, 25]\n",
    "niterations = 10"
   ]
  },
  {
   "cell_type": "code",
   "execution_count": null,
   "id": "4883a81c-ef60-40c0-9b90-3d23aba88d94",
   "metadata": {},
   "outputs": [],
   "source": [
    "DS = attach_derived_variables(\n",
    "    attach_eval_coords(\n",
    "        open_dataset_split(dataset, split, ensemble_members)\n",
    "    ), \n",
    "    derived_variables_config, prefixes=[\"target\"]\n",
    ")\n",
    "DS"
   ]
  },
  {
   "cell_type": "code",
   "execution_count": null,
   "id": "358136b3-1539-4239-8de0-d90b89e44b25",
   "metadata": {},
   "outputs": [],
   "source": [
    "da = DS[var]\n",
    "da"
   ]
  },
  {
   "cell_type": "code",
   "execution_count": null,
   "id": "c3bc48dc-f50d-497e-b97c-0a80dc516b95",
   "metadata": {},
   "outputs": [],
   "source": [
    "future_historic_summers_da = da.where((da[\"time.season\"] == \"JJA\") & (da[\"time_period\"].isin([\"historic\", \"future\"])), drop=True)\n",
    "\n",
    "bs_future_historic_summers_da = future_historic_summers_da.groupby(\"time_period\").map(lambda tpda: tpda.groupby(\"time.season\").map(resample_examples, niterations=niterations))\n",
    "\n",
    "bs_future_historic_summers_da"
   ]
  },
  {
   "cell_type": "markdown",
   "id": "6fb40bb5-b2b2-4a3a-90e0-386534a8f320",
   "metadata": {},
   "source": [
    "## Per-time-period freq density histograms"
   ]
  },
  {
   "cell_type": "code",
   "execution_count": null,
   "id": "c8545b54-9cd7-44f7-a5d2-def9f4d4f83c",
   "metadata": {},
   "outputs": [],
   "source": [
    "hist_bins = np.histogram_bin_edges(bs_future_historic_summers_da, bins=50)\n",
    "\n",
    "bs_hists = bs_future_historic_summers_da.groupby(\"iteration\").map(lambda it_da: it_da.groupby(\"time_period\").map(xr_hist, bins=hist_bins))\n",
    "\n",
    "bs_hists"
   ]
  },
  {
   "cell_type": "code",
   "execution_count": null,
   "id": "6b219545-bdf8-477b-9553-2dc4b69dc9e6",
   "metadata": {},
   "outputs": [],
   "source": [
    "colors = {\"future\": \"tab:blue\", \"historic\": \"tab:orange\"}\n",
    "for yscale in [\"log\", \"linear\"]:\n",
    "    fig = plt.figure(figsize=(5.5, 3.5), layout=\"compressed\")\n",
    "    \n",
    "    ax = fig.add_subplot()\n",
    "    legend_handles=[]\n",
    "    for tp, tp_hists in bs_hists.groupby(\"time_period\"):\n",
    "        \n",
    "        for itidx, group_da in tp_hists.groupby(\"iteration\"):\n",
    "            stairs_artist = ax.stairs(\n",
    "                group_da,\n",
    "                hist_bins,\n",
    "                fill=False,\n",
    "                linewidth=1,\n",
    "                color=colors[tp],\n",
    "                label=tp,\n",
    "                alpha=0.5\n",
    "            )\n",
    "            if itidx == 0:\n",
    "                legend_handles.append(stairs_artist)\n",
    "    ax.legend(handles=legend_handles)\n",
    "    ax.set_yscale(yscale)\n",
    "    ax.set_xlabel(xr.plot.utils.label_from_attrs(da=da))\n",
    "    ax.set_ylabel(\"Freq. density\")\n",
    "    plt.show()"
   ]
  },
  {
   "cell_type": "markdown",
   "id": "1e667009-c791-4507-b1e5-ccad9331be1e",
   "metadata": {},
   "source": [
    "## Fractional contribution change"
   ]
  },
  {
   "cell_type": "code",
   "execution_count": null,
   "id": "4d70cba0-58ed-4211-a208-4fde56dc4b0a",
   "metadata": {},
   "outputs": [],
   "source": [
    "fcbins = fc_bins()\n",
    "\n",
    "bs_fc_change = bs_future_historic_summers_da.groupby(\"iteration\").map(frac_contrib_change, bins=fcbins)"
   ]
  },
  {
   "cell_type": "code",
   "execution_count": null,
   "id": "2c744edb-9cd1-4128-bd24-c57e8427a2a1",
   "metadata": {},
   "outputs": [],
   "source": [
    "fig = plt.figure(layout='constrained', figsize=(4.5, 3))\n",
    "axd = fig.subplot_mosaic([[\"Change\"]])\n",
    "ax = axd[\"Change\"]\n",
    "\n",
    "frcontrib_change_data = [ \n",
    "    dict(data=(group_da.values, fc_binval(fcbins)), label=f\"CPM {itidx}\", color=\"tab:blue\", source=\"CPM\")\n",
    "    for itidx, group_da in bs_fc_change.groupby(\"iteration\")\n",
    "]\n",
    "\n",
    "plot_fractional_contribution(frcontrib_change_data, ax=ax, title=\"Change from Historic to Future\", alpha=0.25, linewidth=1, legend=False, ylim=[-0.4, 0.4])"
   ]
  },
  {
   "cell_type": "code",
   "execution_count": null,
   "id": "3fa2c5a9-ab7d-460d-969f-77116c533e55",
   "metadata": {},
   "outputs": [],
   "source": [
    "data = bs_fc_change.assign_coords({\"bins\": fc_binval(fcbins)}).to_pandas().reset_index().melt(id_vars=\"iteration\")\n",
    "\n",
    "fig = plt.figure(layout='constrained', figsize=(4.5, 3))\n",
    "axd = fig.subplot_mosaic([[\"Change\"]])\n",
    "ax = axd[\"Change\"]\n",
    "\n",
    "g_results = sns.lineplot(data=data, x=\"bins\", y=\"value\", errorbar=(\"pi\", 90), linewidth=1, ax=ax)\n",
    "g_results.set(xscale=\"log\")\n",
    "g_results.set(\n",
    "    title=\"Change from Historic to Future\",\n",
    "    xlabel=\"Precip (mm/day)\",\n",
    "    ylabel=\"Change in frac. contrib.\",\n",
    "    xlim=[0.1, 200.0],\n",
    "    ylim=[-0.4, 0.4],\n",
    ")\n",
    "plt.show()"
   ]
  },
  {
   "cell_type": "code",
   "execution_count": null,
   "id": "6aa810ad-fe4e-4ddd-bf58-8d326c9b4543",
   "metadata": {},
   "outputs": [],
   "source": [
    "# data = bs_fc_change.assign_coords({\"bins\": fc_binval(fcbins)}).to_pandas().reset_index().melt(id_vars=\"iteration\")\n",
    "\n",
    "g_results = sns.lineplot(data=data, x=\"bins\", y=\"value\", errorbar=(\"pi\", 90), linewidth=1)\n",
    "g_results.set(xscale=\"log\")\n",
    "g_results.set(\n",
    "    title=\"Change from Historic to Future\",\n",
    "    xlabel=\"Precip (mm/day)\",\n",
    "    ylabel=\"Change in frac. contrib.\",\n",
    "    xlim=[0.1, 200.0],\n",
    "    ylim=[-0.4, 0.4],\n",
    ")\n",
    "plt.show()"
   ]
  },
  {
   "cell_type": "code",
   "execution_count": null,
   "id": "386f7d30-384f-4f28-bd11-d3d2eac23db9",
   "metadata": {},
   "outputs": [],
   "source": []
  }
 ],
 "metadata": {
  "kernelspec": {
   "display_name": "Python 3 (ipykernel)",
   "language": "python",
   "name": "python3"
  }
 },
 "nbformat": 4,
 "nbformat_minor": 5
}
