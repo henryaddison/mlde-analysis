{
 "cells": [
  {
   "cell_type": "code",
   "execution_count": null,
   "id": "945f6b3e-a881-4b61-8238-e93a96e4491a",
   "metadata": {},
   "outputs": [],
   "source": [
    "%reload_ext autoreload\n",
    "\n",
    "%autoreload 2\n",
    "\n",
    "%reload_ext dotenv\n",
    "%dotenv\n",
    "\n",
    "import gc\n",
    "\n",
    "import matplotlib\n",
    "import matplotlib.pyplot as plt\n",
    "import numpy as np\n",
    "import xarray as xr\n",
    "\n",
    "from mlde_utils import dataset_split_path, workdir_path\n",
    "from mlde_utils.transforms import build_target_transform\n",
    "from mlde_notebooks import create_map_fig, plot_map\n",
    "from mlde_notebooks.data import open_dataset_split, attach_derived_variables, attach_eval_coords\n",
    "from mlde_notebooks.display import pretty_table\n",
    "from mlde_notebooks.distribution import plot_freq_density"
   ]
  },
  {
   "cell_type": "code",
   "execution_count": null,
   "id": "40e8cbd6-e865-4210-89f2-590c9e4daa6c",
   "metadata": {
    "tags": [
     "parameters"
    ]
   },
   "outputs": [],
   "source": [
    "var = \"target_swbgt\"\n",
    "dataset = \"bham64_ccpm-4x_12em_mv\"\n",
    "split = \"val\"\n",
    "derived_variables_config = {\n",
    "    \"swbgt\": [\n",
    "        \"mlde_notebooks.derived_variables.swbgt\",\n",
    "        {\"temp\": \"tmean150cm\", \"rh\": \"relhum150cm\"},\n",
    "    ]\n",
    "}"
   ]
  },
  {
   "cell_type": "code",
   "execution_count": null,
   "id": "7fb4aaf6-57d6-46b7-aafb-03dd7601e157",
   "metadata": {},
   "outputs": [],
   "source": [
    "ds = open_dataset_split(dataset, split)\n",
    "ds = attach_eval_coords(ds)\n",
    "ds = attach_derived_variables(ds, derived_variables_config, prefixes=[\"target\"])\n",
    "ds"
   ]
  },
  {
   "cell_type": "code",
   "execution_count": null,
   "id": "c68fc1a1-72ae-47c9-98f3-7e313086603b",
   "metadata": {},
   "outputs": [],
   "source": [
    "da = ds[var]"
   ]
  },
  {
   "cell_type": "code",
   "execution_count": null,
   "id": "57768213-b3f4-4bc7-9d9b-4a96e31e1cfa",
   "metadata": {},
   "outputs": [],
   "source": [
    "xr.merge([\n",
    "    da.mean().rename(\"mean\"), \n",
    "    da.std().rename(\"std\"),\n",
    "    da.min().rename(\"min\"), \n",
    "    da.quantile(0.25).drop(\"quantile\").rename(\"25%\"),\n",
    "    da.quantile(0.5).drop(\"quantile\").rename(\"50%\"),\n",
    "    da.quantile(0.75).drop(\"quantile\").rename(\"75%\"),\n",
    "    da.max().rename(\"max\"),\n",
    "]).to_pandas()"
   ]
  },
  {
   "cell_type": "code",
   "execution_count": null,
   "id": "c6446b95-884f-4c4c-bb2f-17859fac01c7",
   "metadata": {},
   "outputs": [],
   "source": [
    "bins=50\n",
    "# bins = np.histogram_bin_edges([], bins=150, range=(-3, 3))\n",
    "\n",
    "da.plot(label=var, density=True, bins=bins,)\n",
    "plt.legend()\n",
    "\n",
    "plt.show()"
   ]
  },
  {
   "cell_type": "code",
   "execution_count": null,
   "id": "15e04057-f49e-46ed-9711-06dea1169a9d",
   "metadata": {},
   "outputs": [],
   "source": [
    "time_mean = da.mean(dim=[\"ensemble_member\", \"time\"])\n",
    "time_std = da.std(dim=[\"ensemble_member\", \"time\"])\n",
    "\n",
    "fig, axd = create_map_fig([[\"mean\", \"std\"], [\"mean_style\", \".\"]])\n",
    "plot_map(time_mean, ax=axd[\"mean\"], style=None, cmap=\"turbo\", title=f\"Time mean\", add_colorbar=True)\n",
    "plot_map(time_mean, ax=axd[\"mean_style\"], style=var.replace(\"target_\", \"\"), title=f\"Styled Time mean\", add_colorbar=True)\n",
    "plot_map(time_std , ax=axd[\"std\"], style=None, cmap=\"turbo\", title=f\"Time std\", add_colorbar=True)"
   ]
  },
  {
   "cell_type": "code",
   "execution_count": null,
   "id": "f3e0cb8a-c3ad-428d-b742-f85f8f413cb2",
   "metadata": {},
   "outputs": [],
   "source": [
    "domain_mean = da.mean(dim=[\"grid_longitude\", \"grid_latitude\"])\n",
    "\n",
    "domain_mean.rolling(time=90).mean().plot(col=\"ensemble_member\", col_wrap=4)\n",
    "plt.show()\n",
    "\n",
    "domain_mean.resample(time=\"MS\").mean().plot(col=\"ensemble_member\", col_wrap=4)\n",
    "plt.show()\n",
    "\n",
    "domain_mean.resample(time=\"MS\").mean().plot(alpha=0.2, hue=\"ensemble_member\", add_legend=False)\n",
    "plt.show()\n",
    "domain_mean.resample(time=\"MS\").mean().mean(\"ensemble_member\").plot()\n",
    "plt.show()"
   ]
  },
  {
   "cell_type": "code",
   "execution_count": null,
   "id": "9075ca2f-f10e-47c2-9324-0d71253e5f6b",
   "metadata": {},
   "outputs": [],
   "source": []
  }
 ],
 "metadata": {
  "kernelspec": {
   "display_name": "Python 3 (ipykernel)",
   "language": "python",
   "name": "python3"
  }
 },
 "nbformat": 4,
 "nbformat_minor": 5
}
