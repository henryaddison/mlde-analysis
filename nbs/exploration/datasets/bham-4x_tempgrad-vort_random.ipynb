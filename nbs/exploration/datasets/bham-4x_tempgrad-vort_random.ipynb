{
 "cells": [
  {
   "cell_type": "markdown",
   "id": "b30d3c12-b92e-42ed-95e6-6ac00e64df13",
   "metadata": {},
   "source": [
    "# TgV Bham-64 8.8km datasets"
   ]
  },
  {
   "cell_type": "code",
   "execution_count": null,
   "id": "9035a956-2e94-4f10-ba6b-d3a3e0b9f934",
   "metadata": {
    "tags": []
   },
   "outputs": [],
   "source": [
    "%reload_ext autoreload\n",
    "\n",
    "%autoreload 2\n",
    "\n",
    "from collections import defaultdict\n",
    "import os\n",
    "\n",
    "import IPython\n",
    "import matplotlib.pyplot as plt\n",
    "import numpy as np\n",
    "import pandas as pd\n",
    "import xarray as xr\n",
    "\n",
    "from ml_downscaling_emulator.plotting import plot_map, create_map_fig, qq_plot"
   ]
  },
  {
   "cell_type": "code",
   "execution_count": null,
   "id": "fd683e1a-6322-4869-ae73-ce3f55650c8f",
   "metadata": {
    "tags": []
   },
   "outputs": [],
   "source": [
    "datasets = {\n",
    "    \"cpm\": \"bham_gcmx-4x_tempgrad-vort_random\",\n",
    "    \"gcm\": \"bham_60km-4x_tempgrad-vort_random\"\n",
    "}\n",
    "\n",
    "split = \"train\"\n",
    "\n",
    "ds = xr.concat(\n",
    "    [ xr.open_dataset(os.path.join(os.getenv(\"MOOSE_DERIVED_DATA\"), \"nc-datasets\", dataset_name, f\"{split}.nc\")) for dataset_name in datasets.values() ],\n",
    "    pd.Index(datasets.keys(), name='source')\n",
    ")\n",
    "ds"
   ]
  },
  {
   "cell_type": "code",
   "execution_count": null,
   "id": "d58439fe-c4bb-4bf9-80c6-4f1515462143",
   "metadata": {
    "tags": []
   },
   "outputs": [],
   "source": [
    "VAR_TYPES = [\"vorticity\"]\n",
    "THETAS = [250, 500, 700, 850, 925]\n",
    "\n",
    "n_examples = 5\n",
    "random_timestamps = np.random.choice(ds[\"time\"], size=n_examples, replace=False)\n",
    "\n",
    "std = ds.sel(source=\"cpm\")[\"target_pr\"].std(dim=[\"grid_longitude\", \"grid_latitude\"])\n",
    "std_sorted_time = std.sortby(-std)[\"time\"].values\n",
    "mean = ds.sel(source=\"cpm\")[\"target_pr\"].mean(dim=[\"grid_longitude\", \"grid_latitude\"])\n",
    "mean_sorted_time = mean.sortby(-mean)[\"time\"].values"
   ]
  },
  {
   "cell_type": "code",
   "execution_count": null,
   "id": "8519ba87-9e9d-43fd-945f-eb31c73c6d2f",
   "metadata": {},
   "outputs": [],
   "source": [
    "timestamps = mean_sorted_time[0:5]"
   ]
  },
  {
   "cell_type": "code",
   "execution_count": null,
   "id": "c5818d39-b7d8-4e11-99a5-b6889aa6b1ff",
   "metadata": {
    "tags": []
   },
   "outputs": [],
   "source": [
    "def summarize_distribution(da, mean_center=False):\n",
    "    gcm_da = da.sel(source=\"gcm\")\n",
    "    cpm_da = da.sel(source=\"cpm\")\n",
    "    \n",
    "    IPython.display.display_html(f\"<h2>Distribution</h2>\", raw=True)\n",
    "    fig, axes = plt.subplot_mosaic([[\"Density\", \"QQ\"]], figsize=(16.5, 5.5), constrained_layout=True)\n",
    "    \n",
    "    ax = axes[\"Density\"]\n",
    "    cpm_da.plot.hist(ax=ax, label=\"CPM\", density=True, alpha=0.5, bins=100)#, histtype=\"step\")\n",
    "    gcm_da.plot.hist(ax=ax, label=\"GCM\", density=True, alpha=1, bins=100, histtype=\"step\", linewidth=2)\n",
    "    ax.set_title(\"Frequency density\")\n",
    "    ax.legend()\n",
    "    \n",
    "    ax = axes[\"QQ\"]\n",
    "    if mean_center == 0:\n",
    "        quantiles = np.concatenate([np.linspace(0.001,0.009,9), np.linspace(0.01,0.09,9), np.linspace(0.1,0.9,9), np.linspace(0.91,0.99,9), np.linspace(0.991,0.999,9)])\n",
    "    else:\n",
    "        quantiles = np.concatenate([np.linspace(0.1,0.8,8), np.linspace(0.9,0.99,10), np.linspace(0.991,0.999,9)])\n",
    "    qq_plot(ax, cpm_da, [(\"GCM vs CPM\", gcm_da)], quantiles, title=\"GCM vs CPM quantiles\", xlabel=\"CPM\", ylabel=\"GCM\")\n",
    "    plt.show()\n",
    "\n",
    "def summarize_variable(da, etimestamps=list(), mean_center=False):\n",
    "    gcm_da = da.sel(source=\"gcm\")\n",
    "    cpm_da = da.sel(source=\"cpm\")\n",
    "    \n",
    "    if len(etimestamps) > 0:\n",
    "        IPython.display.display_html(f\"<h2>Examples</h2>\", raw=True)\n",
    "        fig, axes = create_map_fig([[f\"CPM Example {i}\" for i in range(n_examples)], [f\"GCM Example {i}\" for i in range(n_examples)]])\n",
    "        emin = da.sel(time=etimestamps).min()\n",
    "        emax = max(-emin, da.sel(time=timestamps).max())\n",
    "        for i, timestamp in enumerate(timestamps):\n",
    "            ax = axes[f\"CPM Example {i}\"]\n",
    "            plot_map(cpm_da.sel(time=timestamp), ax=ax, add_colorbar=True, style=None, center=mean_center, vmax=emax)\n",
    "\n",
    "            ax = axes[f\"GCM Example {i}\"]\n",
    "            plot_map(gcm_da.sel(time=timestamp), ax=ax, add_colorbar=True, style=None, center=mean_center, vmax=emax)\n",
    "        plt.show()\n",
    "    \n",
    "    summarize_distribution(da, mean_center=mean_center)\n",
    "    \n",
    "    IPython.display.display_html(f\"<h2>Mean and standard deviation</h2>\", raw=True)\n",
    "    data = {\n",
    "        \"$\\mu_{CPM}$\": cpm_da.mean(dim=[\"time\"]),\n",
    "        \"$\\mu_{GCM}$\": gcm_da.mean(dim=[\"time\"])\n",
    "    }\n",
    "    data[\"$\\mu_{GCM}$ - $\\mu_{CPM}$\"] = data[\"$\\mu_{GCM}$\"] - data[\"$\\mu_{CPM}$\"]\n",
    "    data[\"$\\\\frac{\\mu_{GCM} - \\mu_{CPM}}{\\sigma_{CPM}}$\"] = data[\"$\\mu_{GCM}$ - $\\mu_{CPM}$\"]/cpm_da.std(dim=[\"time\"])\n",
    "\n",
    "    mean_min = min(data[\"$\\mu_{CPM}$\"].min(), data[\"$\\mu_{GCM}$\"].min())\n",
    "    mean_max = max(-mean_min, data[\"$\\mu_{CPM}$\"].max(), data[\"$\\mu_{GCM}$\"].max())\n",
    "    plotkwargs = defaultdict(dict, **{\n",
    "        \"$\\mu_{CPM}$\": dict(center=mean_center, vmax=mean_max),\n",
    "        \"$\\mu_{GCM}$\": dict(center=mean_center, vmax=mean_max),\n",
    "        \"$\\mu_{GCM}$ - $\\mu_{CPM}$\": dict(center=0),\n",
    "        \"$\\\\frac{\\mu_{GCM} - \\mu_{CPM}}{\\sigma_{CPM}}$\": dict(center=0)\n",
    "    })\n",
    "    \n",
    "    _, axd = create_map_fig([data.keys()])\n",
    "\n",
    "    for key, data_summary in data.items():\n",
    "        plot_map(data_summary, axd[key], title=key, style=None, add_colorbar=True, **plotkwargs[key])\n",
    "\n",
    "    plt.show()\n",
    "        \n",
    "    data = {\n",
    "        \"$\\sigma_{CPM}$\": cpm_da.std(dim=[\"time\"]),\n",
    "        \"$\\sigma_{GCM}$\": gcm_da.std(dim=[\"time\"])\n",
    "    }\n",
    "    data[\"$\\sigma_{GCM}$ - $\\sigma_{CPM}$\"] = data[\"$\\sigma_{GCM}$\"] - data[\"$\\sigma_{CPM}$\"]\n",
    "    data[\"$\\\\frac{\\sigma_{GCM} - \\sigma_{CPM}}{\\sigma_{CPM}}$\"] = data[\"$\\sigma_{GCM}$ - $\\sigma_{CPM}$\"]/data[\"$\\sigma_{CPM}$\"]\n",
    "    \n",
    "    sigma_min = min(data[\"$\\sigma_{GCM}$\"].min(), data[\"$\\sigma_{CPM}$\"].min())\n",
    "    sigma_max = max(data[\"$\\sigma_{GCM}$\"].max(), data[\"$\\sigma_{CPM}$\"].max())\n",
    "    plotkwargs = defaultdict(dict, **{\n",
    "        \"$\\sigma_{CPM}$\": dict(vmin=sigma_min, vmax=sigma_max),\n",
    "        \"$\\sigma_{GCM}$\": dict(vmin=sigma_min, vmax=sigma_max),\n",
    "        \"$\\sigma_{GCM}$ - $\\sigma_{CPM}$\": dict(center=0),\n",
    "        \"$\\\\frac{\\sigma_{GCM} - \\sigma_{CPM}}{\\sigma_{CPM}}$\": dict(center=0),\n",
    "    })\n",
    "    \n",
    "    _, axd = create_map_fig([data.keys()])\n",
    "\n",
    "    for key, data_summary in data.items():\n",
    "        plot_map(data_summary, axd[key], title=key, style=None, add_colorbar=True, **plotkwargs[key])\n",
    "    plt.show()\n",
    "\n",
    "def seasonal_summarize_variable(da, mean_center=False):\n",
    "    IPython.display.display_html(\"<h2>Seasonal $\\\\frac{\\mu_{GCM} - \\mu_{CPM}}{\\sigma_{CPM}}$</h2>\", raw=True)\n",
    "    _, axd = create_map_fig([[\"DJF\", \"MAM\", \"JJA\", \"SON\"]])\n",
    "    for season, seasonal_da in da.groupby(\"time.season\"):\n",
    "        gcm_da = seasonal_da.sel(source=\"gcm\")\n",
    "        cpm_da = seasonal_da.sel(source=\"cpm\")\n",
    "        data = {}\n",
    "        plotkwargs = defaultdict(dict)\n",
    "\n",
    "        data[season] = (gcm_da.mean(dim=[\"time\"]) - cpm_da.mean(dim=[\"time\"]))/cpm_da.std(dim=[\"time\"])\n",
    "        plotkwargs[season] =  dict(center=0)\n",
    "\n",
    "        for key, data_summary in data.items():\n",
    "            plot_map(data_summary, axd[key], title=key, style=None, add_colorbar=True, **plotkwargs[key])\n",
    "    plt.show()\n",
    "\n",
    "    IPython.display.display_html(\"<h2>Seasonal $\\sigma_{GCM}$ - $\\sigma_{CPM}$</h2>\", raw=True)\n",
    "    _, axd = create_map_fig([[\"DJF\", \"MAM\", \"JJA\", \"SON\"]])\n",
    "    for season, seasonal_da in da.groupby(\"time.season\"):\n",
    "        gcm_da = seasonal_da.sel(source=\"gcm\")\n",
    "        cpm_da = seasonal_da.sel(source=\"cpm\")\n",
    "        data = {}\n",
    "        plotkwargs = defaultdict(dict)\n",
    "\n",
    "        data[season] = gcm_da.std(dim=[\"time\"]) - cpm_da.std(dim=[\"time\"])\n",
    "        plotkwargs[season] =  dict(center=0)\n",
    "\n",
    "        for key, data_summary in data.items():\n",
    "            plot_map(data_summary, axd[key], title=key, style=None, add_colorbar=True, **plotkwargs[key])\n",
    "    plt.show()\n",
    "        \n",
    "    IPython.display.display_html(f\"<h2>Seasonal distribution\", raw=True)\n",
    "    fig, axd = plt.subplot_mosaic([[\"DJF\", \"MAM\", \"JJA\", \"SON\"]], figsize=(22, 5.5), constrained_layout=True)\n",
    "    for season, seasonal_da in da.groupby(\"time.season\"):\n",
    "        gcm_da = seasonal_da.sel(source=\"gcm\")\n",
    "        cpm_da = seasonal_da.sel(source=\"cpm\")\n",
    "    \n",
    "        ax = axd[season]\n",
    "        cpm_da.plot.hist(ax=ax, label=\"CPM\", density=True, alpha=0.5, bins=100)#, histtype=\"step\")\n",
    "        gcm_da.plot.hist(ax=ax, label=\"GCM\", density=True, alpha=1, bins=100, histtype=\"step\", linewidth=2)\n",
    "        ax.set_title(season)\n",
    "        ax.legend()\n",
    "    plt.show()\n",
    "    \n",
    "    fig, axd = plt.subplot_mosaic([[\"DJF\", \"MAM\", \"JJA\", \"SON\"]], figsize=(22, 5.5), constrained_layout=True)\n",
    "    for season, seasonal_da in da.groupby(\"time.season\"):\n",
    "        ax = axd[season]\n",
    "        if mean_center == 0:\n",
    "            quantiles = np.concatenate([np.linspace(0.001,0.009,9), np.linspace(0.01,0.09,9), np.linspace(0.1,0.9,9), np.linspace(0.91,0.99,9), np.linspace(0.991,0.999,9)])\n",
    "        else:\n",
    "            quantiles = np.concatenate([np.linspace(0.1,0.8,8), np.linspace(0.9,0.99,10), np.linspace(0.991,0.999,9)])\n",
    "        qq_plot(ax, cpm_da, [(\"GCM vs CPM\", gcm_da)], quantiles, title=f\"{season} GCM vs CPM quantiles\", xlabel=\"CPM\", ylabel=\"GCM\")\n",
    "    plt.show()\n",
    "    "
   ]
  },
  {
   "cell_type": "code",
   "execution_count": null,
   "id": "06fc168c-d25b-4f99-958a-9dddffbf45fe",
   "metadata": {
    "tags": []
   },
   "outputs": [],
   "source": [
    "for variable in [ f\"vorticity{theta}\" for theta in THETAS]:\n",
    "    IPython.display.display_html(f\"<h1>{variable}</h1>\", raw=True)\n",
    "    summarize_variable(ds[variable], timestamps, mean_center=0)\n",
    "    # seasonal_summarize_variable(ds[variable], mean_center=0)"
   ]
  },
  {
   "cell_type": "code",
   "execution_count": null,
   "id": "3742d9f7-5e99-4085-ba51-a0c0e4bf04d0",
   "metadata": {
    "tags": []
   },
   "outputs": [],
   "source": [
    "for variable in [ f\"tempgrad{theta}\" for theta in [\"700500\", \"850700\"]]:\n",
    "    IPython.display.display_html(f\"<h1>{variable}</h1>\", raw=True)\n",
    "    summarize_variable(ds[variable], timestamps)\n",
    "    # seasonal_summarize_variable(ds[variable], mean_center=0)"
   ]
  },
  {
   "cell_type": "code",
   "execution_count": null,
   "id": "ac25ddec-55f4-4837-bb3c-98f64d824b81",
   "metadata": {
    "tags": []
   },
   "outputs": [],
   "source": [
    "IPython.display.display_html(f\"<h1>precip</h1>\", raw=True)\n",
    "summarize_distribution(ds[\"target_pr\"])"
   ]
  },
  {
   "cell_type": "code",
   "execution_count": null,
   "id": "78c018a9-2d8d-4c45-9d6c-267501bb1d93",
   "metadata": {
    "tags": []
   },
   "outputs": [],
   "source": [
    "IPython.display.display_html(\"<h1>$\\sqrt{precip}$</h1>\", raw=True)\n",
    "summarize_distribution(np.sqrt(ds[\"target_pr\"]))"
   ]
  },
  {
   "cell_type": "code",
   "execution_count": null,
   "id": "5b773af1-6b62-447c-8b9a-6a08f319c1d3",
   "metadata": {
    "tags": []
   },
   "outputs": [],
   "source": [
    "IPython.display.display_html(\"<h1>$\\log(1+precip)$</h1>\", raw=True)\n",
    "summarize_distribution(np.log(1+ds[\"target_pr\"]))"
   ]
  },
  {
   "cell_type": "code",
   "execution_count": null,
   "id": "e91bcb34-46c1-4708-a4c9-52cdf7de7c90",
   "metadata": {
    "tags": []
   },
   "outputs": [],
   "source": [
    "IPython.display.display_html(\"<h1>$e^{(\\log(1+precip))}-1$</h1>\", raw=True)\n",
    "summarize_distribution(np.expm1(np.log1p(ds[\"target_pr\"])))"
   ]
  },
  {
   "cell_type": "code",
   "execution_count": null,
   "id": "74842e00-60a8-4c7b-b08c-59e651c96587",
   "metadata": {},
   "outputs": [],
   "source": [
    "IPython.display.display_html(\"<h1>$\\sqrt[3]{precip}$</h1>\", raw=True)\n",
    "summarize_distribution(np.power(ds[\"target_pr\"], 1/3))"
   ]
  },
  {
   "cell_type": "code",
   "execution_count": null,
   "id": "7833b5a7-8e4e-42a4-b518-37e5064d4da3",
   "metadata": {
    "tags": []
   },
   "outputs": [],
   "source": [
    "IPython.display.display_html(\"<h1>$\\sqrt[4]{precip}$</h1>\", raw=True)\n",
    "summarize_distribution(np.power(ds[\"target_pr\"], 1/4))"
   ]
  },
  {
   "cell_type": "markdown",
   "id": "3b80796b-401b-4178-a7f2-c144021cd10e",
   "metadata": {},
   "source": [
    "## Correlation"
   ]
  },
  {
   "cell_type": "raw",
   "id": "0d5b9829-9b08-4263-895d-265988f23fd2",
   "metadata": {},
   "source": [
    "for variable in [ f\"{var}{theta}\" for theta in THETAS for var in [\"vorticity\", \"temp\", \"spechum\"] ]:\n",
    "    for variable2 in [ f\"{var}{theta}\" for theta in THETAS for var in [\"vorticity\", \"temp\", \"spechum\"] ]:\n",
    "        da1 = ds.sel(source=\"cpm\")[variable]\n",
    "        da1 = ds.sel(source=\"cpm\")[variable]\n",
    "        [].corr"
   ]
  }
 ],
 "metadata": {
  "kernelspec": {
   "display_name": "Python 3 (ipykernel)",
   "language": "python",
   "name": "python3"
  }
 },
 "nbformat": 4,
 "nbformat_minor": 5
}
