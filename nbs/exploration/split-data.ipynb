{
 "cells": [
  {
   "cell_type": "markdown",
   "id": "0fe787f8-021a-475f-97d6-4eb17397e8c4",
   "metadata": {},
   "source": [
    "# Explore data split into training, val and test"
   ]
  },
  {
   "cell_type": "code",
   "execution_count": null,
   "id": "737b3814-0767-4568-b799-440145f3f2bd",
   "metadata": {},
   "outputs": [],
   "source": [
    "%load_ext autoreload\n",
    "\n",
    "%autoreload 2"
   ]
  },
  {
   "cell_type": "code",
   "execution_count": null,
   "id": "f30a1e67-4ea2-42ff-987b-9cf5b3ecf58e",
   "metadata": {},
   "outputs": [],
   "source": [
    "%reload_ext autoreload\n",
    "import numpy as np\n",
    "import pandas as pd\n",
    "import xarray as xr\n",
    "import cartopy.crs as ccrs\n",
    "import matplotlib.pyplot as plt\n",
    "import xarray.plot as xplt\n",
    "import cftime\n",
    "import glob\n",
    "import ml_downscaling_emulator.helpers as helpers\n",
    "from ml_downscaling_emulator.training.dataset import XRDataset\n",
    "from torch.utils.data import DataLoader"
   ]
  },
  {
   "cell_type": "code",
   "execution_count": null,
   "id": "76813375-a484-42bc-92c3-61b8ccf3b4d1",
   "metadata": {},
   "outputs": [],
   "source": [
    "dataset = {key: xr.load_dataset(f\"../../../../derived_data/nc-datasets/coarsened-4x-2.2km-london_pr-psl/{key}.nc\") for key in [\"train\", \"val\", \"test\"]}"
   ]
  },
  {
   "cell_type": "code",
   "execution_count": null,
   "id": "13348645-7c80-427d-af0b-f7d6447f8d0b",
   "metadata": {},
   "outputs": [],
   "source": [
    "dataset[\"train\"]"
   ]
  },
  {
   "cell_type": "code",
   "execution_count": null,
   "id": "3f7ab6da-bf8a-46eb-8622-eadfa1946afa",
   "metadata": {},
   "outputs": [],
   "source": [
    "_, bins, _ = dataset[\"train\"].target_pr.plot.hist(density=True, alpha=.2, log=True)\n",
    "dataset[\"val\"].target_pr.plot.hist(density=True, alpha=.2, bins=bins, log=True)\n",
    "dataset[\"test\"].target_pr.plot.hist(density=True, alpha=.2, bins=bins, log=True)"
   ]
  },
  {
   "cell_type": "code",
   "execution_count": null,
   "id": "80f3f373-9dec-4fe6-abcc-9a6b93ed5829",
   "metadata": {},
   "outputs": [],
   "source": [
    "helpers.plot_with_ts([dataset[\"train\"]], dataset[\"train\"].time.values[0:1], variable='pr')"
   ]
  },
  {
   "cell_type": "code",
   "execution_count": null,
   "id": "173fd293-f4c9-4b7d-9704-2bf20d641ab3",
   "metadata": {},
   "outputs": [],
   "source": [
    "helpers.plot_with_ts([dataset[\"train\"]], dataset[\"train\"].time.values[0:1], variable='psl', vmin=None)"
   ]
  },
  {
   "cell_type": "code",
   "execution_count": null,
   "id": "5428fd7d-6d3c-4543-9681-5e3e8a214ebf",
   "metadata": {},
   "outputs": [],
   "source": [
    "helpers.plot_with_ts([dataset[\"train\"]], dataset[\"train\"].time.values[0:1], variable='target_pr')"
   ]
  },
  {
   "cell_type": "code",
   "execution_count": null,
   "id": "c5c2423b-8b90-425f-ad6d-1871629e730a",
   "metadata": {},
   "outputs": [],
   "source": [
    "DataLoader(XRDataset(dataset[\"train\"], ['pr']))"
   ]
  },
  {
   "cell_type": "code",
   "execution_count": null,
   "id": "d2cc24f0-78ef-471f-875a-763b25066a6a",
   "metadata": {},
   "outputs": [],
   "source": []
  }
 ],
 "metadata": {
  "kernelspec": {
   "display_name": "Python 3 (ipykernel)",
   "language": "python",
   "name": "python3"
  }
 },
 "nbformat": 4,
 "nbformat_minor": 5
}
