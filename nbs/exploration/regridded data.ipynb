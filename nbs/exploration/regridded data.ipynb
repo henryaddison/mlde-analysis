{
 "cells": [
  {
   "cell_type": "markdown",
   "id": "ead501d7-b8e1-4058-b7ff-d896a867c240",
   "metadata": {},
   "source": [
    "# Exploring the different regridded versions of the GCM data"
   ]
  },
  {
   "cell_type": "markdown",
   "id": "abcd81dc-5f77-47c1-be12-40ece433f7b4",
   "metadata": {},
   "source": [
    "## Load some import constants"
   ]
  },
  {
   "cell_type": "code",
   "execution_count": null,
   "id": "7d6ad37a-6411-49b8-ab36-348b3c3f98d7",
   "metadata": {},
   "outputs": [],
   "source": [
    "import numpy as np\n",
    "import pandas as pd\n",
    "import xarray as xr\n",
    "import cartopy.crs as ccrs\n",
    "import matplotlib.pyplot as plt\n",
    "import cftime"
   ]
  },
  {
   "cell_type": "code",
   "execution_count": null,
   "id": "230add1a-64ca-454a-a2e2-efe22bba0059",
   "metadata": {},
   "outputs": [],
   "source": [
    "# Our two different projections\n",
    "cp_model_rotated_pole = ccrs.RotatedPole(pole_longitude=177.5, pole_latitude=37.5)\n",
    "platecarree = ccrs.PlateCarree()"
   ]
  },
  {
   "cell_type": "code",
   "execution_count": null,
   "id": "56fed733-2f95-4e3c-8163-6e4414720829",
   "metadata": {},
   "outputs": [],
   "source": [
    "def plot_with_ts(slices, timestamps, variable='pr'):\n",
    "    f, axes = plt.subplots(len(timestamps), len(slices), figsize=(20, 20), subplot_kw={'projection': cp_model_rotated_pole})\n",
    "    f.tight_layout(h_pad=2)\n",
    "    # make sure axes is 2-d even if only 1 timestamp and or slice\n",
    "    axes = axes.reshape(len(timestamps),len(slices))\n",
    "    \n",
    "    for t, timestamp in enumerate(timestamps):\n",
    "        for i, data in enumerate(slices):\n",
    "            ax = axes[t][i]\n",
    "            ax.coastlines()\n",
    "            \n",
    "            x = \"longitude\"\n",
    "            y = \"latitude\"\n",
    "            transform = platecarree\n",
    "            if \"grid_latitude\" in data.coords.keys():\n",
    "                x = f\"grid_longitude\"\n",
    "                y = f\"grid_latitude\"\n",
    "                transform = cp_model_rotated_pole\n",
    "            \n",
    "            data.sel(time=timestamp)[variable].plot(ax=ax, x=x, y=y, add_colorbar=True, transform = transform, vmin=0)\n",
    "\n",
    "    plt.show()"
   ]
  },
  {
   "cell_type": "markdown",
   "id": "07380055-3601-4dbf-bcb8-e73667990df0",
   "metadata": {},
   "source": [
    "## Load the different datasets"
   ]
  },
  {
   "cell_type": "code",
   "execution_count": null,
   "id": "3b4da2d9-1aea-4551-8999-8ba97229f56b",
   "metadata": {},
   "outputs": [],
   "source": [
    "orig_gcm_data = xr.open_mfdataset(\"../../../../data/60km/rcp85/01/pr/day/*.nc\").isel(ensemble_member=0).sel(time=slice(\"1980-12-01\",\"1982-11-30\"))\n",
    "gcm_data = xr.open_mfdataset(\"../../../../derived_data/60km/rcp85/01/pr/day/*.nc\").isel(ensemble_member=0).sel(time=slice(\"1980-12-01\",\"1982-11-30\"))\n",
    "cpm_data = xr.open_mfdataset(\"../../../../data/2.2km/rcp85/01/pr/day/*.nc\").isel(ensemble_member=0).sel(time=slice(\"1980-12-01\",\"1982-11-30\"))\n",
    "\n",
    "regridded_nn_gcm_data = xr.open_mfdataset(\"../../../../derived_data/60km-nn-regrid-2.2km/rcp85/01/pr/day/*-198*.nc\").isel(ensemble_member=0).sel(time=slice(\"1980-12-01\",\"1982-11-30\"))\n",
    "regridded_lin_gcm_data = xr.open_mfdataset(\"../../../../derived_data/60km-lin-regrid-2.2km/rcp85/01/pr/day/*-198*.nc\").isel(ensemble_member=0).sel(time=slice(\"1980-12-01\",\"1982-11-30\"))"
   ]
  },
  {
   "cell_type": "code",
   "execution_count": null,
   "id": "fe5f6c44-b56b-4a70-869c-dd118b655475",
   "metadata": {},
   "outputs": [],
   "source": [
    "five_wettest_gcm_days = gcm_data.sum(dim=[\"projection_x_coordinate\", \"projection_y_coordinate\"]).sortby('pr').time[-5:]\n",
    "five_wettest_regridded_nn_gcm_days = regridded_nn_gcm_data.sum(dim=[\"grid_latitude\", \"grid_longitude\"]).sortby('pr').time[-5:]\n",
    "five_wettest_regridded_lin_gcm_days = regridded_lin_gcm_data.sum(dim=[\"grid_latitude\", \"grid_longitude\"]).sortby('pr').time[-5:]\n",
    "five_wettest_cpm_days = cpm_data.sum(dim=[\"grid_latitude\", \"grid_longitude\"]).sortby('pr').time[-5:]"
   ]
  },
  {
   "cell_type": "markdown",
   "id": "d8f2bd08-5962-4de0-8938-81acd76fb43f",
   "metadata": {},
   "source": [
    "# Compare wettest days"
   ]
  },
  {
   "cell_type": "code",
   "execution_count": null,
   "id": "3eee12b3-ed3a-4544-96a9-7d581b1fa236",
   "metadata": {},
   "outputs": [],
   "source": [
    "five_wettest_gcm_days.values"
   ]
  },
  {
   "cell_type": "code",
   "execution_count": null,
   "id": "e28f70a9-44d5-45e1-ae6f-9be4aaa416e5",
   "metadata": {},
   "outputs": [],
   "source": [
    "five_wettest_regridded_nn_gcm_days.values"
   ]
  },
  {
   "cell_type": "code",
   "execution_count": null,
   "id": "ea8bf9e7-776f-44ac-895b-5948c78808db",
   "metadata": {},
   "outputs": [],
   "source": [
    "five_wettest_regridded_lin_gcm_days.values"
   ]
  },
  {
   "cell_type": "code",
   "execution_count": null,
   "id": "0aac2d02-7e2a-47d6-9ba9-7442ea169c69",
   "metadata": {},
   "outputs": [],
   "source": [
    "five_wettest_cpm_days.values"
   ]
  },
  {
   "cell_type": "markdown",
   "id": "5573847a-d1ac-4789-bbc3-fa277b839323",
   "metadata": {},
   "source": [
    "# View some wet days in different versions of data\n",
    "\n",
    "The raw GCM precip, the GCM precip regrided to match CPM grid according to NN and linear schemes, and the raw CPM precip"
   ]
  },
  {
   "cell_type": "markdown",
   "id": "2c38a1ec-801d-4e26-bccb-21310e328eeb",
   "metadata": {},
   "source": [
    "## Wettest days according to GCM"
   ]
  },
  {
   "cell_type": "code",
   "execution_count": null,
   "id": "6f7ed4d9-ed59-4131-ba57-343ae9fde49d",
   "metadata": {},
   "outputs": [],
   "source": [
    "plot_with_ts([orig_gcm_data, gcm_data, regridded_nn_gcm_data, regridded_lin_gcm_data, cpm_data], five_wettest_gcm_days)"
   ]
  },
  {
   "cell_type": "markdown",
   "id": "11b8a8e3-e0ca-4263-8223-d26e9b6df5bd",
   "metadata": {},
   "source": [
    "## Wettest days according to CPM"
   ]
  },
  {
   "cell_type": "code",
   "execution_count": null,
   "id": "49f34b64-24f3-4fcc-817b-cf3186abaf48",
   "metadata": {},
   "outputs": [],
   "source": [
    "plot_with_ts([gcm_data, regridded_nn_gcm_data, regridded_lin_gcm_data, cpm_data], five_wettest_cpm_days)"
   ]
  },
  {
   "cell_type": "markdown",
   "id": "e010ce37-8de5-4681-9d3f-dae6cfd41902",
   "metadata": {},
   "source": [
    "Those wettest CPM days don't look that wet on the plot. Maybe the colour scale is different and/or there's something odd going on at the edges"
   ]
  },
  {
   "cell_type": "code",
   "execution_count": null,
   "id": "e74d46f3-cd8a-4e59-afdc-85d12d3b6c18",
   "metadata": {},
   "outputs": [],
   "source": []
  }
 ],
 "metadata": {
  "kernelspec": {
   "display_name": "Python 3 (ipykernel)",
   "language": "python",
   "name": "python3"
  }
 },
 "nbformat": 4,
 "nbformat_minor": 5
}
