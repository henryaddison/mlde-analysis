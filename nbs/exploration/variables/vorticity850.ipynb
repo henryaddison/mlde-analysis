{
 "cells": [
  {
   "cell_type": "markdown",
   "id": "b815c373-e9cf-40d9-a2c4-266824079288",
   "metadata": {
    "tags": []
   },
   "source": [
    "# Explore vorticity@850hPa data"
   ]
  },
  {
   "cell_type": "code",
   "execution_count": null,
   "id": "16e96925-46d0-4c04-b170-60f0af394a70",
   "metadata": {
    "tags": []
   },
   "outputs": [],
   "source": [
    "%reload_ext autoreload\n",
    "\n",
    "%autoreload 2\n",
    "\n",
    "import math\n",
    "import os\n",
    "\n",
    "import iris\n",
    "import iris.analysis.cartography\n",
    "import matplotlib\n",
    "import matplotlib.pyplot as plt\n",
    "import numpy as np\n",
    "import xarray as xr\n",
    "\n",
    "import mlde_utils\n",
    "from mlde_utils.plotting import cp_model_rotated_pole, platecarree, plot_map"
   ]
  },
  {
   "cell_type": "code",
   "execution_count": null,
   "id": "c3fa5de1-65bb-4d6a-a18c-b71cf2f9c8df",
   "metadata": {
    "tags": []
   },
   "outputs": [],
   "source": [
    "VARIABLE=\"vorticity850\"\n",
    "DOMAIN=\"birmingham-64\"\n",
    "FREQUENCY=\"day\"\n",
    "TARGET_RESOLUTION=\"2.2km-coarsened-4x\"\n",
    "\n",
    "def open_ds(data_resolution, variable=VARIABLE):\n",
    "    resolution=f\"{data_resolution}-{TARGET_RESOLUTION}\"\n",
    "    ds_meta = mlde_utils.VariableMetadata(os.getenv(\"MOOSE_DERIVED_DATA\"), resolution=resolution, variable=variable, frequency=FREQUENCY, domain=DOMAIN)\n",
    "    ds = xr.open_mfdataset(ds_meta.existing_filepaths())\n",
    "    return ds"
   ]
  },
  {
   "cell_type": "markdown",
   "id": "eb9de9a8-51c7-40a9-b170-ea806b8d5133",
   "metadata": {
    "tags": []
   },
   "source": [
    "## GCM-derived"
   ]
  },
  {
   "cell_type": "markdown",
   "id": "80eb4cb2-f155-42b9-88d5-bc5ae5a6300a",
   "metadata": {
    "tags": []
   },
   "source": [
    "## GCM 60km regriddded (NN)"
   ]
  },
  {
   "cell_type": "code",
   "execution_count": null,
   "id": "11880ee3-06c5-48be-9695-33bfcd72e1c7",
   "metadata": {
    "tags": []
   },
   "outputs": [],
   "source": [
    "gcm_ds = open_ds(\"60km\")\n",
    "gcm_ds"
   ]
  },
  {
   "cell_type": "markdown",
   "id": "d45e2111-e728-488d-8a63-e968598a89ce",
   "metadata": {
    "tags": []
   },
   "source": [
    "## CPM-derived"
   ]
  },
  {
   "cell_type": "markdown",
   "id": "010f2d28-24b6-4772-9330-7524a987c5aa",
   "metadata": {
    "tags": []
   },
   "source": [
    "### Coarsened CPM"
   ]
  },
  {
   "cell_type": "code",
   "execution_count": null,
   "id": "b66c3448-95fd-4bf1-8211-c46992315808",
   "metadata": {
    "tags": []
   },
   "outputs": [],
   "source": [
    "cpm_coarsened_ds = open_ds(\"2.2km-coarsened-gcm\")\n",
    "cpm_coarsened_ds"
   ]
  },
  {
   "cell_type": "code",
   "execution_count": null,
   "id": "1a0dae25-0560-4c2a-9575-a73903f365d7",
   "metadata": {
    "tags": []
   },
   "outputs": [],
   "source": [
    "fig, axd = plt.subplot_mosaic([[\"Hist\"]], figsize=(12,12))\n",
    "\n",
    "ax = axd[\"Hist\"]\n",
    "bins = 100\n",
    "# _, bins, _   = uncoarsened_ds[VARIABLE].plot.hist(ax=ax, bins=bins, alpha=0.5, density=True, label=\"2.2km\")\n",
    "cpm_coarsened_ds[VARIABLE].plot.hist(ax=ax, bins=bins, alpha=0.5, density=True, label=\"Coarsened CPM\")\n",
    "gcm_ds[VARIABLE].plot.hist(ax=ax, bins=bins, alpha=0.5, density=True, label=\"GCM\")\n",
    "ax.legend()\n",
    "\n",
    "plt.show()"
   ]
  },
  {
   "cell_type": "code",
   "execution_count": null,
   "id": "f6b4a285-0983-4f1d-8ce1-04ce05416f71",
   "metadata": {
    "tags": []
   },
   "outputs": [],
   "source": [
    "fig, axd = plt.subplot_mosaic([[\"CPM Mean\", \"GCM Mean\"]], figsize=(14,6), subplot_kw={\"projection\": cp_model_rotated_pole})\n",
    "\n",
    "cpm_coarsened_mean = cpm_coarsened_ds[VARIABLE].mean(dim=[\"time\"])\n",
    "gcm_mean = gcm_ds[VARIABLE].mean(dim=[\"time\"])\n",
    "\n",
    "vmax = max(cpm_coarsened_mean.max().values, gcm_mean.max().values)\n",
    "vmin = min(cpm_coarsened_mean.min().values, gcm_mean.min().values)\n",
    "\n",
    "ax = axd[\"CPM Mean\"]\n",
    "plot_map(cpm_coarsened_mean, ax=ax, norm=None, cmap=\"RdBu\", vmin=vmin, vmax=vmax, add_colorbar=True, title=\"Coarsened CPM\")\n",
    "# cpm_coarsened_ds[VARIABLE].mean(dim=[\"time\"]).plot(ax=ax)\n",
    "\n",
    "ax = axd[\"GCM Mean\"]\n",
    "# gcm_ds[VARIABLE].mean(dim=[\"time\"]).plot(ax=ax)\n",
    "plot_map(gcm_mean, ax=ax, norm=None, cmap=\"RdBu\", vmin=vmin, vmax=vmax, add_colorbar=True, title=\"GCM\")\n",
    "\n",
    "plt.show()"
   ]
  },
  {
   "cell_type": "code",
   "execution_count": null,
   "id": "5360c0f8-07cb-4764-8b69-c88686c145ad",
   "metadata": {
    "tags": []
   },
   "outputs": [],
   "source": [
    "time_slices = {\n",
    "    \"TS1\": slice(\"1980-12-01\", \"2000-12-01\"),\n",
    "    \"TS2\": slice(\"2020-12-01\", \"2040-12-01\"),\n",
    "    \"TS3\": slice(\"2060-12-01\", \"2080-12-01\"),\n",
    "}\n",
    "\n",
    "fig, axd = plt.subplot_mosaic(np.array(list(time_slices.keys())).reshape(3,1), figsize=(24,18))\n",
    "\n",
    "cpm_coarsened_mean = cpm_coarsened_ds[VARIABLE].mean(dim=[\"grid_longitude\", \"grid_latitude\"])\n",
    "gcm_mean = gcm_ds[VARIABLE].mean(dim=[\"grid_longitude\", \"grid_latitude\"])\n",
    "\n",
    "for ts, time_query in time_slices.items():\n",
    "    ax = axd[ts]\n",
    "    cpm_coarsened_mean.sel(time=time_query).plot(ax=ax, label=\"Coarsened CPM\")\n",
    "    gcm_mean.sel(time=time_query).plot(ax=ax, label=\"GCM\")\n",
    "    ax.legend()\n",
    "\n",
    "plt.show()"
   ]
  },
  {
   "cell_type": "code",
   "execution_count": null,
   "id": "76250d49-66c6-4c20-86a8-af8ed57300c1",
   "metadata": {
    "tags": []
   },
   "outputs": [],
   "source": [
    "fig, axd = plt.subplot_mosaic([[\"pixels\", \"mean\"]], figsize=(24,18))\n",
    "\n",
    "ax = axd[\"pixels\"]\n",
    "\n",
    "coarsened_cpm_pr_var_ds = xr.merge([cpm_coarsened_ds, open_ds(\"2.2km-coarsened-gcm\", variable=\"pr\")])\n",
    "ax.scatter(x=coarsened_cpm_pr_var_ds[\"vorticity850\"], y=coarsened_cpm_pr_var_ds[\"pr\"], alpha=0.1, label=\"CPM\")\n",
    "\n",
    "gcm_pr_var_ds = xr.merge([gcm_ds, open_ds(\"60km\", variable=\"pr\")])\n",
    "ax.scatter(x=gcm_pr_var_ds[\"vorticity850\"], y=gcm_pr_var_ds[\"pr\"], alpha=0.1, label=\"GCM\")\n",
    "\n",
    "ax.legend()\n",
    "\n",
    "ax = axd[\"mean\"]\n",
    "\n",
    "coarsened_cpm_mean_ds = coarsened_cpm_pr_var_ds.mean(dim=[\"grid_longitude\", \"grid_latitude\"])\n",
    "ax.scatter(x=coarsened_cpm_mean_ds[\"vorticity850\"], y=coarsened_cpm_mean_ds[\"pr\"], alpha=0.5, label=\"CPM\")\n",
    "\n",
    "gcm_mean_ds = gcm_pr_var_ds.mean(dim=[\"grid_longitude\", \"grid_latitude\"])\n",
    "ax.scatter(x=gcm_mean_ds[\"vorticity850\"], y=gcm_mean_ds[\"pr\"], alpha=0.5, label=\"GCM\")\n",
    "\n",
    "ax.legend()\n",
    "\n",
    "\n",
    "plt.show()"
   ]
  },
  {
   "cell_type": "code",
   "execution_count": null,
   "id": "cdba60f9-1607-4a89-932e-851baf4b0269",
   "metadata": {
    "tags": []
   },
   "outputs": [],
   "source": []
  }
 ],
 "metadata": {
  "kernelspec": {
   "display_name": "Python 3 (ipykernel)",
   "language": "python",
   "name": "python3"
  }
 },
 "nbformat": 4,
 "nbformat_minor": 5
}
