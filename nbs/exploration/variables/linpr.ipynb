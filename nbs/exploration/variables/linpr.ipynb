{
 "cells": [
  {
   "cell_type": "markdown",
   "id": "cff8d749-d0c3-42ed-b7a5-0f20cf320f5c",
   "metadata": {},
   "source": [
    "# Bilinear interpolation of coarse precip"
   ]
  },
  {
   "cell_type": "code",
   "execution_count": null,
   "id": "e2151ab9-c256-4bdb-9e34-15a77d567ad5",
   "metadata": {},
   "outputs": [],
   "source": [
    "%reload_ext autoreload\n",
    "\n",
    "%autoreload 2\n",
    "\n",
    "%reload_ext dotenv\n",
    "%dotenv\n",
    "\n",
    "import math\n",
    "import os\n",
    "\n",
    "import iris\n",
    "import iris.analysis.cartography\n",
    "import matplotlib\n",
    "import matplotlib.pyplot as plt\n",
    "import numpy as np\n",
    "import xarray as xr\n",
    "\n",
    "from mlde_utils import VariableMetadata, platecarree, cp_model_rotated_pole\n",
    "from mlde_utils.utils import si_to_mmday\n",
    "from mlde_notebooks import create_map_fig, plot_map\n",
    "from mlde_data.preprocessing.regrid import Regrid"
   ]
  },
  {
   "cell_type": "markdown",
   "id": "30c57c8c-3070-403d-889a-71518b7015a0",
   "metadata": {},
   "source": [
    "## CPM"
   ]
  },
  {
   "cell_type": "code",
   "execution_count": null,
   "id": "c2e3f1d9-2056-4765-856c-db9145ce1b2a",
   "metadata": {},
   "outputs": [],
   "source": [
    "ds_meta = VariableMetadata(\n",
    "    os.path.join(os.getenv(\"DERIVED_DATA\"), \"moose\"),\n",
    "    variable=\"linpr\", domain=\"birmingham-64\", frequency=\"day\", resolution=\"2.2km-coarsened-gcm-2.2km-coarsened-4x\", ensemble_member=\"01\"\n",
    ")\n",
    "\n",
    "ds = xr.open_mfdataset(ds_meta.existing_filepaths())\n",
    "ds[\"linpr\"] = si_to_mmday(ds, \"linpr\")\n",
    "ds"
   ]
  },
  {
   "cell_type": "code",
   "execution_count": null,
   "id": "a6e21905-ce52-4e76-a581-a6b41e658e54",
   "metadata": {},
   "outputs": [],
   "source": [
    "ds[\"linpr\"].plot(bins=100)"
   ]
  },
  {
   "cell_type": "code",
   "execution_count": null,
   "id": "4adcdac9-f97a-4620-aada-35e49fba0e78",
   "metadata": {},
   "outputs": [],
   "source": [
    "fig = plt.figure(layout=\"constrained\")\n",
    "\n",
    "fig, axd = create_map_fig([[\"min\"]])\n",
    "\n",
    "plot_map(ds[\"linpr\"].min(dim=[\"time\"]), ax=axd[\"min\"], style=None, add_colorbar=True)"
   ]
  },
  {
   "cell_type": "markdown",
   "id": "6a51ff26-e9a0-4391-8bd5-656cd390546e",
   "metadata": {},
   "source": [
    "## GCM"
   ]
  },
  {
   "cell_type": "code",
   "execution_count": null,
   "id": "38ef3d70-4aab-412c-8a92-b07e88781dd9",
   "metadata": {},
   "outputs": [],
   "source": [
    "ds_meta = VariableMetadata(\n",
    "    os.path.join(os.getenv(\"DERIVED_DATA\"), \"moose\"),\n",
    "    variable=\"linpr\", domain=\"birmingham-64\", frequency=\"day\", resolution=\"60km-2.2km-coarsened-4x\", ensemble_member=\"01\"\n",
    ")\n",
    "\n",
    "ds = xr.open_mfdataset(ds_meta.existing_filepaths())\n",
    "ds[\"linpr\"] = si_to_mmday(ds, \"linpr\")\n",
    "ds"
   ]
  },
  {
   "cell_type": "code",
   "execution_count": null,
   "id": "fb4051c4-3330-4270-a025-9573d094cdf4",
   "metadata": {},
   "outputs": [],
   "source": [
    "ds[\"linpr\"].plot(bins=100)"
   ]
  },
  {
   "cell_type": "code",
   "execution_count": null,
   "id": "046c97c4-3e81-46eb-acb4-0304ad8a3940",
   "metadata": {},
   "outputs": [],
   "source": [
    "fig = plt.figure(layout=\"constrained\")\n",
    "\n",
    "fig, axd = create_map_fig([[\"min\"]])\n",
    "\n",
    "plot_map(ds[\"linpr\"].min(dim=[\"time\"]), ax=axd[\"min\"], style=None, add_colorbar=True)"
   ]
  },
  {
   "cell_type": "markdown",
   "id": "aabb43a3-715f-45e2-aace-db4471bd4eac",
   "metadata": {},
   "source": [
    "Negative values occur on the Greenwich Meridian this confirms both that the interpolating is happening on a grid split on 0 longitude (rather than at the edge of the domain) and that this is the cause of the very low numbers"
   ]
  },
  {
   "cell_type": "code",
   "execution_count": null,
   "id": "7e4e7468-2a81-490f-b05e-eeebc38ad46f",
   "metadata": {},
   "outputs": [],
   "source": [
    "ds[\"linpr\"].isel(time=5).min().values"
   ]
  },
  {
   "cell_type": "code",
   "execution_count": null,
   "id": "f4489b98-55fe-40a0-8537-ae8cf603527e",
   "metadata": {},
   "outputs": [],
   "source": [
    "ds[\"linpr\"].isel(time=5).time"
   ]
  },
  {
   "cell_type": "markdown",
   "id": "26943a53-30de-4baa-a1f0-8d2d3548631b",
   "metadata": {},
   "source": [
    "## GCM precip"
   ]
  },
  {
   "cell_type": "code",
   "execution_count": null,
   "id": "442f0907-5104-49ea-8e3b-42299684f42e",
   "metadata": {},
   "outputs": [],
   "source": [
    "ds_meta = VariableMetadata(\n",
    "    os.path.join(os.getenv(\"MOOSE_DATA\")),\n",
    "    variable=\"pr\", domain=\"global\", frequency=\"day\", resolution=\"60km\", ensemble_member=\"01\"\n",
    ")\n",
    "ds = xr.open_dataset(ds_meta.filepath(1981))\n",
    "\n",
    "ds[\"pr\"] = si_to_mmday(ds, \"precipitation_flux\")\n",
    "ds"
   ]
  },
  {
   "cell_type": "code",
   "execution_count": null,
   "id": "6a81a756-a72f-42e9-9718-0d556919753a",
   "metadata": {},
   "outputs": [],
   "source": [
    "ds[\"pr\"].sel(time=\"1981-05-30\")"
   ]
  },
  {
   "cell_type": "code",
   "execution_count": null,
   "id": "1ad26639-f162-4fb9-8169-2dfe62d6f494",
   "metadata": {},
   "outputs": [],
   "source": [
    "lon_name = \"longitude\"\n",
    "\n",
    "lon_attrs = ds[lon_name].attrs\n",
    "ds.coords[lon_name] = (ds.coords[lon_name] + 180) % 360 - 180\n",
    "ds = ds.sortby(ds[lon_name])\n",
    "ds[lon_name].attrs =lon_attrs\n",
    "\n",
    "ds[\"pr\"].sel(time=\"1981-05-30\")"
   ]
  },
  {
   "cell_type": "code",
   "execution_count": null,
   "id": "6216155b-224b-43fa-95ee-6f03f601decb",
   "metadata": {},
   "outputs": [],
   "source": [
    "ds[lon_name].attrs =lon_attrs\n",
    "ds[\"pr\"].sel(time=\"1981-05-30\")"
   ]
  },
  {
   "cell_type": "code",
   "execution_count": null,
   "id": "c391dc46-ed27-4b9e-ba2d-2a44e6190eb3",
   "metadata": {},
   "outputs": [],
   "source": [
    "subplot_kw = dict(projection=platecarree, transform=platecarree)\n",
    "fig = plt.figure(layout=\"constrained\")\n",
    "ax = fig.add_subplot(111, **subplot_kw)\n",
    "\n",
    "plot_map(ds[\"pr\"].sel(time=\"1981-05-30\").squeeze(), ax=ax, style=None, add_colorbar=True)"
   ]
  },
  {
   "cell_type": "code",
   "execution_count": null,
   "id": "85c227d2-c9d3-4a51-8b8b-7ae6e20243b9",
   "metadata": {},
   "outputs": [],
   "source": [
    "target_grid_filepath = os.path.join(\"~/cdt/summer/code\",\n",
    "    \"mlde-data/src/mlde_data/target-grids/2.2km-coarsened-4x/uk\",\n",
    "    \"moose_grid.nc\",\n",
    ")\n",
    "\n",
    "subplot_kw = dict(projection=cp_model_rotated_pole)\n",
    "fig = plt.figure(layout=\"constrained\")\n",
    "ax = fig.add_subplot(111, **subplot_kw)\n",
    "\n",
    "# ds[\"longitude\"] = ds[\"longitude\"]-180.0\n",
    "ds\n",
    "plot_map(Regrid(target_grid_filepath, variables=[\"pr\"], scheme=\"linear\").run(ds)[\"pr\"].min(dim=[\"time\"]), ax=ax, style=None, add_colorbar=True)"
   ]
  },
  {
   "cell_type": "code",
   "execution_count": null,
   "id": "07169ff2-3d9a-41ed-8056-193c4a721f51",
   "metadata": {},
   "outputs": [],
   "source": [
    "precip_cube = ds[\"pr\"].to_iris()\n",
    "precip_cube"
   ]
  },
  {
   "cell_type": "code",
   "execution_count": null,
   "id": "7d3fd65d-24fb-4d05-8484-bdb3f116725f",
   "metadata": {},
   "outputs": [],
   "source": [
    "precip_cube.coords(axis=\"x\")[0].ndim"
   ]
  },
  {
   "cell_type": "code",
   "execution_count": null,
   "id": "d3c49581-3e84-4e03-b43b-0b697ea95b16",
   "metadata": {},
   "outputs": [],
   "source": [
    "lon_name = \"longitude\"\n",
    "\n",
    "ds.coords[lon_name] = (ds.coords[lon_name] + 180) % 360 - 180\n",
    "ds = ds.sortby(ds[lon_name])\n",
    "ds[\"pr\"].sel(time=\"1981-05-30\")\n",
    "ds\n",
    "# precip_cube = ds[\"pr\"].to_iris()\n",
    "# precip_cube"
   ]
  },
  {
   "cell_type": "code",
   "execution_count": null,
   "id": "71bfe2c7-ed56-41c9-83a9-2bfdaa11912e",
   "metadata": {},
   "outputs": [],
   "source": [
    "precip_cube.coords(axis=\"x\")"
   ]
  }
 ],
 "metadata": {
  "kernelspec": {
   "display_name": "Python 3 (ipykernel)",
   "language": "python",
   "name": "python3"
  }
 },
 "nbformat": 4,
 "nbformat_minor": 5
}
