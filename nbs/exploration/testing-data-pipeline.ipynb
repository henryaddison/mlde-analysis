{
 "cells": [
  {
   "cell_type": "markdown",
   "id": "b9fb1ceb-a9f2-45fa-ae62-0804a2c5291b",
   "metadata": {},
   "source": [
    "# Exploring the data pipeline\n",
    "\n",
    "To see if it's throwing up any oddities"
   ]
  },
  {
   "cell_type": "code",
   "execution_count": null,
   "id": "de2b96b0-e74d-4f24-b128-67aa8575c2a0",
   "metadata": {},
   "outputs": [],
   "source": [
    "import matplotlib.pyplot as plt\n",
    "import xarray as xr\n",
    "\n",
    "import ml_downscaling_emulator.helpers as helpers"
   ]
  },
  {
   "cell_type": "code",
   "execution_count": null,
   "id": "b2b20c0a-95f1-4e13-afbe-dce01c2af9e5",
   "metadata": {},
   "outputs": [],
   "source": [
    "hi_res_pr_ds = xr.load_dataset(helpers.data_filepath(\"2.2km-london\", \"cpm\", \"pr\", 1980))\n",
    "coarsened_2x_hi_res_pr_ds = xr.load_dataset(helpers.data_filepath(\"coarsened-2x-2.2km-london\", \"cpm\", \"pr\", 1980))\n",
    "coarsened_4x_hi_res_pr_ds = xr.load_dataset(helpers.data_filepath(\"coarsened-4x-2.2km-london\", \"cpm\", \"pr\", 1980))\n",
    "\n",
    "nn_regrid_lo_res_pr_ds = xr.load_dataset(helpers.data_filepath(\"60km-regrid-2.2km-nn-london\", \"gcm\", \"pr\", 1980))\n",
    "lin_regrid_lo_res_pr_ds = xr.load_dataset(helpers.data_filepath(\"60km-regrid-2.2km-lin-london\", \"gcm\", \"pr\", 1980))"
   ]
  },
  {
   "cell_type": "code",
   "execution_count": null,
   "id": "b0340d38-bd73-4cde-a31c-f1709e23f65e",
   "metadata": {},
   "outputs": [],
   "source": [
    "fig, axs = plt.subplots(5, 1, sharex=True, figsize=(3,10))\n",
    "\n",
    "axs[0].scatter(x=hi_res_pr_ds.pr, y=hi_res_pr_ds.pr, alpha=0.1, c='b')\n",
    "axs[0].plot([0, 100], [0, 100], linewidth=1, color='green')\n",
    "\n",
    "axs[1].scatter(x=hi_res_pr_ds.pr, y=coarsened_2x_hi_res_pr_ds.pr, alpha=0.1, c='b')\n",
    "axs[1].plot([0, 100], [0, 100], linewidth=1, color='green')\n",
    "\n",
    "axs[2].scatter(x=hi_res_pr_ds.pr, y=coarsened_4x_hi_res_pr_ds.pr, alpha=0.1, c='b')\n",
    "axs[2].plot([0, 100], [0, 100], linewidth=1, color='green')\n",
    "\n",
    "axs[3].scatter(x=hi_res_pr_ds.pr, y=lin_regrid_lo_res_pr_ds.pr, alpha=0.1, c='b')\n",
    "axs[3].plot([0, 100], [0, 100], linewidth=1, color='green')\n",
    "\n",
    "axs[4].scatter(x=hi_res_pr_ds.pr, y=nn_regrid_lo_res_pr_ds.pr, alpha=0.1, c='b')\n",
    "axs[4].plot([0, 100], [0, 100], linewidth=1, color='green')"
   ]
  },
  {
   "cell_type": "code",
   "execution_count": null,
   "id": "3ce1b11c-3fc9-48bf-94a9-f54ed78b97d9",
   "metadata": {},
   "outputs": [],
   "source": []
  }
 ],
 "metadata": {
  "kernelspec": {
   "display_name": "Python 3 (ipykernel)",
   "language": "python",
   "name": "python3"
  }
 },
 "nbformat": 4,
 "nbformat_minor": 5
}
