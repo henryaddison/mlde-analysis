{
 "cells": [
  {
   "cell_type": "markdown",
   "id": "345a1b27-1df4-40e8-a2f9-0ff817ad8241",
   "metadata": {
    "tags": []
   },
   "source": [
    "# Evaluation of distribution of models on 60km -> 2.2km-4x over Birmingham"
   ]
  },
  {
   "cell_type": "code",
   "execution_count": null,
   "id": "48718f5d-f1f8-4ccc-8089-a90b8e505b7c",
   "metadata": {
    "tags": []
   },
   "outputs": [],
   "source": [
    "%reload_ext autoreload\n",
    "\n",
    "%autoreload 2\n",
    "\n",
    "%reload_ext dotenv\n",
    "%dotenv\n",
    "\n",
    "import functools\n",
    "import itertools\n",
    "import math\n",
    "import string\n",
    "\n",
    "import IPython\n",
    "import matplotlib\n",
    "import matplotlib.pyplot as plt\n",
    "import numpy as np\n",
    "import scipy\n",
    "import seaborn as sns\n",
    "import xarray as xr\n",
    "import xskillscore as xss\n",
    "\n",
    "from mlde_utils import cp_model_rotated_pole\n",
    "\n",
    "from mlde_analysis.data import prep_eval_data\n",
    "from mlde_analysis.display import pretty_table, VAR_RANGES\n",
    "from mlde_analysis.distribution import plot_freq_density\n",
    "from mlde_analysis.mv_distribution import compute_hist2d, plot_hist2d_figure"
   ]
  },
  {
   "cell_type": "code",
   "execution_count": null,
   "id": "1d757f55-93e8-4248-a2f3-b6a9f75a752c",
   "metadata": {},
   "outputs": [],
   "source": [
    "matplotlib.rcParams['figure.dpi'] = 300"
   ]
  },
  {
   "cell_type": "code",
   "execution_count": null,
   "id": "361fe73f-2d52-4862-8b8c-ab7604ad6c29",
   "metadata": {
    "tags": [
     "parameters"
    ]
   },
   "outputs": [],
   "source": [
    "from mlde_analysis.default_params import *\n",
    "eval_vars=[\"pr\", \"relhum150cm\", \"tmean150cm\"]"
   ]
  },
  {
   "cell_type": "code",
   "execution_count": null,
   "id": "778a28b3-8483-4b83-895c-0253b499f36b",
   "metadata": {
    "tags": []
   },
   "outputs": [],
   "source": [
    "IPython.display.Markdown(desc)"
   ]
  },
  {
   "cell_type": "code",
   "execution_count": null,
   "id": "4df16b68-4c4d-42fb-9134-72f81d23b70b",
   "metadata": {
    "tags": []
   },
   "outputs": [],
   "source": [
    "EVAL_DS, MODELS = prep_eval_data(sample_configs, dataset_configs, derived_variables_config, eval_vars, split, ensemble_members=ensemble_members, samples_per_run=samples_per_run)\n",
    "EVAL_DS"
   ]
  },
  {
   "cell_type": "code",
   "execution_count": null,
   "id": "5d42a6f9-4512-4a90-a962-dc51a8cea484",
   "metadata": {},
   "outputs": [],
   "source": [
    "CPM_DAS = { var: EVAL_DS[\"CPM\"][f\"target_{var}\"] for var in eval_vars }"
   ]
  },
  {
   "cell_type": "markdown",
   "id": "1104e57b-f3c0-4a56-831a-ba99d91f05a4",
   "metadata": {
    "tags": []
   },
   "source": [
    "## Figure: conditional distribution\n",
    "\n",
    "* Frequency Density Histogram of one variable given another variable over a threshold"
   ]
  },
  {
   "cell_type": "code",
   "execution_count": null,
   "id": "b7993013-bd50-4d7d-8c39-d8b49b6874b8",
   "metadata": {},
   "outputs": [],
   "source": [
    "source = \"CPM\"\n",
    "ds = EVAL_DS[source]\n",
    "hot_ds = ds.where(ds[\"target_tmean150cm\"] > 303)\n",
    "\n",
    "var = \"relhum150cm\"\n",
    "\n",
    "target_da = hot_ds[f\"target_{var}\"]\n",
    "\n",
    "hist_data = {var: [ dict(data=hot_ds[f\"pred_{var}\"].sel(model=model), label=model, color=spec[\"color\"]) for model, spec in MODELS[source].items() ] }\n",
    "\n",
    "fig = plt.figure(layout='constrained', figsize=(5.5, 2.5))\n",
    "axd = fig.subplot_mosaic([[\"Density\"]])\n",
    "ax = axd[\"Density\"]\n",
    "plot_freq_density(hist_data[var], ax=ax, target_da=target_da)"
   ]
  },
  {
   "cell_type": "markdown",
   "id": "857122e6-ae43-4c28-aba9-a91cd0d9d77d",
   "metadata": {},
   "source": [
    "## Multivariate wet/dry"
   ]
  },
  {
   "cell_type": "code",
   "execution_count": null,
   "id": "c182922b-0e93-4c36-881b-ce2d326351df",
   "metadata": {},
   "outputs": [],
   "source": [
    "def extract_and_compute_hist2d(ds, var, threshold, xbins, ybins):\n",
    "    wet_pred_da = ds[f\"pred_{var}\"].where(ds[\"pred_pr\"] > threshold)\n",
    "    wet_pred_pr = ds[\"pred_pr\"].where(ds[\"pred_pr\"] > threshold)\n",
    "    wet_target_da = ds[f\"target_{var}\"].where(ds[ \"target_pr\"] > threshold)\n",
    "    wet_target_pr = ds[\"target_pr\"].where(ds[\"target_pr\"] > threshold)\n",
    "    \n",
    "    return compute_hist2d(wet_pred_da, wet_pred_pr, wet_target_da, wet_target_pr, xbins=xbins, ybins=ybins)\n",
    "\n",
    "source = \"CPM\"\n",
    "ds = EVAL_DS[source]\n",
    "\n",
    "THRESHOLDS = [0.1, 1, 10]\n",
    "\n",
    "for threshold in THRESHOLDS:\n",
    "    IPython.display.display_markdown(f\"### Thresold: pr {threshold}mm/day\", raw=True)\n",
    "    wet_pred_pr = ds[\"pred_pr\"].where(ds[\"pred_pr\"] > threshold)\n",
    "    wet_target_pr = CPM_DAS[\"pr\"].where(CPM_DAS[\"pr\"] > threshold)\n",
    "    \n",
    "    fig = plt.figure(layout='constrained', figsize=(3.5, 2.5))\n",
    "    axd = fig.subplot_mosaic([[\"wet pr\"]])\n",
    "    hist_data = [ dict(data=wet_pred_pr.sel(model=model), label=model, color=spec[\"color\"]) for source, mconfigs in MODELS.items() for model, spec in mconfigs.items() ] \n",
    "    ax = axd[\"wet pr\"]\n",
    "    plot_freq_density(hist_data, ax=ax, target_da=wet_target_pr, linewidth=1, hrange=VAR_RANGES[\"pr\"], legend=True)\n",
    "    ax.set_title(f\"pr wet days\")\n",
    "    plt.show()\n",
    "    \n",
    "    for var in eval_vars:\n",
    "        if var == \"pr\": continue \n",
    "        IPython.display.display_markdown(f\"#### {var}\", raw=True)\n",
    "        \n",
    "        fig = plt.figure(layout='constrained', figsize=(6, 3.5))\n",
    "    \n",
    "        spec = [ [\"linear dry\", \"log dry\"], [\"linear wet\", \"log wet\"]]\n",
    "        \n",
    "        axd = fig.subplot_mosaic(spec, sharex=True, sharey=False)#, gridspec_kw=dict(height_ratios=[3, 2, 2]), per_subplot_kw={ak: {\"projection\": cp_model_rotated_pole} for ak in meanb_axes_keys + stddevb_axes_keys})\n",
    "        \n",
    "        wet_pred_da = ds[f\"pred_{var}\"].where(ds[\"pred_pr\"] > threshold)\n",
    "        wet_target_da = ds[f\"target_{var}\"].where(ds[\"target_pr\"] > threshold)\n",
    "    \n",
    "        dry_pred_da = ds[f\"pred_{var}\"].where(ds[\"pred_pr\"] <= threshold)\n",
    "        dry_target_da = ds[f\"target_{var}\"].where(ds[\"target_pr\"] <= threshold)\n",
    "        \n",
    "        hrange=VAR_RANGES[var]\n",
    "\n",
    "        for yscale in [\"log\", \"linear\"]:\n",
    "            hist_data = [ dict(data=dry_pred_da.sel(model=model), label=model, color=spec[\"color\"]) for source, mconfigs in MODELS.items() for model, spec in mconfigs.items() ] \n",
    "            ax = axd[f\"{yscale} dry\"]\n",
    "            plot_freq_density(hist_data, ax=ax, target_da=dry_target_da, linewidth=1, hrange=hrange, legend=(yscale==\"linear\"), yscale=yscale)\n",
    "            ax.set_title(f\"{var} dry days\")\n",
    "                         \n",
    "            hist_data = [ dict(data=wet_pred_da.sel(model=model), label=model, color=spec[\"color\"]) for source, mconfigs in MODELS.items() for model, spec in mconfigs.items() ] \n",
    "            ax = axd[f\"{yscale} wet\"]\n",
    "            plot_freq_density(hist_data, ax=ax, target_da=wet_target_da, linewidth=1, hrange=hrange, legend=False)\n",
    "            ax.set_title(f\"{var} wet days\")\n",
    "\n",
    "\n",
    "        xbins = np.histogram_bin_edges([], bins=50, range=VAR_RANGES[var])\n",
    "        ybins = np.histogram_bin_edges([], bins=50, range=VAR_RANGES[\"pr\"])\n",
    "        hist2d_ds = ds.groupby(\"time.season\").map(extract_and_compute_hist2d, threshold=threshold, var=var, xbins=xbins, ybins=ybins)\n",
    "        \n",
    "        for season, season_hist2d_ds in hist2d_ds.groupby(\"season\"):\n",
    "            if season not in [\"DJF\", \"JJA\"]: continue\n",
    "            IPython.display.display_markdown(f\"##### {season}\", raw=True)\n",
    "    \n",
    "            fig2d, axd2d = plot_hist2d_figure(season_hist2d_ds, xbins, ybins)\n",
    "            fig2d.suptitle(f\"{season} Wet day ({var}, pr)\")\n",
    "\n",
    "            if var == \"relhum150cm\":\n",
    "                for ax in axd2d.values():\n",
    "                    ax.axvline(x=100, color='k', linestyle='--', linewidth=1)\n",
    "        \n",
    "        plt.show()\n",
    "\n",
    "        rmse_hist2d = np.sqrt(((hist2d_ds[\"pred_2d_density\"] - hist2d_ds[\"target_2d_density\"])**2).mean(dim=[\"xbins\", \"ybins\"])).rename(\"hist2d_rmse\")\n",
    "        pretty_table(rmse_hist2d, round=6)"
   ]
  },
  {
   "cell_type": "code",
   "execution_count": null,
   "id": "86558db4-b494-477b-a9e7-5cd6aaf6d394",
   "metadata": {},
   "outputs": [],
   "source": []
  }
 ],
 "metadata": {
  "kernelspec": {
   "display_name": "Python 3 (ipykernel)",
   "language": "python",
   "name": "python3"
  }
 },
 "nbformat": 4,
 "nbformat_minor": 5
}
