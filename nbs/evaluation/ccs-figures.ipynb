{
 "cells": [
  {
   "cell_type": "markdown",
   "id": "345a1b27-1df4-40e8-a2f9-0ff817ad8241",
   "metadata": {
    "tags": []
   },
   "source": [
    "# Evaluation of a selection of models on 60km -> 2.2km-4x over Birmingham"
   ]
  },
  {
   "cell_type": "code",
   "execution_count": null,
   "id": "48718f5d-f1f8-4ccc-8089-a90b8e505b7c",
   "metadata": {
    "tags": []
   },
   "outputs": [],
   "source": [
    "%reload_ext autoreload\n",
    "\n",
    "%autoreload 2\n",
    "\n",
    "%reload_ext dotenv\n",
    "%dotenv\n",
    "\n",
    "import functools\n",
    "import math\n",
    "import string\n",
    "\n",
    "import IPython\n",
    "import matplotlib\n",
    "import matplotlib.pyplot as plt\n",
    "import numpy as np\n",
    "import xarray as xr\n",
    "\n",
    "from mlde_analysis.data import prep_eval_data\n",
    "from mlde_analysis import plot_map\n",
    "from mlde_analysis.ccs import compute_changes, plot_changes, plot_tp_fd, plot_hist_per_tp\n",
    "from mlde_analysis.distribution import normalized_mean_bias, normalized_std_bias, plot_freq_density, plot_mean_biases, plot_std_biases, rms_mean_bias, rms_std_bias\n",
    "from mlde_analysis.wet_dry import threshold_exceeded_prop_stats, threshold_exceeded_prop_change, plot_threshold_exceedence_errors, THRESHOLDS\n",
    "from mlde_utils import cp_model_rotated_pole, TIME_PERIODS"
   ]
  },
  {
   "cell_type": "code",
   "execution_count": null,
   "id": "0de6eaf3-b4fb-4b6c-af4f-2a8aa40cf2d4",
   "metadata": {},
   "outputs": [],
   "source": [
    "matplotlib.rcParams['figure.dpi'] = 300"
   ]
  },
  {
   "cell_type": "code",
   "execution_count": null,
   "id": "361fe73f-2d52-4862-8b8c-ab7604ad6c29",
   "metadata": {
    "tags": [
     "parameters"
    ]
   },
   "outputs": [],
   "source": [
    "from mlde_analysis.default_params import *"
   ]
  },
  {
   "cell_type": "code",
   "execution_count": null,
   "id": "778a28b3-8483-4b83-895c-0253b499f36b",
   "metadata": {
    "tags": []
   },
   "outputs": [],
   "source": [
    "IPython.display.Markdown(desc)"
   ]
  },
  {
   "cell_type": "code",
   "execution_count": null,
   "id": "4df16b68-4c4d-42fb-9134-72f81d23b70b",
   "metadata": {
    "tags": []
   },
   "outputs": [],
   "source": [
    "EVAL_DS, MODELS = prep_eval_data(sample_configs, dataset_configs, derived_variables_config, eval_vars, split, ensemble_members=ensemble_members, samples_per_run=samples_per_run)\n",
    "EVAL_DS"
   ]
  },
  {
   "cell_type": "code",
   "execution_count": null,
   "id": "5d42a6f9-4512-4a90-a962-dc51a8cea484",
   "metadata": {},
   "outputs": [],
   "source": [
    "CPM_DAS = { var: EVAL_DS[\"CPM\"][f\"target_{var}\"] for var in eval_vars }"
   ]
  },
  {
   "cell_type": "code",
   "execution_count": null,
   "id": "aac8ce9e-590e-4bce-8d80-45db49132b31",
   "metadata": {},
   "outputs": [],
   "source": [
    "CCS_SEASONS = [\"DJF\", \"MAM\", \"JJA\", \"SON\"]"
   ]
  },
  {
   "cell_type": "markdown",
   "id": "e661a9bb-15f6-4ff8-b89a-237b1024d98e",
   "metadata": {
    "tags": []
   },
   "source": [
    "## Figure: Climate change signal\n",
    "\n",
    "* Per time period freq density histogram\n",
    "* Mean change diff: $(\\mu_{{ML}}^{{future}} - \\mu_{{ML}}^{{hist}})/\\mu_{{ML}}^{{hist}} - (\\mu_{{CPM}}^{{future}} - \\mu_{{CPM}}^{{hist}})/\\mu_{{CPM}}^{{hist}}$"
   ]
  },
  {
   "cell_type": "code",
   "execution_count": null,
   "id": "e2649809-2cf5-445e-ba2f-011b6ae0d822",
   "metadata": {},
   "outputs": [],
   "source": [
    "ccs_models = {source: {model: spec for model, spec in mconfigs.items() if spec.get(\"CCS\", False)} for source, mconfigs in MODELS.items() }\n",
    "\n",
    "ccs_pred_das = [ \n",
    "    xr.merge([ \n",
    "        EVAL_DS[source][f\"pred_{var}\"].sel(model=model) for var in eval_vars \n",
    "    ]) for source, models in ccs_models.items() for model in models\n",
    "]\n",
    "\n",
    "ccs_ds = xr.combine_by_coords([*list(CPM_DAS.values()), xr.concat(ccs_pred_das, dim=\"model\")])"
   ]
  },
  {
   "cell_type": "code",
   "execution_count": null,
   "id": "92bb4761-b6d8-4587-994f-15868c348e78",
   "metadata": {},
   "outputs": [],
   "source": [
    "for var in eval_vars:\n",
    "    IPython.display.display_markdown(f\"#### {var}\", raw=True)\n",
    "    for source, mconfigs in ccs_models.items():\n",
    "        for model, spec in mconfigs.items():\n",
    "            IPython.display.display_markdown(f\"##### {model}\", raw=True)\n",
    "\n",
    "            pred_da = EVAL_DS[source][f\"pred_{var}\"].sel(model=model)\n",
    "            cpm_da = CPM_DAS[var]\n",
    "            \n",
    "            fig, axd = plt.subplot_mosaic([[\"cpm\", \"model\"]], figsize=(3.5, 2), constrained_layout=True, sharex=True, sharey=True)\n",
    "            \n",
    "            if var == \"pr\":\n",
    "                hrange = (0, 250)\n",
    "            else:\n",
    "                hrange = None\n",
    "            plot_hist_per_tp(cpm_da, axd[\"cpm\"], title=\"CPM\",  hrange=hrange, legend=False)\n",
    "            plot_hist_per_tp(pred_da, axd[\"model\"], title=\"Emulator\", hrange=hrange)\n",
    "            axd[\"model\"].set_ylabel(None)\n",
    "    \n",
    "            plt.show()"
   ]
  },
  {
   "cell_type": "code",
   "execution_count": null,
   "id": "12d05e88-e7b7-4b4f-b315-e72505e164da",
   "metadata": {
    "tags": []
   },
   "outputs": [],
   "source": [
    "for var in eval_vars:\n",
    "    IPython.display.display_markdown(f\"#### {var}\", raw=True)\n",
    "    for source, mconfigs in ccs_models.items():\n",
    "        for model, spec in mconfigs.items():\n",
    "            IPython.display.display_markdown(f\"##### {model}\", raw=True)\n",
    "    \n",
    "            fd_fig = plt.figure(figsize=(5.5, 5.5), layout=\"compressed\")\n",
    "            pred_da = EVAL_DS[source][f\"pred_{var}\"].sel(model=model)\n",
    "            if var == \"pr\":\n",
    "                hrange = (0, 250)\n",
    "            else:\n",
    "                hrange = None\n",
    "            plot_tp_fd(pred_da, CPM_DAS[var], fd_fig, source, model, spec, hrange=hrange)\n",
    "    \n",
    "            plt.show()"
   ]
  },
  {
   "cell_type": "markdown",
   "id": "2e3025be-4ae4-45fb-84e3-a63fbd76adb1",
   "metadata": {
    "tags": []
   },
   "source": [
    "## Figure: per Time Period distribution\n",
    "\n",
    "* Frequency Density Histogram of rainfall intensities for each time period"
   ]
  },
  {
   "cell_type": "code",
   "execution_count": null,
   "id": "1a2e364e-18df-4b06-80d6-1d66c386a82b",
   "metadata": {},
   "outputs": [],
   "source": [
    "for var in eval_vars:\n",
    "    IPython.display.display_markdown(f\"#### {var}\", raw=True)\n",
    "    \n",
    "    fig = plt.figure(layout='constrained', figsize=(3.5, 3.5))\n",
    "        \n",
    "    # labels = [ label for mconfigs in MODELS.values() for label in mconfigs.keys() ]\n",
    "    \n",
    "    # meanb_axes_keys = list(map(lambda x: f\"meanb {x}\", labels))\n",
    "    # meanb_spec = np.array(meanb_axes_keys).reshape(1,-1)\n",
    "    \n",
    "    # stddevb_axes_keys = list(map(lambda x: f\"stddevb {x}\", labels))\n",
    "    # stddevb_spec = np.array(stddevb_axes_keys).reshape(1,-1)\n",
    "    \n",
    "    dist_spec = np.array(list(TIME_PERIODS.keys())).reshape(-1,1)\n",
    "    \n",
    "    spec = dist_spec\n",
    "    \n",
    "    axd = fig.subplot_mosaic(spec, sharex=True, sharey=True)#, gridspec_kw=dict(height_ratios=[3, 2, 2]), per_subplot_kw={ak: {\"projection\": cp_model_rotated_pole} for ak in meanb_axes_keys + stddevb_axes_keys})\n",
    "    \n",
    "    for tp_key, tp_ds in ccs_ds.groupby(\"time_period\"):\n",
    "        ax = axd[tp_key]\n",
    "    \n",
    "        hist_data = {var: [ dict(data=tp_ds[f\"pred_{var}\"].sel(model=model).where(EVAL_DS[source][\"time_period\"] == tp_key, drop=True), label=model, color=spec[\"color\"]) for source, mconfigs in MODELS.items() for model, spec in mconfigs.items() if spec.get(\"CCS\", False) ] }\n",
    "    \n",
    "        # mean_biases = {var: [ dict(data=normalized_mean_bias(tp_ds[f\"pred_{var}\"].sel(model=model), CPM_DAS[var].where(CPM_DAS[var][\"time_period\"] == tp_key, drop=True)), label=model)  for source, mconfigs in MODELS.items() for model, spec in mconfigs.items() if spec.get(\"CCS\", False) ] }\n",
    "    \n",
    "        # std_biases = {var: [ dict(data=normalized_std_bias(tp_ds[f\"pred_{var}\"].sel(model=model), CPM_DAS[var].where(CPM_DAS[var][\"time_period\"] == tp_key, drop=True)), label=model)  for source, mconfigs in MODELS.items() for model, spec in mconfigs.items() if spec.get(\"CCS\", False) ] }\n",
    "        if var == \"pr\":\n",
    "            hrange = (0, 250)\n",
    "        else:\n",
    "            hrange = None\n",
    "        plot_freq_density(hist_data[var], ax=ax, target_da=CPM_DAS[var].where(CPM_DAS[var][\"time_period\"] == tp_key, drop=True), legend=(tp_key==\"historic\"), linewidth=1, title=tp_key, hrange=hrange)\n",
    "\n",
    "        ax.xaxis.label.set_visible(tp_key == \"future\")    \n",
    "            \n",
    "        # ax.annotate(\"a.\", xy=(0.04, 1.0), xycoords=(\"figure fraction\", \"axes fraction\"), weight='bold', ha=\"left\", va=\"bottom\")\n",
    "        \n",
    "        # axes = plot_mean_biases(mean_biases[var], axd)\n",
    "        # axes[0].annotate(\"b.\", xy=(0.04, 1.0), xycoords=(\"figure fraction\", \"axes fraction\"), weight='bold', ha=\"left\", va=\"bottom\")\n",
    "        \n",
    "        # axes = plot_std_biases(std_biases[var], axd)\n",
    "        # axes[0].annotate(\"c.\", xy=(0.04, 1.0), xycoords=(\"figure fraction\", \"axes fraction\"), weight='bold', ha=\"left\", va=\"bottom\")\n",
    "        \n",
    "        \n",
    "    plt.show()"
   ]
  },
  {
   "cell_type": "code",
   "execution_count": null,
   "id": "cf360153-fd8c-40a3-a302-23e23ad9a1d7",
   "metadata": {},
   "outputs": [],
   "source": [
    "for var in eval_vars:\n",
    "    rms_mean_biases = xr.concat([ tp_ds[f\"pred_{var}\"].groupby(\"model\", squeeze=False).map(functools.partial(rms_mean_bias, cpm_da=CPM_DAS[var].where(CPM_DAS[var][\"time_period\"] == tp_key, drop=True), normalize=False)).expand_dims(dim={\"time_period\": [tp_key]}) for tp_key, tp_ds in ccs_ds.groupby(\"time_period\") ], dim=\"time_period\").rename(f\"RMS Mean Bias ({CPM_DAS[var].attrs['units']})\")\n",
    "    rms_std_biases = xr.concat([ tp_ds[f\"pred_{var}\"].groupby(\"model\", squeeze=False).map(functools.partial(rms_std_bias, cpm_da=CPM_DAS[var].where(CPM_DAS[var][\"time_period\"] == tp_key, drop=True), normalize=False)).expand_dims(dim={\"time_period\": [tp_key]}) for tp_key, tp_ds in ccs_ds.groupby(\"time_period\") ], dim=\"time_period\").rename(f\"RMS Std Dev Bias ({CPM_DAS[var].attrs['units']})\")\n",
    "    \n",
    "    relative_rms_mean_biases = xr.concat([ tp_ds[f\"pred_{var}\"].groupby(\"model\", squeeze=False).map(functools.partial(rms_mean_bias, cpm_da=CPM_DAS[var].where(CPM_DAS[var][\"time_period\"] == tp_key, drop=True), normalize=True)).expand_dims(dim={\"time_period\": [tp_key]}) for tp_key, tp_ds in ccs_ds.groupby(\"time_period\") ], dim=\"time_period\").rename(\"Relative RMS Mean Bias (%)\")\n",
    "    relative_rms_std_biases = xr.concat([ tp_ds[f\"pred_{var}\"].groupby(\"model\", squeeze=False).map(functools.partial(rms_std_bias, cpm_da=CPM_DAS[var].where(CPM_DAS[var][\"time_period\"] == tp_key, drop=True), normalize=True)).expand_dims(dim={\"time_period\": [tp_key]}) for tp_key, tp_ds in ccs_ds.groupby(\"time_period\") ], dim=\"time_period\").rename(\"Relative RMS Std Dev Bias (%)\")\n",
    "        \n",
    "    IPython.display.display_html(xr.merge([rms_mean_biases, rms_std_biases, relative_rms_mean_biases, relative_rms_std_biases]).to_dataframe().round(2).to_html(), raw=True)"
   ]
  },
  {
   "cell_type": "markdown",
   "id": "33c5fda8-b408-4b67-910a-e505461f1f57",
   "metadata": {},
   "source": [
    "### Mean change maps"
   ]
  },
  {
   "cell_type": "code",
   "execution_count": null,
   "id": "cf8b142c-3043-4fdd-bf63-637606a55b17",
   "metadata": {
    "tags": []
   },
   "outputs": [],
   "source": [
    "for var in eval_vars:\n",
    "    IPython.display.display_markdown(f\"#### {var}\", raw=True)\n",
    "    for ccs_pred_da in ccs_pred_das:\n",
    "        changes = compute_changes([ccs_pred_da[f\"pred_{var}\"]], CPM_DAS[var], [\"DJF\", \"JJA\"], stat_func=xr.DataArray.mean)\n",
    "        mean_change_fig = plt.figure(figsize=(5.5, 4.5), layout=\"compressed\")\n",
    "        plot_changes(changes, [\"DJF\", \"JJA\"], mean_change_fig, show_change=[ccs_pred_da[\"model\"].data.item()])\n",
    "        \n",
    "    plt.show()"
   ]
  },
  {
   "cell_type": "markdown",
   "id": "3ba0c262-9da1-400f-acec-88fce30671d0",
   "metadata": {},
   "source": [
    "### Q99 change maps"
   ]
  },
  {
   "cell_type": "code",
   "execution_count": null,
   "id": "8e614074-5371-44c7-8bb1-d7554213c148",
   "metadata": {
    "tags": []
   },
   "outputs": [],
   "source": [
    "for var in eval_vars:\n",
    "    IPython.display.display_markdown(f\"#### {var}\", raw=True)\n",
    "    for q in [0.99]:\n",
    "        IPython.display.display_markdown(f\"#### Quantile: {q}\", raw=True)\n",
    "        for ccs_pred_da in ccs_pred_das:\n",
    "            changes = compute_changes([ccs_pred_da[f\"pred_{var}\"]], CPM_DAS[var], [\"DJF\", \"JJA\"], stat_func=functools.partial(xr.DataArray.quantile, q=q))\n",
    "            \n",
    "            mean_change_fig = plt.figure(figsize=(5.5, 4.5), layout=\"compressed\")\n",
    "            plot_changes(changes, [\"DJF\", \"JJA\"], mean_change_fig, show_change=[ccs_pred_da[\"model\"].data.item()])\n",
    "            \n",
    "            plt.show()"
   ]
  },
  {
   "cell_type": "markdown",
   "id": "bdd2d0c7-48cc-473d-8494-30809a196edc",
   "metadata": {},
   "source": [
    "### CCS mean Variablity"
   ]
  },
  {
   "cell_type": "code",
   "execution_count": null,
   "id": "30d97149-6c31-428a-b0fc-6112307de745",
   "metadata": {},
   "outputs": [],
   "source": [
    "time_da = EVAL_DS[\"CPM\"][\"time\"]\n",
    "\n",
    "df = time_da.to_dataframe().drop_duplicates([\"stratum\", \"dec_adjusted_year\"])\n",
    "\n",
    "from sklearn.model_selection import StratifiedKFold\n",
    "\n",
    "skf = StratifiedKFold(n_splits=3, shuffle=True, random_state=42)\n",
    "\n",
    "for var in eval_vars:\n",
    "    IPython.display.display_markdown(f\"#### {var}\", raw=True)\n",
    "    for ccs_pred_da in ccs_pred_das:\n",
    "        for subsample_idx, (_, test_idx) in enumerate(skf.split(df[[\"dec_adjusted_year\"]], df[\"stratum\"])):\n",
    "            fold_df = df.iloc[test_idx]\n",
    "            fold_time_da = time_da.where(time_da[\"tp_season_year\"].isin(fold_df[\"stratum\"].str.cat(fold_df[\"dec_adjusted_year\"].astype(\"str\"), sep=' ').values), drop=True)\n",
    "            \n",
    "            ccs_pred_da_subsamples = ccs_pred_da[f\"pred_{var}\"].sel(time=fold_time_da.data)\n",
    "            \n",
    "            mean_changes = compute_changes([ccs_pred_da_subsamples], EVAL_DS[\"CPM\"][f\"target_{var}\"].sel(time=fold_time_da), CCS_SEASONS, stat_func=xr.DataArray.mean)\n",
    "        \n",
    "            mean_change_fig = plt.figure(figsize=(5.5, 5.5), layout=\"compressed\")\n",
    "            \n",
    "            plot_changes(mean_changes, CCS_SEASONS, mean_change_fig, show_change=[ccs_pred_da_subsamples[\"model\"].data.item()])\n",
    "        \n",
    "            plt.show()"
   ]
  },
  {
   "cell_type": "markdown",
   "id": "86bbffb1-297e-40da-808f-f6068e28892f",
   "metadata": {},
   "source": [
    "# Threshold proportion change"
   ]
  },
  {
   "cell_type": "markdown",
   "id": "ebcc7fb1-7eb8-49b6-9a80-300c12c75057",
   "metadata": {
    "tags": []
   },
   "source": [
    "### CCS threshold change: gridbox"
   ]
  },
  {
   "cell_type": "code",
   "execution_count": null,
   "id": "8de500e0-0966-47e9-bf98-482c2b8a7978",
   "metadata": {},
   "outputs": [],
   "source": [
    "model_das = {var: [\n",
    "    EVAL_DS[source][f\"pred_{var}\"].sel(model=model)\n",
    "    for source, mconfigs in MODELS.items() for model, spec in mconfigs.items()\n",
    "] for var, thresholds in THRESHOLDS.items() if var in eval_vars}\n",
    "\n",
    "change_stats = {    \n",
    "    var: { \n",
    "        threshold: threshold_exceeded_prop_stats(model_das[var], CPM_DAS[var], threshold=threshold, threshold_exceeded_prop_statistic=threshold_exceeded_prop_change) for threshold in thresholds\n",
    "    } for var, thresholds in THRESHOLDS.items() if var in eval_vars\n",
    "}\n",
    "\n",
    "\n",
    "for var, thresholds in THRESHOLDS.items():\n",
    "    if var in eval_vars:\n",
    "        for threshold in thresholds:\n",
    "            IPython.display.display_markdown(f\"#### Threshold: {threshold}mm/day\", raw=True)\n",
    "            \n",
    "            plot_threshold_exceedence_errors(change_stats[var][threshold][f\"change in % threshold exceeded\"], style=\"change\")\n",
    "        \n",
    "            plt.show()"
   ]
  },
  {
   "cell_type": "markdown",
   "id": "803b3058-52f6-439a-ad70-f400ffadf4e3",
   "metadata": {},
   "source": [
    "### CCS threshold change: domain mean"
   ]
  },
  {
   "cell_type": "code",
   "execution_count": null,
   "id": "8ae92129-d7b6-46d8-95a4-bc0668f55127",
   "metadata": {},
   "outputs": [],
   "source": [
    "dfs = [change_stats[var][threshold].mean(dim=[\"grid_latitude\", \"grid_longitude\"]).to_dataframe().style.set_table_attributes(\"style='display:inline'\").set_caption(f\"Threshold: {threshold}mm/day\").format(precision=1).to_html() for var, thresholds in THRESHOLDS.items() if var in eval_vars for threshold in thresholds]\n",
    "\n",
    "IPython.display.display_html(functools.reduce(lambda v, e: v+e, dfs), raw=True)"
   ]
  },
  {
   "cell_type": "code",
   "execution_count": null,
   "id": "4b892c59-1996-4d25-a63b-a19a12cc1b32",
   "metadata": {},
   "outputs": [],
   "source": []
  }
 ],
 "metadata": {
  "kernelspec": {
   "display_name": "Python 3 (ipykernel)",
   "language": "python",
   "name": "python3"
  }
 },
 "nbformat": 4,
 "nbformat_minor": 5
}
