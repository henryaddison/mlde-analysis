{
 "cells": [
  {
   "cell_type": "markdown",
   "id": "345a1b27-1df4-40e8-a2f9-0ff817ad8241",
   "metadata": {
    "tags": []
   },
   "source": [
    "# Evaluation of a selection of models on 60km -> 2.2km-4x over Birmingham"
   ]
  },
  {
   "cell_type": "code",
   "execution_count": null,
   "id": "48718f5d-f1f8-4ccc-8089-a90b8e505b7c",
   "metadata": {
    "tags": []
   },
   "outputs": [],
   "source": [
    "%reload_ext autoreload\n",
    "\n",
    "%autoreload 2\n",
    "\n",
    "%reload_ext dotenv\n",
    "%dotenv\n",
    "\n",
    "import functools\n",
    "import math\n",
    "import string\n",
    "\n",
    "import IPython\n",
    "import matplotlib\n",
    "import matplotlib.pyplot as plt\n",
    "import numpy as np\n",
    "import seaborn as sns\n",
    "import xarray as xr\n",
    "\n",
    "from mlde_analysis.utils import chained_groupby_map\n",
    "from mlde_analysis.data import prep_eval_data\n",
    "from mlde_analysis import plot_map\n",
    "from mlde_analysis.bootstrap import resample_examples\n",
    "from mlde_analysis.ccs import compute_changes, plot_changes, plot_tp_fd, plot_hist_per_tp, plot_ccs_fc_figure, ccs_fc_da\n",
    "from mlde_analysis.distribution import QUANTILES, normalized_mean_bias, normalized_std_bias, plot_freq_density, plot_mean_biases, plot_std_biases, rms_mean_bias, rms_std_bias, compute_metrics, DIST_THRESHOLDS\n",
    "from mlde_analysis.fractional_contribution import compute_fractional_contribution, frac_contrib_change, fc_bins\n",
    "from mlde_analysis.wet_dry import threshold_exceeded_prop_stats, threshold_exceeded_prop_change, plot_threshold_exceedence_errors, THRESHOLDS\n",
    "from mlde_analysis.display import VAR_RANGES, pretty_table\n",
    "from mlde_utils import cp_model_rotated_pole, TIME_PERIODS"
   ]
  },
  {
   "cell_type": "code",
   "execution_count": null,
   "id": "0de6eaf3-b4fb-4b6c-af4f-2a8aa40cf2d4",
   "metadata": {},
   "outputs": [],
   "source": [
    "matplotlib.rcParams['figure.dpi'] = 300"
   ]
  },
  {
   "cell_type": "code",
   "execution_count": null,
   "id": "361fe73f-2d52-4862-8b8c-ab7604ad6c29",
   "metadata": {
    "tags": [
     "parameters"
    ]
   },
   "outputs": [],
   "source": [
    "from mlde_analysis.default_params import *"
   ]
  },
  {
   "cell_type": "code",
   "execution_count": null,
   "id": "778a28b3-8483-4b83-895c-0253b499f36b",
   "metadata": {
    "tags": []
   },
   "outputs": [],
   "source": [
    "IPython.display.Markdown(desc)"
   ]
  },
  {
   "cell_type": "code",
   "execution_count": null,
   "id": "4df16b68-4c4d-42fb-9134-72f81d23b70b",
   "metadata": {
    "tags": []
   },
   "outputs": [],
   "source": [
    "EVAL_DS, MODELS = prep_eval_data(sample_configs, dataset_configs, derived_variables_config, eval_vars, split, ensemble_members=ensemble_members, samples_per_run=samples_per_run)\n",
    "EVAL_DS"
   ]
  },
  {
   "cell_type": "code",
   "execution_count": null,
   "id": "5d42a6f9-4512-4a90-a962-dc51a8cea484",
   "metadata": {},
   "outputs": [],
   "source": [
    "CPM_DAS = { var: EVAL_DS[\"CPM\"][f\"target_{var}\"] for var in eval_vars }\n",
    "\n",
    "PRED_DAS = { var: xr.concat([ ds[f\"pred_{var}\"] for ds in EVAL_DS.values() ], dim=\"model\") for var in eval_vars }\n",
    "\n",
    "MODELLABEL2SPEC = { model: {\"source\": source} | spec for source, models in MODELS.items() for model, spec in models.items() } | {\"CPM\": {\"source\": \"CPM\", \"color\": \"black\"}}"
   ]
  },
  {
   "cell_type": "code",
   "execution_count": null,
   "id": "aac8ce9e-590e-4bce-8d80-45db49132b31",
   "metadata": {},
   "outputs": [],
   "source": [
    "CCS_SEASONS = [\"DJF\", \"JJA\"]"
   ]
  },
  {
   "cell_type": "code",
   "execution_count": null,
   "id": "e2649809-2cf5-445e-ba2f-011b6ae0d822",
   "metadata": {},
   "outputs": [],
   "source": [
    "CCS_MODELS = {source: {model: spec for model, spec in mconfigs.items() if spec.get(\"CCS\", False)} for source, mconfigs in MODELS.items() }\n",
    "\n",
    "CCS_PRED_DAS = {var: PRED_DAS[var].sel(model=list([model for source, models in CCS_MODELS.items() for model in models])) for var in eval_vars }\n",
    "\n",
    "CCS_DS = xr.combine_by_coords([*list(CPM_DAS.values()), *list(CCS_PRED_DAS.values())])"
   ]
  },
  {
   "cell_type": "markdown",
   "id": "e661a9bb-15f6-4ff8-b89a-237b1024d98e",
   "metadata": {
    "tags": []
   },
   "source": [
    "## Figure: Climate change signal\n",
    "\n",
    "* Per time period freq density histogram\n",
    "* Mean change diff: $(\\mu_{{ML}}^{{future}} - \\mu_{{ML}}^{{hist}})/\\mu_{{ML}}^{{hist}} - (\\mu_{{CPM}}^{{future}} - \\mu_{{CPM}}^{{hist}})/\\mu_{{CPM}}^{{hist}}$"
   ]
  },
  {
   "cell_type": "code",
   "execution_count": null,
   "id": "92bb4761-b6d8-4587-994f-15868c348e78",
   "metadata": {},
   "outputs": [],
   "source": [
    "for var in eval_vars:\n",
    "    IPython.display.display_markdown(f\"#### {var}\", raw=True)\n",
    "    for model, model_ds in CCS_DS.groupby(\"model\"):\n",
    "        IPython.display.display_markdown(f\"##### {model}\", raw=True)\n",
    "\n",
    "        pred_da = model_ds[f\"pred_{var}\"]\n",
    "        cpm_da = model_ds[f\"target_{var}\"]\n",
    "        \n",
    "        fig, axd = plt.subplot_mosaic([[\"cpm\", \"model\"]], figsize=(3.5, 2), constrained_layout=True, sharex=True, sharey=True)\n",
    "        \n",
    "        hrange=VAR_RANGES[var]\n",
    "        plot_hist_per_tp(cpm_da, axd[\"cpm\"], title=\"CPM\",  hrange=hrange, legend=False)\n",
    "        plot_hist_per_tp(pred_da, axd[\"model\"], title=\"Emulator\", hrange=hrange)\n",
    "        axd[\"model\"].set_ylabel(None)\n",
    "\n",
    "        plt.show()"
   ]
  },
  {
   "cell_type": "code",
   "execution_count": null,
   "id": "12d05e88-e7b7-4b4f-b315-e72505e164da",
   "metadata": {
    "tags": []
   },
   "outputs": [],
   "source": [
    "for var in eval_vars:\n",
    "    IPython.display.display_markdown(f\"#### {var}\", raw=True)\n",
    "    for model, model_ds in CCS_DS.groupby(\"model\"):\n",
    "        IPython.display.display_markdown(f\"##### {model}\", raw=True)\n",
    "\n",
    "        fd_fig = plt.figure(figsize=(5.5, 5.5), layout=\"compressed\")\n",
    "        pred_da = model_ds[f\"pred_{var}\"]\n",
    "\n",
    "        if var == \"pr\":\n",
    "            hrange = (0, 250)\n",
    "        else:\n",
    "            hrange = None\n",
    "        plot_tp_fd(pred_da, CPM_DAS[var], fd_fig, MODELLABEL2SPEC[model][\"source\"], model, MODELLABEL2SPEC[model], hrange=hrange)\n",
    "\n",
    "        plt.show()"
   ]
  },
  {
   "cell_type": "markdown",
   "id": "2e3025be-4ae4-45fb-84e3-a63fbd76adb1",
   "metadata": {
    "tags": []
   },
   "source": [
    "## Figure: per Time Period distribution\n",
    "\n",
    "* Frequency Density Histogram of rainfall intensities for each time period"
   ]
  },
  {
   "cell_type": "code",
   "execution_count": null,
   "id": "1a2e364e-18df-4b06-80d6-1d66c386a82b",
   "metadata": {},
   "outputs": [],
   "source": [
    "for var in eval_vars:\n",
    "    IPython.display.display_markdown(f\"#### {var}\", raw=True)\n",
    "    \n",
    "    fig = plt.figure(layout='constrained', figsize=(3.5, 3.5))\n",
    "        \n",
    "    # labels = [ label for mconfigs in MODELS.values() for label in mconfigs.keys() ]\n",
    "    \n",
    "    # meanb_axes_keys = list(map(lambda x: f\"meanb {x}\", labels))\n",
    "    # meanb_spec = np.array(meanb_axes_keys).reshape(1,-1)\n",
    "    \n",
    "    # stddevb_axes_keys = list(map(lambda x: f\"stddevb {x}\", labels))\n",
    "    # stddevb_spec = np.array(stddevb_axes_keys).reshape(1,-1)\n",
    "    \n",
    "    dist_spec = np.array(list(TIME_PERIODS.keys())).reshape(-1,1)\n",
    "    \n",
    "    spec = dist_spec\n",
    "    \n",
    "    axd = fig.subplot_mosaic(spec, sharex=True, sharey=True)#, gridspec_kw=dict(height_ratios=[3, 2, 2]), per_subplot_kw={ak: {\"projection\": cp_model_rotated_pole} for ak in meanb_axes_keys + stddevb_axes_keys})\n",
    "    \n",
    "    for tp_key, tp_ds in CCS_DS.groupby(\"time_period\"):\n",
    "        ax = axd[tp_key]\n",
    "    \n",
    "        hist_data = [ dict(data=model_ds[f\"pred_{var}\"], label=model, color=MODELLABEL2SPEC[model][\"color\"]) for model, model_ds in tp_ds.groupby(\"model\") ]\n",
    "        hrange=VAR_RANGES[var]\n",
    "        plot_freq_density(hist_data, ax=ax, target_da=tp_ds[f\"target_{var}\"], legend=(tp_key==\"historic\"), linewidth=1, title=tp_key, hrange=hrange)\n",
    "\n",
    "        ax.xaxis.label.set_visible(tp_key == \"future\")    \n",
    "\n",
    "    plt.show()"
   ]
  },
  {
   "cell_type": "code",
   "execution_count": null,
   "id": "cf360153-fd8c-40a3-a302-23e23ad9a1d7",
   "metadata": {},
   "outputs": [],
   "source": [
    "for var in eval_vars:\n",
    "    IPython.display.display_markdown(f\"### {var}\", raw=True)\n",
    "\n",
    "    metrics_ds = CCS_DS.groupby(\"time_period\").map(lambda tp_ds: compute_metrics(tp_ds[f\"pred_{var}\"], tp_ds[f\"target_{var}\"], thresholds=DIST_THRESHOLDS[var]))\n",
    "    pretty_table(metrics_ds, round=4, dim_order=[\"time_period\", \"model\"])"
   ]
  },
  {
   "cell_type": "code",
   "execution_count": null,
   "id": "9a754848-2072-4f26-b0ab-b4300e749039",
   "metadata": {},
   "outputs": [],
   "source": [
    "for var in eval_vars:\n",
    "    IPython.display.display_markdown(f\"### {var}\", raw=True)\n",
    "    \n",
    "    quantiles_da = xr.concat([\n",
    "        chained_groupby_map(\n",
    "            CCS_DS[f\"pred_{var}\"], \n",
    "            [\"model\", \"time_period\"], \n",
    "            lambda gda: gda.quantile(q=QUANTILES, dim=...)\n",
    "        ),\n",
    "        chained_groupby_map(\n",
    "            CCS_DS[f\"target_{var}\"], \n",
    "            [\"time_period\"], \n",
    "            lambda gda: gda.quantile(q=QUANTILES, dim=...)\n",
    "        ).expand_dims(model=[\"CPM\"])],\n",
    "        dim=\"model\",\n",
    "    ).rename(\"quantile value\")\n",
    "    \n",
    "    quantiles_change_da = quantiles_da.sel(time_period=\"future\") - quantiles_da.sel(time_period=\"historic\")\n",
    "    \n",
    "    pretty_table(\n",
    "        quantiles_change_da, \n",
    "        round=1, \n",
    "        caption=\"Annual quantile change bootstrapped spread\",\n",
    "        dim_order=[\"quantile\", \"model\"],\n",
    "    )"
   ]
  },
  {
   "cell_type": "markdown",
   "id": "4483afab-6f5e-472b-906b-37e1aef6449c",
   "metadata": {},
   "source": [
    "## Figure: Fractional contribution\n",
    "\n",
    "* Fractional contribution of rainfall intensities for each time period\n",
    "* Change in fractional contribution of rainfall intensities from historic to future"
   ]
  },
  {
   "cell_type": "code",
   "execution_count": null,
   "id": "d18552cd-0e04-45c7-8268-935e3ba6a67c",
   "metadata": {},
   "outputs": [],
   "source": [
    "for var in eval_vars:\n",
    "    if var not in [\"pr\"]:\n",
    "        continue\n",
    "    \n",
    "    fcdata = ccs_fc_da(CCS_DS[f\"pred_{var}\"], CCS_DS[f\"target_{var}\"])\n",
    "    fig = plt.figure(layout='constrained', figsize=(3.5, 6))\n",
    "    plot_ccs_fc_figure(fig, fcdata, palette={label: spec[\"color\"] for label, spec in MODELLABEL2SPEC.items()})\n",
    "    plt.show()"
   ]
  },
  {
   "cell_type": "markdown",
   "id": "bd5a4287-e2ae-492c-948d-cdd91fbbcfa6",
   "metadata": {},
   "source": [
    "### Bootstrapped fractional contributions"
   ]
  },
  {
   "cell_type": "code",
   "execution_count": null,
   "id": "5d3b794d-87ca-4542-968e-882c9b93482b",
   "metadata": {},
   "outputs": [],
   "source": [
    "bs_ccs_ds = chained_groupby_map(CCS_DS, [\"time_period\", \"time.season\"], resample_examples, niterations=niterations)"
   ]
  },
  {
   "cell_type": "code",
   "execution_count": null,
   "id": "c7f0cba2-a3b1-438d-9fb8-3f1284ec46dc",
   "metadata": {},
   "outputs": [],
   "source": [
    "for var in eval_vars:\n",
    "    if var not in [\"pr\"]:\n",
    "        continue\n",
    "        \n",
    "    fcdata = ccs_fc_da(CCS_DS[f\"pred_{var}\"], bs_ccs_ds[f\"target_{var}\"], extra_cpm_dims=[\"iteration\"])\n",
    "    \n",
    "    fig = plt.figure(layout='constrained', figsize=(3.5, 6))\n",
    "    plot_ccs_fc_figure(fig, fcdata, palette={label: spec[\"color\"] for label, spec in MODELLABEL2SPEC.items()}, errorbar=(\"pi\", 90))\n",
    "    plt.show()"
   ]
  },
  {
   "cell_type": "code",
   "execution_count": null,
   "id": "d7848183-1a42-443a-8d9c-864b34cb4a34",
   "metadata": {},
   "outputs": [],
   "source": [
    "for var in eval_vars:\n",
    "    if var not in [\"pr\"]:\n",
    "        continue\n",
    "    \n",
    "    fcdata = ccs_fc_da(bs_ccs_ds[f\"pred_{var}\"], CCS_DS[f\"target_{var}\"], extra_pred_dims=[\"iteration\"])\n",
    "    fig = plt.figure(layout='constrained', figsize=(3.5, 6))\n",
    "    plot_ccs_fc_figure(fig, fcdata, palette={label: spec[\"color\"] for label, spec in MODELLABEL2SPEC.items()}, errorbar=(\"pi\", 90))\n",
    "    plt.show()"
   ]
  },
  {
   "cell_type": "markdown",
   "id": "9c0be7b4-e039-45d7-bd09-0e5548586467",
   "metadata": {},
   "source": [
    "## Change maps"
   ]
  },
  {
   "cell_type": "markdown",
   "id": "33c5fda8-b408-4b67-910a-e505461f1f57",
   "metadata": {},
   "source": [
    "### Mean change maps"
   ]
  },
  {
   "cell_type": "code",
   "execution_count": null,
   "id": "cf8b142c-3043-4fdd-bf63-637606a55b17",
   "metadata": {
    "tags": []
   },
   "outputs": [],
   "source": [
    "for var in eval_vars:\n",
    "    IPython.display.display_markdown(f\"#### {var}\", raw=True)    \n",
    "    for model, ccs_pred_da in CCS_PRED_DAS[var].groupby(\"model\"):\n",
    "        changes = compute_changes([ccs_pred_da.squeeze(\"model\")], CPM_DAS[var], CCS_SEASONS, stat_func=xr.DataArray.mean)\n",
    "        change_fig = plt.figure(figsize=(5.5, 4.5), layout=\"compressed\")\n",
    "        plot_changes(changes, CCS_SEASONS, change_fig, show_change=[model])\n",
    "        \n",
    "    plt.show()"
   ]
  },
  {
   "cell_type": "markdown",
   "id": "3ba0c262-9da1-400f-acec-88fce30671d0",
   "metadata": {},
   "source": [
    "### Q99 change maps"
   ]
  },
  {
   "cell_type": "code",
   "execution_count": null,
   "id": "8e614074-5371-44c7-8bb1-d7554213c148",
   "metadata": {
    "tags": []
   },
   "outputs": [],
   "source": [
    "for var in eval_vars:\n",
    "    IPython.display.display_markdown(f\"#### {var}\", raw=True)\n",
    "    for q in [0.99]:\n",
    "        for model, ccs_pred_da in CCS_PRED_DAS[var].groupby(\"model\"):\n",
    "            changes = compute_changes([ccs_pred_da.squeeze(\"model\")], CPM_DAS[var], CCS_SEASONS, stat_func=functools.partial(xr.DataArray.quantile, q=q))\n",
    "            change_fig = plt.figure(figsize=(5.5, 4.5), layout=\"compressed\")\n",
    "            plot_changes(changes, CCS_SEASONS, change_fig, show_change=[model])\n",
    "            \n",
    "        plt.show()"
   ]
  },
  {
   "cell_type": "markdown",
   "id": "bdd2d0c7-48cc-473d-8494-30809a196edc",
   "metadata": {},
   "source": [
    "### CCS mean Variablity"
   ]
  },
  {
   "cell_type": "raw",
   "id": "23faa15c-34a8-4161-aa37-20eaa357f102",
   "metadata": {},
   "source": [
    "time_da = EVAL_DS[\"CPM\"][\"time\"]\n",
    "\n",
    "df = time_da.to_dataframe().drop_duplicates([\"stratum\", \"dec_adjusted_year\"])\n",
    "\n",
    "from sklearn.model_selection import StratifiedKFold\n",
    "\n",
    "skf = StratifiedKFold(n_splits=3, shuffle=True, random_state=42)\n",
    "\n",
    "for var in eval_vars:\n",
    "    IPython.display.display_markdown(f\"#### {var}\", raw=True)\n",
    "    for model, ccs_pred_da in CCS_PRED_DAS[var].groupby(\"model\"):\n",
    "        for subsample_idx, (_, test_idx) in enumerate(skf.split(df[[\"dec_adjusted_year\"]], df[\"stratum\"])):\n",
    "            fold_df = df.iloc[test_idx]\n",
    "            fold_time_da = time_da.where(time_da[\"tp_season_year\"].isin(fold_df[\"stratum\"].str.cat(fold_df[\"dec_adjusted_year\"].astype(\"str\"), sep=' ').values), drop=True)\n",
    "            \n",
    "            ccs_pred_da_subsamples = ccs_pred_da[f\"pred_{var}\"].sel(time=fold_time_da.data)\n",
    "            \n",
    "            mean_changes = compute_changes([ccs_pred_da_subsamples], EVAL_DS[\"CPM\"][f\"target_{var}\"].sel(time=fold_time_da), CCS_SEASONS, stat_func=xr.DataArray.mean)\n",
    "        \n",
    "            mean_change_fig = plt.figure(figsize=(5.5, 5.5), layout=\"compressed\")\n",
    "            \n",
    "            plot_changes(mean_changes, CCS_SEASONS, mean_change_fig, show_change=[ccs_pred_da_subsamples[\"model\"].data.item()])\n",
    "        \n",
    "            plt.show()"
   ]
  },
  {
   "cell_type": "code",
   "execution_count": null,
   "id": "a23cfe75-c39b-40c9-af50-3a21839760e6",
   "metadata": {},
   "outputs": [],
   "source": []
  }
 ],
 "metadata": {
  "kernelspec": {
   "display_name": "Python 3 (ipykernel)",
   "language": "python",
   "name": "python3"
  }
 },
 "nbformat": 4,
 "nbformat_minor": 5
}
