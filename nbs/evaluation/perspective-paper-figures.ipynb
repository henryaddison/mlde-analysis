{
 "cells": [
  {
   "cell_type": "markdown",
   "id": "345a1b27-1df4-40e8-a2f9-0ff817ad8241",
   "metadata": {
    "tags": []
   },
   "source": [
    "# Figures for perspective paper\n",
    "# Evaluation of a UoB models on 60km -> 2.2km-4x over Birmingham)"
   ]
  },
  {
   "cell_type": "code",
   "execution_count": null,
   "id": "48718f5d-f1f8-4ccc-8089-a90b8e505b7c",
   "metadata": {
    "tags": []
   },
   "outputs": [],
   "source": [
    "%reload_ext autoreload\n",
    "\n",
    "%autoreload 2\n",
    "\n",
    "%reload_ext dotenv\n",
    "%dotenv\n",
    "\n",
    "import functools\n",
    "import math\n",
    "import string\n",
    "\n",
    "import IPython\n",
    "import matplotlib.pyplot as plt\n",
    "import numpy as np\n",
    "import xarray as xr\n",
    "\n",
    "from mlde_analysis.data import prep_eval_data\n",
    "from mlde_analysis import plot_map\n",
    "from mlde_analysis.distribution import normalized_mean_bias, plot_freq_density, plot_mean_biases, rms_mean_bias\n",
    "from mlde_analysis.fractional_contribution import compute_fractional_contribution, plot_fractional_contribution, frac_contrib_change, fc_bins\n",
    "from mlde_analysis.ccs import compute_changes, plot_changes, plot_tp_fd, bootstrap_seasonal_mean_pr_change_samples\n",
    "from mlde_analysis.display import pretty_table\n",
    "from mlde_utils import cp_model_rotated_pole"
   ]
  },
  {
   "cell_type": "code",
   "execution_count": null,
   "id": "5b35aeea-2daa-4054-a01c-08dfeb362369",
   "metadata": {},
   "outputs": [],
   "source": [
    "import matplotlib\n",
    "matplotlib.rcParams['figure.dpi'] = 300"
   ]
  },
  {
   "cell_type": "code",
   "execution_count": null,
   "id": "361fe73f-2d52-4862-8b8c-ab7604ad6c29",
   "metadata": {
    "tags": [
     "parameters"
    ]
   },
   "outputs": [],
   "source": [
    "split = \"test\"\n",
    "ensemble_members = [\n",
    "    \"01\",\n",
    "    \"04\",\n",
    "    \"05\",\n",
    "    \"06\",\n",
    "    \"07\",\n",
    "    \"08\",\n",
    "    \"09\",\n",
    "    \"10\",\n",
    "    \"11\",\n",
    "    \"12\",\n",
    "    \"13\",\n",
    "    \"15\",\n",
    "]\n",
    "dataset_configs = {\n",
    "    \"CPM\": \"bham64_ccpm-4x_12em_psl-sphum4th-temp4th-vort4th_pr\",\n",
    "    \"GCM\": \"bham64_gcm-4x_12em_psl-sphum4th-temp4th-vort4th_pr\",\n",
    "}\n",
    "samples_per_run = 6\n",
    "sample_configs = {\n",
    "    \"CPM\": [\n",
    "        {\n",
    "            \"label\": \"Diffusion (cCPM)\",\n",
    "            \"sample_specs\": [\n",
    "                {\n",
    "                    \"fq_model_id\": \"score-sde/subvpsde/ukcp_local_pr_12em_cncsnpp_continuous/bham-4x_12em_pSTV\",\n",
    "                    \"checkpoint\": \"epoch_20\",\n",
    "                    \"input_xfm\": \"bham64_ccpm-4x_12em_psl-sphum4th-temp4th-vort4th_pr-stan\",\n",
    "                    \"dataset\": \"bham64_ccpm-4x_12em_psl-sphum4th-temp4th-vort4th_pr\",\n",
    "                    \"variables\": [\"pr\"],\n",
    "                },\n",
    "            ],\n",
    "            \"deterministic\": False,\n",
    "            \"CCS\": False,\n",
    "            \"color\": \"tab:blue\",\n",
    "            \"order\": 10,\n",
    "        }\n",
    "    ],\n",
    "    \"GCM\": [\n",
    "        {\n",
    "            \"label\": \"Diffusion (GCM)\",\n",
    "            \"sample_specs\": [\n",
    "                {\n",
    "                    \"fq_model_id\": \"score-sde/subvpsde/ukcp_local_pr_12em_cncsnpp_continuous/bham-4x_12em_pSTV\",\n",
    "                    \"checkpoint\": \"epoch_20\",\n",
    "                    \"input_xfm\": \"bham64_gcm-4x_12em_psl-sphum4th-temp4th-vort4th_pr-pixelmmsstan\",\n",
    "                    \"dataset\": \"bham64_gcm-4x_12em_psl-sphum4th-temp4th-vort4th_pr\",\n",
    "                    \"variables\": [\"pr\"],\n",
    "                }\n",
    "            ],\n",
    "            \"deterministic\": False,\n",
    "            \"CCS\": True,\n",
    "            \"PSD\": True,\n",
    "            \"UQ\": False,\n",
    "            \"color\": \"tab:green\",\n",
    "            \"order\": 100,\n",
    "        },\n",
    "        {\n",
    "            \"label\": \"Diff no-bc (GCM)\",\n",
    "            \"sample_specs\": [\n",
    "                {\n",
    "                    \"fq_model_id\": \"score-sde/subvpsde/ukcp_local_pr_12em_cncsnpp_continuous/bham-4x_12em_pSTV\",\n",
    "                    \"checkpoint\": \"epoch_20\",\n",
    "                    \"input_xfm\": \"bham64_ccpm-4x_12em_psl-sphum4th-temp4th-vort4th_pr-stan\",\n",
    "                    \"dataset\": \"bham64_gcm-4x_12em_psl-sphum4th-temp4th-vort4th_pr\",\n",
    "                    \"variables\": [\"pr\"],\n",
    "                }\n",
    "            ],\n",
    "            \"deterministic\": False,\n",
    "            \"CCS\": True,\n",
    "            \"PSD\": True,\n",
    "            \"UQ\": False,\n",
    "            \"color\": \"tab:red\",\n",
    "            \"order\": 100,\n",
    "        },\n",
    "        {\n",
    "            \"label\": \"Diff no-hum (GCM)\",\n",
    "            \"sample_specs\": [\n",
    "                {\n",
    "                    \"fq_model_id\": \"score-sde/subvpsde/ukcp_local_pr_12em_cncsnpp_continuous/bham-4x_12em_pTV-original\",\n",
    "                    \"checkpoint\": \"epoch_20\",\n",
    "                    \"input_xfm\": \"bham64_gcm-4x_12em_psl-temp4th-vort4th_pr-pixelmmsstan\",\n",
    "                    \"dataset\": \"bham64_gcm-4x_12em_psl-temp4th-vort4th_pr\",\n",
    "                    \"variables\": [\"pr\"],\n",
    "                }\n",
    "            ],\n",
    "            \"deterministic\": False,\n",
    "            \"CCS\": True,\n",
    "            \"PSD\": True,\n",
    "            \"UQ\": False,\n",
    "            \"color\": \"tab:orange\",\n",
    "            \"order\": 100,\n",
    "        },\n",
    "    ],\n",
    "}\n",
    "derived_variables_config={}\n",
    "eval_vars = [\"pr\"]"
   ]
  },
  {
   "cell_type": "markdown",
   "id": "e6ae5f01-d42d-480d-99d6-92df13e15b4b",
   "metadata": {},
   "source": [
    "## Data\n",
    "\n",
    "* Using all 12 ensemble members on 1981-2000, 2021-2040 and 2061-2080 periods for initial UKCP Local release (but using data post graupel bug fix)\n",
    "* Splits are based on random choice of seasons with equal number of seasons from each time slice\n",
    "* Target domain and resolution: 64x64@8.8km (4x 2.2km) England and Wales\n",
    "* Input resolution: 60km (cCPM is CPM coarsened to GCM 60km grid)\n",
    "\n",
    "## CPMGEM models\n",
    "\n",
    "Compare:\n",
    "\n",
    "* cCPM input source\n",
    "* GCM with bias correction input source\n",
    "* GCM without bias correction\n",
    "* GCM input source without humidity (pTV)\n",
    "\n",
    "### Shared model specs\n",
    "\n",
    "* Inputs variable (unless otherwise stated): pSTV (pressure at sea level and 4 levels of specific humidity, air temp and relative vorticity)\n",
    "* Input transforms are fitted on dataset in use (ie separate GCM and CPM versions) while target transform is fitted only at training on the CPM dataset\n",
    "* No loc-spec params\n",
    "* 6 samples per example"
   ]
  },
  {
   "cell_type": "code",
   "execution_count": null,
   "id": "4df16b68-4c4d-42fb-9134-72f81d23b70b",
   "metadata": {
    "tags": []
   },
   "outputs": [],
   "source": [
    "EVAL_DS, MODELS = prep_eval_data(sample_configs, dataset_configs, derived_variables_config, eval_vars, split, ensemble_members=ensemble_members, samples_per_run=samples_per_run)\n",
    "EVAL_DS"
   ]
  },
  {
   "cell_type": "code",
   "execution_count": null,
   "id": "bf53ef76-c4d5-4725-88a3-8400d30cd4eb",
   "metadata": {
    "tags": []
   },
   "outputs": [],
   "source": [
    "CPM_DAS = { var: EVAL_DS[\"CPM\"][f\"target_{var}\"] for var in eval_vars }"
   ]
  },
  {
   "cell_type": "markdown",
   "id": "3e255d24-65ba-451b-b775-6e9dd06ff959",
   "metadata": {},
   "source": [
    "## Fractional contribution (including change from Historic to Future) and mean bias "
   ]
  },
  {
   "cell_type": "code",
   "execution_count": null,
   "id": "13fdef87-6e80-454a-b098-046f73cd917a",
   "metadata": {
    "tags": []
   },
   "outputs": [],
   "source": [
    "ccs_seasons = [\"DJF\", \"JJA\"]\n",
    "ccs_models = {source: {model: spec for model, spec in mconfigs.items() if spec.get(\"CCS\", False)} for source, mconfigs in MODELS.items() }\n",
    "\n",
    "historical_cpm_pr = CPM_DAS[\"pr\"].where(CPM_DAS[\"pr\"][\"time_period\"]== \"historic\", drop=True)\n",
    "\n",
    "def fig_data(eval_ds, cpm_pr):\n",
    "    mean_biases = [ dict(data=normalized_mean_bias(eval_ds[\"GCM\"][\"pred_pr\"].sel(model=model), cpm_pr), label=model) for model, spec in MODELS[\"GCM\"].items() ]\n",
    "\n",
    "    cpm_fc = compute_fractional_contribution(cpm_pr, bins=fc_bins())\n",
    "\n",
    "    fraccontrib_data = [\n",
    "        dict(data=cpm_fc, label=\"CPM\", color=\"black\", source=\"CPM\")\n",
    "    ]\n",
    "\n",
    "    fraccontrib_err_data = [\n",
    "        dict(data=(compute_fractional_contribution(eval_ds[spec[\"source\"]][\"pred_pr\"].sel(model=model), bins=fc_bins()) - cpm_fc), label=model, color=spec[\"color\"]) for source, mconfigs in MODELS.items() for model, spec in mconfigs.items()\n",
    "    ]\n",
    "    \n",
    "    tp_frcontrib_data = [\n",
    "                dict(data=frac_contrib_change(cpm_pr, bins=fc_bins()), label=\"CPM\", color=\"black\", source=\"CPM\")\n",
    "        ] + [\n",
    "            dict(data=frac_contrib_change(eval_ds[source][\"pred_pr\"].sel(model=model), bins=fc_bins()), label=model, color=spec[\"color\"], source=source) for source, mconfigs in ccs_models.items() for model, spec in mconfigs.items()\n",
    "        ]\n",
    "\n",
    "    return fraccontrib_data, fraccontrib_err_data, tp_frcontrib_data, mean_biases"
   ]
  },
  {
   "cell_type": "code",
   "execution_count": null,
   "id": "edd038a5-ad00-4499-bca4-8a8a4eea5e9d",
   "metadata": {
    "tags": []
   },
   "outputs": [],
   "source": [
    "def plot_figure(fraccontrib_data, fraccontrib_err_data, frcontrib_change_data, mean_biases):\n",
    "    fig = plt.figure(layout='constrained', figsize=(4.5, 6.5))\n",
    "\n",
    "    meanb_axes_keys = list(map(lambda x: f\"meanb {x['label']}\", mean_biases))\n",
    "    meanb_spec = np.array(meanb_axes_keys).reshape(1,-1)\n",
    "\n",
    "    # dist_spec = np.array([\"Density\"] * meanb_spec.shape[1]).reshape(1,-1)\n",
    "    dist_spec = np.array([\"FCErr\"] * (meanb_spec.shape[1])).reshape(1,-1)\n",
    "\n",
    "    ccs_spec = np.array([\"Change\"] * meanb_spec.shape[1]).reshape(1,-1)\n",
    "\n",
    "    spec = np.concatenate([dist_spec, meanb_spec, ccs_spec], axis=0)\n",
    "\n",
    "    axd = fig.subplot_mosaic(spec, gridspec_kw=dict(height_ratios=[3, 2, 3]), per_subplot_kw={ak: {\"projection\": cp_model_rotated_pole} for ak in meanb_axes_keys})\n",
    "    \n",
    "    ax = axd[\"FCErr\"]\n",
    "    plot_fractional_contribution(fraccontrib_err_data, ax=ax, title=\"Error\", linewidth=1, ylim=[-0.2, 0.2])\n",
    "    ax.annotate(\"a.\", xy=(0.04, 1.0), xycoords=(\"figure fraction\", \"axes fraction\"), weight='bold', ha=\"left\", va=\"bottom\")\n",
    "\n",
    "    axes = plot_mean_biases(mean_biases, axd, colorbar=True)\n",
    "    axes[0].annotate(\"b.\", xy=(0.04, 1.0), xycoords=(\"figure fraction\", \"axes fraction\"), weight='bold', ha=\"left\", va=\"bottom\")\n",
    "\n",
    "    ax = axd[\"Change\"]\n",
    "    plot_fractional_contribution(frcontrib_change_data, ax=ax, title=\"Change from Historic to Future\", linewidth=1, legend=False, ylim=[-0.3, 0.3])\n",
    "    ax.annotate(\"c.\", xy=(0.04, 1.0), xycoords=(\"figure fraction\", \"axes fraction\"), weight='bold', ha=\"left\", va=\"bottom\")\n",
    "\n",
    "    # add inset of CPM frac contrib to error plot for context\n",
    "    ax = fig.add_axes([0.79, 0.82, 0.18, 0.18])\n",
    "    plot_fractional_contribution(fraccontrib_data, ax=ax, title=\"\", linewidth=1, legend=False,)\n",
    "    ax.set_title(\"CPM frac. contrib.\", pad=1, fontsize=\"xx-small\")\n",
    "    ax.set_xlabel(\"\")\n",
    "    ax.set_ylabel(\"\")\n",
    "    ax.tick_params(axis='both', which='major', labelsize=\"xx-small\")\n",
    "    ax.tick_params(axis='both', which='minor', labelsize=\"xx-small\")\n",
    "    ax.set_aspect(1)\n",
    "    \n",
    "    return fig"
   ]
  },
  {
   "cell_type": "markdown",
   "id": "650aff72-2830-4413-9b97-9acb1521c665",
   "metadata": {},
   "source": [
    "### Annual Figure"
   ]
  },
  {
   "cell_type": "code",
   "execution_count": null,
   "id": "cddea44e-a71f-49ef-b8b6-64d7b61eac9a",
   "metadata": {},
   "outputs": [],
   "source": [
    "fraccontrib_data, fraccontrib_err_data, tp_frcontrib_data, mean_biases = fig_data(EVAL_DS, CPM_DAS[\"pr\"])\n",
    "\n",
    "rms_mean_biases = xr.concat(\n",
    "        [ ds[\"pred_pr\"].groupby(\"model\", squeeze=False).map(lambda x: rms_mean_bias(x, CPM_DAS[\"pr\"])) for ds in EVAL_DS.values() ],\n",
    "        dim=\"model\",\n",
    "    )\n",
    "\n",
    "plot_figure(fraccontrib_data, fraccontrib_err_data, tp_frcontrib_data, mean_biases)\n",
    "plt.show()\n",
    "\n",
    "pretty_table(rms_mean_biases.rename(\"Root Mean Square Mean Bias (mm/day)\"), round=2)"
   ]
  },
  {
   "cell_type": "markdown",
   "id": "b6e5e233-3965-462e-bca0-a471deb046d3",
   "metadata": {},
   "source": [
    "### Seasonal figures"
   ]
  },
  {
   "cell_type": "code",
   "execution_count": null,
   "id": "35566dd0-83a2-46b1-ab05-25626beac7b4",
   "metadata": {},
   "outputs": [],
   "source": [
    "for season in [\"DJF\", \"JJA\"]:\n",
    "    IPython.display.display_markdown(f\"#### {season}\", raw=True)\n",
    "    seasonal_cpm_pr = CPM_DAS[\"pr\"].where(CPM_DAS[\"pr\"][\"time.season\"] == season)\n",
    "    seasonal_eval_ds = { source: ds.where(ds[\"time.season\"] == season) for source, ds in EVAL_DS.items() }\n",
    "    seasonal_fig = plot_figure(*fig_data(seasonal_eval_ds, seasonal_cpm_pr))\n",
    "    seasonal_fig.suptitle(season)\n",
    "    plt.show()\n",
    "\n",
    "    rms_mean_biases = xr.concat(\n",
    "            [ ds[\"pred_pr\"].groupby(\"model\", squeeze=False).map(lambda x: rms_mean_bias(x, seasonal_cpm_pr)) for ds in seasonal_eval_ds.values() ],\n",
    "            dim=\"model\",\n",
    "        )\n",
    "    pretty_table(rms_mean_biases.rename(\"Root Mean Square Mean Bias (mm/day)\"), round=2)"
   ]
  },
  {
   "cell_type": "markdown",
   "id": "3a7b63ea-a383-436c-946d-9bfb02d096c4",
   "metadata": {},
   "source": [
    "## CCS Figures"
   ]
  },
  {
   "cell_type": "code",
   "execution_count": null,
   "id": "a54ff7b2-ad42-498a-b597-76a05e40acaa",
   "metadata": {},
   "outputs": [],
   "source": [
    "ccs_seasons = [\"DJF\", \"JJA\"]\n",
    "ccs_models = {source: {model: spec for model, spec in mconfigs.items() if spec.get(\"CCS\", False) } for source, mconfigs in MODELS.items() }\n",
    "\n",
    "ccs_pred_pr_das = [ EVAL_DS[source][\"pred_pr\"].sel(model=model) for source, models in ccs_models.items() for model in models ]"
   ]
  },
  {
   "cell_type": "markdown",
   "id": "2d3c586f-2741-4bb1-9fe7-727cfd057df9",
   "metadata": {},
   "source": [
    "### 99th percentile changes"
   ]
  },
  {
   "cell_type": "code",
   "execution_count": null,
   "id": "85bbc934-fe52-44a4-a3f9-2afc9983c979",
   "metadata": {
    "tags": []
   },
   "outputs": [],
   "source": [
    "from functools import partial\n",
    "\n",
    "q = 0.99\n",
    "IPython.display.display_markdown(f\"#### Quantile: {q}\", raw=True)\n",
    "\n",
    "for ccs_pred_da in ccs_pred_pr_das:\n",
    "    changes = compute_changes([ccs_pred_da], CPM_DAS[\"pr\"], ccs_seasons, stat_func=partial(xr.DataArray.quantile, q=q))\n",
    "    \n",
    "    change_fig = plt.figure(figsize=(5.5, 5.5), layout=\"compressed\")\n",
    "    plot_changes(changes, ccs_seasons, change_fig, show_change=[ccs_pred_da.model.values.item()])\n",
    "\n",
    "plt.show()"
   ]
  },
  {
   "cell_type": "markdown",
   "id": "9e41a6b9-e34b-4873-acff-2223a547b901",
   "metadata": {},
   "source": [
    "## Rough: wet-day mean"
   ]
  },
  {
   "cell_type": "code",
   "execution_count": null,
   "id": "3f31cdad-e659-48c6-9923-11c16d35a392",
   "metadata": {},
   "outputs": [],
   "source": [
    "from mlde_analysis.wet_dry import threshold_exceeded_prop_stats, threshold_exceeded_prop_change, plot_threshold_exceedence_errors\n",
    "\n",
    "THRESHOLDS = {\"pr\": [0.1, 1.0]}\n",
    "\n",
    "def wd_mean(da, threshold):\n",
    "    dims = set(da.dims) - set([\"grid_latitude\", \"grid_longitude\"])\n",
    "    return da.where(da > threshold).mean(dim=dims).rename(\"wd mean (mm/day)\")\n",
    "\n",
    "def wd_mean_change(da, threshold):\n",
    "    from_da = da.where(da[\"time_period\"] == \"historic\", drop=True)\n",
    "    to_da = da.where(da[\"time_period\"] == \"future\", drop=True)\n",
    "\n",
    "    from_wd_mean = wd_mean(from_da, threshold=threshold).rename(\"Historic wd mean (mm/day)\")\n",
    "    to_wd_mean = wd_mean(to_da, threshold=threshold).rename(\"Future wd mean (mm/day)\")\n",
    "\n",
    "    change = (to_wd_mean - from_wd_mean).rename(\"Change in wd mean (mm/day)\")\n",
    "\n",
    "    return xr.merge([from_wd_mean, to_wd_mean, change])\n",
    "\n",
    "def wd_mean_bias(pred_da, cpm_da, threshold):\n",
    "    pred_wd_mean = wd_mean(pred_da, threshold)\n",
    "    cpm_wd_mean = wd_mean(cpm_da, threshold)\n",
    "\n",
    "    return (pred_wd_mean - cpm_wd_mean)"
   ]
  },
  {
   "cell_type": "markdown",
   "id": "90dde1e3-a1eb-402f-a30d-04fb7270a057",
   "metadata": {},
   "source": [
    "### Wet-day mean"
   ]
  },
  {
   "cell_type": "code",
   "execution_count": null,
   "id": "e915bbb1-39f3-45cb-81ec-a2d674534892",
   "metadata": {},
   "outputs": [],
   "source": [
    "model_das = xr.concat([\n",
    "    EVAL_DS[source][\"pred_pr\"].sel(model=[model])\n",
    "    for source, mconfigs in MODELS.items() for model, spec in mconfigs.items()\n",
    "], dim=\"model\")\n",
    "\n",
    "change_stats = { var: { threshold: threshold_exceeded_prop_stats(model_das, CPM_DAS[\"pr\"], threshold=threshold, threshold_exceeded_prop_statistic=wd_mean) for threshold in thresholds } for var, thresholds in THRESHOLDS.items() if var in eval_vars }\n",
    "\n",
    "for var, thresholds in THRESHOLDS.items():\n",
    "    if var in eval_vars:\n",
    "        for threshold in thresholds:\n",
    "            IPython.display.display_markdown(f\"#### Threshold: {threshold}mm/day\", raw=True)\n",
    "\n",
    "            plot_threshold_exceedence_errors(change_stats[var][threshold], style=\"change\")\n",
    "\n",
    "            plt.show()"
   ]
  },
  {
   "cell_type": "markdown",
   "id": "61d4e946-bd7a-418f-bc7d-50d50d360ae0",
   "metadata": {},
   "source": [
    "### Change from historic to future"
   ]
  },
  {
   "cell_type": "code",
   "execution_count": null,
   "id": "933438b9-0031-489f-b003-2311d7fa9426",
   "metadata": {},
   "outputs": [],
   "source": [
    "model_das = {var: xr.concat([\n",
    "    EVAL_DS[source][f\"pred_{var}\"].sel(model=[model])\n",
    "    for source, mconfigs in MODELS.items() for model, spec in mconfigs.items()\n",
    "], dim=\"model\") for var, thresholds in THRESHOLDS.items() if var in eval_vars}\n",
    "\n",
    "change_stats = {\n",
    "    var: {\n",
    "        threshold: threshold_exceeded_prop_stats(model_das[var], CPM_DAS[\"pr\"], threshold=threshold, threshold_exceeded_prop_statistic=wd_mean_change) for threshold in thresholds\n",
    "    } for var, thresholds in THRESHOLDS.items() if var in eval_vars\n",
    "}\n",
    "\n",
    "\n",
    "for var, thresholds in THRESHOLDS.items():\n",
    "    if var in eval_vars:\n",
    "        for threshold in thresholds:\n",
    "            IPython.display.display_markdown(f\"#### Threshold: {threshold}mm/day\", raw=True)\n",
    "\n",
    "            plot_threshold_exceedence_errors(change_stats[var][threshold][f\"Change in wd mean (mm/day)\"], style=\"change\")\n",
    "\n",
    "            plt.show()\n",
    "\n",
    "pretty_table(xr.merge([\n",
    "    change_stats[var][threshold].mean(dim=[\"grid_latitude\", \"grid_longitude\"]).expand_dims({\"threshold\": [threshold]})\n",
    "    for var, thresholds in THRESHOLDS.items() if var in eval_vars for threshold in thresholds\n",
    "]), dim_order=[\"threshold\", \"season\", \"model\"])"
   ]
  },
  {
   "cell_type": "markdown",
   "id": "1d4aba93-16d1-4d60-8266-4c6a345d1f78",
   "metadata": {},
   "source": [
    "## Rough: Wet day frequency"
   ]
  },
  {
   "cell_type": "code",
   "execution_count": null,
   "id": "0565f1bd-7f49-4157-a9d9-5192a4f0139d",
   "metadata": {},
   "outputs": [],
   "source": [
    "model_das = {var: xr.concat([\n",
    "    EVAL_DS[source][f\"pred_{var}\"].sel(model=[model])\n",
    "    for source, mconfigs in MODELS.items() for model, spec in mconfigs.items()\n",
    "], dim=\"model\") for var, thresholds in THRESHOLDS.items() if var in eval_vars}\n",
    "\n",
    "change_stats = {\n",
    "    var: {\n",
    "        threshold: threshold_exceeded_prop_stats(model_das[var], CPM_DAS[\"pr\"], threshold=threshold, threshold_exceeded_prop_statistic=threshold_exceeded_prop_change) for threshold in thresholds\n",
    "    } for var, thresholds in THRESHOLDS.items() if var in eval_vars\n",
    "}\n",
    "\n",
    "\n",
    "for var, thresholds in THRESHOLDS.items():\n",
    "    if var in eval_vars:\n",
    "        for threshold in thresholds:\n",
    "            IPython.display.display_markdown(f\"#### Threshold: {threshold}mm/day\", raw=True)\n",
    "\n",
    "            plot_threshold_exceedence_errors(change_stats[var][threshold][\"change in % threshold exceeded\"], style=\"change\")\n",
    "\n",
    "            plt.show()\n",
    "\n",
    "pretty_table(xr.merge([\n",
    "    change_stats[var][threshold].mean(dim=[\"grid_latitude\", \"grid_longitude\"]).expand_dims({\"threshold\": [threshold]})\n",
    "    for var, thresholds in THRESHOLDS.items() if var in eval_vars for threshold in thresholds\n",
    "]), dim_order=[\"threshold\", \"season\", \"model\"])"
   ]
  },
  {
   "cell_type": "code",
   "execution_count": null,
   "id": "91a07a89-92b2-41a5-a9e0-9852aee49f8b",
   "metadata": {},
   "outputs": [],
   "source": []
  }
 ],
 "metadata": {
  "kernelspec": {
   "display_name": "Python 3 (ipykernel)",
   "language": "python",
   "name": "python3"
  }
 },
 "nbformat": 4,
 "nbformat_minor": 5
}
