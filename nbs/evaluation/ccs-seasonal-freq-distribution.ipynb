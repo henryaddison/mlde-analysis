{
 "cells": [
  {
   "cell_type": "markdown",
   "id": "345a1b27-1df4-40e8-a2f9-0ff817ad8241",
   "metadata": {
    "tags": []
   },
   "source": [
    "# Evaluation of a selection of models on 60km -> 2.2km-4x over Birmingham"
   ]
  },
  {
   "cell_type": "code",
   "execution_count": null,
   "id": "48718f5d-f1f8-4ccc-8089-a90b8e505b7c",
   "metadata": {
    "tags": []
   },
   "outputs": [],
   "source": [
    "%reload_ext autoreload\n",
    "\n",
    "%autoreload 2\n",
    "\n",
    "%reload_ext dotenv\n",
    "%dotenv\n",
    "\n",
    "import functools\n",
    "import math\n",
    "import string\n",
    "\n",
    "import IPython\n",
    "import matplotlib\n",
    "import matplotlib.pyplot as plt\n",
    "import numpy as np\n",
    "import seaborn as sns\n",
    "import xarray as xr\n",
    "\n",
    "from mlde_analysis.utils import chained_groupby_map\n",
    "from mlde_analysis.data import prep_eval_data\n",
    "from mlde_analysis import plot_map, SUBREGIONS\n",
    "from mlde_analysis.bootstrap import resample_examples\n",
    "from mlde_analysis.ccs import compute_changes, plot_changes, plot_tp_fd, plot_hist_per_tp, plot_ccs_fc_figure, ccs_fc_da\n",
    "from mlde_analysis.distribution import QUANTILES, normalized_mean_bias, normalized_std_bias, plot_freq_density, plot_mean_biases, plot_std_biases, rms_mean_bias, rms_std_bias, compute_metrics, DIST_THRESHOLDS\n",
    "from mlde_analysis.fractional_contribution import compute_fractional_contribution, frac_contrib_change, fc_bins\n",
    "from mlde_analysis.wet_dry import threshold_exceeded_prop_stats, threshold_exceeded_prop_change, plot_threshold_exceedence_errors, THRESHOLDS\n",
    "from mlde_analysis.display import VAR_RANGES, pretty_table\n",
    "from mlde_utils import cp_model_rotated_pole, TIME_PERIODS"
   ]
  },
  {
   "cell_type": "code",
   "execution_count": null,
   "id": "0de6eaf3-b4fb-4b6c-af4f-2a8aa40cf2d4",
   "metadata": {},
   "outputs": [],
   "source": [
    "matplotlib.rcParams['figure.dpi'] = 300"
   ]
  },
  {
   "cell_type": "code",
   "execution_count": null,
   "id": "361fe73f-2d52-4862-8b8c-ab7604ad6c29",
   "metadata": {
    "tags": [
     "parameters"
    ]
   },
   "outputs": [],
   "source": [
    "from mlde_analysis.default_params import *"
   ]
  },
  {
   "cell_type": "code",
   "execution_count": null,
   "id": "778a28b3-8483-4b83-895c-0253b499f36b",
   "metadata": {
    "tags": []
   },
   "outputs": [],
   "source": [
    "IPython.display.Markdown(desc)"
   ]
  },
  {
   "cell_type": "code",
   "execution_count": null,
   "id": "4df16b68-4c4d-42fb-9134-72f81d23b70b",
   "metadata": {
    "tags": []
   },
   "outputs": [],
   "source": [
    "EVAL_DS, MODELS = prep_eval_data(sample_configs, dataset_configs, derived_variables_config, eval_vars, split, ensemble_members=ensemble_members, samples_per_run=samples_per_run)\n",
    "EVAL_DS"
   ]
  },
  {
   "cell_type": "code",
   "execution_count": null,
   "id": "5d42a6f9-4512-4a90-a962-dc51a8cea484",
   "metadata": {},
   "outputs": [],
   "source": [
    "CPM_DAS = { var: EVAL_DS[\"CPM\"][f\"target_{var}\"] for var in eval_vars }\n",
    "\n",
    "PRED_DAS = { var: xr.concat([ ds[f\"pred_{var}\"] for ds in EVAL_DS.values() ], dim=\"model\") for var in eval_vars }\n",
    "\n",
    "MODELLABEL2SPEC = { model: {\"source\": source} | spec for source, models in MODELS.items() for model, spec in models.items() } | {\"CPM\": {\"source\": \"CPM\", \"color\": \"black\"}}"
   ]
  },
  {
   "cell_type": "code",
   "execution_count": null,
   "id": "aac8ce9e-590e-4bce-8d80-45db49132b31",
   "metadata": {},
   "outputs": [],
   "source": [
    "CCS_SEASONS = [\"DJF\", \"JJA\"]"
   ]
  },
  {
   "cell_type": "code",
   "execution_count": null,
   "id": "e2649809-2cf5-445e-ba2f-011b6ae0d822",
   "metadata": {},
   "outputs": [],
   "source": [
    "CCS_MODELS = {source: {model: spec for model, spec in mconfigs.items() if spec.get(\"CCS\", False)} for source, mconfigs in MODELS.items() }\n",
    "\n",
    "CCS_PRED_DAS = {var: PRED_DAS[var].sel(model=list([model for source, models in CCS_MODELS.items() for model in models])) for var in eval_vars }\n",
    "\n",
    "CCS_DS = xr.combine_by_coords([*list(CPM_DAS.values()), *list(CCS_PRED_DAS.values())])"
   ]
  },
  {
   "cell_type": "markdown",
   "id": "2e3025be-4ae4-45fb-84e3-a63fbd76adb1",
   "metadata": {
    "tags": []
   },
   "source": [
    "## Figure: per Time Period per season frequency density\n",
    "\n",
    "* Frequency Density Histogram of rainfall intensities for each time period"
   ]
  },
  {
   "cell_type": "code",
   "execution_count": null,
   "id": "1a2e364e-18df-4b06-80d6-1d66c386a82b",
   "metadata": {},
   "outputs": [],
   "source": [
    "for var in eval_vars:\n",
    "    fig = plt.figure(layout='constrained', figsize=(3.5*len(CCS_SEASONS), 2*len(TIME_PERIODS)))\n",
    "    spec = np.array(list([[f\"{season} {tp_key}\" for season in CCS_SEASONS] for tp_key in TIME_PERIODS.keys() ]))\n",
    "    \n",
    "    axd = fig.subplot_mosaic(spec, sharex=True)\n",
    "    for season, seasonal_ccs_ds in CCS_DS.groupby(\"time.season\"):\n",
    "        if season not in CCS_SEASONS:\n",
    "            continue\n",
    "        \n",
    "        for tp_key, tp_ds in seasonal_ccs_ds.groupby(\"time_period\"):\n",
    "            ax = axd[f\"{season} {tp_key}\"]\n",
    "            hist_data = [ dict(data=model_ds[f\"pred_{var}\"], label=model, color=MODELLABEL2SPEC[model][\"color\"]) for model, model_ds in tp_ds.groupby(\"model\") ]\n",
    "            hrange=VAR_RANGES[var]\n",
    "            plot_freq_density(hist_data, ax=ax, target_da=tp_ds[f\"target_{var}\"], legend=(tp_key==\"historic\" and season==\"DJF\"), linewidth=1, title=f\"{season} {tp_key}\", hrange=hrange)\n",
    "    \n",
    "            ax.xaxis.label.set_visible(tp_key == \"future\")    \n",
    "            \n",
    "    plt.show()"
   ]
  },
  {
   "cell_type": "code",
   "execution_count": null,
   "id": "cf360153-fd8c-40a3-a302-23e23ad9a1d7",
   "metadata": {},
   "outputs": [],
   "source": [
    "for var in eval_vars:\n",
    "    IPython.display.display_markdown(f\"### {var}\", raw=True)\n",
    "\n",
    "    metrics_ds = CCS_DS.groupby(\"time.season\").map(lambda season_ds: season_ds.groupby(\"time_period\").map(lambda tp_ds: compute_metrics(tp_ds[f\"pred_{var}\"], tp_ds[f\"target_{var}\"], thresholds=DIST_THRESHOLDS[var])))\n",
    "        \n",
    "    pretty_table(metrics_ds, round=4, dim_order=[\"season\", \"time_period\", \"model\"], caption=\"Distribution metrics per season and time period\")"
   ]
  },
  {
   "cell_type": "code",
   "execution_count": null,
   "id": "aed9ff6b-1f9f-41a0-b838-50d0f55feaf1",
   "metadata": {},
   "outputs": [],
   "source": [
    "for var in eval_vars:\n",
    "    IPython.display.display_markdown(f\"### {var}\", raw=True)\n",
    "    \n",
    "    quantiles_da = xr.concat([\n",
    "        chained_groupby_map(\n",
    "            CCS_DS[f\"pred_{var}\"], \n",
    "            [\"model\", \"time.season\", \"time_period\"], \n",
    "            lambda gda: gda.quantile(q=QUANTILES, dim=...)\n",
    "        ),\n",
    "        chained_groupby_map(\n",
    "            CCS_DS[f\"target_{var}\"], \n",
    "            [\"time.season\", \"time_period\"], \n",
    "            lambda gda: gda.quantile(q=QUANTILES, dim=...)\n",
    "        ).expand_dims(model=[\"CPM\"])],\n",
    "        dim=\"model\",\n",
    "    ).rename(\"quantile value\")\n",
    "    \n",
    "    quantiles_change_da = quantiles_da.sel(time_period=\"future\") - quantiles_da.sel(time_period=\"historic\")\n",
    "    \n",
    "    pretty_table(\n",
    "        quantiles_change_da, \n",
    "        round=1, \n",
    "        caption=\"Seasonal quantile change bootstrapped spread\",\n",
    "        dim_order=[\"season\", \"quantile\", \"model\"],\n",
    "    )"
   ]
  },
  {
   "cell_type": "markdown",
   "id": "fc36578e-7605-4ffa-9971-938ced5ba87b",
   "metadata": {},
   "source": [
    "## Figure: per subdomain per time period per season distribution"
   ]
  },
  {
   "cell_type": "code",
   "execution_count": null,
   "id": "c0785552-805d-4a92-9d70-4947334cfc7b",
   "metadata": {},
   "outputs": [],
   "source": [
    "from collections import deque\n",
    "for var in eval_vars:\n",
    "    IPython.display.display_markdown(f\"### {var}\", raw=True)\n",
    "\n",
    "    for season, seasonal_ccs_ds in CCS_DS.groupby(\"time.season\"):\n",
    "        if season not in CCS_SEASONS:\n",
    "            continue\n",
    "\n",
    "        fig = plt.figure(figsize=(3.5*len(TIME_PERIODS), 2.5*len(SUBREGIONS)), layout=\"compressed\")\n",
    "\n",
    "        spec = np.array(list([[f\"{srname} {tp_key}\" for tp_key in TIME_PERIODS.keys()] for srname in SUBREGIONS.keys()]))\n",
    "        axd = fig.subplot_mosaic(spec, sharex=True)#, sharey=True)\n",
    "        panel_label_iter = iter(string.ascii_lowercase)\n",
    "        for srname, srdefn in SUBREGIONS.items():\n",
    "            for tp_key, tp_ds in seasonal_ccs_ds.groupby(\"time_period\"):\n",
    "            \n",
    "                tpsrseason_cpm_da = tp_ds[f\"target_{var}\"].isel(**SUBREGIONS[srname])\n",
    "                \n",
    "                srseason_hist_data = [\n",
    "                    dict(data=model_ds[f\"pred_{var}\"].isel(**SUBREGIONS[srname]), label=model, color=MODELLABEL2SPEC[model][\"color\"]) for model, model_ds in tp_ds.groupby(\"model\")\n",
    "                ]\n",
    "    \n",
    "                ax = axd[f\"{srname} {tp_key}\"]\n",
    "                if var == \"pr\":\n",
    "                    kwargs = {\n",
    "                        \"yscale\": \"log\",\n",
    "                    }\n",
    "                else:\n",
    "                    kwargs = {\n",
    "                        \"yscale\": \"linear\",\n",
    "                    }\n",
    "                plot_freq_density(srseason_hist_data, ax=ax, target_da=tpsrseason_cpm_da, linewidth=1, hrange=VAR_RANGES[var], **kwargs)\n",
    "                ax.set_title(f\"{srname} {season} {tp_key}\", size=\"small\")\n",
    "\n",
    "        deque(axd[axlabel.item()].annotate(f\"{next(panel_label_iter)}.\", xy=(-0.1, 1.0), xycoords=(\"axes fraction\", \"axes fraction\"), weight='bold', ha=\"left\", va=\"bottom\") for axlabel in np.nditer(spec))\n",
    "    \n",
    "        plt.show()"
   ]
  },
  {
   "cell_type": "markdown",
   "id": "c91db1e2-52f8-49c3-84df-f20e445efd9d",
   "metadata": {},
   "source": [
    "## Figure: per Time Period per season fractional contribution\n",
    "\n",
    "* Fractional contribution of rainfall intensities for each time period and season\n",
    "* Change in fractional contribution of rainfall intensities from historic to future for each season"
   ]
  },
  {
   "cell_type": "code",
   "execution_count": null,
   "id": "c46ed1b6-81a5-4a7c-b653-f1b592d1ee5b",
   "metadata": {},
   "outputs": [],
   "source": [
    "for var in eval_vars:\n",
    "    if var not in [\"pr\"]:\n",
    "        continue\n",
    "\n",
    "    fcdata = ccs_fc_da(CCS_DS[f\"pred_{var}\"], CCS_DS[f\"target_{var}\"], extra_pred_dims=[\"time.season\"], extra_cpm_dims=[\"time.season\"])\n",
    "    \n",
    "    for season, season_fc in fcdata.groupby(\"season\"):\n",
    "        if season not in CCS_SEASONS:\n",
    "            continue\n",
    "\n",
    "        IPython.display.display_markdown(f\"#### {season}\", raw=True)\n",
    "\n",
    "        \n",
    "        fig = plt.figure(layout='constrained', figsize=(3.5, 6))\n",
    "        plot_ccs_fc_figure(fig, season_fc, palette={label: spec[\"color\"] for label, spec in MODELLABEL2SPEC.items()})\n",
    "        plt.show()"
   ]
  },
  {
   "cell_type": "markdown",
   "id": "4d530e4c-9956-4fa8-a9cd-5cbc67f56dd6",
   "metadata": {},
   "source": [
    "### Bootstrapped per season fractional contribution"
   ]
  },
  {
   "cell_type": "code",
   "execution_count": null,
   "id": "47973284-ea75-4a5f-9eca-fb7badd47d55",
   "metadata": {},
   "outputs": [],
   "source": [
    "bs_ccs_ds = chained_groupby_map(CCS_DS, [\"time_period\", \"time.season\"], resample_examples, niterations=niterations)\n",
    "\n",
    "for var in eval_vars:\n",
    "    if var not in [\"pr\"]:\n",
    "        continue\n",
    "    \n",
    "    fcdata = ccs_fc_da(CCS_DS[f\"pred_{var}\"], bs_ccs_ds[f\"target_{var}\"], extra_pred_dims=[\"time.season\"], extra_cpm_dims=[\"time.season\", \"iteration\"])\n",
    "\n",
    "    for season, season_fc in fcdata.groupby(\"season\"):\n",
    "        if season not in CCS_SEASONS:\n",
    "            continue\n",
    "        IPython.display.display_markdown(f\"#### {season}\", raw=True)\n",
    "        \n",
    "        fig = plt.figure(layout='constrained', figsize=(3.5, 6))\n",
    "        plot_ccs_fc_figure(fig, season_fc, palette={label: spec[\"color\"] for label, spec in MODELLABEL2SPEC.items()}, errorbar=(\"pi\", 90))\n",
    "        plt.show()"
   ]
  }
 ],
 "metadata": {
  "kernelspec": {
   "display_name": "Python 3 (ipykernel)",
   "language": "python",
   "name": "python3"
  }
 },
 "nbformat": 4,
 "nbformat_minor": 5
}
