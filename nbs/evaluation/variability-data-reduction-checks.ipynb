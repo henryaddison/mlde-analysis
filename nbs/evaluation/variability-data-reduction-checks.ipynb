{
 "cells": [
  {
   "cell_type": "markdown",
   "id": "345a1b27-1df4-40e8-a2f9-0ff817ad8241",
   "metadata": {
    "tags": []
   },
   "source": [
    "# Evaluation of variability of diffusion model training and sampling for 60km -> 2.2km-4x over Birmingham\n",
    "\n",
    "Compare different model runs based on inputs:\n",
    "\n",
    "* PslTV\n",
    "\n",
    "For each version: inputs are standardized; target is sqrt, divided by max to put on [0,1] then recentred to [-1,1]\n",
    "\n",
    "NO PIXELMMS\n",
    "\n",
    "## Diff model\n",
    "\n",
    "8-channels loc-spec params\n",
    "\n",
    "Inputs: all at 5 levels\n",
    "\n",
    "Target domain and resolution: 64x64 2.2km-4x England and Wales\n",
    "\n",
    "Input resolution: 60km/gcmx\n",
    "\n",
    "Input transforms are fitted on dataset in use (ie separate GCM and CPM versions) while target transform is fitted only at training on the CPM dataset"
   ]
  },
  {
   "cell_type": "code",
   "execution_count": null,
   "id": "48718f5d-f1f8-4ccc-8089-a90b8e505b7c",
   "metadata": {
    "tags": []
   },
   "outputs": [],
   "source": [
    "%reload_ext autoreload\n",
    "\n",
    "%autoreload 2\n",
    "\n",
    "import math\n",
    "import os\n",
    "\n",
    "import iris\n",
    "import iris.analysis.cartography\n",
    "import IPython\n",
    "import matplotlib\n",
    "import matplotlib.pyplot as plt\n",
    "import numpy as np\n",
    "import pysteps\n",
    "import xarray as xr\n",
    "\n",
    "from ml_downscaling_emulator.helpers import plot_over_ts\n",
    "from ml_downscaling_emulator.utils import cp_model_rotated_pole, plot_grid, prep_eval_data, show_samples, distribution_figure, plot_mean_bias, plot_std_bias, plot_psd"
   ]
  },
  {
   "cell_type": "code",
   "execution_count": null,
   "id": "a54ef459-8447-4f28-9882-3cc22ba76419",
   "metadata": {
    "tags": []
   },
   "outputs": [],
   "source": [
    "def load_data(samples_configs):\n",
    "    xr_datasets = []\n",
    "    for samples_config in samples_configs:\n",
    "        split = samples_config[\"split\"]\n",
    "        data_config = samples_config[\"data_config\"]\n",
    "        merged_ds = xr.merge([ prep_eval_data(c[\"datasets\"], c[\"runs\"], split) for c in data_config ])\n",
    "\n",
    "        print(merged_ds.dims)\n",
    "        print(merged_ds.coords)\n",
    "        print(merged_ds.data_vars)\n",
    "        xr_datasets.append(merged_ds)\n",
    "    return xr_datasets"
   ]
  },
  {
   "cell_type": "code",
   "execution_count": null,
   "id": "73af3c99-77cd-4116-8ff0-246923ff2f20",
   "metadata": {
    "tags": []
   },
   "outputs": [],
   "source": [
    "samples_configs = [\n",
    "    dict(\n",
    "        split = \"val\",\n",
    "        data_config = [\n",
    "            dict(\n",
    "                datasets = {\n",
    "                    \"CPM\": \"bham_gcmx-4x_psl-temp-vort_random\",\n",
    "                    \"GCM\": \"bham_60km-4x_psl-temp-vort_random\",\n",
    "                },\n",
    "                runs = [\n",
    "                    (\"score-sde/subvpsde/xarray_cncsnpp_continuous/bham-4x_PslTV_random-IstanTsqrturrecen\", \"epoch-100\", \"100 epochs 100% val Run 1\"),\n",
    "                    (\"score-sde/subvpsde/xarray_cncsnpp_continuous/bham-4x_PslTV_random-IstanTsqrturrecen-2\", \"epoch-100\", \"100 epochs 100% val Run 2\"),\n",
    "                    (\"score-sde/subvpsde/xarray_cncsnpp_continuous/bham-4x_PslTV_random-IstanTsqrturrecen-3\", \"epoch-100\", \"100 epochs 100% val Run 3\"),\n",
    "                    (\"score-sde/subvpsde/xarray_cncsnpp_continuous/bham-4x_PslTV_random-IstanTsqrturrecen-4\", \"epoch-100\", \"100 epochs 100% val Run 4\"),\n",
    "                ]\n",
    "            ),\n",
    "        ],\n",
    "    ),\n",
    "    dict(\n",
    "        split = \"val\",\n",
    "        data_config = [\n",
    "            dict(\n",
    "                datasets = {\n",
    "                    \"CPM\": \"bham_gcmx-4x_psl-temp-vort_random\",\n",
    "                    \"GCM\": \"bham_60km-4x_psl-temp-vort_random\",\n",
    "                },\n",
    "                runs = [\n",
    "                    (\"score-sde/subvpsde/xarray_cncsnpp_continuous/bham-4x_PslTV_random-IstanTsqrturrecen\", \"epoch-75\", \"75 epochs 100% val Run 1\"),\n",
    "                    (\"score-sde/subvpsde/xarray_cncsnpp_continuous/bham-4x_PslTV_random-IstanTsqrturrecen-2\", \"epoch-75\", \"75 epochs 100% val Run 2\"),\n",
    "                    (\"score-sde/subvpsde/xarray_cncsnpp_continuous/bham-4x_PslTV_random-IstanTsqrturrecen-3\", \"epoch-75\", \"75 epochs 100% val Run 3\"),\n",
    "                ]\n",
    "            ),\n",
    "        ],\n",
    "    ),\n",
    "    dict(\n",
    "        split = \"val\",\n",
    "        data_config = [\n",
    "            dict(\n",
    "                datasets = {\n",
    "                    \"CPM\": \"bham_gcmx-4x_psl-temp-vort_random\",\n",
    "                    \"GCM\": \"bham_60km-4x_psl-temp-vort_random\",\n",
    "                },\n",
    "                runs = [\n",
    "                    (\"score-sde/subvpsde/xarray_cncsnpp_continuous/bham-4x_PslTV_random-IstanTsqrturrecen\", \"epoch-50\", \"50 epochs 100% val Run 1\"),\n",
    "                    (\"score-sde/subvpsde/xarray_cncsnpp_continuous/bham-4x_PslTV_random-IstanTsqrturrecen-2\", \"epoch-50\", \"50 epochs 100% val Run 2\"),\n",
    "                    (\"score-sde/subvpsde/xarray_cncsnpp_continuous/bham-4x_PslTV_random-IstanTsqrturrecen-3\", \"epoch-50\", \"50 epochs 100% val Run 3\"),\n",
    "                ]\n",
    "            ),\n",
    "        ],\n",
    "    ),\n",
    "    dict(\n",
    "        split = \"val-50pc\",\n",
    "        data_config = [\n",
    "            dict(\n",
    "                datasets = {\n",
    "                    \"CPM\": \"bham_gcmx-4x_psl-temp-vort_random\",\n",
    "                    \"GCM\": \"bham_60km-4x_psl-temp-vort_random\",\n",
    "                },\n",
    "                runs = [\n",
    "                    (\"score-sde/subvpsde/xarray_cncsnpp_continuous/bham-4x_PslTV_random-IstanTsqrturrecen\", \"epoch-100\", \"100 epochs 50% val Run 1\"),\n",
    "                    (\"score-sde/subvpsde/xarray_cncsnpp_continuous/bham-4x_PslTV_random-IstanTsqrturrecen-2\", \"epoch-100\", \"100 epochs 50% val Run 2\"),\n",
    "                    (\"score-sde/subvpsde/xarray_cncsnpp_continuous/bham-4x_PslTV_random-IstanTsqrturrecen-3\", \"epoch-100\", \"100 epochs 50% val Run 3\"),\n",
    "                ]\n",
    "            ),\n",
    "        ],\n",
    "    ),\n",
    "]\n",
    "\n",
    "xr_datasets = load_data(samples_configs)\n",
    "\n",
    "quantiles = np.concatenate([np.linspace((1-10**(i+1))+(10**i), (1-10**i), 9) for i in range(-1, -8, -1)])"
   ]
  },
  {
   "cell_type": "markdown",
   "id": "e8847210-7952-4ab8-b697-ee24dee5728c",
   "metadata": {
    "tags": []
   },
   "source": [
    "# CPM distributions"
   ]
  },
  {
   "cell_type": "code",
   "execution_count": null,
   "id": "978198a8-1a67-43f5-8158-52f4bd6316e1",
   "metadata": {
    "tags": []
   },
   "outputs": [],
   "source": [
    "for merged_ds in xr_datasets:\n",
    "    target_pr = merged_ds.sel(source=\"CPM\")[\"target_pr\"]\n",
    "    distribution_figure(merged_ds.sel(source=[\"CPM\"]), target_pr, quantiles, \"Distribution of pixel values\")"
   ]
  },
  {
   "cell_type": "markdown",
   "id": "33e39b51-c0ea-4694-9138-736cd1ad04da",
   "metadata": {
    "tags": []
   },
   "source": [
    "# GCM distributions"
   ]
  },
  {
   "cell_type": "code",
   "execution_count": null,
   "id": "de7dd9d9-01dc-48df-94c7-52325fbe95c7",
   "metadata": {
    "tags": []
   },
   "outputs": [],
   "source": [
    "for merged_ds in xr_datasets:\n",
    "    target_pr = merged_ds.sel(source=\"CPM\")[\"target_pr\"]\n",
    "    distribution_figure(merged_ds.sel(source=[\"GCM\"]), target_pr, quantiles, \"Distribution of pixel values\")"
   ]
  },
  {
   "cell_type": "markdown",
   "id": "fe89932c-e48d-4bd4-98c4-835231cf9833",
   "metadata": {
    "tags": []
   },
   "source": [
    "# Mean bias"
   ]
  },
  {
   "cell_type": "code",
   "execution_count": null,
   "id": "624e783b-07cb-4940-ba79-8d27faac904e",
   "metadata": {
    "tags": []
   },
   "outputs": [],
   "source": [
    "for merged_ds in xr_datasets:\n",
    "    target_pr = merged_ds.sel(source=\"CPM\")[\"target_pr\"]\n",
    "    plot_mean_bias(merged_ds, target_pr)"
   ]
  }
 ],
 "metadata": {
  "kernelspec": {
   "display_name": "Python 3 (ipykernel)",
   "language": "python",
   "name": "python3"
  }
 },
 "nbformat": 4,
 "nbformat_minor": 5
}
