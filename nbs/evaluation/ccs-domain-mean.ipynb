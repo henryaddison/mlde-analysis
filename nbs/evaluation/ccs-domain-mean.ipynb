{
 "cells": [
  {
   "cell_type": "markdown",
   "id": "345a1b27-1df4-40e8-a2f9-0ff817ad8241",
   "metadata": {
    "tags": []
   },
   "source": [
    "# Evaluation of a selection of models on 60km -> 2.2km-4x over Birmingham"
   ]
  },
  {
   "cell_type": "code",
   "execution_count": null,
   "id": "48718f5d-f1f8-4ccc-8089-a90b8e505b7c",
   "metadata": {
    "tags": []
   },
   "outputs": [],
   "source": [
    "%reload_ext autoreload\n",
    "\n",
    "%autoreload 2\n",
    "\n",
    "%reload_ext dotenv\n",
    "%dotenv\n",
    "\n",
    "import functools\n",
    "import math\n",
    "import string\n",
    "\n",
    "import IPython\n",
    "import matplotlib\n",
    "import matplotlib.pyplot as plt\n",
    "import numpy as np\n",
    "import xarray as xr\n",
    "\n",
    "from mlde_analysis.data import prep_eval_data\n",
    "from mlde_analysis import plot_map\n",
    "from mlde_analysis.ccs import compute_changes, plot_changes, plot_tp_fd, plot_hist_per_tp, bootstrap_seasonal_mean_pr_change_samples\n",
    "from mlde_analysis.distribution import normalized_mean_bias, normalized_std_bias, plot_freq_density, plot_mean_biases, plot_std_biases, rms_mean_bias, rms_std_bias\n",
    "from mlde_analysis.wet_dry import threshold_exceeded_prop_stats, threshold_exceeded_prop_change, plot_threshold_exceedence_errors, THRESHOLDS\n",
    "from mlde_analysis.display import VAR_RANGES, pretty_table\n",
    "from mlde_utils import cp_model_rotated_pole, TIME_PERIODS"
   ]
  },
  {
   "cell_type": "code",
   "execution_count": null,
   "id": "0de6eaf3-b4fb-4b6c-af4f-2a8aa40cf2d4",
   "metadata": {},
   "outputs": [],
   "source": [
    "matplotlib.rcParams['figure.dpi'] = 300"
   ]
  },
  {
   "cell_type": "code",
   "execution_count": null,
   "id": "361fe73f-2d52-4862-8b8c-ab7604ad6c29",
   "metadata": {
    "tags": [
     "parameters"
    ]
   },
   "outputs": [],
   "source": [
    "from mlde_analysis.default_params import *"
   ]
  },
  {
   "cell_type": "code",
   "execution_count": null,
   "id": "778a28b3-8483-4b83-895c-0253b499f36b",
   "metadata": {
    "tags": []
   },
   "outputs": [],
   "source": [
    "IPython.display.Markdown(desc)"
   ]
  },
  {
   "cell_type": "code",
   "execution_count": null,
   "id": "4df16b68-4c4d-42fb-9134-72f81d23b70b",
   "metadata": {
    "tags": []
   },
   "outputs": [],
   "source": [
    "EVAL_DS, MODELS = prep_eval_data(sample_configs, dataset_configs, derived_variables_config, eval_vars, split, ensemble_members=ensemble_members, samples_per_run=samples_per_run)\n",
    "EVAL_DS"
   ]
  },
  {
   "cell_type": "code",
   "execution_count": null,
   "id": "5d42a6f9-4512-4a90-a962-dc51a8cea484",
   "metadata": {},
   "outputs": [],
   "source": [
    "CPM_DAS = { var: EVAL_DS[\"CPM\"][f\"target_{var}\"] for var in eval_vars }\n",
    "\n",
    "MODELLABEL2SPEC = { model: {\"source\": source} | spec for source, models in MODELS.items() for model, spec in models.items() }\n",
    "\n",
    "PRED_DAS = { var: xr.concat([ ds[f\"pred_{var}\"] for ds in EVAL_DS.values() ], dim=\"model\") for var in eval_vars }"
   ]
  },
  {
   "cell_type": "code",
   "execution_count": null,
   "id": "08f5efe0-6722-49a9-885d-6cf7380a256e",
   "metadata": {},
   "outputs": [],
   "source": [
    "CCS_SEASONS = [\"DJF\", \"MAM\", \"JJA\", \"SON\"]"
   ]
  },
  {
   "cell_type": "code",
   "execution_count": null,
   "id": "e2649809-2cf5-445e-ba2f-011b6ae0d822",
   "metadata": {},
   "outputs": [],
   "source": [
    "CCS_MODELS = {source: {model: spec for model, spec in mconfigs.items() if spec.get(\"CCS\", False)} for source, mconfigs in MODELS.items() }\n",
    "\n",
    "CCS_PRED_DAS = {var: PRED_DAS[var].sel(model=list([model for source, models in CCS_MODELS.items() for model in models])) for var in eval_vars }\n",
    "\n",
    "CCS_DS = xr.combine_by_coords([*list(CPM_DAS.values()), *list(CCS_PRED_DAS.values())]).sel(model=[m for ms in CCS_MODELS.values() for m in ms.keys()])"
   ]
  },
  {
   "cell_type": "markdown",
   "id": "e3fdd073-8a1a-430b-bed1-4bc82f039bad",
   "metadata": {},
   "source": [
    "## Seasonal domain mean changes"
   ]
  },
  {
   "cell_type": "code",
   "execution_count": null,
   "id": "bac6e431-ff1f-4498-9dcd-5c528ec2a229",
   "metadata": {},
   "outputs": [],
   "source": [
    "def mean_change(ds):\n",
    "    hist_stat = ds.where(ds[\"time_period\"] == \"historic\", drop=True).mean(dim=...)\n",
    "    fut_stat = ds.where(ds[\"time_period\"] == \"future\", drop=True).mean(dim=...)\n",
    "    return fut_stat - hist_stat\n",
    "\n",
    "def per_model_change(ds):\n",
    "    return ds.groupby(\"model\").map(functools.partial(mean_change))\n",
    "\n",
    "for var in eval_vars:\n",
    "    IPython.display.display_markdown(f\"### {var}\", raw=True)\n",
    "    hist_cpm_means = CCS_DS[f\"target_{var}\"].where(CCS_DS[f\"target_{var}\"][\"time_period\"] == \"historic\", drop=True).groupby(\"time.season\").mean(dim=...)\n",
    "        \n",
    "    cpm_change = CCS_DS[f\"target_{var}\"].groupby(\"time.season\").map(mean_change)\n",
    "    \n",
    "    emu_change = CCS_DS[f\"pred_{var}\"].groupby(\"time.season\").map(per_model_change)\n",
    "    \n",
    "    table_ds = xr.merge([\n",
    "        (100*cpm_change/np.abs(hist_cpm_means)).rename(\"CPM change (% of CPM historic)\"),\n",
    "        (100*emu_change/np.abs(hist_cpm_means)).rename(\"Emulator change (% of CPM historic)\"),\n",
    "        (100*(emu_change-cpm_change)/np.abs(cpm_change)).rename(f\"Difference (% of CPM change)\"),\n",
    "        (100*(emu_change-cpm_change)/np.abs(hist_cpm_means)).rename(f\"Difference (% of CPM historic)\"),\n",
    "    ])\n",
    "\n",
    "    pretty_table(table_ds)"
   ]
  },
  {
   "cell_type": "markdown",
   "id": "723f7a84-bee8-469d-8aaf-142d34d9fb70",
   "metadata": {},
   "source": [
    "### Significance testing on seasonal domain mean changes\n",
    "\n",
    "With bootstrapped distribution and CIs"
   ]
  },
  {
   "cell_type": "code",
   "execution_count": null,
   "id": "5be16ac1-5826-4a02-8b0c-7e592e1dc409",
   "metadata": {},
   "outputs": [],
   "source": [
    "for var in eval_vars:\n",
    "    IPython.display.display_markdown(f\"#### {var}\", raw=True)\n",
    "\n",
    "    for model, model_ds in CCS_DS.groupby(\"model\"):\n",
    "        pred_da = model_ds[f\"pred_{var}\"]\n",
    "        target_da = model_ds[f\"target_{var}\"]\n",
    "        \n",
    "        IPython.display.display_markdown(f\"##### {model}\", raw=True)\n",
    "        fig, axd = plt.subplot_mosaic([[\"model\", \"cpm\", \"difference\"], [\"clim model\", \"clim cpm\", \"clim difference\"]], figsize=(9, 6), constrained_layout=True)\n",
    "        \n",
    "        seasonal_changes = {}\n",
    "        for season, season_ds in model_ds.groupby(\"time.season\"):\n",
    "            if season not in CCS_SEASONS:\n",
    "                continue\n",
    "                \n",
    "            season_cpm_pr = season_ds[f\"target_{var}\"]\n",
    "            season_pred_pr = season_ds[f\"pred_{var}\"].squeeze(\"model\")\n",
    "            \n",
    "            hist_season_cpm_pr_mean = (\n",
    "                season_cpm_pr.where(season_cpm_pr[\"time_period\"] == \"historic\", drop=True)\n",
    "                .mean(dim=[\"grid_latitude\", \"grid_longitude\", \"time\", \"ensemble_member\"])\n",
    "            )\n",
    "        \n",
    "            fut_season_cpm_pr_mean = (\n",
    "                season_cpm_pr.where(season_cpm_pr[\"time_period\"] == \"future\", drop=True)\n",
    "                .mean(dim=[\"grid_latitude\", \"grid_longitude\", \"time\", \"ensemble_member\"])\n",
    "            )\n",
    "        \n",
    "            season_cpm_pr_mean_change = fut_season_cpm_pr_mean-hist_season_cpm_pr_mean\n",
    "            \n",
    "            hist_mean_samples, fut_mean_samples = bootstrap_seasonal_mean_pr_change_samples(season_cpm_pr, season_pred_pr, nsamples=100_000)\n",
    "\n",
    "            mean_cpm_change_samples = (100*(fut_mean_samples[f\"target_{var}\"] - hist_mean_samples[f\"target_{var}\"])/np.abs(season_cpm_pr_mean_change)).rename(\"cpm\")\n",
    "            mean_emu_change_samples = (100*(fut_mean_samples[f\"pred_{var}\"] - hist_mean_samples[f\"pred_{var}\"])/np.abs(season_cpm_pr_mean_change)).rename(\"emu\")\n",
    "            differences = (mean_emu_change_samples - mean_cpm_change_samples).rename(\"difference\")            \n",
    "\n",
    "            clim_mean_cpm_change_samples = (100*(fut_mean_samples[f\"target_{var}\"] - hist_mean_samples[f\"target_{var}\"])/np.abs(hist_season_cpm_pr_mean)).rename(\"clim_cpm\")\n",
    "            clim_mean_emu_change_samples = (100*(fut_mean_samples[f\"pred_{var}\"] - hist_mean_samples[f\"pred_{var}\"])/np.abs(hist_season_cpm_pr_mean)).rename(\"clim_emu\")\n",
    "            clim_differences = (clim_mean_emu_change_samples - clim_mean_cpm_change_samples).rename(\"clim_difference\")            \n",
    "            \n",
    "            seasonal_changes[season] = xr.merge([mean_cpm_change_samples, mean_emu_change_samples, differences, clim_mean_cpm_change_samples, clim_mean_emu_change_samples, clim_differences])\n",
    "            # print(seasonal_changes[season])\n",
    "\n",
    "        for season in CCS_SEASONS:\n",
    "            IPython.display.display_markdown(f\"###### {season}\", raw=True)\n",
    "\n",
    "            ax = axd[\"model\"]\n",
    "            seasonal_changes[season][\"emu\"].plot.hist(bins=50, ax=ax, label=season, alpha=0.75, histtype=\"step\", linewidth=1, density=True)\n",
    "            ax.legend()\n",
    "            ax.set_title(f\"{model}\")\n",
    "            \n",
    "            ax = axd[\"cpm\"]\n",
    "            seasonal_changes[season][\"cpm\"].plot.hist(bins=50, ax=ax, label=season, alpha=0.75, histtype=\"step\", linewidth=1, density=True)\n",
    "            # ax.legend()\n",
    "            ax.set_title(f\"CPM\")\n",
    "\n",
    "            ax = axd[\"difference\"]\n",
    "            seasonal_changes[season][\"difference\"].plot.hist(bins=50, ax=ax, label=season, alpha=0.75, histtype=\"step\", linewidth=1, density=True)\n",
    "            # ax.legend()\n",
    "            ax.set_title(f\"Differences {model}\")\n",
    "            \n",
    "            ax = axd[\"clim difference\"]\n",
    "            seasonal_changes[season][\"clim_difference\"].plot.hist(bins=50, ax=ax, label=season, alpha=0.75, histtype=\"step\", linewidth=1, density=True)\n",
    "            # ax.legend()\n",
    "            ax.set_title(f\"Differences {model} relative to hist clim\")\n",
    "\n",
    "            ax = axd[\"clim model\"]\n",
    "            seasonal_changes[season][\"clim_emu\"].plot.hist(bins=50, ax=ax, label=season, alpha=0.75, histtype=\"step\", linewidth=1, density=True)\n",
    "            # ax.legend()\n",
    "            ax.set_title(f\"{model} relative to hist clim\")\n",
    "            \n",
    "            ax = axd[\"clim cpm\"]\n",
    "            seasonal_changes[season][\"clim_cpm\"].plot.hist(bins=50, ax=ax, label=season, alpha=0.75, histtype=\"step\", linewidth=1, density=True)\n",
    "            # ax.legend()\n",
    "            ax.set_title(f\"CPM relative to hist clim\")\n",
    "        \n",
    "            alpha = 0.05\n",
    "            IPython.display.display_html(seasonal_changes[season].quantile([alpha/2, 1-(alpha/2)]).to_dataframe().round(2).to_html(), raw=True)\n",
    "\n",
    "        plt.show()"
   ]
  },
  {
   "cell_type": "code",
   "execution_count": null,
   "id": "a9ba5b49-4c49-4068-840c-4b3cef652916",
   "metadata": {},
   "outputs": [],
   "source": [
    "from mlde_analysis import significance\n",
    "\n",
    "# CCS_SEASONS = [\"DJF\", \"JJA\"]\n",
    "# for season, season_ds in EVAL_DS[\"GCM\"].isel(model=[0]).groupby(\"time.season\"):\n",
    "#     if season not in CCS_SEASONS:\n",
    "#         continue\n",
    "#     fig = plt.figure(figsize=(5.5, 2.5), layout=\"compressed\")\n",
    "#     axd = fig.subplot_mosaic(np.array(list(TIME_PERIODS.keys())).reshape(1, -1), sharex=True, subplot_kw=dict(projection=cp_model_rotated_pole))\n",
    "    \n",
    "#     for tp_idx, tp_key in enumerate(TIME_PERIODS.keys()):\n",
    "#         tp_season_ds = season_ds.where(season_ds[\"time_period\"] == tp_key, drop=True)\n",
    "\n",
    "#         for model, ds in tp_season_ds.groupby(\"model\"):\n",
    "#             ttest_result = significance.significance_test(ds.squeeze())\n",
    "#             ds[\"pvalue\"] = xr.Variable([\"grid_latitude\", \"grid_longitude\"], ttest_result.pvalue)\n",
    "    \n",
    "#             N = len(ds[\"grid_longitude\"]) * len(ds[\"grid_latitude\"])\n",
    "#             alpha_fdr = 0.1\n",
    "#             pvalue_threshold = alpha_fdr*np.arange(1, N+1, step=1)/N        \n",
    "#             sorted_pvalues = np.sort(np.ravel(ds[\"pvalue\"]))\n",
    "#             p_values_less_than_alpha_fdr_frac = np.nonzero(np.cumprod(sorted_pvalues <= pvalue_threshold))[0]\n",
    "#             if len(p_values_less_than_alpha_fdr_frac) == 0:\n",
    "#                 # no local tests are below the controlled FDR\n",
    "#                 p_fdr_star = 0. \n",
    "#             else:\n",
    "#                 idx_star = p_values_less_than_alpha_fdr_frac.max()\n",
    "#                 p_fdr_star = sorted_pvalues[idx_star]\n",
    "            \n",
    "#             ax=axd[tp_key]\n",
    "#             # plot_map(ds[\"pvalue\"], ax=ax, add_colorbar=True, style=None)\n",
    "#             plot_map(ds[\"pvalue\"] <= p_fdr_star, ax=ax, add_colorbar=True, style=None, vmin=0, vmax=1)\n",
    "#             ax.set_title(f\"{tp_key}\")\n",
    "#             fig.suptitle(f\"{season} {model}\")\n",
    "#     plt.show()"
   ]
  },
  {
   "cell_type": "code",
   "execution_count": null,
   "id": "af60dc54-906f-4dd8-a1c7-e13ccc4a5a22",
   "metadata": {},
   "outputs": [],
   "source": []
  }
 ],
 "metadata": {
  "kernelspec": {
   "display_name": "Python 3 (ipykernel)",
   "language": "python",
   "name": "python3"
  }
 },
 "nbformat": 4,
 "nbformat_minor": 5
}
