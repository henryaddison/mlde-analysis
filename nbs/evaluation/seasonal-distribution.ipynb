{
 "cells": [
  {
   "cell_type": "markdown",
   "id": "345a1b27-1df4-40e8-a2f9-0ff817ad8241",
   "metadata": {
    "tags": []
   },
   "source": [
    "# Evaluation of distribution of models on 60km -> 2.2km-4x over Birmingham"
   ]
  },
  {
   "cell_type": "code",
   "execution_count": null,
   "id": "48718f5d-f1f8-4ccc-8089-a90b8e505b7c",
   "metadata": {
    "tags": []
   },
   "outputs": [],
   "source": [
    "%reload_ext autoreload\n",
    "\n",
    "%autoreload 2\n",
    "\n",
    "%reload_ext dotenv\n",
    "%dotenv\n",
    "\n",
    "import functools\n",
    "import math\n",
    "import string\n",
    "\n",
    "import IPython\n",
    "import matplotlib\n",
    "import matplotlib.pyplot as plt\n",
    "import numpy as np\n",
    "import xarray as xr\n",
    "\n",
    "from mlde_notebooks.data import prep_eval_data\n",
    "from mlde_notebooks import plot_map\n",
    "from mlde_notebooks.display import pretty_table, VAR_RANGES\n",
    "from mlde_notebooks.distribution import mean_bias, std_bias, plot_freq_density, plot_mean_biases, plot_std_biases, rms_mean_bias, rms_std_bias, xr_hist, hist_dist, plot_distribution_figure, compute_metrics, DIST_THRESHOLDS\n",
    "from mlde_notebooks.wet_dry import threshold_exceeded_prop_stats, threshold_exceeded_prop, threshold_exceeded_prop_error, threshold_exceeded_prop_change, plot_threshold_exceedence_errors, THRESHOLDS\n",
    "from mlde_utils import cp_model_rotated_pole\n",
    "from mlde_notebooks import qq_plot, reasonable_quantiles"
   ]
  },
  {
   "cell_type": "code",
   "execution_count": null,
   "id": "1d757f55-93e8-4248-a2f3-b6a9f75a752c",
   "metadata": {},
   "outputs": [],
   "source": [
    "matplotlib.rcParams['figure.dpi'] = 300"
   ]
  },
  {
   "cell_type": "code",
   "execution_count": null,
   "id": "361fe73f-2d52-4862-8b8c-ab7604ad6c29",
   "metadata": {
    "tags": [
     "parameters"
    ]
   },
   "outputs": [],
   "source": [
    "from mlde_notebooks.default_params import *"
   ]
  },
  {
   "cell_type": "code",
   "execution_count": null,
   "id": "778a28b3-8483-4b83-895c-0253b499f36b",
   "metadata": {
    "tags": []
   },
   "outputs": [],
   "source": [
    "IPython.display.Markdown(desc)"
   ]
  },
  {
   "cell_type": "code",
   "execution_count": null,
   "id": "4df16b68-4c4d-42fb-9134-72f81d23b70b",
   "metadata": {
    "tags": []
   },
   "outputs": [],
   "source": [
    "EVAL_DS, MODELS = prep_eval_data(sample_configs, dataset_configs, derived_variables_config, eval_vars, split, ensemble_members=ensemble_members, samples_per_run=samples_per_run)\n",
    "EVAL_DS"
   ]
  },
  {
   "cell_type": "code",
   "execution_count": null,
   "id": "5d42a6f9-4512-4a90-a962-dc51a8cea484",
   "metadata": {},
   "outputs": [],
   "source": [
    "CPM_DAS = { var: EVAL_DS[\"CPM\"][f\"target_{var}\"].rename(f\"cpm_{var}\") for var in eval_vars }\n",
    "\n",
    "VAR_DAS = {\n",
    "    var: xr.merge([ EVAL_DS[source][f\"pred_{var}\"] for source, models in MODELS.items() for model, spec in models.items() ] + [CPM_DAS[var]])\n",
    "for var in eval_vars }\n",
    "\n",
    "MODELLABEL2SPEC = { model: {\"source\": source} | spec for source, models in MODELS.items() for model, spec in models.items() }"
   ]
  },
  {
   "cell_type": "markdown",
   "id": "1104e57b-f3c0-4a56-831a-ba99d91f05a4",
   "metadata": {
    "tags": []
   },
   "source": [
    "## Figures: Seasonal distribution\n",
    "\n",
    "* Frequency Density Histogram of rainfall intensities\n",
    "* Maps of Mean bias ($\\frac{\\mu_{sample}-\\mu_{CPM}}{\\mu_{CPM}}$) over all samples, time and ensemble members\n",
    "* Std Dev Bias $\\frac{\\sigma_{sample}}{\\sigma_{CPM}}$ over all samples, time and ensemble members"
   ]
  },
  {
   "cell_type": "code",
   "execution_count": null,
   "id": "28e4b703-92f9-4b24-858e-15bf011f3721",
   "metadata": {},
   "outputs": [],
   "source": [
    "for var in eval_vars:\n",
    "    IPython.display.display_markdown(f\"### {var}\", raw=True)\n",
    "    for season, season_ds in VAR_DAS[var].groupby(\"time.season\"):\n",
    "        IPython.display.display_markdown(f\"#### {season}\", raw=True)\n",
    "        hist_das = season_ds[f\"pred_{var}\"]\n",
    "        cpm_da = season_ds[f\"cpm_{var}\"]\n",
    "        normalize=(var == \"pr\")\n",
    "        mean_biases = season_ds[f\"pred_{var}\"].groupby(\"model\").map(mean_bias, cpm_da=season_ds[f\"cpm_{var}\"], normalize=normalize)\n",
    "        std_biases = season_ds[f\"pred_{var}\"].groupby(\"model\").map(std_bias, cpm_da=season_ds[f\"cpm_{var}\"], normalize=normalize)\n",
    "\n",
    "        bias_kwargs = {\"style\": f\"{var}Bias\"}\n",
    "        for fd_kwargs in [{\"yscale\": \"log\"}, {\"yscale\": \"linear\"}]:\n",
    "            fig = plt.figure(layout=\"constrained\", figsize=(5.5, 6.5))\n",
    "            axd = plot_distribution_figure(fig, hist_das, cpm_da, mean_biases, std_biases, MODELLABEL2SPEC, hrange=VAR_RANGES[var], fd_kwargs=fd_kwargs, bias_kwargs=bias_kwargs)\n",
    "            if var == \"relhum150cm\":\n",
    "                axd[\"Density\"].axvline(x=100, color='k', linestyle='--', linewidth=1)\n",
    "            \n",
    "        plt.show()"
   ]
  },
  {
   "cell_type": "markdown",
   "id": "082e0e85-5cee-485f-b33d-9d834ed7be36",
   "metadata": {},
   "source": [
    "## Seasonal RMS biases and J-S Distances"
   ]
  },
  {
   "cell_type": "code",
   "execution_count": null,
   "id": "ef712340-941d-455d-a1dc-5169885d63da",
   "metadata": {},
   "outputs": [],
   "source": [
    "for var in eval_vars:\n",
    "    IPython.display.display_markdown(f\"### {var}\", raw=True)\n",
    "    for season, season_ds in VAR_DAS[var].groupby(\"time.season\"):\n",
    "        IPython.display.display_markdown(f\"#### {season}\", raw=True)\n",
    "\n",
    "        metrics_ds, thshd_exceedence_ds = compute_metrics(season_ds[f\"pred_{var}\"], season_ds[f\"cpm_{var}\"], thresholds=DIST_THRESHOLDS[var])\n",
    "    \n",
    "        pretty_table(thshd_exceedence_ds, round=8)\n",
    "            \n",
    "        pretty_table(metrics_ds, round=4)"
   ]
  },
  {
   "cell_type": "markdown",
   "id": "abbafee0-b559-4ad5-b09c-486611a715cc",
   "metadata": {},
   "source": [
    "## Seasonal QQ plots"
   ]
  },
  {
   "cell_type": "code",
   "execution_count": null,
   "id": "3c3d4a71-9346-4c36-8340-321a6a6dc871",
   "metadata": {},
   "outputs": [],
   "source": [
    "quantile_dims=[\"ensemble_member\", \"time\", \"grid_latitude\", \"grid_longitude\"]\n",
    "\n",
    "for var in eval_vars:\n",
    "    IPython.display.display_markdown(f\"### {var}\", raw=True)\n",
    "\n",
    "    fig = plt.figure(layout='constrained', figsize=(5.5, 5.5))\n",
    "    axd = fig.subplot_mosaic(np.array([\"DJF\", \"MAM\", \"JJA\", \"SON\"]).reshape(2,2))\n",
    "\n",
    "    for season, season_ds in VAR_DAS[var].groupby(\"time.season\"):\n",
    "        season_cpm_da = season_ds[f\"cpm_{var}\"]\n",
    "\n",
    "        quantiles = reasonable_quantiles(season_cpm_da)\n",
    "        season_cpm_quantiles = season_cpm_da.quantile(quantiles, dim=quantile_dims).rename(\"target_q\")\n",
    "\n",
    "        season_pred_da = season_ds[f\"pred_{var}\"]\n",
    "        season_pred_quantiles = season_pred_da.quantile(quantiles, dim=quantile_dims).rename(\"pred_q\")\n",
    "\n",
    "        xlabel = f\"CPM \\n{xr.plot.utils.label_from_attrs(da=season_cpm_da)}\"\n",
    "        ylabel = f\"Predicted \\n{xr.plot.utils.label_from_attrs(da=season_pred_da)}\"\n",
    "\n",
    "        qq_plot(axd[season], season_cpm_quantiles, season_pred_quantiles, title=season, xlabel=xlabel, ylabel=ylabel)\n",
    "\n",
    "    plt.show()"
   ]
  },
  {
   "cell_type": "code",
   "execution_count": null,
   "id": "b42147cb-473d-41c0-8c15-5089ec85d37a",
   "metadata": {},
   "outputs": [],
   "source": []
  }
 ],
 "metadata": {
  "kernelspec": {
   "display_name": "Python 3 (ipykernel)",
   "language": "python",
   "name": "python3"
  }
 },
 "nbformat": 4,
 "nbformat_minor": 5
}
