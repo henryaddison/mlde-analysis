{
 "cells": [
  {
   "cell_type": "markdown",
   "id": "345a1b27-1df4-40e8-a2f9-0ff817ad8241",
   "metadata": {},
   "source": [
    "# Samples from models on 60km -> 2.2km-4x over Birmingham"
   ]
  },
  {
   "cell_type": "code",
   "execution_count": null,
   "id": "48718f5d-f1f8-4ccc-8089-a90b8e505b7c",
   "metadata": {},
   "outputs": [],
   "source": [
    "%reload_ext autoreload\n",
    "\n",
    "%autoreload 2\n",
    "\n",
    "%reload_ext dotenv\n",
    "%dotenv\n",
    "\n",
    "import IPython\n",
    "import matplotlib\n",
    "import matplotlib.pyplot as plt\n",
    "\n",
    "from mlde_notebooks.data import prep_eval_data\n",
    "from mlde_notebooks.examples import plot_examples, em_timestamps"
   ]
  },
  {
   "cell_type": "code",
   "execution_count": null,
   "id": "47bae957-5b0f-4d49-be85-69cd29aa4acc",
   "metadata": {},
   "outputs": [],
   "source": [
    "matplotlib.rcParams['figure.dpi'] = 300"
   ]
  },
  {
   "cell_type": "code",
   "execution_count": null,
   "id": "361fe73f-2d52-4862-8b8c-ab7604ad6c29",
   "metadata": {
    "tags": [
     "parameters"
    ]
   },
   "outputs": [],
   "source": [
    "from mlde_notebooks.default_params import *\n",
    "eval_vars=[\"relhum150cm\", \"tmean150cm\", \"pr\"]"
   ]
  },
  {
   "cell_type": "code",
   "execution_count": null,
   "id": "778a28b3-8483-4b83-895c-0253b499f36b",
   "metadata": {},
   "outputs": [],
   "source": [
    "IPython.display.Markdown(desc)"
   ]
  },
  {
   "cell_type": "code",
   "execution_count": null,
   "id": "4df16b68-4c4d-42fb-9134-72f81d23b70b",
   "metadata": {},
   "outputs": [],
   "source": [
    "EVAL_DS, MODELS = prep_eval_data(sample_configs, dataset_configs, derived_variables_config, eval_vars, split, ensemble_members=ensemble_members, samples_per_run=samples_per_run)\n",
    "EVAL_DS"
   ]
  },
  {
   "cell_type": "code",
   "execution_count": null,
   "id": "c75dc6b3-6e0f-40fd-a1dc-2d0cad2c6b25",
   "metadata": {
    "tags": []
   },
   "outputs": [],
   "source": [
    "examples_to_plot = {}\n",
    "\n",
    "for source, percentiles in example_percentiles.items():\n",
    "    em_ts = em_timestamps(EVAL_DS[source], percentiles=percentiles, overrides=example_overrides[source])\n",
    "\n",
    "    examples_to_plot[source] = em_ts"
   ]
  },
  {
   "cell_type": "code",
   "execution_count": null,
   "id": "cfd20fe4-e06c-49f8-89d0-a790e7236d24",
   "metadata": {},
   "outputs": [],
   "source": [
    "for source, examples in examples_to_plot.items():\n",
    "    IPython.display.display_html(f\"<h2>{source} Samples</h2>\", raw=True)\n",
    "    fig_width = 0.75 + len(example_inputs) + (1 + len(MODELS[source])*n_samples_per_example)*len(eval_vars)#, 100)\n",
    "    fig_height = 0 + len(example_percentiles[source]) + len(eval_vars)\n",
    "\n",
    "    fig = plt.figure(layout=\"constrained\", figsize=(fig_width, fig_height))\n",
    "    plot_examples(\n",
    "        EVAL_DS[source], examples, \n",
    "        vars=eval_vars, models=MODELS[source], fig=fig, sim_title=source, n_samples_per_example=n_samples_per_example, inputs=example_inputs\n",
    "    )\n",
    "    plt.show()"
   ]
  },
  {
   "cell_type": "code",
   "execution_count": null,
   "id": "5384d7fa-ca14-4c2b-8bca-d19df7db6d5e",
   "metadata": {},
   "outputs": [],
   "source": []
  }
 ],
 "metadata": {
  "kernelspec": {
   "display_name": "Python 3 (ipykernel)",
   "language": "python",
   "name": "python3"
  }
 },
 "nbformat": 4,
 "nbformat_minor": 5
}
