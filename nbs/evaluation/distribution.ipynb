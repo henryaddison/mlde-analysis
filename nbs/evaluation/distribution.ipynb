{
 "cells": [
  {
   "cell_type": "markdown",
   "id": "345a1b27-1df4-40e8-a2f9-0ff817ad8241",
   "metadata": {
    "tags": []
   },
   "source": [
    "# Evaluation of distribution of models on 60km -> 2.2km-4x over Birmingham"
   ]
  },
  {
   "cell_type": "code",
   "execution_count": null,
   "id": "48718f5d-f1f8-4ccc-8089-a90b8e505b7c",
   "metadata": {
    "tags": []
   },
   "outputs": [],
   "source": [
    "%reload_ext autoreload\n",
    "\n",
    "%autoreload 2\n",
    "\n",
    "%reload_ext dotenv\n",
    "%dotenv\n",
    "\n",
    "import functools\n",
    "import math\n",
    "import string\n",
    "\n",
    "import IPython\n",
    "import matplotlib\n",
    "import matplotlib.pyplot as plt\n",
    "import numpy as np\n",
    "import xarray as xr\n",
    "\n",
    "from mlde_notebooks.data import prep_eval_data\n",
    "from mlde_notebooks import plot_map\n",
    "from mlde_notebooks.display import pretty_table, VAR_RANGES\n",
    "from mlde_notebooks.distribution import mean_bias, std_bias, plot_freq_density, plot_mean_biases, plot_std_biases, rms_mean_bias, rms_std_bias, xr_hist, hist_dist, plot_distribution_figure, compute_metrics, DIST_THRESHOLDS\n",
    "from mlde_notebooks.wet_dry import threshold_exceeded_prop_stats, threshold_exceeded_prop, threshold_exceeded_prop_error, threshold_exceeded_prop_change, plot_threshold_exceedence_errors, THRESHOLDS\n",
    "from mlde_utils import cp_model_rotated_pole\n",
    "from mlde_notebooks import qq_plot, reasonable_quantiles"
   ]
  },
  {
   "cell_type": "code",
   "execution_count": null,
   "id": "1d757f55-93e8-4248-a2f3-b6a9f75a752c",
   "metadata": {},
   "outputs": [],
   "source": [
    "matplotlib.rcParams['figure.dpi'] = 300"
   ]
  },
  {
   "cell_type": "code",
   "execution_count": null,
   "id": "361fe73f-2d52-4862-8b8c-ab7604ad6c29",
   "metadata": {
    "tags": [
     "parameters"
    ]
   },
   "outputs": [],
   "source": [
    "from mlde_notebooks.default_params import *"
   ]
  },
  {
   "cell_type": "code",
   "execution_count": null,
   "id": "778a28b3-8483-4b83-895c-0253b499f36b",
   "metadata": {
    "tags": []
   },
   "outputs": [],
   "source": [
    "IPython.display.Markdown(desc)"
   ]
  },
  {
   "cell_type": "code",
   "execution_count": null,
   "id": "4df16b68-4c4d-42fb-9134-72f81d23b70b",
   "metadata": {
    "tags": []
   },
   "outputs": [],
   "source": [
    "EVAL_DS, MODELS = prep_eval_data(sample_configs, dataset_configs, derived_variables_config, eval_vars, split, ensemble_members=ensemble_members, samples_per_run=samples_per_run)\n",
    "EVAL_DS"
   ]
  },
  {
   "cell_type": "code",
   "execution_count": null,
   "id": "5d42a6f9-4512-4a90-a962-dc51a8cea484",
   "metadata": {},
   "outputs": [],
   "source": [
    "CPM_DAS = { var: EVAL_DS[\"CPM\"][f\"target_{var}\"].rename(f\"cpm_{var}\") for var in eval_vars }\n",
    "\n",
    "VAR_DAS = {\n",
    "    var: xr.merge([ EVAL_DS[source][f\"pred_{var}\"] for source, models in MODELS.items() for model, spec in models.items() ] + [CPM_DAS[var]])\n",
    "for var in eval_vars }\n",
    "\n",
    "MODELLABEL2SPEC = { model: {\"source\": source} | spec for source, models in MODELS.items() for model, spec in models.items() }"
   ]
  },
  {
   "cell_type": "markdown",
   "id": "1104e57b-f3c0-4a56-831a-ba99d91f05a4",
   "metadata": {
    "tags": []
   },
   "source": [
    "## Figure: distribution\n",
    "\n",
    "* Frequency Density Histogram of rainfall intensities\n",
    "* Maps of Mean bias ($\\frac{\\mu_{sample}-\\mu_{CPM}}{\\mu_{CPM}}$) over all samples, time and ensemble members\n",
    "* Std Dev Bias $\\frac{\\sigma_{sample}}{\\sigma_{CPM}}$ over all samples, time and ensemble members"
   ]
  },
  {
   "cell_type": "code",
   "execution_count": null,
   "id": "0358938a-9187-4520-85ea-0bf1beae5b2f",
   "metadata": {
    "tags": []
   },
   "outputs": [],
   "source": [
    "for var in eval_vars:\n",
    "    IPython.display.display_markdown(f\"### {var}\", raw=True)\n",
    "\n",
    "    hist_das = VAR_DAS[var][f\"pred_{var}\"]\n",
    "    cpm_da = CPM_DAS[var]\n",
    "    normalize=(var == \"pr\")\n",
    "    mean_biases = VAR_DAS[var][f\"pred_{var}\"].groupby(\"model\").map(mean_bias, cpm_da=VAR_DAS[var][f\"cpm_{var}\"], normalize=(var==\"pr\"))\n",
    "\n",
    "    std_biases = VAR_DAS[var][f\"pred_{var}\"].groupby(\"model\").map(std_bias, cpm_da=VAR_DAS[var][f\"cpm_{var}\"], normalize=(var==\"pr\"))\n",
    "\n",
    "    bias_kwargs = {\"style\": f\"{var}Bias\"}\n",
    "    for fd_kwargs in [{\"yscale\": \"log\"}, {\"yscale\": \"linear\"}]:\n",
    "        fig = plt.figure(layout=\"constrained\", figsize=(5.5, 6.5))\n",
    "        error_fig = plt.figure(layout=\"constrained\", figsize=(5.5, 2.5))\n",
    "        error_axd = error_fig.subplot_mosaic([[\"Error\"]])\n",
    "        error_ax = error_axd[\"Error\"]\n",
    "        axd = plot_distribution_figure(fig, hist_das, cpm_da, mean_biases, std_biases, MODELLABEL2SPEC, error_ax=error_ax, hrange=VAR_RANGES[var], fd_kwargs=fd_kwargs, bias_kwargs=bias_kwargs)\n",
    "        if var == \"relhum150cm\":\n",
    "            axd[\"Density\"].axvline(x=100, color='k', linestyle='--', linewidth=1)\n",
    "        \n",
    "        plt.show()"
   ]
  },
  {
   "cell_type": "markdown",
   "id": "66d58c68-bbd5-4a49-a43a-9095ef5316af",
   "metadata": {},
   "source": [
    "## RMS biases and J-S Distances"
   ]
  },
  {
   "cell_type": "code",
   "execution_count": null,
   "id": "830dab93-2cab-46dd-8b9e-0d1bc485d02c",
   "metadata": {
    "tags": []
   },
   "outputs": [],
   "source": [
    "for var in eval_vars:\n",
    "    IPython.display.display_markdown(f\"### {var}\", raw=True)\n",
    "    da = xr.concat([ ds[f\"pred_{var}\"] for source, ds in EVAL_DS.items() ], dim=\"model\")\n",
    "    cpm_da = CPM_DAS[var]\n",
    "    metrics_ds, thshd_exceedence_ds = compute_metrics(da, cpm_da, thresholds=DIST_THRESHOLDS[var])\n",
    "\n",
    "    pretty_table(thshd_exceedence_ds, round=8)\n",
    "        \n",
    "    pretty_table(metrics_ds, round=4)"
   ]
  },
  {
   "cell_type": "markdown",
   "id": "abbafee0-b559-4ad5-b09c-486611a715cc",
   "metadata": {},
   "source": [
    "## QQ plots"
   ]
  },
  {
   "cell_type": "code",
   "execution_count": null,
   "id": "3c3d4a71-9346-4c36-8340-321a6a6dc871",
   "metadata": {},
   "outputs": [],
   "source": [
    "quantile_dims=[\"ensemble_member\", \"time\", \"grid_latitude\", \"grid_longitude\"]\n",
    "\n",
    "for var in eval_vars:\n",
    "    IPython.display.display_markdown(f\"### {var}\", raw=True)\n",
    "\n",
    "    quantiles = reasonable_quantiles(CPM_DAS[var])\n",
    "    cpm_quantiles = CPM_DAS[var].quantile(quantiles, dim=quantile_dims).rename(\"target_q\")\n",
    "\n",
    "    for source, ds in EVAL_DS.items():\n",
    "        pred_da = ds[f\"pred_{var}\"]\n",
    "        pred_quantiles = pred_da.quantile(quantiles, dim=quantile_dims).rename(\"pred_q\")\n",
    "\n",
    "        layout=\"constrained\"\n",
    "\n",
    "        fig, ax = plt.subplots(figsize=(3.5, 3.5), layout=\"constrained\")\n",
    "\n",
    "        xlabel = f\"CPM \\n{xr.plot.utils.label_from_attrs(da=CPM_DAS[var])}\"\n",
    "        ylabel = f\"Predicted \\n{xr.plot.utils.label_from_attrs(da=pred_da)}\"\n",
    "\n",
    "        qq_plot(ax, cpm_quantiles, pred_quantiles, title=f\"Predicted quantiles vs CPM quantiles\", xlabel=xlabel, ylabel=ylabel)\n",
    "\n",
    "    plt.show()"
   ]
  },
  {
   "cell_type": "markdown",
   "id": "fec6b732-8df9-479b-bbda-cd306b0407a4",
   "metadata": {
    "tags": []
   },
   "source": [
    "## Figure: subdomain"
   ]
  },
  {
   "cell_type": "code",
   "execution_count": null,
   "id": "d7597610-7ac7-481b-8841-7070ba896db8",
   "metadata": {
    "tags": []
   },
   "outputs": [],
   "source": [
    "for var in eval_vars:\n",
    "    IPython.display.display_markdown(f\"### {var}\", raw=True)\n",
    "\n",
    "    fd_fig = plt.figure(figsize=(5.5, 4.5), layout=\"constrained\")\n",
    "\n",
    "    subregions = {\n",
    "        \"SE\": dict(grid_latitude=slice(10, 26), grid_longitude=slice(38, 54)),\n",
    "        \"NW\": dict(grid_latitude=slice(44, 60), grid_longitude=slice(18, 34)),\n",
    "    }\n",
    "\n",
    "    human_names = {\n",
    "        \"DJF\": \"Winter\",\n",
    "        \"JJA\": \"Summer\",\n",
    "    }\n",
    "\n",
    "    axd = fd_fig.subplot_mosaic([[\"NW\"], [\"SE\"]], sharex=True)\n",
    "    \n",
    "    for i, (srname, season) in enumerate([(\"NW\", \"DJF\"), (\"SE\", \"JJA\")]):\n",
    "\n",
    "        season_mask = CPM_DAS[var][\"time\"][\"time.season\"] == season\n",
    "\n",
    "        srseason_cpm_da = CPM_DAS[var].isel(**subregions[srname]).sel(time=season_mask)\n",
    "\n",
    "        srseason_hist_data = [\n",
    "            dict(data=EVAL_DS[source][f\"pred_{var}\"].sel(model=model).isel(**subregions[srname]).sel(time=season_mask), label=model, color=spec[\"color\"]) for source, mconfigs in MODELS.items() for model, spec in mconfigs.items()\n",
    "        ]\n",
    "\n",
    "        ax = axd[srname]\n",
    "        if var == \"pr\":\n",
    "            kwargs = {\n",
    "                \"yscale\": \"log\",\n",
    "            }\n",
    "        else:\n",
    "            kwargs = {\n",
    "                \"yscale\": \"linear\",\n",
    "            }\n",
    "        plot_freq_density(srseason_hist_data, ax=ax, target_da=srseason_cpm_da, linewidth=1, hrange=VAR_RANGES[var], **kwargs)\n",
    "        ax.set_title(f\"{srname} {human_names[season]}\")\n",
    "\n",
    "        if i == 0:\n",
    "            ax.set_xlabel(\"\")\n",
    "            ax.get_legend().remove()\n",
    "            reg_ax = fd_fig.add_axes([0.8, 0.8, 0.2, 0.2], projection=cp_model_rotated_pole)\n",
    "            # reg_ax = fd_fig.subplots(1, subplot_kw = dict(projection=cp_model_rotated_pole))\n",
    "            nw_cpm_da = CPM_DAS[var].isel(**subregions[\"NW\"])\n",
    "            se_cpm_da = CPM_DAS[var].isel(**subregions[\"SE\"])\n",
    "            plot_map(10*xr.ones_like(nw_cpm_da.isel(ensemble_member=0, time=0)), ax=reg_ax, style=None, cmap=\"Reds\", cl_kwargs=dict(alpha=0.2))\n",
    "            plot_map(1*xr.ones_like(se_cpm_da.isel(ensemble_member=0, time=0)), ax=reg_ax, style=None, cmap=\"Blues\", cl_kwargs=dict(alpha=0.2))\n",
    "            reg_ax.annotate(\"NW\", xy=(nw_cpm_da.grid_longitude.mean().values.item(), nw_cpm_da.grid_latitude.mean().values.item()), xycoords=\"data\", fontsize=\"medium\", ha=\"center\", va=\"center\")\n",
    "            reg_ax.annotate(\"SE\", xy=(se_cpm_da.grid_longitude.mean().values.item(), se_cpm_da.grid_latitude.mean().values.item()), xycoords=\"data\", fontsize=\"medium\", ha=\"center\", va=\"center\")\n",
    "            reg_ax.set_extent([-2, 3, -2.5, 2.5], crs=cp_model_rotated_pole)\n",
    "\n",
    "\n",
    "        ax.annotate(f\"{string.ascii_lowercase[i]}.\", xy=(0.02, 1.0), xycoords=(\"figure fraction\", \"axes fraction\"), weight='bold', ha=\"left\", va=\"bottom\")\n",
    "\n",
    "    plt.show()"
   ]
  },
  {
   "cell_type": "markdown",
   "id": "4406f87a-5602-4df8-9fe1-efff13eb5978",
   "metadata": {
    "tags": []
   },
   "source": [
    "## Figure: Threshold exceedence"
   ]
  },
  {
   "cell_type": "code",
   "execution_count": null,
   "id": "a0cd154a-1a4f-4eb6-8f48-67a77961d3d9",
   "metadata": {},
   "outputs": [],
   "source": [
    "for var, thresholds in THRESHOLDS.items():\n",
    "    if var in eval_vars:\n",
    "        model_das = [\n",
    "            EVAL_DS[source][f\"pred_{var}\"].sel(model=model)\n",
    "            for source, mconfigs in MODELS.items() for model, spec in mconfigs.items()\n",
    "        ]\n",
    "\n",
    "        threshold_exceeded_stats = { threshold: threshold_exceeded_prop_stats(model_das, CPM_DAS[var], threshold) for threshold in thresholds }\n",
    "\n",
    "        dfs = [threshold_exceeded_stats[threshold].mean(dim=[\"grid_latitude\", \"grid_longitude\"]).to_dataframe().style.set_table_attributes(\"style='display:inline'\").set_caption(f\"Threshold: {threshold}{CPM_DAS[var].attrs['units']}\").format(precision=1).to_html() for threshold in thresholds]\n",
    "\n",
    "        IPython.display.display_html(functools.reduce(lambda v, e: v+e, dfs), raw=True)\n",
    "\n",
    "        for threshold in thresholds:\n",
    "            IPython.display.display_markdown(f\"#### Threshold: {threshold}{CPM_DAS[var].attrs['units']}\", raw=True)\n",
    "\n",
    "            plot_threshold_exceedence_errors(threshold_exceeded_stats[threshold])\n",
    "\n",
    "            plt.show()"
   ]
  },
  {
   "cell_type": "code",
   "execution_count": null,
   "id": "b42147cb-473d-41c0-8c15-5089ec85d37a",
   "metadata": {},
   "outputs": [],
   "source": []
  }
 ],
 "metadata": {
  "kernelspec": {
   "display_name": "Python 3 (ipykernel)",
   "language": "python",
   "name": "python3"
  }
 },
 "nbformat": 4,
 "nbformat_minor": 5
}
