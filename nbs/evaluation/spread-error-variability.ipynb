{
 "cells": [
  {
   "cell_type": "markdown",
   "id": "ee584e86-04ca-4a07-af72-5f5224709501",
   "metadata": {
    "tags": []
   },
   "source": [
    "# Evaluation of uncertainty of models on 60km -> 2.2km-4x over Birmingham"
   ]
  },
  {
   "cell_type": "code",
   "execution_count": null,
   "id": "344a405d-316f-4b61-a3bf-14ec927d4cb8",
   "metadata": {
    "tags": []
   },
   "outputs": [],
   "source": [
    "%reload_ext autoreload\n",
    "\n",
    "%autoreload 2\n",
    "\n",
    "%reload_ext dotenv\n",
    "%dotenv\n",
    "\n",
    "import functools\n",
    "import math\n",
    "import string\n",
    "\n",
    "import IPython\n",
    "import pandas as pd\n",
    "import matplotlib\n",
    "import matplotlib.pyplot as plt\n",
    "import numpy as np\n",
    "from properscoring import crps_ensemble\n",
    "import xarray as xr\n",
    "\n",
    "from mlde_notebooks.data import prep_eval_data\n",
    "from mlde_notebooks.display import pretty_table\n",
    "from mlde_notebooks.uncertainty import plot_spread_error, plot_domain_means\n",
    "\n",
    "import IPython\n",
    "import matplotlib\n",
    "import matplotlib.pyplot as plt\n",
    "import numpy as np\n",
    "import scipy\n",
    "import seaborn as sns\n",
    "import xarray as xr\n",
    "import xskillscore as xs\n",
    "\n",
    "from mlde_utils import cp_model_rotated_pole, dataset_split_path\n",
    "from mlde_notebooks import plot_map\n",
    "from mlde_notebooks.data import open_dataset_split, attach_eval_coords, attach_derived_variables\n",
    "from mlde_notebooks.display import pretty_table\n",
    "from mlde_notebooks.distribution import xr_hist, hist_dist\n",
    "from mlde_notebooks.examples import em_timestamps"
   ]
  },
  {
   "cell_type": "code",
   "execution_count": null,
   "id": "542b8202-e568-4c06-9847-f459e1ecf71a",
   "metadata": {
    "tags": []
   },
   "outputs": [],
   "source": [
    "matplotlib.rcParams['figure.dpi'] = 300"
   ]
  },
  {
   "cell_type": "code",
   "execution_count": null,
   "id": "cd75120e-05b9-4ad6-9181-53adc673531f",
   "metadata": {
    "tags": [
     "parameters"
    ]
   },
   "outputs": [],
   "source": [
    "from mlde_notebooks.default_params import *"
   ]
  },
  {
   "cell_type": "code",
   "execution_count": null,
   "id": "7d479111-7a0f-460d-8c92-2c418bd5776a",
   "metadata": {
    "tags": []
   },
   "outputs": [],
   "source": [
    "IPython.display.Markdown(desc)"
   ]
  },
  {
   "cell_type": "code",
   "execution_count": null,
   "id": "37736bee-14fe-4254-8429-e39c113fa796",
   "metadata": {
    "tags": []
   },
   "outputs": [],
   "source": [
    "EVAL_DS, MODELS = prep_eval_data(sample_configs, dataset_configs, derived_variables_config, eval_vars, split, ensemble_members=ensemble_members, samples_per_run=samples_per_run)\n",
    "EVAL_DS"
   ]
  },
  {
   "cell_type": "code",
   "execution_count": null,
   "id": "36dbeaf9-f5eb-4a12-8de4-63ece55816c7",
   "metadata": {
    "tags": []
   },
   "outputs": [],
   "source": [
    "CPM_DAS = { var: EVAL_DS[\"CPM\"][f\"target_{var}\"] for var in eval_vars }"
   ]
  },
  {
   "cell_type": "markdown",
   "id": "561d8bd8-46d4-4d91-8807-10f1f9aea36b",
   "metadata": {
    "tags": []
   },
   "source": [
    "## Figure: spread-error variability\n",
    "\n",
    "* Spread-error\n",
    "  * https://journals.ametsoc.org/view/journals/hydr/15/4/jhm-d-14-0008_1.xml?tab_body=fulltext-display\n",
    "  * https://journals.ametsoc.org/view/journals/aies/2/2/AIES-D-22-0061.1.xml\n",
    "  * https://www.sciencedirect.com/science/article/pii/S0021999107000812"
   ]
  },
  {
   "cell_type": "code",
   "execution_count": null,
   "id": "f2db6c7e-ac5a-48fe-98d2-1c58c0f7f896",
   "metadata": {},
   "outputs": [],
   "source": [
    "def resample_examples(da):\n",
    "    return xs.resampling.resample_iterations_idx(da.stack(member=[\"ensemble_member\", \"time\"]), 10, \"member\", replace=True).unstack(\"member\")\n",
    "\n",
    "bs_ds = EVAL_DS[\"CPM\"][[var_name for var in eval_vars for var_name in [f\"target_{var}\", f\"pred_{var}\"]]].groupby(\"stratum\").map(resample_examples)\n",
    "\n",
    "bs_ds"
   ]
  },
  {
   "cell_type": "code",
   "execution_count": null,
   "id": "1933ba41-a40c-46cd-a65c-861506e730b8",
   "metadata": {
    "tags": []
   },
   "outputs": [],
   "source": [
    "for var in eval_vars:\n",
    "    ss_fig = plt.figure(layout='constrained', figsize=(4, 2))\n",
    "    axd = ss_fig.subplot_mosaic(bs_ds.model.values.reshape(1, -1))\n",
    "\n",
    "    for model, model_ds in bs_ds.groupby(\"model\", squeeze=False):\n",
    "        ax= axd[model]\n",
    "        for _, iteration_ds in model_ds.groupby(\"iteration\"):\n",
    "            mois = { model: {\"color\": None} }\n",
    "            pred_da = iteration_ds[f\"pred_{var}\"]\n",
    "            target_da = iteration_ds[f\"target_{var}\"]\n",
    "            plot_spread_error(pred_da=pred_da, target_da=target_da, ax=ax, line_props=mois)\n",
    "        ax.set_title(f\"{model}\")\n",
    "    ss_fig.suptitle(var)\n",
    "        \n",
    "    plt.show()"
   ]
  },
  {
   "cell_type": "code",
   "execution_count": null,
   "id": "0e6201b3-4d26-4861-8c82-1da6d4b42ed7",
   "metadata": {
    "tags": []
   },
   "outputs": [],
   "source": []
  }
 ],
 "metadata": {
  "kernelspec": {
   "display_name": "Python 3 (ipykernel)",
   "language": "python",
   "name": "python3"
  }
 },
 "nbformat": 4,
 "nbformat_minor": 5
}
