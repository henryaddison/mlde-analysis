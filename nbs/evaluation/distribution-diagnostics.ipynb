{
 "cells": [
  {
   "cell_type": "markdown",
   "id": "345a1b27-1df4-40e8-a2f9-0ff817ad8241",
   "metadata": {
    "tags": []
   },
   "source": [
    "# Evaluation of a selection of models on 60km -> 2.2km-4x over Birmingham"
   ]
  },
  {
   "cell_type": "code",
   "execution_count": null,
   "id": "48718f5d-f1f8-4ccc-8089-a90b8e505b7c",
   "metadata": {
    "tags": []
   },
   "outputs": [],
   "source": [
    "%reload_ext autoreload\n",
    "\n",
    "%autoreload 2\n",
    "\n",
    "%reload_ext dotenv\n",
    "%dotenv\n",
    "\n",
    "import functools\n",
    "import math\n",
    "import string\n",
    "\n",
    "import IPython\n",
    "import matplotlib\n",
    "import matplotlib.pyplot as plt\n",
    "import numpy as np\n",
    "import seaborn as sns\n",
    "import xarray as xr\n",
    "\n",
    "from mlde_analysis.data import prep_eval_data\n",
    "from mlde_analysis import plot_map, distribution_figure, scatter_plots\n",
    "from mlde_analysis.distribution import normalized_mean_bias, normalized_std_bias, plot_freq_density, plot_mean_biases, plot_std_biases, rms_mean_bias, rms_std_bias\n",
    "from mlde_analysis.psd import plot_psd, pysteps_rapsd\n",
    "from mlde_analysis.uncertainty import plot_spread_error\n",
    "from mlde_analysis.wet_dry import threshold_exceeded_prop_stats, threshold_exceeded_prop, threshold_exceeded_prop_error, threshold_exceeded_prop_change, plot_threshold_exceedence_errors\n",
    "from mlde_utils import cp_model_rotated_pole, TIME_PERIODS"
   ]
  },
  {
   "cell_type": "code",
   "execution_count": null,
   "id": "1d757f55-93e8-4248-a2f3-b6a9f75a752c",
   "metadata": {},
   "outputs": [],
   "source": [
    "matplotlib.rcParams['figure.dpi'] = 100"
   ]
  },
  {
   "cell_type": "code",
   "execution_count": null,
   "id": "361fe73f-2d52-4862-8b8c-ab7604ad6c29",
   "metadata": {
    "tags": [
     "parameters"
    ]
   },
   "outputs": [],
   "source": [
    "from mlde_analysis.default_params import *"
   ]
  },
  {
   "cell_type": "code",
   "execution_count": null,
   "id": "778a28b3-8483-4b83-895c-0253b499f36b",
   "metadata": {
    "tags": []
   },
   "outputs": [],
   "source": [
    "IPython.display.Markdown(desc)"
   ]
  },
  {
   "cell_type": "code",
   "execution_count": null,
   "id": "4df16b68-4c4d-42fb-9134-72f81d23b70b",
   "metadata": {
    "tags": []
   },
   "outputs": [],
   "source": [
    "EVAL_DS, MODELS = prep_eval_data(sample_configs, dataset_configs, derived_variables_config, eval_vars, split, ensemble_members=ensemble_members, samples_per_run=samples_per_run)\n",
    "EVAL_DS"
   ]
  },
  {
   "cell_type": "code",
   "execution_count": null,
   "id": "5d42a6f9-4512-4a90-a962-dc51a8cea484",
   "metadata": {},
   "outputs": [],
   "source": [
    "CPM_DAS = { var: EVAL_DS[\"CPM\"][f\"target_{var}\"] for var in eval_vars }"
   ]
  },
  {
   "cell_type": "markdown",
   "id": "1104e57b-f3c0-4a56-831a-ba99d91f05a4",
   "metadata": {
    "tags": []
   },
   "source": [
    "## Figure: distribution\n",
    "\n",
    "* Frequency Density Histograms of rainfall intensities, split up by sample_id, ensemble_member and random time partition"
   ]
  },
  {
   "cell_type": "code",
   "execution_count": null,
   "id": "e340be5f-f765-4ac3-b9f1-b61981e49e02",
   "metadata": {},
   "outputs": [],
   "source": [
    "rng = np.random.default_rng()\n",
    "\n",
    "# create a random partitioning by time of the data\n",
    "# attempt to partition independently by  season and time period\n",
    "def partition(group):    \n",
    "    rtp = rng.integers(2, size=group[\"time\"].shape)\n",
    "    return group.assign_coords({\"time_subset\": (\"time\", rtp)})\n",
    "random_time_partition = CPM_DAS[eval_vars[0]].groupby(\"stratum\").map(partition)[\"time_subset\"].values # NB assumes all variables have same time dimension"
   ]
  },
  {
   "cell_type": "code",
   "execution_count": null,
   "id": "8bbd80a1-5074-4d4f-892b-cafea694db28",
   "metadata": {},
   "outputs": [],
   "source": [
    "import gc\n",
    "\n",
    "model_labels = np.concatenate([ ds[\"model\"].values for ds in EVAL_DS.values() ], axis=0)\n",
    "labels = np.append(model_labels, \"CPM\")\n",
    "\n",
    "def plot_sampling_variability(ax, da, label, hue, bins, var, target_da):\n",
    "    sns.histplot(target_da.to_dataframe(), ax=ax, x=f\"{var}\", bins=bins, stat=\"density\", common_norm=False, legend=False, element=\"bars\", color=\"black\", alpha=0.2, linewidth=0)\n",
    "    sns.histplot(da.to_dataframe(), ax=ax, x=f\"{var}\", hue=hue, bins=bins, stat=\"density\", common_norm=False, element=\"step\", fill=False, legend=False)\n",
    "\n",
    "    ax.set_title(label)\n",
    "    ax.set_yscale(\"log\")\n",
    "\n",
    "for var in eval_vars:\n",
    "    IPython.display.display_markdown(f\"### {var}\", raw=True)\n",
    "    ts_fig = plt.figure(layout='constrained', figsize=(10, 3))\n",
    "    ts_axd = ts_fig.subplot_mosaic(labels.reshape(1, -1), sharex=True, sharey=True)\n",
    "\n",
    "    cpm_da = CPM_DAS[var].rename(var).assign_coords({\"time_subset\": (\"time\", random_time_partition)})\n",
    "\n",
    "    xrange = (min(cpm_da.min(),  *[ds[f\"pred_{var}\"].min() for ds in EVAL_DS.values()]), max(cpm_da.max(), *[ds[f\"pred_{var}\"].max() for ds in EVAL_DS.values()]))\n",
    "    bins = np.histogram_bin_edges([], bins=50, range=xrange)\n",
    "    \n",
    "    # em_fig = plt.figure(layout='constrained', figsize=(4.5, 5.5))\n",
    "    # em_axd = em_fig.subplot_mosaic(labels.reshape(-1, 1))\n",
    "    \n",
    "    for source, ds in EVAL_DS.items():\n",
    "        da = ds[f\"pred_{var}\"].rename(var).assign_coords({\"time_subset\": (\"time\", random_time_partition)})\n",
    "        \n",
    "        for label, group_da in da.groupby(\"model\"):\n",
    "            plot_sampling_variability(ts_axd[label], group_da, label, \"time_subset\", bins, var, cpm_da)\n",
    "            # plot_sampling_variability(em_axd[label], group_da, label, \"ensemble_member\", var)\n",
    "            gc.collect()\n",
    "    \n",
    "    label = \"CPM\"\n",
    "    plot_sampling_variability(ts_axd[label], cpm_da, label, \"time_subset\", bins, var, cpm_da)\n",
    "    # plot_sampling_variability(em_axd[label], cpm_da, label, \"ensemble_member\", var)\n",
    "    \n",
    "    plt.show()"
   ]
  },
  {
   "cell_type": "code",
   "execution_count": null,
   "id": "b42147cb-473d-41c0-8c15-5089ec85d37a",
   "metadata": {},
   "outputs": [],
   "source": []
  }
 ],
 "metadata": {
  "kernelspec": {
   "display_name": "Python 3 (ipykernel)",
   "language": "python",
   "name": "python3"
  }
 },
 "nbformat": 4,
 "nbformat_minor": 5
}
