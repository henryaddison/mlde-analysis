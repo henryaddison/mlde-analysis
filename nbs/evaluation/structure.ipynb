{
 "cells": [
  {
   "cell_type": "markdown",
   "id": "ee584e86-04ca-4a07-af72-5f5224709501",
   "metadata": {
    "tags": []
   },
   "source": [
    "# Evaluation of a structure of samples from models on 60km -> 2.2km-4x over Birmingham"
   ]
  },
  {
   "cell_type": "code",
   "execution_count": null,
   "id": "344a405d-316f-4b61-a3bf-14ec927d4cb8",
   "metadata": {
    "tags": []
   },
   "outputs": [],
   "source": [
    "%reload_ext autoreload\n",
    "\n",
    "%autoreload 2\n",
    "\n",
    "%reload_ext dotenv\n",
    "%dotenv\n",
    "\n",
    "import functools\n",
    "import math\n",
    "import string\n",
    "\n",
    "import IPython\n",
    "import matplotlib\n",
    "import matplotlib.pyplot as plt\n",
    "import numpy as np\n",
    "import xarray as xr\n",
    "\n",
    "from mlde_notebooks.data import prep_eval_data\n",
    "from mlde_notebooks.psd import plot_psd, pysteps_rapsd"
   ]
  },
  {
   "cell_type": "code",
   "execution_count": null,
   "id": "542b8202-e568-4c06-9847-f459e1ecf71a",
   "metadata": {
    "tags": []
   },
   "outputs": [],
   "source": [
    "matplotlib.rcParams['figure.dpi'] = 300"
   ]
  },
  {
   "cell_type": "code",
   "execution_count": null,
   "id": "cd75120e-05b9-4ad6-9181-53adc673531f",
   "metadata": {
    "tags": [
     "parameters"
    ]
   },
   "outputs": [],
   "source": [
    "from mlde_notebooks.default_params import *"
   ]
  },
  {
   "cell_type": "code",
   "execution_count": null,
   "id": "7d479111-7a0f-460d-8c92-2c418bd5776a",
   "metadata": {
    "tags": []
   },
   "outputs": [],
   "source": [
    "IPython.display.Markdown(desc)"
   ]
  },
  {
   "cell_type": "code",
   "execution_count": null,
   "id": "37736bee-14fe-4254-8429-e39c113fa796",
   "metadata": {
    "tags": []
   },
   "outputs": [],
   "source": [
    "EVAL_DS, MODELS = prep_eval_data(sample_configs, dataset_configs, derived_variables_config, eval_vars, split, ensemble_members=ensemble_members, samples_per_run=samples_per_run)\n",
    "EVAL_DS"
   ]
  },
  {
   "cell_type": "code",
   "execution_count": null,
   "id": "36dbeaf9-f5eb-4a12-8de4-63ece55816c7",
   "metadata": {
    "tags": []
   },
   "outputs": [],
   "source": [
    "CPM_DAS = { var: EVAL_DS[\"CPM\"][f\"target_{var}\"] for var in eval_vars }"
   ]
  },
  {
   "cell_type": "markdown",
   "id": "48fecf0f-a216-432d-91a9-9516395cd729",
   "metadata": {
    "tags": []
   },
   "source": [
    "## Figure: structure\n",
    "\n",
    "* PSD"
   ]
  },
  {
   "cell_type": "code",
   "execution_count": null,
   "id": "c9f8d247-0792-4b7a-b74e-9673ceb1e1b1",
   "metadata": {
    "tags": []
   },
   "outputs": [],
   "source": [
    "# if len(eval_vars) > 1:\n",
    "#     gridspec = np.pad(np.array(eval_vars), (0, -len(eval_vars) % 2), constant_values=\".\").reshape(-1, 1)\n",
    "# else:\n",
    "#     gridspec = np.array([eval_vars])\n",
    "# structure_fig = plt.figure(figsize=(5.5*gridspec.shape[1], 3.5*gridspec.shape[0]), layout=\"constrained\")\n",
    "# axd = structure_fig.subplot_mosaic(gridspec, sharey=True, sharex=False)\n",
    "\n",
    "for var in eval_vars:\n",
    "    IPython.display.display_markdown(f\"### {var}\", raw=True)\n",
    "    # gridspec = np.array([var]).reshape(1,1)\n",
    "    structure_fig = plt.figure(figsize=(4, 3), layout=\"constrained\")\n",
    "    axd = structure_fig.subplot_mosaic([[var]], sharey=True, sharex=False)\n",
    "    cpm_hr_rapsd = pysteps_rapsd(CPM_DAS[var].stack(example=[\"ensemble_member\", \"time\"]).transpose(\"example\", \"grid_latitude\", \"grid_longitude\"), pixel_size=8.8).mean(dim=\"example\").drop_sel(freq=0)\n",
    "    \n",
    "    pred_rapsds = [\n",
    "        {\n",
    "            \"label\": model,\n",
    "            \"color\": spec[\"color\"],\n",
    "            \"data\": pysteps_rapsd(EVAL_DS[source][f\"pred_{var}\"].sel(model=model).stack(example=[\"ensemble_member\", \"sample_id\", \"time\"]).transpose(\"example\", \"grid_latitude\", \"grid_longitude\"), pixel_size=8.8).mean(dim=\"example\").drop_sel(freq=0)\n",
    "        }\n",
    "        for source, mconfigs in MODELS.items() for model, spec in mconfigs.items()\n",
    "    ]\n",
    "    \n",
    "    ax = axd[var]\n",
    "\n",
    "    plot_psd(cpm_hr_rapsd, pred_rapsds, ax=ax)\n",
    "    # ax.set_title(CPM_DAS[var].attrs[\"long_name\"])\n",
    "    \n",
    "    plt.show()"
   ]
  },
  {
   "cell_type": "code",
   "execution_count": null,
   "id": "11289a95-c538-4b79-a63c-f8cc7776128e",
   "metadata": {
    "tags": []
   },
   "outputs": [],
   "source": []
  }
 ],
 "metadata": {
  "kernelspec": {
   "display_name": "Python 3 (ipykernel)",
   "language": "python",
   "name": "python3"
  }
 },
 "nbformat": 4,
 "nbformat_minor": 5
}
