{
 "cells": [
  {
   "cell_type": "markdown",
   "id": "345a1b27-1df4-40e8-a2f9-0ff817ad8241",
   "metadata": {
    "tags": []
   },
   "source": [
    "# Evaluation of distribution of models on 60km -> 2.2km-4x over Birmingham"
   ]
  },
  {
   "cell_type": "code",
   "execution_count": null,
   "id": "48718f5d-f1f8-4ccc-8089-a90b8e505b7c",
   "metadata": {
    "tags": []
   },
   "outputs": [],
   "source": [
    "%reload_ext autoreload\n",
    "\n",
    "%autoreload 2\n",
    "\n",
    "%reload_ext dotenv\n",
    "%dotenv\n",
    "\n",
    "import functools\n",
    "import itertools\n",
    "import math\n",
    "import string\n",
    "\n",
    "import IPython\n",
    "import matplotlib\n",
    "import matplotlib.pyplot as plt\n",
    "import numpy as np\n",
    "import scipy\n",
    "import seaborn as sns\n",
    "import xarray as xr\n",
    "import xskillscore as xss\n",
    "\n",
    "from mlde_utils import cp_model_rotated_pole\n",
    "\n",
    "from mlde_analysis.data import prep_eval_data\n",
    "from mlde_analysis.display import pretty_table, VAR_RANGES\n",
    "from mlde_analysis.mv_distribution import compute_hist2d, plot_hist2d_figure"
   ]
  },
  {
   "cell_type": "code",
   "execution_count": null,
   "id": "1d757f55-93e8-4248-a2f3-b6a9f75a752c",
   "metadata": {},
   "outputs": [],
   "source": [
    "matplotlib.rcParams['figure.dpi'] = 300"
   ]
  },
  {
   "cell_type": "code",
   "execution_count": null,
   "id": "361fe73f-2d52-4862-8b8c-ab7604ad6c29",
   "metadata": {
    "tags": [
     "parameters"
    ]
   },
   "outputs": [],
   "source": [
    "from mlde_analysis.default_params import *\n",
    "eval_vars=[\"pr\", \"relhum150cm\", \"tmean150cm\"]"
   ]
  },
  {
   "cell_type": "code",
   "execution_count": null,
   "id": "778a28b3-8483-4b83-895c-0253b499f36b",
   "metadata": {
    "tags": []
   },
   "outputs": [],
   "source": [
    "IPython.display.Markdown(desc)"
   ]
  },
  {
   "cell_type": "code",
   "execution_count": null,
   "id": "4df16b68-4c4d-42fb-9134-72f81d23b70b",
   "metadata": {
    "tags": []
   },
   "outputs": [],
   "source": [
    "EVAL_DS, MODELS = prep_eval_data(sample_configs, dataset_configs, derived_variables_config, eval_vars, split, ensemble_members=ensemble_members, samples_per_run=samples_per_run)\n",
    "EVAL_DS"
   ]
  },
  {
   "cell_type": "code",
   "execution_count": null,
   "id": "5d42a6f9-4512-4a90-a962-dc51a8cea484",
   "metadata": {},
   "outputs": [],
   "source": [
    "CPM_DAS = { var: EVAL_DS[\"CPM\"][f\"target_{var}\"] for var in eval_vars }"
   ]
  },
  {
   "cell_type": "markdown",
   "id": "7089c790-32d5-44cc-b731-5863a1c3d4c8",
   "metadata": {},
   "source": [
    "## MV distribution distances"
   ]
  },
  {
   "cell_type": "code",
   "execution_count": null,
   "id": "3d2b75f1-3c13-49cc-9094-f2c1730328b2",
   "metadata": {},
   "outputs": [],
   "source": [
    "# for source, ds in EVAL_DS.items():\n",
    "#     target_h, target_bins = np.histogramdd(\n",
    "#         [ds[f\"target_{var}\"].values.reshape(-1) for var in eval_vars], \n",
    "#         bins=50,\n",
    "#     )\n",
    "#     for model, mds in ds.groupby(\"model\"):\n",
    "#         pred_h, pred_bins = np.histogramdd([mds[f\"pred_{var}\"].values.reshape(-1) for var in eval_vars], bins=target_bins)\n",
    "#         print(model, \"rmse\", np.sqrt(np.mean(np.power(target_h - pred_h, 2))))\n",
    "        \n",
    "    # for model, mds in ds.groupby(\"model\"):\n",
    "    #     npt=np.stack([ds[f\"target_{var}\"].values.reshape(-1) for var in eval_vars], axis=1)\n",
    "    #     npp=np.stack([mds[f\"pred_{var}\"].values.reshape(-1) for var in eval_vars], axis=1)\n",
    "    #     print(model, \"Wd samples\", scipy.stats.wasserstein_distance_nd(npt, npp))\n",
    "        \n",
    "    # for model, mds in ds.groupby(\"model\"):\n",
    "    #     pred_h, pred_bins = np.histogramdd([mds[f\"pred_{var}\"].values.reshape(-1) for var in eval_vars], bins=target_bins)\n",
    "    #     print(model, \"Wd hist\", scipy.stats.wasserstein_distance_nd(\n",
    "    #         np.stack(np.meshgrid(target_bins[0][:-1], target_bins[1][:-1], target_bins[2][:-1], indexing=\"ij\"), axis=-1).reshape(-1, 3), \n",
    "    #         np.stack(np.meshgrid(pred_bins[0][:-1], pred_bins[1][:-1], pred_bins[2][:-1], indexing=\"ij\"), axis=-1).reshape(-1, 3),\n",
    "    #         target_h.reshape(-1), pred_h.reshape(-1)\n",
    "    #     ))"
   ]
  },
  {
   "cell_type": "markdown",
   "id": "452bea9e-5b84-491a-b7c3-67c4e0a63bf6",
   "metadata": {
    "tags": []
   },
   "source": [
    "## Figure: joint distribution\n",
    "\n",
    "* 2-D Frequency Density Histograms"
   ]
  },
  {
   "cell_type": "code",
   "execution_count": null,
   "id": "31ebbf6c-e5f3-46e0-92c6-f3054152e733",
   "metadata": {},
   "outputs": [],
   "source": [
    "def extract_and_compute_hist2d(ds, var_pair, xbins, ybins):\n",
    "    x_pred = ds[f\"pred_{var_pair[0]}\"]\n",
    "    y_pred = ds[f\"pred_{var_pair[1]}\"]\n",
    "    x_target = ds[f\"target_{var_pair[0]}\"]\n",
    "    y_target = ds[f\"target_{var_pair[1]}\"]\n",
    "    \n",
    "    return compute_hist2d(x_pred, y_pred, x_target, y_target, xbins=xbins, ybins=ybins)"
   ]
  },
  {
   "cell_type": "markdown",
   "id": "9422b8dc-8b0e-465d-be92-34a4c4769673",
   "metadata": {
    "tags": []
   },
   "source": [
    "### Annual"
   ]
  },
  {
   "cell_type": "code",
   "execution_count": null,
   "id": "995c6017-6f01-4329-be80-f725a50d145f",
   "metadata": {
    "tags": []
   },
   "outputs": [],
   "source": [
    "rmse_hist2ds = []\n",
    "for source in EVAL_DS.keys():\n",
    "    ds = EVAL_DS[source]\n",
    "    for var_pair in itertools.combinations(eval_vars, 2):\n",
    "        IPython.display.display_markdown(f\"#### {var_pair}\", raw=True)\n",
    "        xbins = np.histogram_bin_edges([], bins=50, range=VAR_RANGES[var_pair[0]])\n",
    "        ybins = np.histogram_bin_edges([], bins=50, range=VAR_RANGES[var_pair[1]])\n",
    "        hist2d_ds = extract_and_compute_hist2d(ds, var_pair, xbins, ybins)\n",
    "        \n",
    "        fig, axd = plot_hist2d_figure(hist2d_ds, xbins, ybins)\n",
    "        # fig.suptitle(f\"Annual {var_pair}\")\n",
    "        if var_pair[0] == \"relhum150cm\":\n",
    "            for ax in axd.values():\n",
    "                ax.axvline(x=100, color='k', linestyle='--', linewidth=1)\n",
    "        if var_pair[1] == \"relhum150cm\":\n",
    "            for ax in axd.values():\n",
    "                ax.axhline(y=100, color='k', linestyle='--', linewidth=1)\n",
    "        plt.show()\n",
    "\n",
    "        rmse_hist2ds.append(np.sqrt(((hist2d_ds[\"pred_2d_density\"] - hist2d_ds[\"target_2d_density\"])**2).mean(dim=[\"xbins\", \"ybins\"])).rename(\"hist2d_rmse\").expand_dims(vars=[f\"{var_pair}\"]))\n",
    "pretty_table(xr.merge(rmse_hist2ds).transpose(\"vars\", \"model\"), round=6)"
   ]
  },
  {
   "cell_type": "markdown",
   "id": "4a5574ab-bdaf-41ce-a77b-3e3775c895b6",
   "metadata": {
    "tags": []
   },
   "source": [
    "### Seasonal"
   ]
  },
  {
   "cell_type": "code",
   "execution_count": null,
   "id": "7abf7736-9489-42da-8603-9489dbd99770",
   "metadata": {
    "tags": []
   },
   "outputs": [],
   "source": [
    "rmse_hist2ds = []\n",
    "for source in EVAL_DS.keys():\n",
    "    ds = EVAL_DS[source]\n",
    "    for var_pair in itertools.combinations(eval_vars, 2):\n",
    "        IPython.display.display_markdown(f\"#### {var_pair}\", raw=True)\n",
    "        xbins = np.histogram_bin_edges([], bins=50, range=VAR_RANGES[var_pair[0]])\n",
    "        ybins = np.histogram_bin_edges([], bins=50, range=VAR_RANGES[var_pair[1]])\n",
    "        hist2d_ds = ds.groupby(\"time.season\").map(extract_and_compute_hist2d, var_pair=var_pair, xbins=xbins, ybins=ybins)\n",
    "        \n",
    "        for season, season_hist2d_ds in hist2d_ds.groupby(\"season\"):\n",
    "            if season not in [\"DJF\", \"JJA\"]: continue\n",
    "            IPython.display.display_markdown(f\"##### {season}\", raw=True)\n",
    "            \n",
    "            fig, axd = plot_hist2d_figure(season_hist2d_ds, xbins, ybins)\n",
    "            # fig.suptitle(f\"{season} {var_pair}\")\n",
    "            if var_pair[0] == \"relhum150cm\":\n",
    "                for ax in axd.values():\n",
    "                    ax.axvline(x=100, color='k', linestyle='--', linewidth=1)\n",
    "            if var_pair[1] == \"relhum150cm\":\n",
    "                for ax in axd.values():\n",
    "                    ax.axhline(y=100, color='k', linestyle='--', linewidth=1)\n",
    "            plt.show()\n",
    "    \n",
    "            rmse_hist2ds.append(np.sqrt(((hist2d_ds[\"pred_2d_density\"] - hist2d_ds[\"target_2d_density\"])**2).mean(dim=[\"xbins\", \"ybins\"])).rename(\"hist2d_rmse\").expand_dims(vars=[f\"{var_pair}\"]))\n",
    "pretty_table(xr.merge(rmse_hist2ds).transpose(\"vars\", \"model\", \"season\"), round=6)"
   ]
  },
  {
   "cell_type": "code",
   "execution_count": null,
   "id": "be4316a0-f2c0-4401-acd9-80325ba628e3",
   "metadata": {},
   "outputs": [],
   "source": []
  }
 ],
 "metadata": {
  "kernelspec": {
   "display_name": "Python 3 (ipykernel)",
   "language": "python",
   "name": "python3"
  }
 },
 "nbformat": 4,
 "nbformat_minor": 5
}
