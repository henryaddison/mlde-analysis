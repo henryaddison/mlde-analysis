{
 "cells": [
  {
   "cell_type": "markdown",
   "id": "345a1b27-1df4-40e8-a2f9-0ff817ad8241",
   "metadata": {
    "tags": []
   },
   "source": [
    "# Evaluation of a selection of models on 60km -> 2.2km-4x over Birmingham"
   ]
  },
  {
   "cell_type": "code",
   "execution_count": null,
   "id": "48718f5d-f1f8-4ccc-8089-a90b8e505b7c",
   "metadata": {
    "tags": []
   },
   "outputs": [],
   "source": [
    "%reload_ext autoreload\n",
    "\n",
    "%autoreload 2\n",
    "\n",
    "%reload_ext dotenv\n",
    "%dotenv\n",
    "\n",
    "import functools\n",
    "import math\n",
    "import string\n",
    "\n",
    "import IPython\n",
    "import matplotlib\n",
    "import matplotlib.pyplot as plt\n",
    "import numpy as np\n",
    "import seaborn as sns\n",
    "import xarray as xr\n",
    "\n",
    "from mlde_analysis.utils import chained_groupby_map\n",
    "from mlde_analysis.data import prep_eval_data\n",
    "from mlde_analysis import plot_map, SUBREGIONS\n",
    "from mlde_analysis.bootstrap import resample_examples\n",
    "from mlde_analysis.ccs import compute_changes, plot_changes, plot_tp_fd, plot_hist_per_tp, plot_ccs_fc_figure, ccs_fc_da\n",
    "from mlde_analysis.distribution import PER_GRIDBOX_QUANTILES, normalized_mean_bias, normalized_std_bias, plot_freq_density, plot_mean_biases, plot_std_biases, rms_mean_bias, rms_std_bias, compute_metrics, DIST_THRESHOLDS\n",
    "from mlde_analysis.fractional_contribution import compute_fractional_contribution, frac_contrib_change, fc_bins\n",
    "from mlde_analysis.wet_dry import threshold_exceeded_prop_stats, threshold_exceeded_prop_change, plot_threshold_exceedence_errors, THRESHOLDS\n",
    "from mlde_analysis.display import VAR_RANGES, pretty_table\n",
    "from mlde_utils import cp_model_rotated_pole, TIME_PERIODS"
   ]
  },
  {
   "cell_type": "code",
   "execution_count": null,
   "id": "0de6eaf3-b4fb-4b6c-af4f-2a8aa40cf2d4",
   "metadata": {},
   "outputs": [],
   "source": [
    "matplotlib.rcParams['figure.dpi'] = 300"
   ]
  },
  {
   "cell_type": "code",
   "execution_count": null,
   "id": "361fe73f-2d52-4862-8b8c-ab7604ad6c29",
   "metadata": {
    "tags": [
     "parameters"
    ]
   },
   "outputs": [],
   "source": [
    "from mlde_analysis.default_params import *"
   ]
  },
  {
   "cell_type": "code",
   "execution_count": null,
   "id": "778a28b3-8483-4b83-895c-0253b499f36b",
   "metadata": {
    "tags": []
   },
   "outputs": [],
   "source": [
    "IPython.display.Markdown(desc)"
   ]
  },
  {
   "cell_type": "code",
   "execution_count": null,
   "id": "4df16b68-4c4d-42fb-9134-72f81d23b70b",
   "metadata": {
    "tags": []
   },
   "outputs": [],
   "source": [
    "EVAL_DS, MODELS = prep_eval_data(sample_configs, dataset_configs, derived_variables_config, eval_vars, split, ensemble_members=ensemble_members, samples_per_run=samples_per_run)\n",
    "EVAL_DS"
   ]
  },
  {
   "cell_type": "code",
   "execution_count": null,
   "id": "5d42a6f9-4512-4a90-a962-dc51a8cea484",
   "metadata": {},
   "outputs": [],
   "source": [
    "CPM_DAS = { var: EVAL_DS[\"CPM\"][f\"target_{var}\"] for var in eval_vars }\n",
    "\n",
    "PRED_DAS = { var: xr.concat([ ds[f\"pred_{var}\"] for ds in EVAL_DS.values() ], dim=\"model\") for var in eval_vars }\n",
    "\n",
    "MODELLABEL2SPEC = { model: {\"source\": source} | spec for source, models in MODELS.items() for model, spec in models.items() } | {\"CPM\": {\"source\": \"CPM\", \"color\": \"black\"}}"
   ]
  },
  {
   "cell_type": "code",
   "execution_count": null,
   "id": "aac8ce9e-590e-4bce-8d80-45db49132b31",
   "metadata": {},
   "outputs": [],
   "source": [
    "CCS_SEASONS = [\"DJF\", \"JJA\"]"
   ]
  },
  {
   "cell_type": "code",
   "execution_count": null,
   "id": "e2649809-2cf5-445e-ba2f-011b6ae0d822",
   "metadata": {},
   "outputs": [],
   "source": [
    "CCS_MODELS = {source: {model: spec for model, spec in mconfigs.items() if spec.get(\"CCS\", False)} for source, mconfigs in MODELS.items() }\n",
    "\n",
    "CCS_PRED_DAS = {var: PRED_DAS[var].sel(model=list([model for source, models in CCS_MODELS.items() for model in models])) for var in eval_vars }\n",
    "\n",
    "CCS_DS = xr.combine_by_coords([*list(CPM_DAS.values()), *list(CCS_PRED_DAS.values())])"
   ]
  },
  {
   "cell_type": "markdown",
   "id": "2e3025be-4ae4-45fb-84e3-a63fbd76adb1",
   "metadata": {
    "tags": []
   },
   "source": [
    "## Figure: per Time Period per season frequency density\n",
    "\n",
    "* Frequency Density Histogram of rainfall intensities for each time period"
   ]
  },
  {
   "cell_type": "code",
   "execution_count": null,
   "id": "1a2e364e-18df-4b06-80d6-1d66c386a82b",
   "metadata": {},
   "outputs": [],
   "source": [
    "for var in eval_vars:\n",
    "    fig = plt.figure(layout='constrained', figsize=(3.5*len(CCS_SEASONS), 2*len(TIME_PERIODS)))\n",
    "    spec = np.array(list([[f\"{season} {tp_key}\" for season in CCS_SEASONS] for tp_key in TIME_PERIODS.keys() ]))\n",
    "    \n",
    "    axd = fig.subplot_mosaic(spec, sharex=True)\n",
    "    for season, seasonal_ccs_ds in CCS_DS.groupby(\"time.season\"):\n",
    "        if season not in CCS_SEASONS:\n",
    "            continue\n",
    "        \n",
    "        for tp_key, tp_ds in seasonal_ccs_ds.groupby(\"time_period\"):\n",
    "            ax = axd[f\"{season} {tp_key}\"]\n",
    "            hist_data = [ dict(data=model_ds[f\"pred_{var}\"], label=model, color=MODELLABEL2SPEC[model][\"color\"]) for model, model_ds in tp_ds.groupby(\"model\") ]\n",
    "            hrange=VAR_RANGES[var]\n",
    "            plot_freq_density(hist_data, ax=ax, target_da=tp_ds[f\"target_{var}\"], legend=(tp_key==\"historic\" and season==\"DJF\"), linewidth=1, title=f\"{season} {tp_key}\", hrange=hrange)\n",
    "    \n",
    "            ax.xaxis.label.set_visible(tp_key == \"future\")    \n",
    "            \n",
    "    plt.show()"
   ]
  },
  {
   "cell_type": "markdown",
   "id": "8064a6f2-ebf1-4141-85b3-0c5c9ed36bcb",
   "metadata": {},
   "source": [
    "### Per time period per season metrics"
   ]
  },
  {
   "cell_type": "code",
   "execution_count": null,
   "id": "cf360153-fd8c-40a3-a302-23e23ad9a1d7",
   "metadata": {},
   "outputs": [],
   "source": [
    "for var in eval_vars:\n",
    "    IPython.display.display_markdown(f\"### {var}\", raw=True)\n",
    "\n",
    "    metrics_ds = CCS_DS.groupby(\"time.season\").map(lambda season_ds: season_ds.groupby(\"time_period\").map(lambda tp_ds: compute_metrics(tp_ds[f\"pred_{var}\"], tp_ds[f\"target_{var}\"], thresholds=DIST_THRESHOLDS[var])))\n",
    "        \n",
    "    pretty_table(metrics_ds, round=4, dim_order=[\"season\", \"time_period\", \"model\"], caption=\"Distribution metrics per season and time period\")"
   ]
  },
  {
   "cell_type": "markdown",
   "id": "615961b2-82fa-4985-8cc1-72757dbe8821",
   "metadata": {},
   "source": [
    "## Change in mean"
   ]
  },
  {
   "cell_type": "markdown",
   "id": "676e8758-85e1-46ad-ae85-5af4d62d9845",
   "metadata": {},
   "source": [
    "### Mean change maps"
   ]
  },
  {
   "cell_type": "code",
   "execution_count": null,
   "id": "f9907547-0ff6-4b4a-bf03-08166928daad",
   "metadata": {
    "tags": []
   },
   "outputs": [],
   "source": [
    "for var in eval_vars:\n",
    "    IPython.display.display_markdown(f\"#### {var}\", raw=True)    \n",
    "    for model, ccs_pred_da in CCS_PRED_DAS[var].groupby(\"model\"):\n",
    "        changes = compute_changes([ccs_pred_da.squeeze(\"model\")], CPM_DAS[var], CCS_SEASONS, stat_func=xr.DataArray.mean)\n",
    "        change_fig = plt.figure(figsize=(5.5, 4.5), layout=\"compressed\")\n",
    "        plot_changes(changes, CCS_SEASONS, change_fig, show_change=[model])\n",
    "        \n",
    "    plt.show()"
   ]
  },
  {
   "cell_type": "markdown",
   "id": "8447dad2-6439-4429-8620-6a02ca79760f",
   "metadata": {},
   "source": [
    "### CCS mean Variablity"
   ]
  },
  {
   "cell_type": "raw",
   "id": "cacc16c5-f45e-41aa-b3ec-6390b087b829",
   "metadata": {},
   "source": [
    "time_da = EVAL_DS[\"CPM\"][\"time\"]\n",
    "\n",
    "df = time_da.to_dataframe().drop_duplicates([\"stratum\", \"dec_adjusted_year\"])\n",
    "\n",
    "from sklearn.model_selection import StratifiedKFold\n",
    "\n",
    "skf = StratifiedKFold(n_splits=3, shuffle=True, random_state=42)\n",
    "\n",
    "for var in eval_vars:\n",
    "    IPython.display.display_markdown(f\"#### {var}\", raw=True)\n",
    "    for model, ccs_pred_da in CCS_PRED_DAS[var].groupby(\"model\"):\n",
    "        for subsample_idx, (_, test_idx) in enumerate(skf.split(df[[\"dec_adjusted_year\"]], df[\"stratum\"])):\n",
    "            fold_df = df.iloc[test_idx]\n",
    "            fold_time_da = time_da.where(time_da[\"tp_season_year\"].isin(fold_df[\"stratum\"].str.cat(fold_df[\"dec_adjusted_year\"].astype(\"str\"), sep=' ').values), drop=True)\n",
    "            \n",
    "            ccs_pred_da_subsamples = ccs_pred_da[f\"pred_{var}\"].sel(time=fold_time_da.data)\n",
    "            \n",
    "            mean_changes = compute_changes([ccs_pred_da_subsamples], EVAL_DS[\"CPM\"][f\"target_{var}\"].sel(time=fold_time_da), CCS_SEASONS, stat_func=xr.DataArray.mean)\n",
    "        \n",
    "            mean_change_fig = plt.figure(figsize=(5.5, 5.5), layout=\"compressed\")\n",
    "            \n",
    "            plot_changes(mean_changes, CCS_SEASONS, mean_change_fig, show_change=[ccs_pred_da_subsamples[\"model\"].data.item()])\n",
    "        \n",
    "            plt.show()"
   ]
  },
  {
   "cell_type": "markdown",
   "id": "a17c3101-71b6-4715-bdfb-e356ee718786",
   "metadata": {},
   "source": [
    "## Change in extremes"
   ]
  },
  {
   "cell_type": "markdown",
   "id": "e9ef8cad-a5fe-49ad-995d-def152cc2bac",
   "metadata": {},
   "source": [
    "### High quantile change maps"
   ]
  },
  {
   "cell_type": "code",
   "execution_count": null,
   "id": "2bdd5808-fa95-4f67-b3f5-4c055d7d8416",
   "metadata": {
    "tags": []
   },
   "outputs": [],
   "source": [
    "for var in eval_vars:\n",
    "    for q in PER_GRIDBOX_QUANTILES:\n",
    "        IPython.display.display_markdown(f\"#### {var} {q}\", raw=True)\n",
    "        for model, ccs_pred_da in CCS_PRED_DAS[var].groupby(\"model\"):\n",
    "            changes = compute_changes([ccs_pred_da.squeeze(\"model\")], CPM_DAS[var], CCS_SEASONS, stat_func=functools.partial(xr.DataArray.quantile, q=q))\n",
    "            change_fig = plt.figure(figsize=(5.5, 4.5), layout=\"compressed\")\n",
    "            plot_changes(changes, CCS_SEASONS, change_fig, show_change=[model])\n",
    "            \n",
    "        plt.show()"
   ]
  },
  {
   "cell_type": "markdown",
   "id": "6f3cc9e3-192e-425c-8c8d-870c203ca71f",
   "metadata": {},
   "source": [
    "### Between samples\n",
    "\n",
    "i.e. for emulator compute quantiles separately for all sets of samples"
   ]
  },
  {
   "cell_type": "code",
   "execution_count": null,
   "id": "e9f91e0f-e9fe-4369-a4bb-966454ec6848",
   "metadata": {},
   "outputs": [],
   "source": [
    "for var in eval_vars:\n",
    "    IPython.display.display_markdown(f\"### {var}\", raw=True)\n",
    "    \n",
    "    quantiles_ds = xr.merge([\n",
    "        chained_groupby_map(\n",
    "            CCS_DS[f\"pred_{var}\"], \n",
    "            [\"model\", \"time.season\", \"time_period\"], \n",
    "            lambda gda: gda.quantile(q=PER_GRIDBOX_QUANTILES, dim=[\"ensemble_member\", \"time\"])\n",
    "        ).rename(f\"pred_{var}_q\"),\n",
    "        chained_groupby_map(\n",
    "            CCS_DS[f\"target_{var}\"], \n",
    "            [\"time.season\", \"time_period\"],\n",
    "            lambda gda: gda.quantile(q=PER_GRIDBOX_QUANTILES, dim=[\"ensemble_member\", \"time\"])\n",
    "        ).rename(f\"target_{var}_q\")],\n",
    "\n",
    "    )\n",
    "    \n",
    "    quantiles_change_ds = (quantiles_ds.sel(time_period=\"future\") - quantiles_ds.sel(time_period=\"historic\"))\n",
    "\n",
    "    quantiles_rel_change_ds = 100*(quantiles_change_ds / quantiles_ds.sel(time_period=\"historic\").drop(\"time_period\"))\n",
    "\n",
    "    mean_q_rel_change_ds = quantiles_rel_change_ds.mean(dim=[\"grid_longitude\", \"grid_latitude\"])\n",
    "    \n",
    "    pretty_table(\n",
    "        xr.merge([\n",
    "            xr.concat([\n",
    "                mean_q_rel_change_ds[f\"pred_{var}_q\"].mean(dim=[\"sample_id\"]),\n",
    "                mean_q_rel_change_ds[f\"target_{var}_q\"].expand_dims(model=[\"CPM\"]),\n",
    "            ], dim=\"model\").rename(\"Mean relative change [%]\"),\n",
    "            mean_q_rel_change_ds[f\"pred_{var}_q\"].min(dim=[\"sample_id\"]).rename(\"Min mean rel. change over sample_id [%]\"),\n",
    "            mean_q_rel_change_ds[f\"pred_{var}_q\"].max(dim=[\"sample_id\"]).rename(\"Max mean rel. change over sample_id [%]\"),\n",
    "            mean_q_rel_change_ds[f\"pred_{var}_q\"].std(dim=[\"sample_id\"]).rename(\"Std mean rel. change over sample_id [%]\"),\n",
    "\n",
    "        # xr.merge([quantiles_da.sel(time_period=\"historic\", model=\"CPM\").rename(\"historic CPM\"), quantiles_change_da, quantiles_rel_change_da]),\n",
    "        ]),\n",
    "        round=1, \n",
    "        caption=\"Seasonal quantile change\",\n",
    "        dim_order=[\"season\", \"quantile\", \"model\"],\n",
    "    )"
   ]
  },
  {
   "cell_type": "markdown",
   "id": "8062512d-6508-47a2-b831-f31ec9ded7bf",
   "metadata": {},
   "source": [
    "### Across samples\n",
    "\n",
    "i.e. compute quantiles using all samples lumped together for diffusion models"
   ]
  },
  {
   "cell_type": "code",
   "execution_count": null,
   "id": "aed9ff6b-1f9f-41a0-b838-50d0f55feaf1",
   "metadata": {},
   "outputs": [],
   "source": [
    "for var in eval_vars:\n",
    "    IPython.display.display_markdown(f\"### {var}\", raw=True)\n",
    "    \n",
    "    quantiles_da = xr.concat([\n",
    "        chained_groupby_map(\n",
    "            CCS_DS[f\"pred_{var}\"], \n",
    "            [\"model\", \"time.season\", \"time_period\"], \n",
    "            lambda gda: gda.quantile(q=PER_GRIDBOX_QUANTILES, dim=[\"ensemble_member\", \"time\", \"sample_id\"])\n",
    "        ),\n",
    "        chained_groupby_map(\n",
    "            CCS_DS[f\"target_{var}\"], \n",
    "            [\"time.season\", \"time_period\"],\n",
    "            lambda gda: gda.quantile(q=PER_GRIDBOX_QUANTILES, dim=[\"ensemble_member\", \"time\"])\n",
    "        ).expand_dims(model=[\"CPM\"])],\n",
    "        dim=\"model\",\n",
    "    ).rename(\"quantile value\")\n",
    "    \n",
    "    quantiles_change_da = (quantiles_da.sel(time_period=\"future\") - quantiles_da.sel(time_period=\"historic\")).rename(\"Change [mm/day]\")\n",
    "\n",
    "    quantiles_rel_change_da = 100*(quantiles_change_da / quantiles_da.sel(time_period=\"historic\").drop(\"time_period\")).rename(\"Relative Change [%]\")\n",
    "    pretty_table(\n",
    "        xr.merge([\n",
    "            quantiles_change_da.mean(dim=[\"grid_longitude\", \"grid_latitude\"]).rename(\"mean change [mm/day]\"),\n",
    "            quantiles_rel_change_da.mean(dim=[\"grid_longitude\", \"grid_latitude\"]).rename(\"mean relative change [%]\"),\n",
    "            quantiles_rel_change_da.std(dim=[\"grid_longitude\", \"grid_latitude\"]).rename(\"std relative change [%]\"),\n",
    "        ]),\n",
    "        # xr.merge([quantiles_da.sel(time_period=\"historic\", model=\"CPM\").rename(\"historic CPM\"), quantiles_change_da, quantiles_rel_change_da]),\n",
    "        round=1, \n",
    "        caption=\"Seasonal quantile change bootstrapped spread\",\n",
    "        dim_order=[\"season\", \"quantile\", \"model\"],\n",
    "    )"
   ]
  },
  {
   "cell_type": "code",
   "execution_count": null,
   "id": "c24bc30c-0f1a-431d-a7a1-59d2b890db81",
   "metadata": {},
   "outputs": [],
   "source": [
    "for season, season_q_change_da in quantiles_rel_change_da.groupby(\"season\"):\n",
    "    if season not in CCS_SEASONS:\n",
    "        continue\n",
    "    fig, axs = plt.subplots(1, 2, layout=\"compressed\", figsize=(6,3))\n",
    "    data = season_q_change_da.to_dataframe().reset_index()\n",
    "    data[\"Percentile\"] = (data[\"quantile\"]*100).astype('category')\n",
    "    sns.violinplot(data, y=\"Relative Change [%]\", x=\"Percentile\", hue=\"model\", orientation=\"v\", ax=axs[0]).set_title(season)\n",
    "    sns.boxplot(data, y=\"Relative Change [%]\", x=\"Percentile\", hue=\"model\", ax=axs[1]).set_title(season)\n",
    "    plt.show()"
   ]
  },
  {
   "cell_type": "markdown",
   "id": "fc36578e-7605-4ffa-9971-938ced5ba87b",
   "metadata": {},
   "source": [
    "## Figure: per subdomain per time period per season distribution"
   ]
  },
  {
   "cell_type": "code",
   "execution_count": null,
   "id": "c0785552-805d-4a92-9d70-4947334cfc7b",
   "metadata": {},
   "outputs": [],
   "source": [
    "from collections import deque\n",
    "for var in eval_vars:\n",
    "    IPython.display.display_markdown(f\"### {var}\", raw=True)\n",
    "\n",
    "    for season, seasonal_ccs_ds in CCS_DS.groupby(\"time.season\"):\n",
    "        if season not in CCS_SEASONS:\n",
    "            continue\n",
    "\n",
    "        fig = plt.figure(figsize=(3.5*len(TIME_PERIODS), 2.5*len(SUBREGIONS)), layout=\"compressed\")\n",
    "\n",
    "        spec = np.array(list([[f\"{srname} {tp_key}\" for tp_key in TIME_PERIODS.keys()] for srname in SUBREGIONS.keys()]))\n",
    "        axd = fig.subplot_mosaic(spec, sharex=True)#, sharey=True)\n",
    "        panel_label_iter = iter(string.ascii_lowercase)\n",
    "        for srname, srdefn in SUBREGIONS.items():\n",
    "            for tp_key, tp_ds in seasonal_ccs_ds.groupby(\"time_period\"):\n",
    "            \n",
    "                tpsrseason_cpm_da = tp_ds[f\"target_{var}\"].isel(**SUBREGIONS[srname])\n",
    "                \n",
    "                srseason_hist_data = [\n",
    "                    dict(data=model_ds[f\"pred_{var}\"].isel(**SUBREGIONS[srname]), label=model, color=MODELLABEL2SPEC[model][\"color\"]) for model, model_ds in tp_ds.groupby(\"model\")\n",
    "                ]\n",
    "    \n",
    "                ax = axd[f\"{srname} {tp_key}\"]\n",
    "                if var == \"pr\":\n",
    "                    kwargs = {\n",
    "                        \"yscale\": \"log\",\n",
    "                    }\n",
    "                else:\n",
    "                    kwargs = {\n",
    "                        \"yscale\": \"linear\",\n",
    "                    }\n",
    "                plot_freq_density(srseason_hist_data, ax=ax, target_da=tpsrseason_cpm_da, linewidth=1, hrange=VAR_RANGES[var], **kwargs)\n",
    "                ax.set_title(f\"{srname} {season} {tp_key}\", size=\"small\")\n",
    "\n",
    "        deque(axd[axlabel.item()].annotate(f\"{next(panel_label_iter)}.\", xy=(-0.1, 1.0), xycoords=(\"axes fraction\", \"axes fraction\"), weight='bold', ha=\"left\", va=\"bottom\") for axlabel in np.nditer(spec))\n",
    "    \n",
    "        plt.show()"
   ]
  },
  {
   "cell_type": "code",
   "execution_count": null,
   "id": "5383ab2c-cd48-441a-921c-1ef663f6a23f",
   "metadata": {},
   "outputs": [],
   "source": []
  }
 ],
 "metadata": {
  "kernelspec": {
   "display_name": "Python 3 (ipykernel)",
   "language": "python",
   "name": "python3"
  }
 },
 "nbformat": 4,
 "nbformat_minor": 5
}
