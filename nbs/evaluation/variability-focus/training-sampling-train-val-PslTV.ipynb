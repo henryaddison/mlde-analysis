{
 "cells": [
  {
   "cell_type": "markdown",
   "id": "345a1b27-1df4-40e8-a2f9-0ff817ad8241",
   "metadata": {
    "tags": []
   },
   "source": [
    "# Evaluation of a selection of models on 60km -> 2.2km-4x over Birmingham"
   ]
  },
  {
   "cell_type": "code",
   "execution_count": null,
   "id": "48718f5d-f1f8-4ccc-8089-a90b8e505b7c",
   "metadata": {
    "tags": []
   },
   "outputs": [],
   "source": [
    "%reload_ext autoreload\n",
    "\n",
    "%autoreload 2\n",
    "\n",
    "import math\n",
    "import os\n",
    "\n",
    "import iris\n",
    "import iris.analysis.cartography\n",
    "import IPython\n",
    "import matplotlib\n",
    "import matplotlib.pyplot as plt\n",
    "import numpy as np\n",
    "import pandas as pd\n",
    "import pysteps\n",
    "import seaborn as sns\n",
    "import xarray as xr\n",
    "from collections import defaultdict\n",
    "\n",
    "from mlde_utils.utils import cp_model_rotated_pole, plot_grid, prep_eval_data, plot_examples, distribution_figure, plot_mean_bias, plot_std_bias, plot_psd, scatter_plots, seasonal_distribution_figure\n",
    "from mlde_utils.plotting import qq_plot"
   ]
  },
  {
   "cell_type": "code",
   "execution_count": null,
   "id": "4c5b48a3-1412-4af2-b6ed-58bd6c836703",
   "metadata": {
    "tags": []
   },
   "outputs": [],
   "source": [
    "quantiles = np.concatenate([np.linspace((1-10**(i+1))+(10**i), (1-10**i), 9) for i in range(-1, -8, -1)])\n",
    "ymin=0\n",
    "ymax=300\n",
    "\n",
    "variabilty_src_to_key = {\n",
    "    \"training\": \"model\",\n",
    "    \"sampling\": \"sample_id\",\n",
    "}\n",
    "\n",
    "variabilty_src_to_sample_runs = {\n",
    "    \"training\": 1,\n",
    "    \"sampling\": 20,\n",
    "}"
   ]
  },
  {
   "cell_type": "code",
   "execution_count": null,
   "id": "3e264c9e",
   "metadata": {
    "tags": [
     "injected-parameters"
    ]
   },
   "outputs": [],
   "source": [
    "data_configs = {\n",
    "    \"training\": {\n",
    "        # \"train\": [{\n",
    "        #     \"datasets\": {\"CPM\": \"bham_gcmx-4x_psl-temp-vort_random\"},\n",
    "        #     \"runs\": [ [f\"score-sde/subvpsde/xarray_cncsnpp_continuous/bham-4x_PslTV_random-IstanTsqrturrecen-{i}\", \"epoch-100\", f\"Run {i}\",] for i in range(1,21) ]\n",
    "        # }],\n",
    "        \"val\": [{\n",
    "            \"datasets\": {\"CPM\": \"bham_gcmx-4x_psl-temp-vort_random\"},#, \"GCM\": \"bham_60km-4x_psl-temp-vort_random\",},\n",
    "            \"runs\": [ [f\"score-sde/subvpsde/xarray_cncsnpp_continuous/bham-4x_PslTV_random-IstanTsqrturrecen-{i}\", \"epoch-100\", f\"Run {i}\",] for i in range(1,21) ]\n",
    "        }],\n",
    "    },\n",
    "    \"sampling\": {\n",
    "        # \"train\": [{\n",
    "        #     \"datasets\": {\"CPM\": \"bham_gcmx-4x_psl-temp-vort_random\"},\n",
    "        #     \"runs\": [ [\"score-sde/subvpsde/xarray_cncsnpp_continuous/bham-4x_PslTV_random-IstanTsqrturrecen-1\", \"epoch-100\", \"Run 1\",] ]\n",
    "        # }],\n",
    "        \"val\": [{\n",
    "            \"datasets\": {\"CPM\": \"bham_gcmx-4x_psl-temp-vort_random\"},#, \"GCM\": \"bham_60km-4x_psl-temp-vort_random\",},\n",
    "            \"runs\": [ [\"score-sde/subvpsde/xarray_cncsnpp_continuous/bham-4x_PslTV_random-IstanTsqrturrecen-1\", \"epoch-100\", \"Run 1\",] ]\n",
    "        }],\n",
    "    },\n",
    "}"
   ]
  },
  {
   "cell_type": "code",
   "execution_count": null,
   "id": "67504a35-1ab2-40c8-b23d-2fee8ad6b272",
   "metadata": {
    "tags": []
   },
   "outputs": [],
   "source": [
    "quantile_data=defaultdict(dict)\n",
    "import itertools\n",
    "\n",
    "for (variabilty_src, split) in itertools.product([\"sampling\", \"training\"], [\"val\"]):\n",
    "    IPython.display.display_html(f\"<h1>{variabilty_src} {split}<h1>\", raw=True)\n",
    "    merged_ds = xr.merge([ prep_eval_data(c[\"datasets\"], c[\"runs\"], split, samples_per_run=variabilty_src_to_sample_runs[variabilty_src]) for c in data_configs[variabilty_src][split] ])\n",
    "\n",
    "    target_pr = merged_ds.sel(source=\"CPM\")[\"target_pr\"]\n",
    "    target_quantiles = target_pr.quantile(quantiles)\n",
    "\n",
    "\n",
    "    l = list(merged_ds[\"pred_pr\"].dims)\n",
    "    l.remove(variabilty_src_to_key[variabilty_src])\n",
    "    l.remove(\"source\")\n",
    "    \n",
    "    quantile_data[variabilty_src][split] = dict(\n",
    "        target_quantiles = target_pr.quantile(quantiles),\n",
    "        sample_quantiles = merged_ds[\"pred_pr\"].groupby(variabilty_src_to_key[variabilty_src]).quantile(quantiles, dim=l),\n",
    "    )\n",
    "\n",
    "    fig, axes = plt.subplot_mosaic([[f\"{source} Quantiles\" for source in quantile_data[variabilty_src][split][\"sample_quantiles\"][\"source\"].values]], figsize=(16.5, 5.5), constrained_layout=True)    \n",
    "\n",
    "    for source in merged_ds[\"source\"].values:\n",
    "        qq_plot(axes[f\"{source} Quantiles\"], target_pr, merged_ds.sel(source=source), quantiles)\n",
    "        axes[f\"{source} Quantiles\"].set_xlim(ymin, ymax)\n",
    "        axes[f\"{source} Quantiles\"].set_ylim(ymin, ymax)\n",
    "        \n",
    "    plt.show()"
   ]
  },
  {
   "cell_type": "code",
   "execution_count": null,
   "id": "069893eb-b974-4af0-b1ea-58662f96d18d",
   "metadata": {},
   "outputs": [],
   "source": [
    "for (variabilty_src, split) in itertools.product([\"sampling\", \"training\"], [\"val\"]):\n",
    "    IPython.display.display_html(f\"<h1>{variabilty_src} {split}<h1>\", raw=True)\n",
    "    fig, axes = plt.subplot_mosaic(\n",
    "        [[f\"{source} Quantiles\" for source in quantile_data[variabilty_src][split][\"sample_quantiles\"][\"source\"].values]], figsize=(16.5, 5.5), constrained_layout=True\n",
    "    )\n",
    "\n",
    "    quantile_std = quantile_data[variabilty_src][split][\"sample_quantiles\"].std(dim=[variabilty_src_to_key[variabilty_src]]).to_pandas().reset_index().merge(quantile_data[variabilty_src][split][\"target_quantiles\"].to_pandas().rename('CPM pr').reset_index()).melt(id_vars='CPM pr', value_vars=merged_ds[\"source\"].values, value_name=\"Model quantile std\", var_name=\"source\")\n",
    "    ax = sns.lineplot(data=quantile_std, x='CPM pr', y=\"Model quantile std\", hue=\"source\")\n",
    "    ax.set(ylabel=\"Model quantile $\\sigma$\")\n",
    "    ax.set_ylim(0, 20)\n",
    "    # sns.barplot(data=data, x=\"cpm_quantile\", y=\"GCM\")\n",
    "    for source in merged_ds[\"source\"].values:\n",
    "        ax.fill_between(quantile_std[quantile_std[\"source\"] == source][\"CPM pr\"], quantile_std[quantile_std[\"source\"] == source][\"Model quantile std\"], alpha=0.5)"
   ]
  },
  {
   "cell_type": "code",
   "execution_count": null,
   "id": "76b263d1-2e16-484f-8e1d-5f56f1319864",
   "metadata": {},
   "outputs": [],
   "source": [
    "quantile_data[variabilty_src][split][\"sample_quantiles\"].std(dim=[variabilty_src_to_key[variabilty_src]]).sel(source=\"CPM\").to_pandas().reset_index()"
   ]
  },
  {
   "cell_type": "code",
   "execution_count": null,
   "id": "d0f59af6-4a7d-40fa-8408-2190f139fa40",
   "metadata": {},
   "outputs": [],
   "source": [
    "quantile_data[variabilty_src][split][\"target_quantiles\"].to_pandas().rename('CPM pr').reset_index()"
   ]
  },
  {
   "cell_type": "code",
   "execution_count": null,
   "id": "0d6bd670-2678-4b0a-b372-87e22c3a70ae",
   "metadata": {},
   "outputs": [],
   "source": []
  }
 ],
 "metadata": {
  "kernelspec": {
   "display_name": "Python 3 (ipykernel)",
   "language": "python",
   "name": "python3"
  }
 },
 "nbformat": 4,
 "nbformat_minor": 5
}
