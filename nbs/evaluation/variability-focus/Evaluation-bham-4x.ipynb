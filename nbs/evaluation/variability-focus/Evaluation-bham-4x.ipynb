{
 "cells": [
  {
   "cell_type": "markdown",
   "id": "345a1b27-1df4-40e8-a2f9-0ff817ad8241",
   "metadata": {},
   "source": [
    "# Evaluation of a selection of models on 60km -> 2.2km-4x over Birmingham"
   ]
  },
  {
   "cell_type": "code",
   "execution_count": null,
   "id": "48718f5d-f1f8-4ccc-8089-a90b8e505b7c",
   "metadata": {},
   "outputs": [],
   "source": [
    "%reload_ext autoreload\n",
    "\n",
    "%autoreload 2\n",
    "\n",
    "import math\n",
    "import os\n",
    "\n",
    "import cftime\n",
    "import iris\n",
    "import iris.analysis.cartography\n",
    "import IPython\n",
    "import matplotlib\n",
    "import matplotlib.pyplot as plt\n",
    "import numpy as np\n",
    "import pysteps\n",
    "import xarray as xr\n",
    "\n",
    "from mlde_utils.utils import cp_model_rotated_pole, plot_grid, prep_eval_data, plot_examples, distribution_figure, plot_mean_bias, plot_std_bias, plot_psd, scatter_plots, seasonal_distribution_figure, compute_gridspec\n",
    "from mlde_utils.plotting import create_map_fig, qq_plot"
   ]
  },
  {
   "cell_type": "code",
   "execution_count": null,
   "id": "15906278-e447-4e59-87dd-b6fdd000146d",
   "metadata": {},
   "outputs": [],
   "source": [
    "time_slices = {\n",
    "    \"TS1\": (cftime.Datetime360Day(1980, 12, 1, 12, 0, 0, 0, has_year_zero=True), cftime.Datetime360Day(2000, 11, 30, 12, 0, 0, 0, has_year_zero=True)),\n",
    "    \"TS2\": (cftime.Datetime360Day(2020, 12, 1, 12, 0, 0, 0, has_year_zero=True), cftime.Datetime360Day(2040, 11, 30, 12, 0, 0, 0, has_year_zero=True)),\n",
    "    \"TS3\": (cftime.Datetime360Day(2060, 12, 1, 12, 0, 0, 0, has_year_zero=True), cftime.Datetime360Day(2080, 11, 30, 12, 0, 0, 0, has_year_zero=True)),\n",
    "}"
   ]
  },
  {
   "cell_type": "code",
   "execution_count": null,
   "id": "361fe73f-2d52-4862-8b8c-ab7604ad6c29",
   "metadata": {
    "tags": [
     "parameters"
    ]
   },
   "outputs": [],
   "source": [
    "split = \"val\"\n",
    "data_config = [\n",
    "    {\n",
    "        \"datasets\": {\n",
    "            \"CPM\": \"bham_gcmx-4x_psl-temp-vort_random-season\",\n",
    "            \"GCM\": \"bham_60km-4x_psl-temp-vort_random-season\",\n",
    "        },\n",
    "        \"runs\": [\n",
    "                (\"score-sde/subvpsde/xarray_cncsnpp_continuous/bham-4x_PslTV_random-season-IstanTsqrturrecen-shuffle-fix\",\n",
    "                \"epoch-100\",\n",
    "                \"stan\",\n",
    "                \"PslTV shuffle\",)\n",
    "            ],\n",
    "    },\n",
    "    {\n",
    "        \"datasets\": {\n",
    "            \"CPM\": \"bham_gcmx-4x_pr_random\",\n",
    "            \"GCM\": \"bham_60km-4x_pr_random\",\n",
    "        },\n",
    "        \"runs\": [\n",
    "            (\"id-pr\", \"epoch-0\", \"\", \"LR precip\"),\n",
    "        ],\n",
    "    }\n",
    "    \n",
    "]\n",
    "desc = \"\"\"\n",
    "Describe in more detail the models being compared\n",
    "\"\"\"\n",
    "# the datasets to use for comparisons like PSD which need default datasets with CPM-based hi-res precip and GCM-based lo-res precip respectively\n",
    "gcm_lr_lin_pr_dataset = \"bham_60km-4x_linpr_random\"\n",
    "cpm_hr_pr_dataset = \"bham_60km-4x_linpr_random\""
   ]
  },
  {
   "cell_type": "code",
   "execution_count": null,
   "id": "778a28b3-8483-4b83-895c-0253b499f36b",
   "metadata": {},
   "outputs": [],
   "source": [
    "IPython.display.Markdown(desc)"
   ]
  },
  {
   "cell_type": "code",
   "execution_count": null,
   "id": "4df16b68-4c4d-42fb-9134-72f81d23b70b",
   "metadata": {},
   "outputs": [],
   "source": [
    "merged_ds = xr.merge([ prep_eval_data(c[\"datasets\"], c[\"runs\"], split) for c in data_config ])\n",
    "merged_ds"
   ]
  },
  {
   "cell_type": "markdown",
   "id": "1066cb4a-8851-403e-816e-b3a25a7ecf7b",
   "metadata": {},
   "source": [
    "## Spread"
   ]
  },
  {
   "cell_type": "code",
   "execution_count": null,
   "id": "fa44fe05-e323-4160-be15-41757eb67f25",
   "metadata": {},
   "outputs": [],
   "source": [
    "ensemble_spread = np.power((merged_ds[\"pred_pr\"] - merged_ds[\"pred_pr\"].mean(dim=\"sample_id\")), 2).mean(dim=\"sample_id\")\n",
    "ensemble_mean_error = np.power((merged_ds[\"target_pr\"] - merged_ds[\"pred_pr\"].mean(dim=\"sample_id\")), 2)\n",
    "\n",
    "\n",
    "# rms_spread \n",
    "\n",
    "for model in ensemble_spread[\"model\"].values:\n",
    "    plt.scatter(ensemble_mean_error.sel(source=\"CPM\").sel(model=model).mean(dim=\"time\"), ensemble_spread.sel(source=\"CPM\").sel(model=model).mean(dim=\"time\"))\n",
    "plt.show()\n",
    "\n",
    "\n",
    "\n",
    "# plt.scatter(ensemble_mean_error.sel(source=\"GCM\").isel(model=0).mean(dim=\"time\"), ensemble_spread.sel(source=\"GCM\").isel(model=0).mean(dim=\"time\"))\n",
    "# plt.show()"
   ]
  },
  {
   "cell_type": "markdown",
   "id": "1104e57b-f3c0-4a56-831a-ba99d91f05a4",
   "metadata": {},
   "source": [
    "## Pixel distribution"
   ]
  },
  {
   "cell_type": "code",
   "execution_count": null,
   "id": "4c5b48a3-1412-4af2-b6ed-58bd6c836703",
   "metadata": {},
   "outputs": [],
   "source": [
    "quantiles = np.concatenate([np.linspace((1-10**(i+1))+(10**i), (1-10**i), 9) for i in range(-1, -8, -1)])\n",
    "\n",
    "cpm_pr = merged_ds.sel(source=\"CPM\")[\"target_pr\"]"
   ]
  },
  {
   "cell_type": "code",
   "execution_count": null,
   "id": "67504a35-1ab2-40c8-b23d-2fee8ad6b272",
   "metadata": {},
   "outputs": [],
   "source": [
    "for source in merged_ds[\"source\"].values:\n",
    "    IPython.display.display_html(f\"<h1>{source}</h1>\", raw=True)\n",
    "    distribution_figure(merged_ds.sel(source=source), cpm_pr, quantiles, quantile_dims=[\"time\", \"grid_latitude\", \"grid_longitude\"])"
   ]
  },
  {
   "cell_type": "markdown",
   "id": "d21b388b-a51e-41fe-b810-30293c6cd69e",
   "metadata": {},
   "source": [
    "### Seasonal"
   ]
  },
  {
   "cell_type": "code",
   "execution_count": null,
   "id": "a7e7d0d8-4600-457d-9c8a-f04a3d81c345",
   "metadata": {},
   "outputs": [],
   "source": [
    "for source in merged_ds[\"source\"].values:\n",
    "    IPython.display.display_html(f\"<h1>{source}</h1>\", raw=True)\n",
    "    seasonal_distribution_figure(merged_ds.sel(source=source), cpm_pr, quantiles, quantile_dims=[\"time\", \"grid_latitude\", \"grid_longitude\"])"
   ]
  },
  {
   "cell_type": "markdown",
   "id": "6f82be98-65cc-47da-bf50-2931839bbfce",
   "metadata": {},
   "source": [
    "### Subregions"
   ]
  },
  {
   "cell_type": "code",
   "execution_count": null,
   "id": "09315b2d-aaa2-4634-ba26-d4068489c765",
   "metadata": {},
   "outputs": [],
   "source": [
    "subregions = {\n",
    "    \"SE\": dict(grid_latitude=slice(10, 26), grid_longitude=slice(38, 54)),\n",
    "    \"NW\": dict(grid_latitude=slice(44, 60), grid_longitude=slice(18, 34)),\n",
    "}\n",
    "\n",
    "fig, axd = create_map_fig([[\"subregions\"]])\n",
    "\n",
    "plot_grid(10*xr.ones_like(merged_ds[\"pred_pr\"].sel(source=\"CPM\").isel(sample_id=0, model=0, time=0)).isel(**subregions[\"NW\"]), ax=axd[\"subregions\"], style=\"precip\")\n",
    "plot_grid(1*xr.ones_like(merged_ds[\"pred_pr\"].sel(source=\"CPM\").isel(sample_id=0, model=0, time=0)).isel(**subregions[\"SE\"]), ax=axd[\"subregions\"], style=\"precip\")\n",
    "    \n",
    "axd[\"subregions\"].set_extent([-2, 3, -2.5, 2.5], crs=cp_model_rotated_pole)\n",
    "\n",
    "quantiles = np.concatenate([np.linspace((1-10**(i+1))+(10**i), (1-10**i), 9) for i in range(-1, -7, -1)])"
   ]
  },
  {
   "cell_type": "markdown",
   "id": "14498b2f-956d-4d59-b708-4ded83c640ae",
   "metadata": {},
   "source": [
    "#### NW"
   ]
  },
  {
   "cell_type": "code",
   "execution_count": null,
   "id": "0ca10946-4d33-4e2b-81b9-7b5e19c5136f",
   "metadata": {},
   "outputs": [],
   "source": [
    "srname = \"NW\"\n",
    "srbnds = subregions[srname]\n",
    "\n",
    "for source in merged_ds[\"source\"].values:\n",
    "    IPython.display.display_html(f\"<h6>{source}</h6>\", raw=True)\n",
    "    distribution_figure(merged_ds.sel(source=source).isel(**srbnds), cpm_pr.isel(**srbnds), quantiles, quantile_dims=[\"time\", \"grid_latitude\", \"grid_longitude\"])"
   ]
  },
  {
   "cell_type": "markdown",
   "id": "52958150-c82c-4d98-a27c-c3ee405d78bd",
   "metadata": {},
   "source": [
    "##### NW Winter"
   ]
  },
  {
   "cell_type": "code",
   "execution_count": null,
   "id": "57f89031-7e10-45c0-ba29-92aecc7d9b89",
   "metadata": {},
   "outputs": [],
   "source": [
    "srseason=\"DJF\"\n",
    "for source in merged_ds[\"source\"].values:\n",
    "    IPython.display.display_html(f\"<h5>{source}</h5>\", raw=True)\n",
    "    srseason_mask = merged_ds.sel(source=source).isel(**subregions[\"NW\"])[\"time.season\"] == srseason\n",
    "    srseason_mask_sample_ds = merged_ds.sel(source=source).isel(**subregions[\"NW\"]).sel(time=srseason_mask)\n",
    "    srseason_mask_cpm_pr = cpm_pr.isel(srbnds).sel(time=srseason_mask)\n",
    "    distribution_figure(srseason_mask_sample_ds, srseason_mask_cpm_pr, quantiles, quantile_dims=[\"time\", \"grid_latitude\", \"grid_longitude\"])"
   ]
  },
  {
   "cell_type": "markdown",
   "id": "acacbced-ba0f-4103-be64-b71425e39ccb",
   "metadata": {},
   "source": [
    "#### SE"
   ]
  },
  {
   "cell_type": "code",
   "execution_count": null,
   "id": "b24f8bbd-1677-48de-938f-ca2a6aec2216",
   "metadata": {},
   "outputs": [],
   "source": [
    "srname = \"SE\"\n",
    "srbnds = subregions[srname]\n",
    "for source in merged_ds[\"source\"].values:\n",
    "    IPython.display.display_html(f\"<h6>{source}</h6>\", raw=True)\n",
    "    distribution_figure(merged_ds.sel(source=source).isel(**srbnds), cpm_pr.isel(**srbnds), quantiles, quantile_dims=[\"time\", \"grid_latitude\", \"grid_longitude\"])"
   ]
  },
  {
   "cell_type": "markdown",
   "id": "e6dc954d-5e2e-4389-adfb-347e70919be5",
   "metadata": {},
   "source": [
    "##### SE Summer"
   ]
  },
  {
   "cell_type": "code",
   "execution_count": null,
   "id": "9e2fbb43-26f1-4a40-b3bc-d99aefb3537f",
   "metadata": {},
   "outputs": [],
   "source": [
    "srseason = \"JJA\"\n",
    "for source in merged_ds[\"source\"].values:\n",
    "    IPython.display.display_html(f\"<h5>{source}</h5>\", raw=True)\n",
    "    srseason_mask = merged_ds.sel(source=source).isel(**subregions[\"NW\"])[\"time.season\"] == srseason\n",
    "    srseason_mask_sample_ds = merged_ds.sel(source=source).isel(**subregions[\"NW\"]).sel(time=srseason_mask)\n",
    "    srseason_mask_cpm_pr = cpm_pr.isel(srbnds).sel(time=srseason_mask)\n",
    "    distribution_figure(srseason_mask_sample_ds, srseason_mask_cpm_pr, quantiles, quantile_dims=[\"time\", \"grid_latitude\", \"grid_longitude\"])"
   ]
  },
  {
   "cell_type": "markdown",
   "id": "1756b60b-5bfd-4cef-8c09-618e71a49314",
   "metadata": {},
   "source": [
    "### Scatter plots"
   ]
  },
  {
   "cell_type": "code",
   "execution_count": null,
   "id": "f487c658-f084-497a-a11f-89799a05a15b",
   "metadata": {},
   "outputs": [],
   "source": [
    "# for source in ds[\"source\"].values:\n",
    "#     IPython.display.display_html(f\"<h5>{source}</h5>\", raw=True)\n",
    "#     scatter_plots(merged_ds.sel(source=source), cpm_pr)"
   ]
  },
  {
   "cell_type": "markdown",
   "id": "b958f3e2-e6bd-4aaf-a15e-6d57cdd369bb",
   "metadata": {},
   "source": [
    "## Mean distrubution"
   ]
  },
  {
   "cell_type": "code",
   "execution_count": null,
   "id": "f0bc8849-d68f-4e7c-8cfe-344c76b1447a",
   "metadata": {},
   "outputs": [],
   "source": [
    "quantiles = np.concatenate([np.linspace(0.1,0.8,8), np.linspace(0.9,0.99,10), np.linspace(0.991,0.999,9)])\n",
    "\n",
    "mean_ds = merged_ds[[\"target_pr\", \"pred_pr\"]].mean(dim=[\"grid_longitude\", \"grid_latitude\"])\n",
    "cpm_mean_pr = mean_ds.sel(source=\"CPM\")[\"target_pr\"]"
   ]
  },
  {
   "cell_type": "code",
   "execution_count": null,
   "id": "8aad1add-2061-4e15-a1a5-b7bcc13a0f95",
   "metadata": {},
   "outputs": [],
   "source": [
    "for source in mean_ds[\"source\"].values:\n",
    "    IPython.display.display_html(f\"<h1>{source}</h1>\", raw=True)\n",
    "    distribution_figure(mean_ds.sel(source=source), cpm_mean_pr, quantiles, quantile_dims=[\"time\"])"
   ]
  },
  {
   "cell_type": "code",
   "execution_count": null,
   "id": "614eb3da-485e-43db-aeb9-76d3c1249d18",
   "metadata": {},
   "outputs": [],
   "source": [
    "for source in mean_ds[\"source\"].values:\n",
    "    IPython.display.display_html(f\"<h1>{source}</h1>\", raw=True)\n",
    "    seasonal_distribution_figure(mean_ds.sel(source=source), cpm_mean_pr, quantiles, quantile_dims=[\"time\"])"
   ]
  },
  {
   "cell_type": "markdown",
   "id": "dc859dfe-24d6-47e2-b80e-95b42b0a09d4",
   "metadata": {},
   "source": [
    "### Scatter plots"
   ]
  },
  {
   "cell_type": "code",
   "execution_count": null,
   "id": "eac87c47-8d0c-4600-a1b1-149e23180fc5",
   "metadata": {},
   "outputs": [],
   "source": [
    "# for source in ds[\"source\"].values:\n",
    "#     IPython.display.display_html(f\"<h5>{source}</h5>\", raw=True)\n",
    "#     scatter_plots(mean_ds.sel(source=source), target_mean_pr)"
   ]
  },
  {
   "cell_type": "markdown",
   "id": "41991b90-3b72-4474-a938-e98f940b8d16",
   "metadata": {},
   "source": [
    "## Climate change signal"
   ]
  },
  {
   "cell_type": "markdown",
   "id": "e661a9bb-15f6-4ff8-b89a-237b1024d98e",
   "metadata": {},
   "source": [
    "### Pixel quantiles"
   ]
  },
  {
   "cell_type": "code",
   "execution_count": null,
   "id": "cf8b142c-3043-4fdd-bf63-637606a55b17",
   "metadata": {},
   "outputs": [],
   "source": [
    "quantiles = np.concatenate([np.linspace((1-10**(i+1))+(10**i), (1-10**i), 9) for i in range(-1, -7, -1)])\n",
    "\n",
    "historical_ts_mask = (merged_ds[\"time\"] >= time_slices[\"TS1\"][0]) & (merged_ds[\"time\"] <= time_slices[\"TS1\"][1])\n",
    "\n",
    "historical_cpm_pr_quantiles = cpm_pr.sel(time=historical_ts_mask).quantile(quantiles, dim=[\"time\", \"grid_latitude\", \"grid_longitude\"])\n",
    "\n",
    "for source in merged_ds[\"source\"].values:\n",
    "    IPython.display.display_html(f\"<h1>{source}</h1>\", raw=True)\n",
    "    \n",
    "    fig, axd = plt.subplot_mosaic([time_slices.keys()], figsize=(18, 6))\n",
    "    for ts_key, (ts_start, ts_end) in time_slices.items():\n",
    "        # IPython.display.display_html(f\"<h2>{ts_start} to {ts_end}</h2>\", raw=True)\n",
    "        ts_mask = (merged_ds[\"time\"] >= ts_start) & (merged_ds[\"time\"] <= ts_end)\n",
    "        ts_pred_pr = merged_ds.sel(source=source).sel(time=ts_mask)[\"pred_pr\"]\n",
    "        ts_cpm_pr = cpm_pr.sel(time=ts_mask)\n",
    "        # .expand_dims(model=[human_name])\n",
    "        \n",
    "        ts_sample_quantiles = ts_pred_pr.quantile(quantiles, dim=[\"time\", \"grid_latitude\", \"grid_longitude\", \"sample_id\"])\n",
    "        ts_cpm_quantiles = ts_cpm_pr.quantile(quantiles, dim=[\"time\", \"grid_latitude\", \"grid_longitude\"])\n",
    "        ts_quantiles = xr.concat([ts_sample_quantiles, ts_cpm_quantiles.expand_dims(model=[\"CPM\"])], dim=\"model\")\n",
    "        ax = axd[ts_key]\n",
    "        qq_plot(ax, historical_cpm_pr_quantiles, ts_quantiles, title=f\"{ts_key} sample quantiles vs TS1 CPM quantiles\", xlabel=\"TS1 CPM precip (mm day$^{-1}$)\", tr=200, guide_label=None)\n",
    "    plt.show()"
   ]
  },
  {
   "cell_type": "markdown",
   "id": "2e03214a-a202-4503-b943-ac868890ed0f",
   "metadata": {},
   "source": [
    "### Mean change"
   ]
  },
  {
   "cell_type": "code",
   "execution_count": null,
   "id": "2e4c33c6-e1af-4501-8778-82f272c3f69b",
   "metadata": {},
   "outputs": [],
   "source": [
    "cpm_pr_historical_mean = cpm_pr.sel(time=historical_ts_mask).mean(dim=[\"time\"])\n",
    "\n",
    "for source in merged_ds[\"source\"].values:\n",
    "    IPython.display.display_html(f\"<h1>{source}</h1>\", raw=True)\n",
    "    for ts_key, (ts_start, ts_end) in time_slices.items():\n",
    "        IPython.display.display_html(f\"<h2>{ts_key}</h2>\", raw=True)\n",
    "        \n",
    "        target_name = \"$\\\\mu_{CPM}$\"\n",
    "        models = merged_ds.sel(source=source)[\"model\"].values\n",
    "        grid_spec = compute_gridspec(models, target_name)\n",
    "        fig, axd = plt.subplot_mosaic(\n",
    "            grid_spec,\n",
    "            figsize=(grid_spec.shape[1] * 5.5, grid_spec.shape[0] * 5.5),\n",
    "            subplot_kw=dict(projection=cp_model_rotated_pole),\n",
    "            constrained_layout=True,\n",
    "        )\n",
    "        \n",
    "        ts_mask = (merged_ds[\"time\"] >= ts_start) & (merged_ds[\"time\"] <= ts_end)\n",
    "        \n",
    "        ax = axd[target_name]\n",
    "        cpm_pr_ts_mean = cpm_pr.sel(time=ts_mask).mean(dim=[\"time\"])\n",
    "        cpm_ts_change = (cpm_pr_ts_mean - cpm_pr_historical_mean)/cpm_pr_historical_mean\n",
    "        plot_grid(\n",
    "            cpm_ts_change,\n",
    "            ax,\n",
    "            title=f\"{ts_key} CPM mean change vs TS1 CPM\",\n",
    "            cmap=\"BrBG\",\n",
    "            norm=None,\n",
    "            center=0,\n",
    "            vmax=0.2,\n",
    "            add_colorbar=False,\n",
    "        )\n",
    "        \n",
    "        for model in models:\n",
    "            ax = axd[model]\n",
    "            sample_ts_mean = merged_ds.sel(source=source).sel(model=model).sel(time=ts_mask)[\"pred_pr\"].mean(dim=[\"time\", \"sample_id\"])\n",
    "            sample_ts_change = (sample_ts_mean - cpm_pr_historical_mean)/cpm_pr_historical_mean\n",
    "            pcm = plot_grid(\n",
    "                sample_ts_change,\n",
    "                ax,\n",
    "                title=f\"{ts_key} {model} mean change vs TS1 CPM\",\n",
    "                cmap=\"BrBG\",\n",
    "                norm=None,\n",
    "                center=0,\n",
    "                vmax=0.2,\n",
    "            )\n",
    "        \n",
    "        fig.colorbar(pcm, ax=list(axd.values()), location=\"left\", shrink=0.8, extend=\"both\")\n",
    "        plt.show()\n",
    "        \n",
    "        \n",
    "        # ts_ds = merged_ds.sel(source=source).sel(time=ts_mask)\n",
    "        # ts_target_pr = cpm_pr.sel(time=ts_mask)\n",
    "        # plot_grid()"
   ]
  },
  {
   "cell_type": "markdown",
   "id": "f4ba822c-b8d8-4c2a-b629-2bdf43a90bd2",
   "metadata": {},
   "source": [
    "## Bias $\\frac{\\mu_{sample}-\\mu_{CPM}}{\\mu_{CPM}}$"
   ]
  },
  {
   "cell_type": "markdown",
   "id": "f0938323-bc33-4fb5-9a2a-9777acf6eab2",
   "metadata": {},
   "source": [
    "### All"
   ]
  },
  {
   "cell_type": "code",
   "execution_count": null,
   "id": "f2b208f0-d33a-4c72-809e-4d992145b736",
   "metadata": {},
   "outputs": [],
   "source": [
    "for source in merged_ds[\"source\"].values:\n",
    "    IPython.display.display_html(f\"<h3>{source}</h3>\", raw=True)\n",
    "    plot_mean_bias(merged_ds.sel(source=source), cpm_pr)"
   ]
  },
  {
   "cell_type": "markdown",
   "id": "1126795c-c47e-47bb-9de5-2fb7277fecde",
   "metadata": {},
   "source": [
    "### Seasonal"
   ]
  },
  {
   "cell_type": "code",
   "execution_count": null,
   "id": "3f82a8de-cf7f-401b-8f8d-b421ca9d4b11",
   "metadata": {},
   "outputs": [],
   "source": [
    "for season, seasonal_ds in merged_ds.groupby(\"time.season\"):\n",
    "    IPython.display.display_html(f\"<h3>{season}</h3>\", raw=True)\n",
    "    seasonal_cpm_pr = cpm_pr.sel(time=(cpm_pr[\"time.season\"] == season))\n",
    "    for source in merged_ds[\"source\"].values:\n",
    "        IPython.display.display_html(f\"<h4>{source}</h4>\", raw=True)\n",
    "        plot_mean_bias(seasonal_ds.sel(source=source), seasonal_cpm_pr)"
   ]
  },
  {
   "cell_type": "markdown",
   "id": "3691d022-0822-4799-8c0d-93224fe35783",
   "metadata": {},
   "source": [
    "## Standard deviation $\\sigma_{sample}$/$\\sigma_{CPM}$"
   ]
  },
  {
   "cell_type": "markdown",
   "id": "bcf05044-0366-464d-bb4c-722a9ef79b70",
   "metadata": {},
   "source": [
    "### All"
   ]
  },
  {
   "cell_type": "code",
   "execution_count": null,
   "id": "a8de95ee-f003-4c5c-ac21-5b197db39d57",
   "metadata": {},
   "outputs": [],
   "source": [
    "for source in merged_ds[\"source\"].values:\n",
    "    IPython.display.display_html(f\"<h3>{source}</h3>\", raw=True)\n",
    "    plot_std_bias(merged_ds.sel(source=source), cpm_pr)"
   ]
  },
  {
   "cell_type": "markdown",
   "id": "934e1f55-e9b0-464c-b3fe-f9fa7b64e1d2",
   "metadata": {},
   "source": [
    "### Seasonal"
   ]
  },
  {
   "cell_type": "code",
   "execution_count": null,
   "id": "606e9441-8591-4d8a-b2fa-12b8215cca7e",
   "metadata": {},
   "outputs": [],
   "source": [
    "for season, seasonal_ds in merged_ds.groupby(\"time.season\"):\n",
    "    IPython.display.display_html(f\"<h3>{season}</h3>\", raw=True)\n",
    "    seasonal_cpm_pr = cpm_pr.sel(time=(cpm_pr[\"time.season\"] == season))\n",
    "    for source in merged_ds[\"source\"].values:\n",
    "        IPython.display.display_html(f\"<h4>{source}</h4>\", raw=True)\n",
    "        plot_std_bias(seasonal_ds.sel(source=source), seasonal_cpm_pr)"
   ]
  },
  {
   "cell_type": "markdown",
   "id": "615cf26d-0457-4ee4-90c3-86d2217604c2",
   "metadata": {},
   "source": [
    "## FSS"
   ]
  },
  {
   "cell_type": "code",
   "execution_count": null,
   "id": "1a7146f6-364a-4e60-9848-2c511f6d9597",
   "metadata": {},
   "outputs": [],
   "source": [
    "source = \"CPM\"\n",
    "for model in merged_ds[\"model\"].values:\n",
    "    ds = merged_ds.sel(source=source, model=model)\n",
    "    fss = pysteps.verification.spatialscores.fss_init(0.1, 3)\n",
    "    for t in range(len(ds[\"time\"])):\n",
    "        for sample_id in range(len(ds[\"sample_id\"])):\n",
    "            pysteps.verification.spatialscores.fss_accum(fss, ds[\"pred_pr\"].isel(time=t, sample_id=sample_id).values,  ds[\"target_pr\"].isel(time=t).values)\n",
    "    fss_score = pysteps.verification.spatialscores.fss_compute(fss)\n",
    "    print(f\"{source}\\t{model}\\t{fss_score:.3}\")"
   ]
  },
  {
   "cell_type": "code",
   "execution_count": null,
   "id": "7d003d1d-788d-44bc-831d-1db7ee0df1fc",
   "metadata": {},
   "outputs": [],
   "source": [
    "source = \"CPM\"\n",
    "for model in merged_ds[\"model\"].values:\n",
    "    ds = merged_ds.sel(source=source, model=model)\n",
    "    fss_obj = pysteps.verification.spatialscores.fss_init(0.1, 3)\n",
    "    def wrap_fss_accum(Xf, Xo):\n",
    "        return pysteps.verification.spatialscores.fss_accum(fss_obj, Xf, Xo)\n",
    "\n",
    "    xr.apply_ufunc(\n",
    "        wrap_fss_accum,  # first the function\n",
    "        ds[\"pred_pr\"],  # now arguments in the order expected by 'fss'\n",
    "        ds[\"target_pr\"],\n",
    "        input_core_dims=[[\"grid_latitude\", \"grid_longitude\"], [\"grid_latitude\", \"grid_longitude\"]],  # list with one entry per arg\n",
    "        output_core_dims=[[]],\n",
    "        # exclude_dims=set((\"grid_latitude\", \"grid_longitude\",)),  # dimensions allowed to change size. Must be set!\n",
    "        vectorize=True,\n",
    "    )\n",
    "\n",
    "    pysteps.verification.spatialscores.fss_compute(fss_obj)\n",
    "    \n",
    "    fss_score = pysteps.verification.spatialscores.fss_compute(fss_obj)\n",
    "    print(f\"{source}\\t{model}\\t{fss_score:.3}\")"
   ]
  },
  {
   "cell_type": "code",
   "execution_count": null,
   "id": "bb628ad6-0d74-4581-a40d-8c54695f65f2",
   "metadata": {},
   "outputs": [],
   "source": [
    "ds = merged_ds.sel(source=\"CPM\")\n",
    "xr.apply_ufunc(\n",
    "    pysteps.verification.spatialscores.fss,  # first the function\n",
    "    ds[\"pred_pr\"],  # now arguments in the order expected by 'fss'\n",
    "    ds[\"target_pr\"],\n",
    "    0.1,\n",
    "    3,\n",
    "    input_core_dims=[[\"grid_latitude\", \"grid_longitude\"], [\"grid_latitude\", \"grid_longitude\"], [], []],  # list with one entry per arg\n",
    "    output_core_dims=[[]],\n",
    "    # exclude_dims=set((\"grid_latitude\", \"grid_longitude\",)),  # dimensions allowed to change size. Must be set!\n",
    "    vectorize=True,\n",
    ")"
   ]
  },
  {
   "cell_type": "markdown",
   "id": "34f88210-d8f8-4583-9474-7244f5a73c8d",
   "metadata": {},
   "source": [
    "## PSD"
   ]
  },
  {
   "cell_type": "code",
   "execution_count": null,
   "id": "6fbfe224-fd34-4cbe-88e8-992d2410f05c",
   "metadata": {},
   "outputs": [],
   "source": [
    "gcm_lr_lin_pr = (xr.open_dataset(\n",
    "    os.path.join(\n",
    "        os.getenv(\"MOOSE_DERIVED_DATA\"), \"nc-datasets\", gcm_lr_lin_pr_dataset, f\"{split}.nc\"\n",
    "    )\n",
    ")[\"linpr\"]*3600*24).assign_attrs({\"units\": \"mm day-1\"})\n",
    "\n",
    "cpm_hr_pr = (xr.open_dataset(\n",
    "    os.path.join(\n",
    "        os.getenv(\"MOOSE_DERIVED_DATA\"), \"nc-datasets\", cpm_hr_pr_dataset, f\"{split}.nc\"\n",
    "    )\n",
    ")[\"target_pr\"]*3600*24).assign_attrs({\"units\": \"mm day-1\"})"
   ]
  },
  {
   "cell_type": "code",
   "execution_count": null,
   "id": "39926c4c-8cb8-4a25-8795-ff124ed2132f",
   "metadata": {},
   "outputs": [],
   "source": [
    "simulation_data = {\"CPM pr\": cpm_hr_pr, \"GCM pr\": gcm_lr_lin_pr}\n",
    "for source in merged_ds[\"source\"].values:\n",
    "    IPython.display.display_html(f\"<h1>{source}</h1>\", raw=True)\n",
    "    ml_data = { f\"{model} Sample\": merged_ds.sel(source=source, model=model)[\"pred_pr\"] for model in merged_ds[\"model\"].values }\n",
    "    plot_psd(ml_data | simulation_data)"
   ]
  },
  {
   "cell_type": "markdown",
   "id": "7efc24ed-7d89-4e59-be7f-55c944901f00",
   "metadata": {},
   "source": [
    "## Correlation"
   ]
  },
  {
   "cell_type": "raw",
   "id": "64126851-1be2-4e74-9db3-8f6827b5abe2",
   "metadata": {},
   "source": [
    "target_corr = xr.corr(merged_ds[\"vorticity850\"], merged_ds[\"target_pr\"], dim=\"time\")\n",
    "sample_corr = xr.corr(merged_ds[\"vorticity850\"], merged_ds[\"pred_pr\"], dim=\"time\").mean(dim=\"sample_id\")"
   ]
  },
  {
   "cell_type": "raw",
   "id": "6dedf78c-bdc8-463a-b122-b15f457231a2",
   "metadata": {},
   "source": [
    "fig, axd = plt.subplot_mosaic([[\"Sample\", \"Target\"]], figsize=(12, 6), subplot_kw=dict(projection=cp_model_rotated_pole), constrained_layout=True)\n",
    "\n",
    "ax = axd[\"Sample\"]\n",
    "plot_grid(sample_corr, ax, title=\"Sample corr\", norm=None, cmap=\"RdBu\", centre=0, add_colorbar=True)\n",
    "\n",
    "ax = axd[\"Target\"]\n",
    "plot_grid(target_corr, ax, title=\"Target corr\", norm=None, cmap=\"RdBu\", center=0, add_colorbar=True)"
   ]
  },
  {
   "cell_type": "markdown",
   "id": "c0cb0adc-12dc-4bd8-8224-cb2b1afeae6a",
   "metadata": {},
   "source": [
    "## Samples"
   ]
  },
  {
   "cell_type": "code",
   "execution_count": null,
   "id": "8412395c-01e1-4d84-a42d-152029f82fdd",
   "metadata": {},
   "outputs": [],
   "source": [
    "for source, sourced_ds in merged_ds.groupby(\"source\"):\n",
    "    IPython.display.display_html(f\"<h1>{source}</h1>\", raw=True)\n",
    "    for season, seasonal_ds in sourced_ds.groupby(\"time.season\"):\n",
    "        IPython.display.display_html(f\"<h2>{season}</h2>\", raw=True)\n",
    "\n",
    "        std = seasonal_ds[\"target_pr\"].std(dim=[\"grid_longitude\", \"grid_latitude\"])#/merged_ds.sel(source=\"CPM\")[\"target_pr\"].mean(dim=[\"grid_longitude\", \"grid_latitude\"])\n",
    "        std_sorted_time = std.sortby(-std)[\"time\"].values\n",
    "        mean = seasonal_ds[\"target_pr\"].mean(dim=[\"grid_longitude\", \"grid_latitude\"])\n",
    "        mean_sorted_time = mean.sortby(-mean)[\"time\"].values\n",
    "\n",
    "        timestamp_chunks = {\n",
    "            # \"very wet\": mean_sorted_time[20],\n",
    "            \"very varied\": std_sorted_time[20],\n",
    "            \"quite wet\": mean_sorted_time[math.ceil(len(mean_sorted_time)*0.20)],\n",
    "            # \"quiet varied\": std_sorted_time[math.ceil(len(std_sorted_time)*0.20):math.ceil(len(std_sorted_time)*0.20)+1],\n",
    "            \"very dry\": mean_sorted_time[-20],\n",
    "        }\n",
    "\n",
    "        for desc, timestamps in timestamp_chunks.items():\n",
    "            IPython.display.display_html(f\"<h3>{desc}</h3>\", raw=True)\n",
    "            plot_examples(seasonal_ds, [timestamps])"
   ]
  },
  {
   "cell_type": "code",
   "execution_count": null,
   "id": "cfd20fe4-e06c-49f8-89d0-a790e7236d24",
   "metadata": {},
   "outputs": [],
   "source": []
  }
 ],
 "metadata": {
  "kernelspec": {
   "display_name": "Python 3 (ipykernel)",
   "language": "python",
   "name": "python3"
  }
 },
 "nbformat": 4,
 "nbformat_minor": 5
}
