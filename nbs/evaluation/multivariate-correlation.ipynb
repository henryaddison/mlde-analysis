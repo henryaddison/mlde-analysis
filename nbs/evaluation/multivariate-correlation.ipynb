{
 "cells": [
  {
   "cell_type": "markdown",
   "id": "345a1b27-1df4-40e8-a2f9-0ff817ad8241",
   "metadata": {
    "tags": []
   },
   "source": [
    "# Evaluation of distribution of models on 60km -> 2.2km-4x over Birmingham"
   ]
  },
  {
   "cell_type": "code",
   "execution_count": null,
   "id": "48718f5d-f1f8-4ccc-8089-a90b8e505b7c",
   "metadata": {
    "tags": []
   },
   "outputs": [],
   "source": [
    "%reload_ext autoreload\n",
    "\n",
    "%autoreload 2\n",
    "\n",
    "%reload_ext dotenv\n",
    "%dotenv\n",
    "\n",
    "import functools\n",
    "import itertools\n",
    "import math\n",
    "import string\n",
    "\n",
    "import IPython\n",
    "import matplotlib\n",
    "import matplotlib.pyplot as plt\n",
    "import numpy as np\n",
    "import seaborn as sns\n",
    "import xarray as xr\n",
    "import xskillscore as xss\n",
    "\n",
    "from mlde_utils import cp_model_rotated_pole\n",
    "\n",
    "from mlde_notebooks.data import prep_eval_data\n",
    "from mlde_notebooks.display import pretty_table\n",
    "from mlde_notebooks.spatial_correlation import plot_correlations, compute_correlations"
   ]
  },
  {
   "cell_type": "code",
   "execution_count": null,
   "id": "1d757f55-93e8-4248-a2f3-b6a9f75a752c",
   "metadata": {},
   "outputs": [],
   "source": [
    "matplotlib.rcParams['figure.dpi'] = 300"
   ]
  },
  {
   "cell_type": "code",
   "execution_count": null,
   "id": "361fe73f-2d52-4862-8b8c-ab7604ad6c29",
   "metadata": {
    "tags": [
     "parameters"
    ]
   },
   "outputs": [],
   "source": [
    "from mlde_notebooks.default_params import *\n",
    "eval_vars=[\"pr\", \"relhum150cm\", \"tmean150cm\"]"
   ]
  },
  {
   "cell_type": "code",
   "execution_count": null,
   "id": "778a28b3-8483-4b83-895c-0253b499f36b",
   "metadata": {
    "tags": []
   },
   "outputs": [],
   "source": [
    "IPython.display.Markdown(desc)"
   ]
  },
  {
   "cell_type": "code",
   "execution_count": null,
   "id": "4df16b68-4c4d-42fb-9134-72f81d23b70b",
   "metadata": {
    "tags": []
   },
   "outputs": [],
   "source": [
    "EVAL_DS, MODELS = prep_eval_data(sample_configs, dataset_configs, derived_variables_config, eval_vars, split, ensemble_members=ensemble_members, samples_per_run=samples_per_run)\n",
    "EVAL_DS"
   ]
  },
  {
   "cell_type": "code",
   "execution_count": null,
   "id": "5d42a6f9-4512-4a90-a962-dc51a8cea484",
   "metadata": {},
   "outputs": [],
   "source": [
    "CPM_DAS = { var: EVAL_DS[\"CPM\"][f\"target_{var}\"] for var in eval_vars }"
   ]
  },
  {
   "cell_type": "markdown",
   "id": "e9fb9417-87f0-4942-876d-af4666af24b4",
   "metadata": {},
   "source": [
    "## Figure: Spatial Correlation\n",
    "\n",
    "* Spearman"
   ]
  },
  {
   "cell_type": "code",
   "execution_count": null,
   "id": "1bbc2f2d-1fb6-468a-a01e-3d493d9181dd",
   "metadata": {},
   "outputs": [],
   "source": [
    "def extract_and_compute_correlations(ds, var_pair):\n",
    "    x_pred = ds[f\"pred_{var_pair[0]}\"]\n",
    "    y_pred = ds[f\"pred_{var_pair[1]}\"]\n",
    "    x_target = ds[f\"target_{var_pair[0]}\"]\n",
    "    y_target = ds[f\"target_{var_pair[1]}\"]\n",
    "    return compute_correlations(x_pred, y_pred, x_target, y_target, corr_f=xss.spearman_r)"
   ]
  },
  {
   "cell_type": "markdown",
   "id": "fefb41eb-c666-4f69-a78d-b83dcee0fcb5",
   "metadata": {},
   "source": [
    "### Seasonal"
   ]
  },
  {
   "cell_type": "code",
   "execution_count": null,
   "id": "28caccb3-afc4-4423-b92a-74f016bc2a59",
   "metadata": {},
   "outputs": [],
   "source": [
    "for source in EVAL_DS.keys():\n",
    "    ds = xr.merge([EVAL_DS[source]] + list(CPM_DAS.values()))\n",
    "    for var_pair in itertools.combinations(eval_vars, 2):\n",
    "        corr_ds = ds.groupby(\"time.season\").map(extract_and_compute_correlations, var_pair=var_pair)\n",
    "\n",
    "        for season, season_corr_ds in corr_ds.groupby(\"season\"):\n",
    "            if season not in [\"DJF\", \"JJA\"]: continue\n",
    "            IPython.display.display_markdown(f\"{season} {var_pair} Spearman\", raw=True)\n",
    "            fig, _ = plot_correlations(season_corr_ds)\n",
    "            # fig.suptitle(f\"{season} {var_pair} Spearman\", fontsize=\"xx-small\")\n",
    "            plt.show()\n",
    "        \n",
    "        pretty_table(np.sqrt((corr_ds[\"Corr diff\"]**2).mean(dim=[\"grid_latitude\", \"grid_longitude\"])), round=4)"
   ]
  },
  {
   "cell_type": "markdown",
   "id": "076387c8-8d1e-49b0-aa07-e4c629ac087f",
   "metadata": {},
   "source": [
    "### Season & Time Period"
   ]
  },
  {
   "cell_type": "code",
   "execution_count": null,
   "id": "4a041ad1-e047-491a-9c2f-bb68e5f53eb4",
   "metadata": {},
   "outputs": [],
   "source": [
    "for source in EVAL_DS.keys():\n",
    "    ds = xr.merge([EVAL_DS[source]] + list(CPM_DAS.values()))\n",
    "    for var_pair in itertools.combinations(eval_vars, 2):\n",
    "        IPython.display.display_markdown(f\"#### {var_pair}\", raw=True)\n",
    "        corr_ds = ds.groupby(\"time.season\").map(lambda g: g.groupby(\"time_period\").map(extract_and_compute_correlations, var_pair=var_pair))\n",
    "\n",
    "        for season, season_corr_ds in corr_ds.groupby(\"season\"):\n",
    "            if season not in [\"DJF\", \"JJA\"]: continue\n",
    "            for tp, stratum_corr_ds in season_corr_ds.groupby(\"time_period\"):\n",
    "                stratum = f\"{tp} {season}\"\n",
    "                if tp not in [\"future\", \"historic\"]: continue\n",
    "                IPython.display.display_markdown(f\"##### {stratum}\", raw=True)\n",
    "\n",
    "                fig, _ = plot_correlations(stratum_corr_ds)\n",
    "                fig.suptitle(f\"{stratum} {var_pair} Spearman\", fontsize=\"xx-small\")\n",
    "                plt.show()\n",
    "                \n",
    "        IPython.display.display_markdown(f\"##### RMSE summary\", raw=True)\n",
    "        pretty_table(np.sqrt((corr_ds[\"Corr diff\"]**2).mean(dim=[\"grid_latitude\", \"grid_longitude\"])), round=4)"
   ]
  },
  {
   "cell_type": "code",
   "execution_count": null,
   "id": "5cb82363-d279-4810-b8a4-4d025be67ccf",
   "metadata": {},
   "outputs": [],
   "source": []
  }
 ],
 "metadata": {
  "kernelspec": {
   "display_name": "Python 3 (ipykernel)",
   "language": "python",
   "name": "python3"
  }
 },
 "nbformat": 4,
 "nbformat_minor": 5
}
