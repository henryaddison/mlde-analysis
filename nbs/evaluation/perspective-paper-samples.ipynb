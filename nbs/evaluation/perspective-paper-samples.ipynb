{
 "cells": [
  {
   "cell_type": "markdown",
   "id": "345a1b27-1df4-40e8-a2f9-0ff817ad8241",
   "metadata": {
    "tags": []
   },
   "source": [
    "# Samples from models on 60km -> 2.2km-4x over Birmingham"
   ]
  },
  {
   "cell_type": "code",
   "execution_count": null,
   "id": "48718f5d-f1f8-4ccc-8089-a90b8e505b7c",
   "metadata": {
    "tags": []
   },
   "outputs": [],
   "source": [
    "%reload_ext autoreload\n",
    "\n",
    "%autoreload 2\n",
    "\n",
    "%reload_ext dotenv\n",
    "%dotenv\n",
    "\n",
    "import IPython\n",
    "import matplotlib\n",
    "import matplotlib.pyplot as plt\n",
    "\n",
    "from mlde_analysis.data import prep_eval_data\n",
    "from mlde_analysis.examples import em_timestamps\n",
    "from mlde_analysis.perspective_paper import pp_plot_examples"
   ]
  },
  {
   "cell_type": "code",
   "execution_count": null,
   "id": "12b9391f-4c3c-4595-9623-9b76fc9ef9b4",
   "metadata": {},
   "outputs": [],
   "source": [
    "matplotlib.rcParams['figure.dpi'] = 300"
   ]
  },
  {
   "cell_type": "code",
   "execution_count": null,
   "id": "9013a772",
   "metadata": {
    "tags": [
     "injected-parameters"
    ]
   },
   "outputs": [],
   "source": [
    "# Parameters\n",
    "split = \"test\"\n",
    "ensemble_members = [\n",
    "    \"01\",\n",
    "    \"04\",\n",
    "    \"05\",\n",
    "    \"06\",\n",
    "    \"07\",\n",
    "    \"08\",\n",
    "    \"09\",\n",
    "    \"10\",\n",
    "    \"11\",\n",
    "    \"12\",\n",
    "    \"13\",\n",
    "    \"15\",\n",
    "]\n",
    "dataset_configs = {\n",
    "    \"CPM\": \"bham64_ccpm-4x_12em_psl-sphum4th-temp4th-vort4th_pr\",\n",
    "    \"GCM\": \"bham64_gcm-4x_12em_psl-sphum4th-temp4th-vort4th_pr\",\n",
    "}\n",
    "samples_per_run = 6\n",
    "sample_configs = {\n",
    "    \"CPM\": [\n",
    "        {\n",
    "            \"label\": \"Diffusion (cCPM)\",\n",
    "            \"sample_specs\": [\n",
    "                {\n",
    "                    \"fq_model_id\": \"score-sde/subvpsde/xarray_12em_cncsnpp_continuous/bham-4x_12em_PslS4T4V4_random-season-IstanTsqrturrecen-no-loc-spec\",\n",
    "                    \"checkpoint\": \"epoch_20\",\n",
    "                    \"input_xfm\": \"bham64_ccpm-4x_12em_psl-sphum4th-temp4th-vort4th_pr-stan\",\n",
    "                    \"dataset\": \"bham64_ccpm-4x_12em_psl-sphum4th-temp4th-vort4th_pr\",\n",
    "                    \"variables\": [\"pr\"],\n",
    "                },\n",
    "            ],\n",
    "            \"deterministic\": False,\n",
    "            \"CCS\": True,\n",
    "            \"color\": \"tab:blue\",\n",
    "            \"order\": 10,\n",
    "        }\n",
    "    ],\n",
    "    \"GCM\": [\n",
    "        {\n",
    "            \"label\": \"Diffusion (GCM)\",\n",
    "            \"sample_specs\": [\n",
    "                {\n",
    "                    \"fq_model_id\": \"score-sde/subvpsde/xarray_12em_cncsnpp_continuous/bham-4x_12em_PslS4T4V4_random-season-IstanTsqrturrecen-no-loc-spec\",\n",
    "                    \"checkpoint\": \"epoch_20\",\n",
    "                    \"input_xfm\": \"bham64_gcm-4x_12em_psl-sphum4th-temp4th-vort4th_pr-pixelmmsstan\",\n",
    "                    \"dataset\": \"bham64_gcm-4x_12em_psl-sphum4th-temp4th-vort4th_pr\",\n",
    "                    \"variables\": [\"pr\"],\n",
    "                }\n",
    "            ],\n",
    "            \"deterministic\": False,\n",
    "            \"CCS\": True,\n",
    "            \"PSD\": True,\n",
    "            \"UQ\": False,\n",
    "            \"color\": \"tab:cyan\",\n",
    "            \"order\": 100,\n",
    "        }\n",
    "    ],\n",
    "}\n",
    "\n",
    "\n",
    "example_percentiles = {\n",
    "    \"CPM\": {\n",
    "        \"DJF Median\": {\"percentile\": 0.5, \"variable\": \"pr\", \"season\": \"DJF\"},\n",
    "        \"DJF Annual max\": {\"percentile\": 0.9974, \"variable\": \"pr\", \"season\": \"DJF\"},\n",
    "        \"JJA Median\": {\"percentile\": 0.5, \"variable\": \"pr\", \"season\": \"JJA\"},\n",
    "        \"JJA Annual max\": {\"percentile\": 0.9974, \"variable\": \"pr\", \"season\": \"JJA\"},\n",
    "    },\n",
    "    \"GCM\": {\n",
    "        \"DJF Median\": {\"percentile\": 0.5, \"variable\": \"pr\", \"season\": \"DJF\"},\n",
    "        \"DJF Annual max\": {\"percentile\": 0.9974, \"variable\": \"pr\", \"season\": \"DJF\"},\n",
    "        \"JJA Median\": {\"percentile\": 0.5, \"variable\": \"pr\", \"season\": \"JJA\"},\n",
    "        \"JJA Annual max\": {\"percentile\": 0.9974, \"variable\": \"pr\", \"season\": \"JJA\"},\n",
    "    },\n",
    "}\n",
    "example_overrides = {\"CPM\": {}, \"GCM\": {}}\n",
    "n_samples_per_example=2\n",
    "derived_variables_config={}\n",
    "eval_vars=[\"pr\"]"
   ]
  },
  {
   "cell_type": "markdown",
   "id": "9a098b60-962b-4d86-a721-1482fd3899d5",
   "metadata": {
    "tags": []
   },
   "source": [
    "## Data\n",
    "\n",
    "* Using all 12 ensemble members on 1981-2000, 2021-2040 and 2061-2080 periods for initial UKCP Local release (but using data post graupel bug fix)\n",
    "* Splits are based on random choice of seasons with equal number of seasons from each time slice\n",
    "* Target domain and resolution: 64x64@8.8km (4x 2.2km) England and Wales\n",
    "* Input resolution: 60km (cCPM is CPM coarsened to GCM 60km grid)\n",
    "\n",
    "## CPMGEM models\n",
    "\n",
    "Compare:\n",
    "\n",
    "* cCPM input source\n",
    "* GCM with bias correction input source\n",
    "\n",
    "### Shared specs\n",
    "\n",
    "* Inputs variable (unless otherwise stated): pSTV (pressure at sea level and 4 levels of specific humidity, air temp and relative vorticity)\n",
    "* Input transforms are fitted on dataset in use (ie separate GCM and CPM versions) while target transform is fitted only at training on the CPM dataset\n",
    "* No loc-spec params\n",
    "* 6 samples per example"
   ]
  },
  {
   "cell_type": "code",
   "execution_count": null,
   "id": "4df16b68-4c4d-42fb-9134-72f81d23b70b",
   "metadata": {
    "tags": []
   },
   "outputs": [],
   "source": [
    "EVAL_DS, MODELS = prep_eval_data(sample_configs, dataset_configs, derived_variables_config, eval_vars, split, ensemble_members=ensemble_members, samples_per_run=samples_per_run)\n",
    "EVAL_DS"
   ]
  },
  {
   "cell_type": "code",
   "execution_count": null,
   "id": "c75dc6b3-6e0f-40fd-a1dc-2d0cad2c6b25",
   "metadata": {
    "tags": []
   },
   "outputs": [],
   "source": [
    "SOURCES = [\"CPM\"] # example_percentiles.keys()\n",
    "\n",
    "examples_to_plot = { source: em_timestamps(EVAL_DS[source], percentiles=example_percentiles[source], overrides=example_overrides[source]) for source in SOURCES }"
   ]
  },
  {
   "cell_type": "code",
   "execution_count": null,
   "id": "cfd20fe4-e06c-49f8-89d0-a790e7236d24",
   "metadata": {
    "tags": []
   },
   "outputs": [],
   "source": [
    "for source, examples in examples_to_plot.items():\n",
    "    IPython.display.display_html(f\"<h2>{source} Samples</h2>\", raw=True)\n",
    "    fig_width = min(2 + len(MODELS[source]) + 1, 5.5)\n",
    "    fig_width = 2 + 2*len(MODELS[source])\n",
    "    fig_height = 1.1*len(examples) + 1\n",
    "    \n",
    "    fig = plt.figure(layout=\"constrained\", figsize=(fig_width, fig_height))\n",
    "    pp_plot_examples( EVAL_DS[source], examples, vars=eval_vars, models=MODELS[source], fig=fig, sim_title=source, n_samples_per_example=n_samples_per_example)\n",
    "    plt.show()"
   ]
  },
  {
   "cell_type": "code",
   "execution_count": null,
   "id": "3f230752-5b48-42a0-a3a3-459ff98ec7e8",
   "metadata": {},
   "outputs": [],
   "source": []
  }
 ],
 "metadata": {
  "kernelspec": {
   "display_name": "Python 3 (ipykernel)",
   "language": "python",
   "name": "python3"
  }
 },
 "nbformat": 4,
 "nbformat_minor": 5
}
