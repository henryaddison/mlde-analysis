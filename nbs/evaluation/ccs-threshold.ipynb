{
 "cells": [
  {
   "cell_type": "markdown",
   "id": "345a1b27-1df4-40e8-a2f9-0ff817ad8241",
   "metadata": {
    "tags": []
   },
   "source": [
    "# Evaluation of a selection of models on 60km -> 2.2km-4x over Birmingham"
   ]
  },
  {
   "cell_type": "code",
   "execution_count": null,
   "id": "48718f5d-f1f8-4ccc-8089-a90b8e505b7c",
   "metadata": {
    "tags": []
   },
   "outputs": [],
   "source": [
    "%reload_ext autoreload\n",
    "\n",
    "%autoreload 2\n",
    "\n",
    "%reload_ext dotenv\n",
    "%dotenv\n",
    "\n",
    "import functools\n",
    "import math\n",
    "import string\n",
    "\n",
    "import IPython\n",
    "import matplotlib\n",
    "import matplotlib.pyplot as plt\n",
    "import numpy as np\n",
    "import xarray as xr\n",
    "\n",
    "from mlde_analysis.data import prep_eval_data\n",
    "from mlde_analysis import plot_map\n",
    "from mlde_analysis.ccs import compute_changes, plot_changes, plot_tp_fd, plot_hist_per_tp\n",
    "from mlde_analysis.distribution import normalized_mean_bias, normalized_std_bias, plot_freq_density, plot_mean_biases, plot_std_biases, rms_mean_bias, rms_std_bias\n",
    "from mlde_analysis.wet_dry import threshold_exceeded_prop_stats, threshold_exceeded_prop_change, plot_threshold_exceedence_errors, THRESHOLDS, wd_mean, wd_mean_change, wd_mean_bias\n",
    "from mlde_analysis.display import pretty_table\n",
    "from mlde_analysis import display\n",
    "from mlde_utils import cp_model_rotated_pole, TIME_PERIODS"
   ]
  },
  {
   "cell_type": "code",
   "execution_count": null,
   "id": "0de6eaf3-b4fb-4b6c-af4f-2a8aa40cf2d4",
   "metadata": {},
   "outputs": [],
   "source": [
    "matplotlib.rcParams['figure.dpi'] = 300"
   ]
  },
  {
   "cell_type": "code",
   "execution_count": null,
   "id": "361fe73f-2d52-4862-8b8c-ab7604ad6c29",
   "metadata": {
    "tags": [
     "parameters"
    ]
   },
   "outputs": [],
   "source": [
    "from mlde_analysis.default_params import *"
   ]
  },
  {
   "cell_type": "code",
   "execution_count": null,
   "id": "778a28b3-8483-4b83-895c-0253b499f36b",
   "metadata": {
    "tags": []
   },
   "outputs": [],
   "source": [
    "IPython.display.Markdown(desc)"
   ]
  },
  {
   "cell_type": "code",
   "execution_count": null,
   "id": "4df16b68-4c4d-42fb-9134-72f81d23b70b",
   "metadata": {
    "tags": []
   },
   "outputs": [],
   "source": [
    "EVAL_DS, MODELS = prep_eval_data(sample_configs, dataset_configs, derived_variables_config, eval_vars, split, ensemble_members=ensemble_members, samples_per_run=samples_per_run)\n",
    "EVAL_DS"
   ]
  },
  {
   "cell_type": "code",
   "execution_count": null,
   "id": "5d42a6f9-4512-4a90-a962-dc51a8cea484",
   "metadata": {},
   "outputs": [],
   "source": [
    "CPM_DAS = { var: EVAL_DS[\"CPM\"][f\"target_{var}\"] for var in eval_vars }\n",
    "\n",
    "MODELLABEL2SPEC = { model: {\"source\": source} | spec for source, models in MODELS.items() for model, spec in models.items() }\n",
    "\n",
    "PRED_DAS = { var: xr.concat([ ds[f\"pred_{var}\"] for ds in EVAL_DS.values() ], dim=\"model\") for var in eval_vars }"
   ]
  },
  {
   "cell_type": "code",
   "execution_count": null,
   "id": "aac8ce9e-590e-4bce-8d80-45db49132b31",
   "metadata": {},
   "outputs": [],
   "source": [
    "CCS_SEASONS = [\"DJF\", \"MAM\", \"JJA\", \"SON\"]"
   ]
  },
  {
   "cell_type": "code",
   "execution_count": null,
   "id": "e2649809-2cf5-445e-ba2f-011b6ae0d822",
   "metadata": {},
   "outputs": [],
   "source": [
    "CCS_MODELS = {source: {model: spec for model, spec in mconfigs.items() if spec.get(\"CCS\", False)} for source, mconfigs in MODELS.items() }\n",
    "\n",
    "CCS_PRED_DAS = {var: PRED_DAS[var].sel(model=list([model for source, models in CCS_MODELS.items() for model in models])) for var in eval_vars }\n",
    "\n",
    "CCS_DS = xr.combine_by_coords([*list(CPM_DAS.values()), *list(CCS_PRED_DAS.values())]).sel(model=[m for ms in CCS_MODELS.values() for m in ms.keys()])"
   ]
  },
  {
   "cell_type": "markdown",
   "id": "86bbffb1-297e-40da-808f-f6068e28892f",
   "metadata": {},
   "source": [
    "# Threshold proportion change"
   ]
  },
  {
   "cell_type": "markdown",
   "id": "ebcc7fb1-7eb8-49b6-9a80-300c12c75057",
   "metadata": {
    "tags": []
   },
   "source": [
    "### CCS threshold exceedence frequency change: gridbox"
   ]
  },
  {
   "cell_type": "code",
   "execution_count": null,
   "id": "8de500e0-0966-47e9-bf98-482c2b8a7978",
   "metadata": {},
   "outputs": [],
   "source": [
    "change_stats = {    \n",
    "    var: { \n",
    "        threshold: threshold_exceeded_prop_stats(CCS_DS[f\"pred_{var}\"], CPM_DAS[var], threshold=threshold, threshold_exceeded_prop_statistic=threshold_exceeded_prop_change) for threshold in thresholds\n",
    "    } for var, thresholds in THRESHOLDS.items() if var in eval_vars\n",
    "}\n",
    "\n",
    "for var, thresholds in THRESHOLDS.items():\n",
    "    if var in eval_vars:\n",
    "        for threshold in thresholds:\n",
    "            IPython.display.display_markdown(f\"#### Threshold: {threshold}mm/day\", raw=True)\n",
    "            \n",
    "            plot_threshold_exceedence_errors(change_stats[var][threshold][f\"change in % threshold exceeded\"], style=\"change\")\n",
    "        \n",
    "            plt.show()"
   ]
  },
  {
   "cell_type": "markdown",
   "id": "803b3058-52f6-439a-ad70-f400ffadf4e3",
   "metadata": {},
   "source": [
    "### CCS threshold exceedence frequency change: domain mean"
   ]
  },
  {
   "cell_type": "code",
   "execution_count": null,
   "id": "655ab0dc-e02a-4d54-a117-ed9a89eebbd9",
   "metadata": {},
   "outputs": [],
   "source": [
    "for var, thresholds in THRESHOLDS.items():\n",
    "    if var not in eval_vars:\n",
    "        continue\n",
    "    for threshold in thresholds:\n",
    "        pretty_table(\n",
    "            change_stats[var][threshold].mean(dim=[\"grid_latitude\", \"grid_longitude\"]),\n",
    "            dim_order=[\"season\", \"model\"],\n",
    "            caption=f\"{var} threshold: {threshold}{display.ATTRS[var]['units']}\",\n",
    "        )"
   ]
  },
  {
   "cell_type": "markdown",
   "id": "2caa6cf3-7522-48e7-adc2-e67491836140",
   "metadata": {},
   "source": [
    "### CCS wet-day mean intensity change: gridbox"
   ]
  },
  {
   "cell_type": "code",
   "execution_count": null,
   "id": "142eab40-e598-4c06-b250-6a0ab2cdc090",
   "metadata": {},
   "outputs": [],
   "source": [
    "model_das = {var: [\n",
    "    EVAL_DS[source][f\"pred_{var}\"].sel(model=model)\n",
    "    for source, mconfigs in MODELS.items() for model, spec in mconfigs.items()\n",
    "] for var, thresholds in THRESHOLDS.items() if var in eval_vars}\n",
    "\n",
    "change_stats = {    \n",
    "    var: { \n",
    "        threshold: threshold_exceeded_prop_stats(CCS_DS[f\"pred_{var}\"], CPM_DAS[var], threshold=threshold, threshold_exceeded_prop_statistic=wd_mean_change) for threshold in thresholds\n",
    "    } for var, thresholds in THRESHOLDS.items() if var in eval_vars\n",
    "}\n",
    "\n",
    "\n",
    "for var, thresholds in THRESHOLDS.items():\n",
    "    if var in eval_vars:\n",
    "        for threshold in thresholds:\n",
    "            IPython.display.display_markdown(f\"#### Threshold: {threshold}mm/day\", raw=True)\n",
    "            \n",
    "            plot_threshold_exceedence_errors(change_stats[var][threshold][f\"Change in wd mean (mm/day)\"], style=\"change\")\n",
    "        \n",
    "            plt.show()"
   ]
  },
  {
   "cell_type": "code",
   "execution_count": null,
   "id": "f2a35f0f-3aa2-4c6a-b212-12d783f22981",
   "metadata": {},
   "outputs": [],
   "source": [
    "for var, thresholds in THRESHOLDS.items():\n",
    "    if var not in eval_vars:\n",
    "        continue\n",
    "    for threshold in thresholds:\n",
    "        pretty_table(\n",
    "            change_stats[var][threshold].mean(dim=[\"grid_latitude\", \"grid_longitude\"]).expand_dims({\"threshold\": [threshold], \"variable\": [var]}),\n",
    "            dim_order=[\"variable\", \"threshold\", \"season\", \"model\"],\n",
    "            caption=f\"{var} threshold: {threshold}{display.ATTRS[var]['units']}\",\n",
    "        )"
   ]
  },
  {
   "cell_type": "code",
   "execution_count": null,
   "id": "a23cfe75-c39b-40c9-af50-3a21839760e6",
   "metadata": {},
   "outputs": [],
   "source": []
  }
 ],
 "metadata": {
  "kernelspec": {
   "display_name": "Python 3 (ipykernel)",
   "language": "python",
   "name": "python3"
  }
 },
 "nbformat": 4,
 "nbformat_minor": 5
}
