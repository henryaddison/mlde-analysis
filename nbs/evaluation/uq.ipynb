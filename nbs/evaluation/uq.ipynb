{
 "cells": [
  {
   "cell_type": "markdown",
   "id": "ee584e86-04ca-4a07-af72-5f5224709501",
   "metadata": {
    "tags": []
   },
   "source": [
    "# Evaluation of uncertainty of models on 60km -> 2.2km-4x over Birmingham"
   ]
  },
  {
   "cell_type": "code",
   "execution_count": null,
   "id": "344a405d-316f-4b61-a3bf-14ec927d4cb8",
   "metadata": {
    "tags": []
   },
   "outputs": [],
   "source": [
    "%reload_ext autoreload\n",
    "\n",
    "%autoreload 2\n",
    "\n",
    "%reload_ext dotenv\n",
    "%dotenv\n",
    "\n",
    "import functools\n",
    "import math\n",
    "import string\n",
    "\n",
    "import IPython\n",
    "import pandas as pd\n",
    "import matplotlib\n",
    "import matplotlib.pyplot as plt\n",
    "import numpy as np\n",
    "from properscoring import crps_ensemble\n",
    "import xarray as xr\n",
    "\n",
    "from mlde_analysis.data import prep_eval_data\n",
    "from mlde_analysis.display import pretty_table\n",
    "from mlde_analysis.uncertainty import plot_spread_error, plot_domain_means"
   ]
  },
  {
   "cell_type": "code",
   "execution_count": null,
   "id": "542b8202-e568-4c06-9847-f459e1ecf71a",
   "metadata": {
    "tags": []
   },
   "outputs": [],
   "source": [
    "matplotlib.rcParams['figure.dpi'] = 300"
   ]
  },
  {
   "cell_type": "code",
   "execution_count": null,
   "id": "cd75120e-05b9-4ad6-9181-53adc673531f",
   "metadata": {
    "tags": [
     "parameters"
    ]
   },
   "outputs": [],
   "source": [
    "from mlde_analysis.default_params import *"
   ]
  },
  {
   "cell_type": "code",
   "execution_count": null,
   "id": "7d479111-7a0f-460d-8c92-2c418bd5776a",
   "metadata": {
    "tags": []
   },
   "outputs": [],
   "source": [
    "IPython.display.Markdown(desc)"
   ]
  },
  {
   "cell_type": "code",
   "execution_count": null,
   "id": "37736bee-14fe-4254-8429-e39c113fa796",
   "metadata": {
    "tags": []
   },
   "outputs": [],
   "source": [
    "EVAL_DS, MODELS = prep_eval_data(sample_configs, dataset_configs, derived_variables_config, eval_vars, split, ensemble_members=ensemble_members, samples_per_run=samples_per_run)\n",
    "EVAL_DS"
   ]
  },
  {
   "cell_type": "code",
   "execution_count": null,
   "id": "36dbeaf9-f5eb-4a12-8de4-63ece55816c7",
   "metadata": {
    "tags": []
   },
   "outputs": [],
   "source": [
    "CPM_DAS = { var: EVAL_DS[\"CPM\"][f\"target_{var}\"] for var in eval_vars }"
   ]
  },
  {
   "cell_type": "markdown",
   "id": "561d8bd8-46d4-4d91-8807-10f1f9aea36b",
   "metadata": {
    "tags": []
   },
   "source": [
    "## Figure: skill & spread\n",
    "\n",
    "* Domain mean precip scatter: samples ensemble mean vs CPM\n",
    "* Spread-error\n",
    "  * https://journals.ametsoc.org/view/journals/hydr/15/4/jhm-d-14-0008_1.xml?tab_body=fulltext-display\n",
    "  * https://journals.ametsoc.org/view/journals/aies/2/2/AIES-D-22-0061.1.xml\n",
    "  * https://www.sciencedirect.com/science/article/pii/S0021999107000812"
   ]
  },
  {
   "cell_type": "code",
   "execution_count": null,
   "id": "1933ba41-a40c-46cd-a65c-861506e730b8",
   "metadata": {
    "tags": []
   },
   "outputs": [],
   "source": [
    "corr_coeff_das = []\n",
    "for var in eval_vars:\n",
    "    fig = plt.figure(layout='constrained', figsize=(5.5, 5.5*(2/3.0)))\n",
    "    scatter_fig, ss_fig = fig.subfigures(1, 2, width_ratios=[2,1.075])\n",
    "\n",
    "    mois = { model: mconfig for mconfigs in MODELS.values() for model, mconfig in mconfigs.items() if mconfig.get(\"UQ\", True) }\n",
    "    pred_das = [ EVAL_DS[mconfig[\"source\"]][f\"pred_{var}\"].sel(model=model) for model, mconfig in mois.items() ]\n",
    "        \n",
    "    # pred_mean_da = pred_da.mean(dim=[\"grid_latitude\", \"grid_longitude\", \"sample_id\"]).assign_attrs(pred_da.attrs)\n",
    "    # target_mean_da = CPM_DAS[var].mean(dim=[\"grid_latitude\", \"grid_longitude\"]).assign_attrs(CPM_DAS[var].attrs)\n",
    "\n",
    "    mean_pred_da = xr.concat(pred_das, dim=\"model\").mean(dim=[\"grid_latitude\", \"grid_longitude\", \"sample_id\"])\n",
    "    target_mean_da = CPM_DAS[var].mean(dim=[\"grid_latitude\", \"grid_longitude\"])\n",
    "    corr_coeff_das.append(xr.corr(mean_pred_da, target_mean_da, dim=[\"ensemble_member\", \"time\"]).rename(f\"{var} domain mean corr\"))\n",
    "    axd = scatter_fig.subplot_mosaic([mois.keys()], sharey=True, sharex=True)\n",
    "    \n",
    "    for idx, pred_da in enumerate(pred_das):\n",
    "        model = pred_da.model.values.item()\n",
    "        ax=axd[model]\n",
    "        plot_domain_means(\n",
    "            pred_da=pred_da.mean(dim=\"sample_id\"), \n",
    "            target_da=CPM_DAS[var],\n",
    "            ax=ax,\n",
    "            line_props=mois[model],\n",
    "        )\n",
    "        ax.xaxis.set_tick_params(labelbottom=True)\n",
    "        if idx > 0:\n",
    "            ax.yaxis.label.set_visible(False)\n",
    "        ax.annotate(\n",
    "            f\"{string.ascii_lowercase[idx]}.\",\n",
    "            xy=(-0.05, 1.04),\n",
    "            xycoords=(\"axes fraction\", \"axes fraction\"),\n",
    "            weight=\"bold\",\n",
    "            ha=\"left\",\n",
    "            va=\"bottom\",\n",
    "        )\n",
    "        \n",
    "    mois = { model: mconfig for mconfigs in MODELS.values() for model, mconfig in mconfigs.items() if mconfig.get(\"UQ\", True) and not mconfig[\"deterministic\"] }\n",
    "    pred_da = xr.concat([ EVAL_DS[mconfig[\"source\"]][f\"pred_{var}\"].sel(model=model) for model, mconfig in mois.items() ], dim=pd.Index(mois.keys(), name=\"model\"))\n",
    "    \n",
    "    axd = ss_fig.subplot_mosaic([[\"Spread-Error\"]])\n",
    "    ax = axd[\"Spread-Error\"]\n",
    "    plot_spread_error(pred_da=pred_da, target_da=CPM_DAS[var], ax=ax, line_props=mois)\n",
    "    ax.annotate(\"c.\", xy=(0, 1.05), xycoords=(\"axes fraction\", \"axes fraction\"), weight='bold', ha=\"left\", va=\"bottom\")\n",
    "\n",
    "    plt.show()\n",
    "    \n",
    "IPython.display.display_html(xr.merge(corr_coeff_das).to_dataframe().round(2).to_html(), raw=True)"
   ]
  },
  {
   "cell_type": "markdown",
   "id": "5a4a20df-58e7-43fd-8fb7-899c10ef3d4e",
   "metadata": {},
   "source": [
    "### Figure: samples spread\n",
    "* scatter of samples domain mean vs CPM"
   ]
  },
  {
   "cell_type": "code",
   "execution_count": null,
   "id": "14cbe42c-6d3a-4d95-9592-9e6704359ed2",
   "metadata": {},
   "outputs": [],
   "source": [
    "corr_coeff_das = []\n",
    "for var in eval_vars:\n",
    "    scatter_fig = plt.figure(layout='constrained', figsize=(5.5, 5.5*(2/3.0)))\n",
    "\n",
    "    mois = { model: mconfig for mconfigs in MODELS.values() for model, mconfig in mconfigs.items() if mconfig.get(\"UQ\", True) }\n",
    "    pred_das = [ EVAL_DS[mconfig[\"source\"]][f\"pred_{var}\"].sel(model=model) for model, mconfig in mois.items() ]\n",
    "        \n",
    "    # pred_mean_da = pred_da.mean(dim=[\"grid_latitude\", \"grid_longitude\", \"sample_id\"]).assign_attrs(pred_da.attrs)\n",
    "    # target_mean_da = CPM_DAS[var].mean(dim=[\"grid_latitude\", \"grid_longitude\"]).assign_attrs(CPM_DAS[var].attrs)\n",
    "\n",
    "    mean_pred_da = xr.concat(pred_das, dim=\"model\").mean(dim=[\"grid_latitude\", \"grid_longitude\"])\n",
    "    target_mean_da = CPM_DAS[var].mean(dim=[\"grid_latitude\", \"grid_longitude\"]).broadcast_like(mean_pred_da)\n",
    "    corr_coeff_das.append(xr.corr(mean_pred_da, target_mean_da, dim=[\"ensemble_member\", \"time\", \"sample_id\"]).rename(f\"{var} domain mean corr\"))\n",
    "    axd = scatter_fig.subplot_mosaic([mois.keys()], sharey=True, sharex=True)\n",
    "    \n",
    "    for idx, pred_da in enumerate(pred_das):\n",
    "        model = pred_da.model.values.item()\n",
    "        ax=axd[model]\n",
    "        plot_domain_means(\n",
    "            pred_da=pred_da,\n",
    "            target_da=CPM_DAS[var],\n",
    "            ax=ax,\n",
    "            line_props=mois[model],\n",
    "        )\n",
    "        ax.xaxis.set_tick_params(labelbottom=True)\n",
    "        if idx > 0:\n",
    "            ax.yaxis.label.set_visible(False)\n",
    "        ax.annotate(\n",
    "            f\"{string.ascii_lowercase[idx]}.\",\n",
    "            xy=(-0.05, 1.04),\n",
    "            xycoords=(\"axes fraction\", \"axes fraction\"),\n",
    "            weight=\"bold\",\n",
    "            ha=\"left\",\n",
    "            va=\"bottom\",\n",
    "        )\n",
    "        \n",
    "    mois = { model: mconfig for mconfigs in MODELS.values() for model, mconfig in mconfigs.items() if mconfig.get(\"UQ\", True) and not mconfig[\"deterministic\"] }\n",
    "    pred_da = xr.concat([ EVAL_DS[mconfig[\"source\"]][f\"pred_{var}\"].sel(model=model) for model, mconfig in mois.items() ], dim=pd.Index(mois.keys(), name=\"model\"))\n",
    "\n",
    "    plt.show()\n",
    "    \n",
    "IPython.display.display_html(xr.merge(corr_coeff_das).to_dataframe().round(2).to_html(), raw=True)"
   ]
  },
  {
   "cell_type": "markdown",
   "id": "413df12e-eef2-4bae-b62a-93ba61aacfc7",
   "metadata": {
    "tags": []
   },
   "source": [
    "## CRPS"
   ]
  },
  {
   "cell_type": "code",
   "execution_count": null,
   "id": "10c8be51-8c80-4ff0-b235-49c3f1ea1611",
   "metadata": {
    "tags": []
   },
   "outputs": [],
   "source": [
    "def group_crps(model_forecast_da, truth_da):\n",
    "    return xr.apply_ufunc(\n",
    "        crps_ensemble,\n",
    "        truth_da,\n",
    "        model_forecast_da.squeeze(\"model\"),\n",
    "        input_core_dims=[truth_da.dims, model_forecast_da.squeeze(\"model\").dims],  # list with one entry per arg\n",
    "        output_core_dims=[[\"examples\", \"grid_latitude\", \"grid_longitude\"]],\n",
    "        # vectorize=True,\n",
    "    ).rename(\"CRPS\").mean()\n",
    "\n",
    "for var in eval_vars:\n",
    "    print(var)\n",
    "    \n",
    "    mois = { model: mconfig for mconfigs in MODELS.values() for model, mconfig in mconfigs.items() if mconfig.get(\"UQ\", True) and not mconfig[\"deterministic\"] }\n",
    "    forecasts_da = xr.concat([ EVAL_DS[mconfig[\"source\"]][f\"pred_{var}\"].sel(model=model) for model, mconfig in mois.items() ], dim=pd.Index(mois.keys(), name=\"model\")).stack(example=[\"ensemble_member\", \"time\"]).transpose(\"model\", \"example\", \"grid_latitude\", \"grid_longitude\", \"sample_id\") \n",
    "    \n",
    "    crps_scores = {}\n",
    "\n",
    "    truth = CPM_DAS[var].stack(example=[\"ensemble_member\", \"time\"]).transpose(\"example\", \"grid_latitude\", \"grid_longitude\")\n",
    "    \n",
    "    crps_scores = forecasts_da.groupby(\"model\", squeeze=False).map(group_crps, truth_da=truth)\n",
    "    pretty_table(crps_scores, round=4)"
   ]
  },
  {
   "cell_type": "code",
   "execution_count": null,
   "id": "0e6201b3-4d26-4861-8c82-1da6d4b42ed7",
   "metadata": {
    "tags": []
   },
   "outputs": [],
   "source": []
  }
 ],
 "metadata": {
  "kernelspec": {
   "display_name": "Python 3 (ipykernel)",
   "language": "python",
   "name": "python3"
  }
 },
 "nbformat": 4,
 "nbformat_minor": 5
}
